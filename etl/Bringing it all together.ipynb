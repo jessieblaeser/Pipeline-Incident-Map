{
 "cells": [
  {
   "cell_type": "markdown",
   "id": "a6001aeb",
   "metadata": {},
   "source": [
    "# Combining our incidents into a single df "
   ]
  },
  {
   "cell_type": "code",
   "execution_count": 1,
   "id": "b34b043e",
   "metadata": {},
   "outputs": [
    {
     "name": "stderr",
     "output_type": "stream",
     "text": [
      "/Users/jessieblaeser/.pyenv/versions/3.10.0/lib/python3.10/site-packages/pandas/compat/__init__.py:124: UserWarning: Could not import the lzma module. Your installed Python is incomplete. Attempting to use lzma compression will result in a RuntimeError.\n",
      "  warnings.warn(msg)\n"
     ]
    }
   ],
   "source": [
    "import pandas as pd\n",
    "import numpy as np\n",
    "import os as os"
   ]
  },
  {
   "cell_type": "code",
   "execution_count": 2,
   "id": "b1f0c790",
   "metadata": {},
   "outputs": [
    {
     "name": "stderr",
     "output_type": "stream",
     "text": [
      "/Users/jessieblaeser/.pyenv/versions/3.10.0/lib/python3.10/site-packages/IPython/core/interactiveshell.py:3444: DtypeWarning: Columns (18,19,51,57,58,59,61,64,66,67,68,71,72,73,74,75,76,77,78,79,80,81,82,83,100,101,118,125,135,150,166,170,202,203,204,241,242,243,244,256,285,345,359,360,370,386,387,388,410,411,456,459,460,461,468,492,493,528,529,531,534,535,537,560,561,563,565,566,568,591,592,614,615,616,628,654,664,665,666) have mixed types.Specify dtype option on import or set low_memory=False.\n",
      "  exec(code_obj, self.user_global_ns, self.user_ns)\n"
     ]
    }
   ],
   "source": [
    "df1 = pd.read_csv('../data/processed/gd2010toPresent_significant.csv')\n",
    "df2 = pd.read_csv('../data/processed/gtggungs2010toPresent_significant.csv')\n",
    "df3 = pd.read_csv('../data/processed/hl2010toPresent_significant.csv')"
   ]
  },
  {
   "cell_type": "markdown",
   "id": "915b49c0",
   "metadata": {},
   "source": [
    "### Filtering by columns we are interested in: \n",
    "* identifying info: \n",
    "    *\"DATAFILE_AS_OF\"\n",
    "    * \"SERIOUS\"\n",
    "    * \"SYSTEM_TYPE\"\n",
    "    * \"RPTID\"\n",
    "    * Incident date: \"IDATE\"\n",
    "    * Incident year: \"IYEAR\"\n",
    "    * Accident city (?): \"ACCITY\"\n",
    "    * Accident state (?): \"ACSTATE\"\n",
    "    * \"LATITUDE\"\n",
    "    * \"LONGITUDE\"\n",
    "    * \"OPERATOR_ID\"\n",
    "    * \"NAME\"\n",
    "* estimated total cost of incident: \"total_cost\"\n",
    "    * adjusted for previous calendar year inflation rate: \"TOTAL_COST_CURRENT\"\n",
    "* injuries\n",
    "    * were there injuries? Y/N: \"INJURY_IND\"\n",
    "    * total injuries: \"injure\"\n",
    "    * number of general public evacuated: \"NUM_PUB_EVACUATED\"\n",
    "* deaths \n",
    "    * were there fatalities? Y/N: \"FATALITY_IND\"\n",
    "    * total deaths: \"fatal\"\n",
    "* cause of incident: \"cause\" or \"cause_details\"\n",
    "    * \"narrative\"\n",
    "* estimated volume of gas released unintentionally: \"unintentional_release\" \n",
    "* year of item installation: \"installation_year\""
   ]
  },
  {
   "cell_type": "code",
   "execution_count": 4,
   "id": "8adff50f",
   "metadata": {},
   "outputs": [],
   "source": [
    "#new = old.filter(['A','B','D'], axis=1)\n",
    "#df3 = pd.concat([df1, df2], ignore_index=True)\n"
   ]
  },
  {
   "cell_type": "code",
   "execution_count": 5,
   "id": "1f1960ea",
   "metadata": {},
   "outputs": [],
   "source": [
    "df4 = pd.concat([df1, df2, df3], ignore_index=True)"
   ]
  },
  {
   "cell_type": "code",
   "execution_count": 6,
   "id": "3a36fa12",
   "metadata": {},
   "outputs": [
    {
     "data": {
      "text/plain": [
       "(3537, 826)"
      ]
     },
     "execution_count": 6,
     "metadata": {},
     "output_type": "execute_result"
    }
   ],
   "source": [
    "df4.shape"
   ]
  },
  {
   "cell_type": "code",
   "execution_count": 12,
   "id": "f22acbaf",
   "metadata": {},
   "outputs": [],
   "source": [
    "df4.to_csv('pipeline_incidents_2010_to_present.csv', index=False)"
   ]
  },
  {
   "cell_type": "code",
   "execution_count": null,
   "id": "33a3df47",
   "metadata": {},
   "outputs": [],
   "source": []
  }
 ],
 "metadata": {
  "kernelspec": {
   "display_name": "Python 3 (ipykernel)",
   "language": "python",
   "name": "python3"
  },
  "language_info": {
   "codemirror_mode": {
    "name": "ipython",
    "version": 3
   },
   "file_extension": ".py",
   "mimetype": "text/x-python",
   "name": "python",
   "nbconvert_exporter": "python",
   "pygments_lexer": "ipython3",
   "version": "3.10.0"
  }
 },
 "nbformat": 4,
 "nbformat_minor": 5
}
