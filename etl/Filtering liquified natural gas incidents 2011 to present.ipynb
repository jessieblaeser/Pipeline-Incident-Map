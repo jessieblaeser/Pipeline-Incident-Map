{
 "cells": [
  {
   "cell_type": "markdown",
   "id": "2c221305",
   "metadata": {},
   "source": [
    "# Taking PHMSA liquified natural gas incident data and filtering for \"significant\" incidents\n",
    "[Data source](https://www.phmsa.dot.gov/data-and-statistics/pipeline/source-data)"
   ]
  },
  {
   "cell_type": "code",
   "execution_count": 2,
   "id": "7abcfa13",
   "metadata": {},
   "outputs": [],
   "source": [
    "import pandas as pd\n",
    "import numpy as np\n",
    "import os\n",
    "\n",
    "df = pd.read_csv('../data/source/PHMSA_Pipeline_Safety_Flagged_Incidents/lng2011toPresent.csv')\n",
    "\n",
    "df.columns = df.columns.str.lower()"
   ]
  },
  {
   "cell_type": "markdown",
   "id": "7548cd1b",
   "metadata": {},
   "source": [
    "### How many \"significant\" hazardous liquid incidents have there been since 2010?\n",
    "* Data shows there have been 22 signfificant events\n",
    "* 10 non-significant events\n",
    "\n",
    "**Now, we'll filter for only significant events and save these to a new csv**"
   ]
  },
  {
   "cell_type": "code",
   "execution_count": 5,
   "id": "1e70ef2a",
   "metadata": {},
   "outputs": [
    {
     "data": {
      "text/plain": [
       "NO     22\n",
       "YES    10\n",
       "Name: significant, dtype: int64"
      ]
     },
     "execution_count": 5,
     "metadata": {},
     "output_type": "execute_result"
    }
   ],
   "source": [
    "df['significant'].value_counts()"
   ]
  },
  {
   "cell_type": "code",
   "execution_count": 7,
   "id": "028f106b",
   "metadata": {},
   "outputs": [
    {
     "data": {
      "text/plain": [
       "(10, 222)"
      ]
     },
     "execution_count": 7,
     "metadata": {},
     "output_type": "execute_result"
    }
   ],
   "source": [
    "yes = df[df['significant'] == 'YES']\n",
    "yes.shape"
   ]
  },
  {
   "cell_type": "code",
   "execution_count": 8,
   "id": "a1d3d73f",
   "metadata": {},
   "outputs": [],
   "source": [
    "yes.to_csv('lng2011toPresent_significant.csv', index=False)"
   ]
  }
 ],
 "metadata": {
  "kernelspec": {
   "display_name": "Python 3 (ipykernel)",
   "language": "python",
   "name": "python3"
  },
  "language_info": {
   "codemirror_mode": {
    "name": "ipython",
    "version": 3
   },
   "file_extension": ".py",
   "mimetype": "text/x-python",
   "name": "python",
   "nbconvert_exporter": "python",
   "pygments_lexer": "ipython3",
   "version": "3.10.0"
  }
 },
 "nbformat": 4,
 "nbformat_minor": 5
}
