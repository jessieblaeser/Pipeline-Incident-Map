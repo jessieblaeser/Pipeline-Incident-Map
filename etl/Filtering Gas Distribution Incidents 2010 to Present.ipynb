{
 "cells": [
  {
   "cell_type": "markdown",
   "id": "3c99d042",
   "metadata": {},
   "source": [
    "# Taking PHMSA gas distribution data and filtering for significant incidents\n",
    "[Data source](https://www.phmsa.dot.gov/data-and-statistics/pipeline/source-data)"
   ]
  },
  {
   "cell_type": "code",
   "execution_count": 17,
   "id": "0f8b49d6",
   "metadata": {},
   "outputs": [],
   "source": [
    "import pandas as pd\n",
    "import numpy as np\n",
    "import os"
   ]
  },
  {
   "cell_type": "code",
   "execution_count": 18,
   "id": "4ae73395",
   "metadata": {},
   "outputs": [],
   "source": [
    "df = pd.read_csv('../data/source/PHMSA_Pipeline_Safety_Flagged_Incidents/gd2010toPresent.csv')"
   ]
  },
  {
   "cell_type": "code",
   "execution_count": 19,
   "id": "48924b8d",
   "metadata": {},
   "outputs": [],
   "source": [
    "df.columns = df.columns.str.lower()"
   ]
  },
  {
   "cell_type": "markdown",
   "id": "a1e610a6",
   "metadata": {},
   "source": [
    "### How many \"significant\" gas distribution incidents have there been since 2010?\n",
    "* Data shows there have been 780 signfificant events\n",
    "* 537 non-significant events\n",
    "\n",
    "**Now, we'll filter for only significant events and save these to a new csv**"
   ]
  },
  {
   "cell_type": "code",
   "execution_count": 20,
   "id": "2e5b018f",
   "metadata": {},
   "outputs": [
    {
     "data": {
      "text/plain": [
       "YES    780\n",
       "NO     527\n",
       "Name: significant, dtype: int64"
      ]
     },
     "execution_count": 20,
     "metadata": {},
     "output_type": "execute_result"
    }
   ],
   "source": [
    "df['significant'].value_counts()"
   ]
  },
  {
   "cell_type": "code",
   "execution_count": 21,
   "id": "3f2e47c8",
   "metadata": {},
   "outputs": [],
   "source": [
    "yes = df[df['significant'] == 'YES']"
   ]
  },
  {
   "cell_type": "markdown",
   "id": "05f5d2a0",
   "metadata": {},
   "source": [
    "**Double checking we have the right number of rows:**"
   ]
  },
  {
   "cell_type": "code",
   "execution_count": 22,
   "id": "5e7c6e69",
   "metadata": {},
   "outputs": [
    {
     "data": {
      "text/plain": [
       "(780, 480)"
      ]
     },
     "execution_count": 22,
     "metadata": {},
     "output_type": "execute_result"
    }
   ],
   "source": [
    "yes.shape"
   ]
  },
  {
   "cell_type": "code",
   "execution_count": 16,
   "id": "0b8b8745",
   "metadata": {},
   "outputs": [],
   "source": [
    "yes.to_csv('gd2010toPresent_significant.csv', index=False)"
   ]
  }
 ],
 "metadata": {
  "kernelspec": {
   "display_name": "Python 3 (ipykernel)",
   "language": "python",
   "name": "python3"
  },
  "language_info": {
   "codemirror_mode": {
    "name": "ipython",
    "version": 3
   },
   "file_extension": ".py",
   "mimetype": "text/x-python",
   "name": "python",
   "nbconvert_exporter": "python",
   "pygments_lexer": "ipython3",
   "version": "3.10.0"
  }
 },
 "nbformat": 4,
 "nbformat_minor": 5
}
