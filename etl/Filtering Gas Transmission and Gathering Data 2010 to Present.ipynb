{
 "cells": [
  {
   "cell_type": "markdown",
   "id": "e5a835ba",
   "metadata": {},
   "source": [
    "# Taking PHMSA GTGG data and filtering for significant incidents\n",
    "[Data source](https://www.phmsa.dot.gov/data-and-statistics/pipeline/source-data)"
   ]
  },
  {
   "cell_type": "code",
   "execution_count": 2,
   "id": "1b040d35",
   "metadata": {},
   "outputs": [
    {
     "name": "stderr",
     "output_type": "stream",
     "text": [
      "/Users/jessieblaeser/.pyenv/versions/3.10.0/lib/python3.10/site-packages/pandas/compat/__init__.py:124: UserWarning: Could not import the lzma module. Your installed Python is incomplete. Attempting to use lzma compression will result in a RuntimeError.\n",
      "  warnings.warn(msg)\n"
     ]
    }
   ],
   "source": [
    "import pandas as pd\n",
    "import numpy as np\n",
    "import os"
   ]
  },
  {
   "cell_type": "code",
   "execution_count": 3,
   "id": "05626a96",
   "metadata": {},
   "outputs": [
    {
     "name": "stderr",
     "output_type": "stream",
     "text": [
      "/Users/jessieblaeser/.pyenv/versions/3.10.0/lib/python3.10/site-packages/IPython/core/interactiveshell.py:3444: DtypeWarning: Columns (22,54,58,61,83,84,94,112,132,133,135,136,138,141,143,144,164,168,169,171,196,218,225,246,247,248,266,271,272,285,304,306,320,328,329,331,332,334,335,343,344,345,347,352,370,371,372,375,376,377,378,381,383,384,385,387,388,389,390,391,392,405,406,407,408,420,426,454,456,462,480,502,503,506,507,510,511,513,527,528,530,532,534,541,543,555,558,560,561,568,571,574,575,576,577,581,582,583,586,588,589,592,593,594,596,600,602,605,607,608,612,613,614,615,616,617,619,621,622,623,624,625) have mixed types.Specify dtype option on import or set low_memory=False.\n",
      "  exec(code_obj, self.user_global_ns, self.user_ns)\n"
     ]
    }
   ],
   "source": [
    "df = pd.read_csv('../data/source/PHMSA_Pipeline_Safety_Flagged_Incidents/gtggungs2010toPresent.csv')"
   ]
  },
  {
   "cell_type": "code",
   "execution_count": 4,
   "id": "42a85421",
   "metadata": {},
   "outputs": [],
   "source": [
    "df.columns = df.columns.str.lower()"
   ]
  },
  {
   "cell_type": "markdown",
   "id": "11515b2d",
   "metadata": {},
   "source": [
    "### How many \"significant\" GTGG incidents have there been since 2010?\n",
    "* Data shows there have been 937 signfificant events\n",
    "* 552 non-significant events\n",
    "\n",
    "**Now, we'll filter for only significant events and save these to a new csv**"
   ]
  },
  {
   "cell_type": "code",
   "execution_count": 6,
   "id": "86dd6b9c",
   "metadata": {},
   "outputs": [
    {
     "data": {
      "text/plain": [
       "YES    937\n",
       "NO     552\n",
       "Name: significant, dtype: int64"
      ]
     },
     "execution_count": 6,
     "metadata": {},
     "output_type": "execute_result"
    }
   ],
   "source": [
    "df['significant'].value_counts()"
   ]
  },
  {
   "cell_type": "code",
   "execution_count": 7,
   "id": "806d1def",
   "metadata": {},
   "outputs": [],
   "source": [
    "yes = df[df['significant'] == 'YES']"
   ]
  },
  {
   "cell_type": "code",
   "execution_count": 8,
   "id": "db8e7cfe",
   "metadata": {},
   "outputs": [
    {
     "data": {
      "text/plain": [
       "(937, 639)"
      ]
     },
     "execution_count": 8,
     "metadata": {},
     "output_type": "execute_result"
    }
   ],
   "source": [
    "yes.shape"
   ]
  },
  {
   "cell_type": "code",
   "execution_count": 9,
   "id": "fdfd7969",
   "metadata": {},
   "outputs": [],
   "source": [
    "yes.to_csv('gtggungs2010toPresent_significant.csv', index=False)"
   ]
  }
 ],
 "metadata": {
  "kernelspec": {
   "display_name": "Python 3 (ipykernel)",
   "language": "python",
   "name": "python3"
  },
  "language_info": {
   "codemirror_mode": {
    "name": "ipython",
    "version": 3
   },
   "file_extension": ".py",
   "mimetype": "text/x-python",
   "name": "python",
   "nbconvert_exporter": "python",
   "pygments_lexer": "ipython3",
   "version": "3.10.0"
  }
 },
 "nbformat": 4,
 "nbformat_minor": 5
}
