{
 "cells": [
  {
   "cell_type": "markdown",
   "id": "62b234c4",
   "metadata": {},
   "source": [
    "# Putting pipeline incidents into a single df\n",
    "\n",
    "[Data source](https://www.phmsa.dot.gov/data-and-statistics/pipeline/source-data)\n",
    "\n",
    "The following datasets represent: \n",
    "* Gas distribution\n",
    "* Gas Transmission and Gathering\n",
    "* Hazardous liquid\n",
    "\n",
    "**NOTE:** Liquified Natural Gas incidents are not included in this analysis (32 total LNG incidents since 2011) \n",
    "\n",
    "Data downloaded on: "
   ]
  },
  {
   "cell_type": "code",
   "execution_count": 1,
   "id": "0af06f24",
   "metadata": {},
   "outputs": [
    {
     "name": "stderr",
     "output_type": "stream",
     "text": [
      "/Users/jessieblaeser/.pyenv/versions/3.10.0/lib/python3.10/site-packages/pandas/compat/__init__.py:124: UserWarning: Could not import the lzma module. Your installed Python is incomplete. Attempting to use lzma compression will result in a RuntimeError.\n",
      "  warnings.warn(msg)\n",
      "/Users/jessieblaeser/.pyenv/versions/3.10.0/lib/python3.10/site-packages/IPython/core/interactiveshell.py:3444: DtypeWarning: Columns (22,54,58,61,83,84,94,112,132,133,135,136,138,141,143,144,164,168,169,171,196,218,225,246,247,248,266,271,272,285,304,306,320,328,329,331,332,334,335,343,344,345,347,352,370,371,372,375,376,377,378,381,383,384,385,387,388,389,390,391,392,405,406,407,408,420,426,454,456,462,480,502,503,506,507,510,511,513,527,528,530,532,534,541,543,555,558,560,561,568,571,574,575,576,577,581,582,583,586,588,589,592,593,594,596,600,602,605,607,608,612,613,614,615,616,617,619,621,622,623,624,625) have mixed types.Specify dtype option on import or set low_memory=False.\n",
      "  exec(code_obj, self.user_global_ns, self.user_ns)\n",
      "/Users/jessieblaeser/.pyenv/versions/3.10.0/lib/python3.10/site-packages/IPython/core/interactiveshell.py:3444: DtypeWarning: Columns (18,19,51,57,58,59,61,64,66,67,68,71,72,73,74,75,76,77,78,79,80,81,82,83,100,101,102,103,109,112,116,118,120,125,135,150,152,154,155,156,157,166,168,170,182,202,203,204,241,242,243,244,253,256,260,263,285,287,324,328,345,359,360,368,370,382,384,385,386,387,388,394,410,411,412,437,447,448,454,455,456,459,460,461,468,473,475,492,493,528,529,531,534,535,537,560,561,563,565,566,568,591,592,614,615,616,620,628,643,647,654,657,664,665,666) have mixed types.Specify dtype option on import or set low_memory=False.\n",
      "  exec(code_obj, self.user_global_ns, self.user_ns)\n"
     ]
    }
   ],
   "source": [
    "import pandas as pd\n",
    "import numpy as np\n",
    "import os\n",
    "\n",
    "#Gas distribution incidents\n",
    "df1 = pd.read_csv('../data/source/PHMSA_Pipeline_Safety_Flagged_Incidents/gd2010toPresent.csv')\n",
    "\n",
    "#Gas transmision and gathering incidents \n",
    "df2 = pd.read_csv('../data/source/PHMSA_Pipeline_Safety_Flagged_Incidents/gtggungs2010toPresent.csv')\n",
    "\n",
    "#Hazardous liquid incidents \n",
    "df3 = pd.read_csv('../data/source/PHMSA_Pipeline_Safety_Flagged_Incidents/hl2010toPresent.csv')\n"
   ]
  },
  {
   "cell_type": "code",
   "execution_count": 3,
   "id": "83396b05",
   "metadata": {},
   "outputs": [
    {
     "data": {
      "text/plain": [
       "(1307, 480)"
      ]
     },
     "execution_count": 3,
     "metadata": {},
     "output_type": "execute_result"
    }
   ],
   "source": [
    "# Checking length of each df\n",
    "df1.shape"
   ]
  },
  {
   "cell_type": "code",
   "execution_count": 4,
   "id": "ca4cc35e",
   "metadata": {},
   "outputs": [
    {
     "data": {
      "text/plain": [
       "(1489, 639)"
      ]
     },
     "execution_count": 4,
     "metadata": {},
     "output_type": "execute_result"
    }
   ],
   "source": [
    "df2.shape"
   ]
  },
  {
   "cell_type": "code",
   "execution_count": 6,
   "id": "2c30fb13",
   "metadata": {},
   "outputs": [
    {
     "data": {
      "text/plain": [
       "(4703, 672)"
      ]
     },
     "execution_count": 6,
     "metadata": {},
     "output_type": "execute_result"
    }
   ],
   "source": [
    "df3.shape\n"
   ]
  },
  {
   "cell_type": "markdown",
   "id": "578690c2",
   "metadata": {},
   "source": [
    "### Combining all dataframes together"
   ]
  },
  {
   "cell_type": "code",
   "execution_count": 8,
   "id": "0eb5efdc",
   "metadata": {},
   "outputs": [],
   "source": [
    "df4 = pd.concat([df1, df2, df3], ignore_index=True)"
   ]
  },
  {
   "cell_type": "code",
   "execution_count": 9,
   "id": "8b410e14",
   "metadata": {},
   "outputs": [
    {
     "data": {
      "text/plain": [
       "(7499, 826)"
      ]
     },
     "execution_count": 9,
     "metadata": {},
     "output_type": "execute_result"
    }
   ],
   "source": [
    "#Checking length of final df\n",
    "df4.shape"
   ]
  },
  {
   "cell_type": "code",
   "execution_count": 10,
   "id": "6134ac22",
   "metadata": {},
   "outputs": [
    {
     "data": {
      "text/plain": [
       "7499"
      ]
     },
     "execution_count": 10,
     "metadata": {},
     "output_type": "execute_result"
    }
   ],
   "source": [
    "#Length of final df matches length of each individual df --> no lost data \n",
    "4703+1489+1307"
   ]
  },
  {
   "cell_type": "markdown",
   "id": "50579df9",
   "metadata": {},
   "source": [
    "### Cleaning columns \n",
    "\n",
    "Steps:\n",
    "* Making column titles lowercase\n",
    "* Replacing spaces with underscores\n",
    "* Converting important date columns to datetime format \n"
   ]
  },
  {
   "cell_type": "code",
   "execution_count": 13,
   "id": "f39c322e",
   "metadata": {},
   "outputs": [],
   "source": [
    "# Replacing column titles with lowercase and replacing spaces\n",
    "\n",
    "df4.columns = df4.columns.str.lower().str.replace(' ', '_')"
   ]
  },
  {
   "cell_type": "code",
   "execution_count": 20,
   "id": "3f963150",
   "metadata": {},
   "outputs": [],
   "source": [
    "# Converting a few (not all) date columns to datetime format \n",
    "\n",
    "df4[['incident_identified_datetime', 'installation_year']] = df4[['incident_identified_datetime', 'installation_year']].apply(pd.to_datetime, errors='coerce')\n"
   ]
  },
  {
   "cell_type": "code",
   "execution_count": 24,
   "id": "5c36e8a4",
   "metadata": {},
   "outputs": [
    {
     "data": {
      "text/plain": [
       "0             NaT\n",
       "1      1990-01-01\n",
       "2      1999-01-01\n",
       "3      1976-01-01\n",
       "4             NaT\n",
       "          ...    \n",
       "7494   2015-01-01\n",
       "7495   1976-01-01\n",
       "7496   2021-01-01\n",
       "7497   1957-01-01\n",
       "7498   2010-01-01\n",
       "Name: installation_year, Length: 7499, dtype: datetime64[ns]"
      ]
     },
     "execution_count": 24,
     "metadata": {},
     "output_type": "execute_result"
    }
   ],
   "source": [
    "df4['installation_year']"
   ]
  },
  {
   "cell_type": "code",
   "execution_count": 25,
   "id": "3ef1f7e2",
   "metadata": {},
   "outputs": [],
   "source": [
    "#Saving df of these pipeline incidents to csv \n",
    "\n",
    "#df4.to_csv('pipeline_incidents_2010_present_all.csv', index=False)"
   ]
  },
  {
   "cell_type": "code",
   "execution_count": null,
   "id": "cbe6eccb",
   "metadata": {},
   "outputs": [],
   "source": []
  }
 ],
 "metadata": {
  "kernelspec": {
   "display_name": "Python 3 (ipykernel)",
   "language": "python",
   "name": "python3"
  },
  "language_info": {
   "codemirror_mode": {
    "name": "ipython",
    "version": 3
   },
   "file_extension": ".py",
   "mimetype": "text/x-python",
   "name": "python",
   "nbconvert_exporter": "python",
   "pygments_lexer": "ipython3",
   "version": "3.10.0"
  }
 },
 "nbformat": 4,
 "nbformat_minor": 5
}
