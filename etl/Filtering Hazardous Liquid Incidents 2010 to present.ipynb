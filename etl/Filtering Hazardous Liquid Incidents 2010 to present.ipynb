{
 "cells": [
  {
   "cell_type": "markdown",
   "id": "96b0ef15",
   "metadata": {},
   "source": [
    "# Taking PHMSA hazardous liquid incident data and filtering for \"significant\" incidents\n",
    "[Data source](https://www.phmsa.dot.gov/data-and-statistics/pipeline/source-data)"
   ]
  },
  {
   "cell_type": "code",
   "execution_count": 5,
   "id": "2aac2037",
   "metadata": {},
   "outputs": [],
   "source": [
    "import pandas as pd\n",
    "import numpy as np\n",
    "import os\n",
    "\n",
    "df = pd.read_csv('../data/source/PHMSA_Pipeline_Safety_Flagged_Incidents/hl2010toPresent.csv')\n",
    "\n",
    "df.columns = df.columns.str.lower()"
   ]
  },
  {
   "cell_type": "markdown",
   "id": "626fba97",
   "metadata": {},
   "source": [
    "### How many \"significant\" hazardous liquid incidents have there been since 2010?\n",
    "* Data shows there have been 2883 signfificant events\n",
    "* 1820 non-significant events\n",
    "\n",
    "**Now, we'll filter for only significant events and save these to a new csv**"
   ]
  },
  {
   "cell_type": "code",
   "execution_count": 6,
   "id": "69921aa1",
   "metadata": {},
   "outputs": [
    {
     "data": {
      "text/plain": [
       "NO     2883\n",
       "YES    1820\n",
       "Name: significant, dtype: int64"
      ]
     },
     "execution_count": 6,
     "metadata": {},
     "output_type": "execute_result"
    }
   ],
   "source": [
    "df['significant'].value_counts()"
   ]
  },
  {
   "cell_type": "code",
   "execution_count": 7,
   "id": "53d60f3c",
   "metadata": {},
   "outputs": [
    {
     "data": {
      "text/plain": [
       "(1820, 672)"
      ]
     },
     "execution_count": 7,
     "metadata": {},
     "output_type": "execute_result"
    }
   ],
   "source": [
    "yes = df[df['significant'] == 'YES']\n",
    "yes.shape"
   ]
  },
  {
   "cell_type": "code",
   "execution_count": 8,
   "id": "98eeede8",
   "metadata": {},
   "outputs": [],
   "source": [
    "yes.to_csv('hl2010toPresent_significant.csv', index=False)"
   ]
  }
 ],
 "metadata": {
  "kernelspec": {
   "display_name": "Python 3 (ipykernel)",
   "language": "python",
   "name": "python3"
  },
  "language_info": {
   "codemirror_mode": {
    "name": "ipython",
    "version": 3
   },
   "file_extension": ".py",
   "mimetype": "text/x-python",
   "name": "python",
   "nbconvert_exporter": "python",
   "pygments_lexer": "ipython3",
   "version": "3.10.0"
  }
 },
 "nbformat": 4,
 "nbformat_minor": 5
}
