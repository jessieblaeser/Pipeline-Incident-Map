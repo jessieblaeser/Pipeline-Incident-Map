{
 "cells": [
  {
   "cell_type": "markdown",
   "id": "bc8e6104",
   "metadata": {},
   "source": [
    "# Analyze PHMSA [legislation](https://www.federalregister.gov/documents/search?conditions%5Bagencies%5D%5B%5D=pipeline-and-hazardous-materials-safety-administration ) over time"
   ]
  },
  {
   "cell_type": "code",
   "execution_count": 1,
   "id": "c094708d",
   "metadata": {},
   "outputs": [
    {
     "name": "stderr",
     "output_type": "stream",
     "text": [
      "/Users/ilenapeng/.pyenv/versions/3.9.7/lib/python3.9/site-packages/pandas/compat/__init__.py:124: UserWarning: Could not import the lzma module. Your installed Python is incomplete. Attempting to use lzma compression will result in a RuntimeError.\n",
      "  warnings.warn(msg)\n"
     ]
    }
   ],
   "source": [
    "import pandas as pd"
   ]
  },
  {
   "cell_type": "code",
   "execution_count": 2,
   "id": "e2d4df7d",
   "metadata": {},
   "outputs": [
    {
     "data": {
      "text/html": [
       "<div>\n",
       "<style scoped>\n",
       "    .dataframe tbody tr th:only-of-type {\n",
       "        vertical-align: middle;\n",
       "    }\n",
       "\n",
       "    .dataframe tbody tr th {\n",
       "        vertical-align: top;\n",
       "    }\n",
       "\n",
       "    .dataframe thead th {\n",
       "        text-align: right;\n",
       "    }\n",
       "</style>\n",
       "<table border=\"1\" class=\"dataframe\">\n",
       "  <thead>\n",
       "    <tr style=\"text-align: right;\">\n",
       "      <th></th>\n",
       "      <th>title</th>\n",
       "      <th>type</th>\n",
       "      <th>agency_names</th>\n",
       "      <th>abstract</th>\n",
       "      <th>citation</th>\n",
       "      <th>document_number</th>\n",
       "      <th>html_url</th>\n",
       "      <th>pdf_url</th>\n",
       "      <th>publication_date</th>\n",
       "    </tr>\n",
       "  </thead>\n",
       "  <tbody>\n",
       "    <tr>\n",
       "      <th>0</th>\n",
       "      <td>Administrative Rulemaking-Criminal Referrals</td>\n",
       "      <td>Rule</td>\n",
       "      <td>Transportation Department; Pipeline and Hazard...</td>\n",
       "      <td>PHMSA is incorporating within its regulations ...</td>\n",
       "      <td>87 FR 28779</td>\n",
       "      <td>2022-09740</td>\n",
       "      <td>https://www.federalregister.gov/documents/2022...</td>\n",
       "      <td>https://www.govinfo.gov/content/pkg/FR-2022-05...</td>\n",
       "      <td>05/11/2022</td>\n",
       "    </tr>\n",
       "    <tr>\n",
       "      <th>1</th>\n",
       "      <td>Pipeline Safety: Information Collection Activi...</td>\n",
       "      <td>Notice</td>\n",
       "      <td>Transportation Department; Pipeline and Hazard...</td>\n",
       "      <td>In compliance with the Paperwork Reduction Act...</td>\n",
       "      <td>87 FR 28864</td>\n",
       "      <td>2022-10119</td>\n",
       "      <td>https://www.federalregister.gov/documents/2022...</td>\n",
       "      <td>https://www.govinfo.gov/content/pkg/FR-2022-05...</td>\n",
       "      <td>05/11/2022</td>\n",
       "    </tr>\n",
       "    <tr>\n",
       "      <th>2</th>\n",
       "      <td>Pipeline Safety: Safety of Gas Gathering Pipel...</td>\n",
       "      <td>Rule</td>\n",
       "      <td>Transportation Department; Pipeline and Hazard...</td>\n",
       "      <td>PHMSA is alerting the public to its April 1, 2...</td>\n",
       "      <td>87 FR 26296</td>\n",
       "      <td>2022-09474</td>\n",
       "      <td>https://www.federalregister.gov/documents/2022...</td>\n",
       "      <td>https://www.govinfo.gov/content/pkg/FR-2022-05...</td>\n",
       "      <td>05/04/2022</td>\n",
       "    </tr>\n",
       "  </tbody>\n",
       "</table>\n",
       "</div>"
      ],
      "text/plain": [
       "                                               title    type  \\\n",
       "0       Administrative Rulemaking-Criminal Referrals    Rule   \n",
       "1  Pipeline Safety: Information Collection Activi...  Notice   \n",
       "2  Pipeline Safety: Safety of Gas Gathering Pipel...    Rule   \n",
       "\n",
       "                                        agency_names  \\\n",
       "0  Transportation Department; Pipeline and Hazard...   \n",
       "1  Transportation Department; Pipeline and Hazard...   \n",
       "2  Transportation Department; Pipeline and Hazard...   \n",
       "\n",
       "                                            abstract     citation  \\\n",
       "0  PHMSA is incorporating within its regulations ...  87 FR 28779   \n",
       "1  In compliance with the Paperwork Reduction Act...  87 FR 28864   \n",
       "2  PHMSA is alerting the public to its April 1, 2...  87 FR 26296   \n",
       "\n",
       "  document_number                                           html_url  \\\n",
       "0      2022-09740  https://www.federalregister.gov/documents/2022...   \n",
       "1      2022-10119  https://www.federalregister.gov/documents/2022...   \n",
       "2      2022-09474  https://www.federalregister.gov/documents/2022...   \n",
       "\n",
       "                                             pdf_url publication_date  \n",
       "0  https://www.govinfo.gov/content/pkg/FR-2022-05...       05/11/2022  \n",
       "1  https://www.govinfo.gov/content/pkg/FR-2022-05...       05/11/2022  \n",
       "2  https://www.govinfo.gov/content/pkg/FR-2022-05...       05/04/2022  "
      ]
     },
     "execution_count": 2,
     "metadata": {},
     "output_type": "execute_result"
    }
   ],
   "source": [
    "df_raw = pd.read_csv('../data/source/documents_from_pipeline_and_hazardous_materials_safety_administration.csv')\n",
    "df_raw.head(3)"
   ]
  },
  {
   "cell_type": "code",
   "execution_count": 3,
   "id": "3b962c94",
   "metadata": {},
   "outputs": [
    {
     "data": {
      "text/plain": [
       "Notice           808\n",
       "Rule             115\n",
       "Proposed Rule     77\n",
       "Name: type, dtype: int64"
      ]
     },
     "execution_count": 3,
     "metadata": {},
     "output_type": "execute_result"
    }
   ],
   "source": [
    "df_raw.type.value_counts()"
   ]
  },
  {
   "cell_type": "code",
   "execution_count": 4,
   "id": "0d6aa316",
   "metadata": {},
   "outputs": [
    {
     "data": {
      "text/plain": [
       "title                          object\n",
       "type                           object\n",
       "agency_names                   object\n",
       "abstract                       object\n",
       "citation                       object\n",
       "document_number                object\n",
       "html_url                       object\n",
       "pdf_url                        object\n",
       "publication_date               object\n",
       "publication_date_dt    datetime64[ns]\n",
       "dtype: object"
      ]
     },
     "execution_count": 4,
     "metadata": {},
     "output_type": "execute_result"
    }
   ],
   "source": [
    "df_raw['publication_date_dt'] = pd.to_datetime(df_raw['publication_date'], format='%m/%d/%Y')\n",
    "df_raw.dtypes"
   ]
  },
  {
   "cell_type": "code",
   "execution_count": 5,
   "id": "86c7e401",
   "metadata": {},
   "outputs": [],
   "source": [
    "# filter out notices\n",
    "df = df_raw[df_raw.type!='Notice']"
   ]
  },
  {
   "cell_type": "code",
   "execution_count": 6,
   "id": "774fab46",
   "metadata": {},
   "outputs": [
    {
     "data": {
      "text/plain": [
       "2012    13\n",
       "2013    33\n",
       "2014    17\n",
       "2015    24\n",
       "2016    29\n",
       "2017    11\n",
       "2018    13\n",
       "2019    14\n",
       "2020    19\n",
       "2021    15\n",
       "2022     4\n",
       "Name: publication_date_dt, dtype: int64"
      ]
     },
     "execution_count": 6,
     "metadata": {},
     "output_type": "execute_result"
    }
   ],
   "source": [
    "df.publication_date_dt.dt.year.value_counts().sort_index()"
   ]
  },
  {
   "cell_type": "code",
   "execution_count": 7,
   "id": "ec915fe2",
   "metadata": {},
   "outputs": [
    {
     "data": {
      "text/plain": [
       "<AxesSubplot:>"
      ]
     },
     "execution_count": 7,
     "metadata": {},
     "output_type": "execute_result"
    },
    {
     "data": {
      "image/png": "[encoded data removed]",
      "text/plain": [
       "<Figure size 432x288 with 1 Axes>"
      ]
     },
     "metadata": {
      "needs_background": "light"
     },
     "output_type": "display_data"
    }
   ],
   "source": [
    "df.publication_date_dt.dt.year.value_counts().sort_index().plot()"
   ]
  }
 ],
 "metadata": {
  "kernelspec": {
   "display_name": "Python 3 (ipykernel)",
   "language": "python",
   "name": "python3"
  },
  "language_info": {
   "codemirror_mode": {
    "name": "ipython",
    "version": 3
   },
   "file_extension": ".py",
   "mimetype": "text/x-python",
   "name": "python",
   "nbconvert_exporter": "python",
   "pygments_lexer": "ipython3",
   "version": "3.9.7"
  }
 },
 "nbformat": 4,
 "nbformat_minor": 5
}
