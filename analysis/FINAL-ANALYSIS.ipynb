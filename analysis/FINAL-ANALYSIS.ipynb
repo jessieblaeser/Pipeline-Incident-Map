{
 "cells": [
  {
   "cell_type": "markdown",
   "id": "92a57f75",
   "metadata": {},
   "source": [
    "# Pipeline incidents after 2010\n",
    "\n",
    "Data from [PHMSA](https://www.phmsa.dot.gov/data-and-statistics/pipeline/source-data)\n",
    "* Includes both 'Significant' and 'non-significant' events\n",
    "* Events include the following: \n",
    "    * Gas distribution\n",
    "    * Gas Transmission and Gathering\n",
    "    * Hazardous liquid\n",
    "    \n",
    "    **NOTE:** Liquified Natural Gas incidents are not included in this analysis (32 total LNG incidents since 2011)"
   ]
  },
  {
   "cell_type": "code",
   "execution_count": 1,
   "id": "e5d0b08e",
   "metadata": {},
   "outputs": [
    {
     "name": "stderr",
     "output_type": "stream",
     "text": [
      "/Users/ilenapeng/.pyenv/versions/3.9.7/lib/python3.9/site-packages/pandas/compat/__init__.py:124: UserWarning: Could not import the lzma module. Your installed Python is incomplete. Attempting to use lzma compression will result in a RuntimeError.\n",
      "  warnings.warn(msg)\n"
     ]
    }
   ],
   "source": [
    "import pandas as pd\n",
    "import numpy as np\n",
    "pd.set_option('display.max_columns', None)\n",
    "pd.set_option('display.max_rows', None)"
   ]
  },
  {
   "cell_type": "code",
   "execution_count": 2,
   "id": "4a084356",
   "metadata": {},
   "outputs": [
    {
     "data": {
      "text/html": [
       "<div>\n",
       "<style scoped>\n",
       "    .dataframe tbody tr th:only-of-type {\n",
       "        vertical-align: middle;\n",
       "    }\n",
       "\n",
       "    .dataframe tbody tr th {\n",
       "        vertical-align: top;\n",
       "    }\n",
       "\n",
       "    .dataframe thead th {\n",
       "        text-align: right;\n",
       "    }\n",
       "</style>\n",
       "<table border=\"1\" class=\"dataframe\">\n",
       "  <thead>\n",
       "    <tr style=\"text-align: right;\">\n",
       "      <th></th>\n",
       "      <th>datafile_as_of</th>\n",
       "      <th>ff</th>\n",
       "      <th>significant</th>\n",
       "      <th>serious</th>\n",
       "      <th>report_number</th>\n",
       "      <th>supplemental_number</th>\n",
       "      <th>report_received_date</th>\n",
       "      <th>report_type</th>\n",
       "      <th>operator_id</th>\n",
       "      <th>name</th>\n",
       "      <th>operator_street_address</th>\n",
       "      <th>operator_city_name</th>\n",
       "      <th>operator_state_abbreviation</th>\n",
       "      <th>operator_postal_code</th>\n",
       "      <th>local_datetime</th>\n",
       "      <th>time_zone</th>\n",
       "      <th>daylight_savings_ind</th>\n",
       "      <th>iyear</th>\n",
       "      <th>location_street_address</th>\n",
       "      <th>location_city_name</th>\n",
       "      <th>location_county_name</th>\n",
       "      <th>location_state_abbreviation</th>\n",
       "      <th>location_postal_code</th>\n",
       "      <th>location_latitude</th>\n",
       "      <th>location_longitude</th>\n",
       "      <th>total_cost</th>\n",
       "      <th>total_cost_current</th>\n",
       "      <th>injury_ind</th>\n",
       "      <th>injure</th>\n",
       "      <th>num_pub_evacuated</th>\n",
       "      <th>fatal</th>\n",
       "      <th>cause</th>\n",
       "      <th>cause_details</th>\n",
       "      <th>material_involved</th>\n",
       "      <th>material_details</th>\n",
       "      <th>narrative</th>\n",
       "      <th>unintentional_release</th>\n",
       "      <th>installation_year</th>\n",
       "      <th>decade</th>\n",
       "      <th>year_dt</th>\n",
       "      <th>pipeline_age</th>\n",
       "    </tr>\n",
       "  </thead>\n",
       "  <tbody>\n",
       "    <tr>\n",
       "      <th>0</th>\n",
       "      <td>2/28/22</td>\n",
       "      <td>NO</td>\n",
       "      <td>YES</td>\n",
       "      <td>NO</td>\n",
       "      <td>20100001</td>\n",
       "      <td>15047</td>\n",
       "      <td>3/11/10</td>\n",
       "      <td>SUPPLEMENTAL FINAL</td>\n",
       "      <td>15007</td>\n",
       "      <td>PACIFIC GAS &amp; ELECTRIC CO</td>\n",
       "      <td>PG&amp;E - GAS OPERATIONS, REGULATORY COMPLIANCE 6...</td>\n",
       "      <td>SAN RAMON</td>\n",
       "      <td>CA</td>\n",
       "      <td>94583</td>\n",
       "      <td>2/13/10 23:35</td>\n",
       "      <td>NaN</td>\n",
       "      <td>NaN</td>\n",
       "      <td>2010.0</td>\n",
       "      <td>1617 EAST 9TH STREET</td>\n",
       "      <td>STOCKTON</td>\n",
       "      <td>SAN JOAQUIN</td>\n",
       "      <td>CA</td>\n",
       "      <td>95201</td>\n",
       "      <td>37.93188</td>\n",
       "      <td>-121.26133</td>\n",
       "      <td>102500</td>\n",
       "      <td>124764.082311</td>\n",
       "      <td>NO</td>\n",
       "      <td>0</td>\n",
       "      <td>0.0</td>\n",
       "      <td>0</td>\n",
       "      <td>OTHER OUTSIDE FORCE DAMAGE</td>\n",
       "      <td>OTHER OUTSIDE FORCE DAMAGE</td>\n",
       "      <td>OTHER</td>\n",
       "      <td>ALUMINUN</td>\n",
       "      <td>A FIRE AT AN UNOCCUPIED HOME OCCURRED AT APPRO...</td>\n",
       "      <td>10.0</td>\n",
       "      <td>NaN</td>\n",
       "      <td>NaN</td>\n",
       "      <td>NaN</td>\n",
       "      <td>NaN</td>\n",
       "    </tr>\n",
       "    <tr>\n",
       "      <th>1</th>\n",
       "      <td>2/28/22</td>\n",
       "      <td>NO</td>\n",
       "      <td>NO</td>\n",
       "      <td>NO</td>\n",
       "      <td>20100002</td>\n",
       "      <td>15553</td>\n",
       "      <td>3/12/10</td>\n",
       "      <td>SUPPLEMENTAL FINAL</td>\n",
       "      <td>13730</td>\n",
       "      <td>NORTHERN INDIANA PUBLIC SERVICE CO</td>\n",
       "      <td>801 E 86TH AVENUE</td>\n",
       "      <td>MERRILLVILLE</td>\n",
       "      <td>IN</td>\n",
       "      <td>46410</td>\n",
       "      <td>2/16/10 10:38</td>\n",
       "      <td>NaN</td>\n",
       "      <td>NaN</td>\n",
       "      <td>2010.0</td>\n",
       "      <td>3835 SANDPIPER COVE RUN</td>\n",
       "      <td>SOUTH BEND</td>\n",
       "      <td>ST. JOSEPH</td>\n",
       "      <td>IN</td>\n",
       "      <td>46628</td>\n",
       "      <td>41.72931</td>\n",
       "      <td>-86.27531</td>\n",
       "      <td>57500</td>\n",
       "      <td>68334.121206</td>\n",
       "      <td>NO</td>\n",
       "      <td>0</td>\n",
       "      <td>20.0</td>\n",
       "      <td>0</td>\n",
       "      <td>EXCAVATION DAMAGE</td>\n",
       "      <td>EXCAVATION DAMAGE BY THIRD PARTY</td>\n",
       "      <td>PLASTIC</td>\n",
       "      <td>NaN</td>\n",
       "      <td>CONTRACTOR BORING ELECTRIC LINE PARALLEL TO 3\"...</td>\n",
       "      <td>310.0</td>\n",
       "      <td>1990-01-01</td>\n",
       "      <td>1990-1999</td>\n",
       "      <td>1990.0</td>\n",
       "      <td>20.0</td>\n",
       "    </tr>\n",
       "  </tbody>\n",
       "</table>\n",
       "</div>"
      ],
      "text/plain": [
       "  datafile_as_of  ff significant serious  report_number  supplemental_number  \\\n",
       "0        2/28/22  NO         YES      NO       20100001                15047   \n",
       "1        2/28/22  NO          NO      NO       20100002                15553   \n",
       "\n",
       "  report_received_date         report_type  operator_id  \\\n",
       "0              3/11/10  SUPPLEMENTAL FINAL        15007   \n",
       "1              3/12/10  SUPPLEMENTAL FINAL        13730   \n",
       "\n",
       "                                 name  \\\n",
       "0           PACIFIC GAS & ELECTRIC CO   \n",
       "1  NORTHERN INDIANA PUBLIC SERVICE CO   \n",
       "\n",
       "                             operator_street_address operator_city_name  \\\n",
       "0  PG&E - GAS OPERATIONS, REGULATORY COMPLIANCE 6...          SAN RAMON   \n",
       "1                                 801 E 86TH AVENUE        MERRILLVILLE   \n",
       "\n",
       "  operator_state_abbreviation operator_postal_code local_datetime time_zone  \\\n",
       "0                          CA                94583  2/13/10 23:35       NaN   \n",
       "1                          IN                46410  2/16/10 10:38       NaN   \n",
       "\n",
       "  daylight_savings_ind   iyear  location_street_address location_city_name  \\\n",
       "0                  NaN  2010.0     1617 EAST 9TH STREET           STOCKTON   \n",
       "1                  NaN  2010.0  3835 SANDPIPER COVE RUN         SOUTH BEND   \n",
       "\n",
       "  location_county_name location_state_abbreviation location_postal_code  \\\n",
       "0          SAN JOAQUIN                          CA                95201   \n",
       "1           ST. JOSEPH                          IN                46628   \n",
       "\n",
       "   location_latitude  location_longitude  total_cost  total_cost_current  \\\n",
       "0           37.93188          -121.26133      102500       124764.082311   \n",
       "1           41.72931           -86.27531       57500        68334.121206   \n",
       "\n",
       "  injury_ind  injure  num_pub_evacuated  fatal                       cause  \\\n",
       "0         NO       0                0.0      0  OTHER OUTSIDE FORCE DAMAGE   \n",
       "1         NO       0               20.0      0           EXCAVATION DAMAGE   \n",
       "\n",
       "                      cause_details material_involved material_details  \\\n",
       "0        OTHER OUTSIDE FORCE DAMAGE             OTHER         ALUMINUN   \n",
       "1  EXCAVATION DAMAGE BY THIRD PARTY           PLASTIC              NaN   \n",
       "\n",
       "                                           narrative  unintentional_release  \\\n",
       "0  A FIRE AT AN UNOCCUPIED HOME OCCURRED AT APPRO...                   10.0   \n",
       "1  CONTRACTOR BORING ELECTRIC LINE PARALLEL TO 3\"...                  310.0   \n",
       "\n",
       "  installation_year     decade  year_dt  pipeline_age  \n",
       "0               NaN        NaN      NaN           NaN  \n",
       "1        1990-01-01  1990-1999   1990.0          20.0  "
      ]
     },
     "execution_count": 2,
     "metadata": {},
     "output_type": "execute_result"
    }
   ],
   "source": [
    "df = pd.read_csv('../data/processed/pipeline_incidents_2010_present_all_CLEAN.csv')\n",
    "df.head(2)"
   ]
  },
  {
   "cell_type": "markdown",
   "id": "43b85bc8",
   "metadata": {},
   "source": [
    "## Incidents by decade"
   ]
  },
  {
   "cell_type": "code",
   "execution_count": 3,
   "id": "73e79266",
   "metadata": {},
   "outputs": [],
   "source": [
    "df['installation_year'] = pd.to_datetime(df['installation_year'], format='%Y-%m-%d')"
   ]
  },
  {
   "cell_type": "code",
   "execution_count": 4,
   "id": "93fc6e49",
   "metadata": {},
   "outputs": [
    {
     "data": {
      "text/plain": [
       "array(['nan', '1990-1999', '1970-1979', '1980-1989', '1960-1969',\n",
       "       '2000-2009', '1950-1959', '1940-1949', '>2010', '1920-1929',\n",
       "       '1930-1939', '1900-1909', '1910-1919'], dtype=object)"
      ]
     },
     "execution_count": 4,
     "metadata": {},
     "output_type": "execute_result"
    }
   ],
   "source": [
    "# Create column for decade of installation\n",
    "conditions = [\n",
    "    (df['installation_year'] >= '1900-01-01') & (df['installation_year'] < '1910-01-01'),\n",
    "    (df['installation_year'] >= '1910-01-01') & (df['installation_year'] < '1920-01-01'),\n",
    "    (df['installation_year'] >= '1920-01-01') & (df['installation_year'] < '1930-01-01'),\n",
    "    (df['installation_year'] >= '1930-01-01') & (df['installation_year'] < '1940-01-01'),\n",
    "    (df['installation_year'] >= '1940-01-01') & (df['installation_year'] < '1950-01-01'),\n",
    "    (df['installation_year'] >= '1950-01-01') & (df['installation_year'] < '1960-01-01'),\n",
    "    (df['installation_year'] >= '1960-01-01') & (df['installation_year'] < '1970-01-01'),\n",
    "    (df['installation_year'] >= '1970-01-01') & (df['installation_year'] < '1980-01-01'),\n",
    "    (df['installation_year'] >= '1980-01-01') & (df['installation_year'] < '1990-01-01'),\n",
    "    (df['installation_year'] >= '1990-01-01') & (df['installation_year'] < '2000-01-01'),\n",
    "    (df['installation_year'] >= '2000-01-01') & (df['installation_year'] < '2010-01-01'),\n",
    "    df['installation_year'] >= '2010-01-01'\n",
    "]\n",
    "\n",
    "outputs = [\n",
    "    '1900-1909', '1910-1919', '1920-1929', '1930-1939', '1940-1949', '1950-1959', '1960-1969', '1970-1979',\n",
    "    '1980-1989', '1990-1999', '2000-2009', '>2010'\n",
    "]\n",
    "\n",
    "df['decade'] = np.select(conditions, outputs, np.nan)\n",
    "df.decade.unique()"
   ]
  },
  {
   "cell_type": "code",
   "execution_count": 5,
   "id": "7883c90b",
   "metadata": {},
   "outputs": [
    {
     "data": {
      "text/plain": [
       "0.20469395919455927"
      ]
     },
     "execution_count": 5,
     "metadata": {},
     "output_type": "execute_result"
    }
   ],
   "source": [
    "# Accidents with post 2010 installation year for how many accidents with ANY installation year that occurred post 2010\n",
    "len(df[df.decade == '>2010'])/ len(df[df.iyear >= 2010])\n",
    "\n",
    "# 20.5% of all accidents that occurred post 2010 had installation years after 2010"
   ]
  },
  {
   "cell_type": "markdown",
   "id": "8128b2fd",
   "metadata": {},
   "source": [
    "## Overview of incidents"
   ]
  },
  {
   "cell_type": "code",
   "execution_count": 6,
   "id": "5b9b894a",
   "metadata": {},
   "outputs": [
    {
     "data": {
      "text/plain": [
       "7994914265.472826"
      ]
     },
     "execution_count": 6,
     "metadata": {},
     "output_type": "execute_result"
    }
   ],
   "source": [
    "# Total cost adjusted for inflation\n",
    "df['total_cost_current'].sum()"
   ]
  },
  {
   "cell_type": "code",
   "execution_count": 7,
   "id": "c05be04c",
   "metadata": {},
   "outputs": [
    {
     "data": {
      "text/plain": [
       "716"
      ]
     },
     "execution_count": 7,
     "metadata": {},
     "output_type": "execute_result"
    }
   ],
   "source": [
    "# Total injuries \n",
    "df.injure.sum()"
   ]
  },
  {
   "cell_type": "code",
   "execution_count": 8,
   "id": "841371a9",
   "metadata": {},
   "outputs": [
    {
     "data": {
      "text/plain": [
       "156"
      ]
     },
     "execution_count": 8,
     "metadata": {},
     "output_type": "execute_result"
    }
   ],
   "source": [
    "# Total deaths\n",
    "df.fatal.sum()"
   ]
  },
  {
   "cell_type": "code",
   "execution_count": 9,
   "id": "6c109644",
   "metadata": {},
   "outputs": [
    {
     "data": {
      "text/plain": [
       "(7499, 41)"
      ]
     },
     "execution_count": 9,
     "metadata": {},
     "output_type": "execute_result"
    }
   ],
   "source": [
    "# Total incidents\n",
    "df.shape"
   ]
  },
  {
   "cell_type": "markdown",
   "id": "42a2aa70",
   "metadata": {},
   "source": [
    "## Incidents per miles of pipeline\n",
    "Mileage data, last updated May 2, 2022 from [PHMSA](https://www.phmsa.dot.gov/data-and-statistics/pipeline/annual-report-mileage-hazardous-liquid-or-carbon-dioxide-systems)"
   ]
  },
  {
   "cell_type": "code",
   "execution_count": 10,
   "id": "dfede6bf",
   "metadata": {},
   "outputs": [
    {
     "data": {
      "text/html": [
       "<div>\n",
       "<style scoped>\n",
       "    .dataframe tbody tr th:only-of-type {\n",
       "        vertical-align: middle;\n",
       "    }\n",
       "\n",
       "    .dataframe tbody tr th {\n",
       "        vertical-align: top;\n",
       "    }\n",
       "\n",
       "    .dataframe thead th {\n",
       "        text-align: right;\n",
       "    }\n",
       "</style>\n",
       "<table border=\"1\" class=\"dataframe\">\n",
       "  <thead>\n",
       "    <tr style=\"text-align: right;\">\n",
       "      <th></th>\n",
       "      <th>installation_year</th>\n",
       "      <th>count</th>\n",
       "    </tr>\n",
       "  </thead>\n",
       "  <tbody>\n",
       "    <tr>\n",
       "      <th>0</th>\n",
       "      <td>1900</td>\n",
       "      <td>3</td>\n",
       "    </tr>\n",
       "    <tr>\n",
       "      <th>1</th>\n",
       "      <td>1901</td>\n",
       "      <td>1</td>\n",
       "    </tr>\n",
       "    <tr>\n",
       "      <th>2</th>\n",
       "      <td>1902</td>\n",
       "      <td>1</td>\n",
       "    </tr>\n",
       "    <tr>\n",
       "      <th>3</th>\n",
       "      <td>1903</td>\n",
       "      <td>2</td>\n",
       "    </tr>\n",
       "    <tr>\n",
       "      <th>4</th>\n",
       "      <td>1906</td>\n",
       "      <td>2</td>\n",
       "    </tr>\n",
       "  </tbody>\n",
       "</table>\n",
       "</div>"
      ],
      "text/plain": [
       "  installation_year  count\n",
       "0              1900      3\n",
       "1              1901      1\n",
       "2              1902      1\n",
       "3              1903      2\n",
       "4              1906      2"
      ]
     },
     "execution_count": 10,
     "metadata": {},
     "output_type": "execute_result"
    }
   ],
   "source": [
    "# Count number of incidents by installation year\n",
    "df_count = df.installation_year.dt.strftime('%Y').value_counts().sort_index().reset_index()\n",
    "df_count.columns = ['installation_year', 'count']\n",
    "df_count.head()"
   ]
  },
  {
   "cell_type": "code",
   "execution_count": 11,
   "id": "fc144cfd",
   "metadata": {},
   "outputs": [],
   "source": [
    "# Load in data with total mileage of pipelines each year\n",
    "df_mileage = pd.read_csv('../data/processed/pipeline-mileage-over-time.csv')"
   ]
  },
  {
   "cell_type": "code",
   "execution_count": 12,
   "id": "55a91a17",
   "metadata": {},
   "outputs": [],
   "source": [
    "# Convert mileage column to string\n",
    "df_mileage['year'] = df_mileage.year.astype(str)"
   ]
  },
  {
   "cell_type": "code",
   "execution_count": 13,
   "id": "7e23ebf4",
   "metadata": {},
   "outputs": [
    {
     "data": {
      "text/html": [
       "<div>\n",
       "<style scoped>\n",
       "    .dataframe tbody tr th:only-of-type {\n",
       "        vertical-align: middle;\n",
       "    }\n",
       "\n",
       "    .dataframe tbody tr th {\n",
       "        vertical-align: top;\n",
       "    }\n",
       "\n",
       "    .dataframe thead th {\n",
       "        text-align: right;\n",
       "    }\n",
       "</style>\n",
       "<table border=\"1\" class=\"dataframe\">\n",
       "  <thead>\n",
       "    <tr style=\"text-align: right;\">\n",
       "      <th></th>\n",
       "      <th>installation_year</th>\n",
       "      <th>count</th>\n",
       "      <th>year</th>\n",
       "      <th>Gas Distribution</th>\n",
       "      <th>Gas Transmission and Gathering</th>\n",
       "      <th>Hazardous Liquid</th>\n",
       "      <th>total</th>\n",
       "    </tr>\n",
       "  </thead>\n",
       "  <tbody>\n",
       "    <tr>\n",
       "      <th>0</th>\n",
       "      <td>1900</td>\n",
       "      <td>3</td>\n",
       "      <td>NaN</td>\n",
       "      <td>NaN</td>\n",
       "      <td>NaN</td>\n",
       "      <td>NaN</td>\n",
       "      <td>NaN</td>\n",
       "    </tr>\n",
       "    <tr>\n",
       "      <th>1</th>\n",
       "      <td>1901</td>\n",
       "      <td>1</td>\n",
       "      <td>NaN</td>\n",
       "      <td>NaN</td>\n",
       "      <td>NaN</td>\n",
       "      <td>NaN</td>\n",
       "      <td>NaN</td>\n",
       "    </tr>\n",
       "    <tr>\n",
       "      <th>2</th>\n",
       "      <td>1902</td>\n",
       "      <td>1</td>\n",
       "      <td>NaN</td>\n",
       "      <td>NaN</td>\n",
       "      <td>NaN</td>\n",
       "      <td>NaN</td>\n",
       "      <td>NaN</td>\n",
       "    </tr>\n",
       "    <tr>\n",
       "      <th>3</th>\n",
       "      <td>1903</td>\n",
       "      <td>2</td>\n",
       "      <td>NaN</td>\n",
       "      <td>NaN</td>\n",
       "      <td>NaN</td>\n",
       "      <td>NaN</td>\n",
       "      <td>NaN</td>\n",
       "    </tr>\n",
       "    <tr>\n",
       "      <th>4</th>\n",
       "      <td>1906</td>\n",
       "      <td>2</td>\n",
       "      <td>NaN</td>\n",
       "      <td>NaN</td>\n",
       "      <td>NaN</td>\n",
       "      <td>NaN</td>\n",
       "      <td>NaN</td>\n",
       "    </tr>\n",
       "  </tbody>\n",
       "</table>\n",
       "</div>"
      ],
      "text/plain": [
       "  installation_year  count year  Gas Distribution  \\\n",
       "0              1900      3  NaN               NaN   \n",
       "1              1901      1  NaN               NaN   \n",
       "2              1902      1  NaN               NaN   \n",
       "3              1903      2  NaN               NaN   \n",
       "4              1906      2  NaN               NaN   \n",
       "\n",
       "   Gas Transmission and Gathering  Hazardous Liquid  total  \n",
       "0                             NaN               NaN    NaN  \n",
       "1                             NaN               NaN    NaN  \n",
       "2                             NaN               NaN    NaN  \n",
       "3                             NaN               NaN    NaN  \n",
       "4                             NaN               NaN    NaN  "
      ]
     },
     "execution_count": 13,
     "metadata": {},
     "output_type": "execute_result"
    }
   ],
   "source": [
    "# Merge data on pipeline mileage with data on number of incidents\n",
    "df_merge = df_count.merge(df_mileage, left_on='installation_year', right_on='year', how='left')\n",
    "df_merge.head()"
   ]
  },
  {
   "cell_type": "code",
   "execution_count": 14,
   "id": "2dd79be6",
   "metadata": {},
   "outputs": [],
   "source": [
    "# Create column with pipeline incidents as a percent of total pipeline mileage\n",
    "df_merge['percent_incidents'] = (df_merge['count'] / df_merge['total'])*100"
   ]
  },
  {
   "cell_type": "code",
   "execution_count": 15,
   "id": "54df33d4",
   "metadata": {},
   "outputs": [
    {
     "data": {
      "text/html": [
       "<div>\n",
       "<style scoped>\n",
       "    .dataframe tbody tr th:only-of-type {\n",
       "        vertical-align: middle;\n",
       "    }\n",
       "\n",
       "    .dataframe tbody tr th {\n",
       "        vertical-align: top;\n",
       "    }\n",
       "\n",
       "    .dataframe thead th {\n",
       "        text-align: right;\n",
       "    }\n",
       "</style>\n",
       "<table border=\"1\" class=\"dataframe\">\n",
       "  <thead>\n",
       "    <tr style=\"text-align: right;\">\n",
       "      <th></th>\n",
       "      <th>installation_year</th>\n",
       "      <th>count</th>\n",
       "      <th>year</th>\n",
       "      <th>Gas Distribution</th>\n",
       "      <th>Gas Transmission and Gathering</th>\n",
       "      <th>Hazardous Liquid</th>\n",
       "      <th>total</th>\n",
       "      <th>percent_incidents</th>\n",
       "    </tr>\n",
       "  </thead>\n",
       "  <tbody>\n",
       "    <tr>\n",
       "      <th>105</th>\n",
       "      <td>2015</td>\n",
       "      <td>202</td>\n",
       "      <td>2015</td>\n",
       "      <td>2190257.0</td>\n",
       "      <td>318949.0</td>\n",
       "      <td>208622.0</td>\n",
       "      <td>2717828.0</td>\n",
       "      <td>0.007432</td>\n",
       "    </tr>\n",
       "    <tr>\n",
       "      <th>104</th>\n",
       "      <td>2014</td>\n",
       "      <td>195</td>\n",
       "      <td>2014</td>\n",
       "      <td>2169375.0</td>\n",
       "      <td>319354.0</td>\n",
       "      <td>199795.0</td>\n",
       "      <td>2688524.0</td>\n",
       "      <td>0.007253</td>\n",
       "    </tr>\n",
       "    <tr>\n",
       "      <th>106</th>\n",
       "      <td>2016</td>\n",
       "      <td>180</td>\n",
       "      <td>2016</td>\n",
       "      <td>2211522.0</td>\n",
       "      <td>318218.0</td>\n",
       "      <td>212164.0</td>\n",
       "      <td>2741904.0</td>\n",
       "      <td>0.006565</td>\n",
       "    </tr>\n",
       "    <tr>\n",
       "      <th>102</th>\n",
       "      <td>2012</td>\n",
       "      <td>154</td>\n",
       "      <td>2012</td>\n",
       "      <td>2138000.0</td>\n",
       "      <td>319926.0</td>\n",
       "      <td>186221.0</td>\n",
       "      <td>2644147.0</td>\n",
       "      <td>0.005824</td>\n",
       "    </tr>\n",
       "    <tr>\n",
       "      <th>103</th>\n",
       "      <td>2013</td>\n",
       "      <td>154</td>\n",
       "      <td>2013</td>\n",
       "      <td>2149819.0</td>\n",
       "      <td>320257.0</td>\n",
       "      <td>192412.0</td>\n",
       "      <td>2662488.0</td>\n",
       "      <td>0.005784</td>\n",
       "    </tr>\n",
       "    <tr>\n",
       "      <th>108</th>\n",
       "      <td>2018</td>\n",
       "      <td>130</td>\n",
       "      <td>2018</td>\n",
       "      <td>2238709.0</td>\n",
       "      <td>319542.0</td>\n",
       "      <td>219137.0</td>\n",
       "      <td>2777388.0</td>\n",
       "      <td>0.004681</td>\n",
       "    </tr>\n",
       "    <tr>\n",
       "      <th>109</th>\n",
       "      <td>2019</td>\n",
       "      <td>128</td>\n",
       "      <td>2019</td>\n",
       "      <td>2262931.0</td>\n",
       "      <td>320101.0</td>\n",
       "      <td>225001.0</td>\n",
       "      <td>2808033.0</td>\n",
       "      <td>0.004558</td>\n",
       "    </tr>\n",
       "    <tr>\n",
       "      <th>107</th>\n",
       "      <td>2017</td>\n",
       "      <td>117</td>\n",
       "      <td>2017</td>\n",
       "      <td>2226053.0</td>\n",
       "      <td>318832.0</td>\n",
       "      <td>216052.0</td>\n",
       "      <td>2760937.0</td>\n",
       "      <td>0.004238</td>\n",
       "    </tr>\n",
       "    <tr>\n",
       "      <th>99</th>\n",
       "      <td>2009</td>\n",
       "      <td>107</td>\n",
       "      <td>2009</td>\n",
       "      <td>2086689.0</td>\n",
       "      <td>324936.0</td>\n",
       "      <td>175965.0</td>\n",
       "      <td>2587590.0</td>\n",
       "      <td>0.004135</td>\n",
       "    </tr>\n",
       "    <tr>\n",
       "      <th>100</th>\n",
       "      <td>2010</td>\n",
       "      <td>98</td>\n",
       "      <td>2010</td>\n",
       "      <td>2102483.0</td>\n",
       "      <td>324432.0</td>\n",
       "      <td>181986.0</td>\n",
       "      <td>2608901.0</td>\n",
       "      <td>0.003756</td>\n",
       "    </tr>\n",
       "  </tbody>\n",
       "</table>\n",
       "</div>"
      ],
      "text/plain": [
       "    installation_year  count  year  Gas Distribution  \\\n",
       "105              2015    202  2015         2190257.0   \n",
       "104              2014    195  2014         2169375.0   \n",
       "106              2016    180  2016         2211522.0   \n",
       "102              2012    154  2012         2138000.0   \n",
       "103              2013    154  2013         2149819.0   \n",
       "108              2018    130  2018         2238709.0   \n",
       "109              2019    128  2019         2262931.0   \n",
       "107              2017    117  2017         2226053.0   \n",
       "99               2009    107  2009         2086689.0   \n",
       "100              2010     98  2010         2102483.0   \n",
       "\n",
       "     Gas Transmission and Gathering  Hazardous Liquid      total  \\\n",
       "105                        318949.0          208622.0  2717828.0   \n",
       "104                        319354.0          199795.0  2688524.0   \n",
       "106                        318218.0          212164.0  2741904.0   \n",
       "102                        319926.0          186221.0  2644147.0   \n",
       "103                        320257.0          192412.0  2662488.0   \n",
       "108                        319542.0          219137.0  2777388.0   \n",
       "109                        320101.0          225001.0  2808033.0   \n",
       "107                        318832.0          216052.0  2760937.0   \n",
       "99                         324936.0          175965.0  2587590.0   \n",
       "100                        324432.0          181986.0  2608901.0   \n",
       "\n",
       "     percent_incidents  \n",
       "105           0.007432  \n",
       "104           0.007253  \n",
       "106           0.006565  \n",
       "102           0.005824  \n",
       "103           0.005784  \n",
       "108           0.004681  \n",
       "109           0.004558  \n",
       "107           0.004238  \n",
       "99            0.004135  \n",
       "100           0.003756  "
      ]
     },
     "execution_count": 15,
     "metadata": {},
     "output_type": "execute_result"
    }
   ],
   "source": [
    "df_merge.sort_values('percent_incidents', ascending=False).head(10)"
   ]
  },
  {
   "cell_type": "code",
   "execution_count": 16,
   "id": "e8324880",
   "metadata": {},
   "outputs": [],
   "source": [
    "df_merge.to_csv('../data/processed/pipeline-incidents-normalized-by-mileage.csv', index=False)"
   ]
  }
 ],
 "metadata": {
  "kernelspec": {
   "display_name": "Python 3 (ipykernel)",
   "language": "python",
   "name": "python3"
  },
  "language_info": {
   "codemirror_mode": {
    "name": "ipython",
    "version": 3
   },
   "file_extension": ".py",
   "mimetype": "text/x-python",
   "name": "python",
   "nbconvert_exporter": "python",
   "pygments_lexer": "ipython3",
   "version": "3.9.7"
  }
 },
 "nbformat": 4,
 "nbformat_minor": 5
}
