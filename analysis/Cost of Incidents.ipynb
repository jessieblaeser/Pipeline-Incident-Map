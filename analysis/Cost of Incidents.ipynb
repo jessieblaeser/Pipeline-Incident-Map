{
 "cells": [
  {
   "cell_type": "markdown",
   "id": "1d281519",
   "metadata": {},
   "source": [
    "# Looking for trends over time in pipeline incidents"
   ]
  },
  {
   "cell_type": "code",
   "execution_count": 1,
   "id": "ad5b2769",
   "metadata": {},
   "outputs": [
    {
     "name": "stderr",
     "output_type": "stream",
     "text": [
      "/Users/jessieblaeser/.pyenv/versions/3.10.0/lib/python3.10/site-packages/pandas/compat/__init__.py:124: UserWarning: Could not import the lzma module. Your installed Python is incomplete. Attempting to use lzma compression will result in a RuntimeError.\n",
      "  warnings.warn(msg)\n"
     ]
    }
   ],
   "source": [
    "import pandas as pd\n",
    "import numpy as np\n",
    "import os"
   ]
  },
  {
   "cell_type": "code",
   "execution_count": 2,
   "id": "a145ed2d",
   "metadata": {},
   "outputs": [],
   "source": [
    "#NOTE: df = gas distribution\n",
    "df = pd.read_csv('../data/processed/gd2010toPresent_significant.csv')"
   ]
  },
  {
   "cell_type": "markdown",
   "id": "58b9ed6a",
   "metadata": {},
   "source": [
    "### Areas we are interested in and their corresponding columns: \n",
    "* estimated total cost of incident: \"total_cost\"\n",
    "    * adjusted for previous calendar year inflation rate: \"TOTAL_COST_CURRENT\"\n",
    "* injuries\n",
    "    * were there injuries? Y/N: \"INJURY_IND\"\n",
    "    * total injuries: \"injure\"\n",
    "    * number of general public evacuated: \"NUM_PUB_EVACUATED\"\n",
    "* deaths \n",
    "    * were there fatalities? Y/N: \"FATALITY_IND\"\n",
    "    * total deaths: \"fatal\"\n",
    "* cause of incident: \"cause\" or \"cause_details\"\n",
    "    * \"narrative\"\n",
    "* estimated volume of gas released unintentionally: \"unintentional_release\" \n",
    "* year of item installation: \"installation_year\"\n"
   ]
  },
  {
   "cell_type": "markdown",
   "id": "521842e4",
   "metadata": {},
   "source": [
    "## Cost"
   ]
  },
  {
   "cell_type": "code",
   "execution_count": 3,
   "id": "fae1cebe",
   "metadata": {},
   "outputs": [
    {
     "data": {
      "text/plain": [
       "2112339872"
      ]
     },
     "execution_count": 3,
     "metadata": {},
     "output_type": "execute_result"
    }
   ],
   "source": [
    "# Sum of total costs in the last 12 years\n",
    "df.total_cost.sum()"
   ]
  },
  {
   "cell_type": "code",
   "execution_count": 4,
   "id": "fb3a5078",
   "metadata": {},
   "outputs": [
    {
     "data": {
      "text/plain": [
       "2257199320.738454"
      ]
     },
     "execution_count": 4,
     "metadata": {},
     "output_type": "execute_result"
    }
   ],
   "source": [
    "# Sum of total costs in that time when adjusting for inflation\n",
    "df.total_cost_current.sum()"
   ]
  },
  {
   "cell_type": "code",
   "execution_count": 5,
   "id": "ba00ecbd",
   "metadata": {},
   "outputs": [
    {
     "data": {
      "text/plain": [
       "report_number\n",
       "20180092    1.684597e+09\n",
       "20170111    5.209804e+07\n",
       "20190049    3.646607e+07\n",
       "20130031    2.268757e+07\n",
       "20180073    2.177038e+07\n",
       "                ...     \n",
       "20160043    0.000000e+00\n",
       "20110368    0.000000e+00\n",
       "20170024    0.000000e+00\n",
       "20130097    0.000000e+00\n",
       "20110152    0.000000e+00\n",
       "Name: total_cost_current, Length: 780, dtype: float64"
      ]
     },
     "execution_count": 5,
     "metadata": {},
     "output_type": "execute_result"
    }
   ],
   "source": [
    "# Most expensive incident\n",
    "df.total_cost_current.sort_values(ascending=False)\n",
    "df.groupby(by='report_number').total_cost_current.max().sort_values(ascending=False)"
   ]
  },
  {
   "cell_type": "code",
   "execution_count": 6,
   "id": "2e488950",
   "metadata": {},
   "outputs": [
    {
     "data": {
      "text/plain": [
       "535    PIPELINE OR EQUIPMENT OVERPRESSURED\n",
       "Name: cause_details, dtype: object"
      ]
     },
     "execution_count": 6,
     "metadata": {},
     "output_type": "execute_result"
    }
   ],
   "source": [
    "df[df['report_number'] == 20180092].cause_details\n",
    "# Columbia Gas of Massachusetts\n",
    "# 1 person died\n",
    "# 25 injured\n",
    "# cause: incorrect operation --> pipeline or equipment overpressured"
   ]
  },
  {
   "cell_type": "markdown",
   "id": "24f83ebd",
   "metadata": {},
   "source": [
    "## Comparing average cost of each type of incident\n",
    "I'm wondering if a certain type of pipeline yields a greater cost. Here, I'll compare mean/median of each type of pipeline incident to see if one stands out. "
   ]
  },
  {
   "cell_type": "code",
   "execution_count": 7,
   "id": "cf7f0158",
   "metadata": {},
   "outputs": [
    {
     "name": "stderr",
     "output_type": "stream",
     "text": [
      "/Users/jessieblaeser/.pyenv/versions/3.10.0/lib/python3.10/site-packages/IPython/core/interactiveshell.py:3444: DtypeWarning: Columns (18,19,51,57,58,59,61,64,66,67,68,71,72,73,74,75,76,77,78,79,80,81,82,83,100,101,118,125,135,150,166,170,202,203,204,241,242,243,244,256,285,345,359,360,370,386,387,388,410,411,456,459,460,461,468,492,493,528,529,531,534,535,537,560,561,563,565,566,568,591,592,614,615,616,628,654,664,665,666) have mixed types.Specify dtype option on import or set low_memory=False.\n",
      "  exec(code_obj, self.user_global_ns, self.user_ns)\n"
     ]
    }
   ],
   "source": [
    "# Reading in other data\n",
    "\n",
    "#df2 = gas transmission and gathering\n",
    "df2 = pd.read_csv('../data/processed/gtggungs2010toPresent_significant.csv')\n",
    "\n",
    "#df3 = liquid natural gas\n",
    "df3 = pd.read_csv('../data/processed/hl2010toPresent_significant.csv')"
   ]
  },
  {
   "cell_type": "code",
   "execution_count": 8,
   "id": "a3d9c914",
   "metadata": {},
   "outputs": [
    {
     "data": {
      "text/plain": [
       "count    7.800000e+02\n",
       "mean     2.893845e+06\n",
       "std      6.036700e+07\n",
       "min      0.000000e+00\n",
       "25%      1.059325e+05\n",
       "50%      2.020946e+05\n",
       "75%      4.418319e+05\n",
       "max      1.684597e+09\n",
       "Name: total_cost_current, dtype: float64"
      ]
     },
     "execution_count": 8,
     "metadata": {},
     "output_type": "execute_result"
    }
   ],
   "source": [
    "# Gas distribution\n",
    "df['total_cost_current'].describe()\n",
    "# df['total_cost_current'].median()\n",
    "# df['total_cost_current']\n",
    "# df.total_cost_current.hist(bins=20)\n",
    "#df['total_cost_current'].hist()\n",
    "\n"
   ]
  },
  {
   "cell_type": "code",
   "execution_count": 9,
   "id": "ea7f9d95",
   "metadata": {},
   "outputs": [
    {
     "data": {
      "text/plain": [
       "<AxesSubplot:>"
      ]
     },
     "execution_count": 9,
     "metadata": {},
     "output_type": "execute_result"
    },
    {
     "data": {
      "image/png": "[encoded data removed]",
      "text/plain": [
       "<Figure size 432x288 with 1 Axes>"
      ]
     },
     "metadata": {
      "needs_background": "light"
     },
     "output_type": "display_data"
    }
   ],
   "source": [
    "# Gas transmission and gathering\n",
    "df2['total_cost_current'].describe()\n",
    "#df2['total_cost_current'].median()\n",
    "df2['total_cost_current'].hist()\n"
   ]
  },
  {
   "cell_type": "code",
   "execution_count": 18,
   "id": "95ed82bc",
   "metadata": {},
   "outputs": [
    {
     "data": {
      "text/plain": [
       "<AxesSubplot:>"
      ]
     },
     "execution_count": 18,
     "metadata": {},
     "output_type": "execute_result"
    },
    {
     "data": {
      "image/png": "[encoded data removed]",
      "text/plain": [
       "<Figure size 432x288 with 1 Axes>"
      ]
     },
     "metadata": {
      "needs_background": "light"
     },
     "output_type": "display_data"
    }
   ],
   "source": [
    "# Hazardous Liquid \n",
    "df3['total_cost_current'].describe()\n",
    "#df3['total_cost_current'].median()\n",
    "df3['total_cost_current'].hist()\n"
   ]
  },
  {
   "cell_type": "markdown",
   "id": "352ff6fb",
   "metadata": {},
   "source": [
    "## Looking at cost comparisons by cause"
   ]
  },
  {
   "cell_type": "code",
   "execution_count": 19,
   "id": "0a1b743f",
   "metadata": {},
   "outputs": [
    {
     "name": "stderr",
     "output_type": "stream",
     "text": [
      "/Users/jessieblaeser/.pyenv/versions/3.10.0/lib/python3.10/site-packages/IPython/core/interactiveshell.py:3444: DtypeWarning: Columns (1,15,16,18,19,20,21,22,25,26,27,28,30,31,32,33,36,56,57,58,63,64,65,72,73,75,76,77,78,87,89,92,93,94,95,101,102,103,104,105,106,108,109,120,148,149,151,152,154,171,172,173,174,193,194,197,198,205,214,217,218,219,225,233,234,238,239,240,251,252,256,257,265,266,268,269,276,277,278,279,280,281,290,293,294,295,296,297,300,301,303,304,305,306,307,310,311,313,314,315,316,317,318,319,320,321,322,324,325,326,327,329,330,331,332,333,334,335,336,341,342,343,344,345,347,348,351,354,355,357,359,363,366,367,368,369,371,372,373,374,375,376,377,378,379,380,385,386,387,393,400,401,407,421,422,423,427,428,429,430,432,434,435,436,439,440,441,443,446,447,449,451,452,454,455,456,457,460,462,463,464,465,466,472,473,474,480,482,488,489,490,491,492,493,503,510,512,516,517,518,522,526,529,530,532,533,535,537,539,540,543,545,546,547,548,549,550,552,557,558,559,561,562,566,567,568,569,570,576,583,587,591,596,605,611,613,614,615,624,625,626,627,628,630,631,632,635,636,640,646,647,649,652,653,655,658,659,662,663,666,667,669,678,679,681,683,684,686,688,690,697,711,713,714,716,717,724,731,732,736,737,738,739,740,741,742,749,751,752,753,754,755,760,761,762,768,770,772,773,774,775,776,777,778,779,780,781,782,783,784,785,786,787,789,790,791,792,793,794,795,796,797,798,799,800,804,805,806,807,808,809,810,811,814,815,817,818,819,820,821,822,825) have mixed types.Specify dtype option on import or set low_memory=False.\n",
      "  exec(code_obj, self.user_global_ns, self.user_ns)\n"
     ]
    }
   ],
   "source": [
    "# Here we are reading in our csv that has all of the 3 types of incidents in one\n",
    "df4 = pd.read_csv('../data/processed/pipeline_incidents_2010_to_present.csv')"
   ]
  },
  {
   "cell_type": "code",
   "execution_count": 20,
   "id": "2303cc07",
   "metadata": {},
   "outputs": [
    {
     "data": {
      "text/plain": [
       "EQUIPMENT FAILURE                   807\n",
       "CORROSION FAILURE                   730\n",
       "EXCAVATION DAMAGE                   506\n",
       "MATERIAL FAILURE OF PIPE OR WELD    417\n",
       "INCORRECT OPERATION                 359\n",
       "OTHER OUTSIDE FORCE DAMAGE          326\n",
       "NATURAL FORCE DAMAGE                232\n",
       "OTHER INCIDENT CAUSE                160\n",
       "Name: cause, dtype: int64"
      ]
     },
     "execution_count": 20,
     "metadata": {},
     "output_type": "execute_result"
    }
   ],
   "source": [
    "# Here are our causes\n",
    "df4['cause'].value_counts()"
   ]
  },
  {
   "cell_type": "code",
   "execution_count": 21,
   "id": "0a41e23f",
   "metadata": {},
   "outputs": [
    {
     "data": {
      "text/html": [
       "<div>\n",
       "<style scoped>\n",
       "    .dataframe tbody tr th:only-of-type {\n",
       "        vertical-align: middle;\n",
       "    }\n",
       "\n",
       "    .dataframe tbody tr th {\n",
       "        vertical-align: top;\n",
       "    }\n",
       "\n",
       "    .dataframe thead th {\n",
       "        text-align: right;\n",
       "    }\n",
       "</style>\n",
       "<table border=\"1\" class=\"dataframe\">\n",
       "  <thead>\n",
       "    <tr style=\"text-align: right;\">\n",
       "      <th></th>\n",
       "      <th>total_cost_current</th>\n",
       "    </tr>\n",
       "    <tr>\n",
       "      <th>cause</th>\n",
       "      <th></th>\n",
       "    </tr>\n",
       "  </thead>\n",
       "  <tbody>\n",
       "    <tr>\n",
       "      <th>CORROSION FAILURE</th>\n",
       "      <td>1.220531e+06</td>\n",
       "    </tr>\n",
       "    <tr>\n",
       "      <th>EQUIPMENT FAILURE</th>\n",
       "      <td>4.891568e+05</td>\n",
       "    </tr>\n",
       "    <tr>\n",
       "      <th>EXCAVATION DAMAGE</th>\n",
       "      <td>1.063643e+06</td>\n",
       "    </tr>\n",
       "    <tr>\n",
       "      <th>INCORRECT OPERATION</th>\n",
       "      <td>5.659143e+06</td>\n",
       "    </tr>\n",
       "    <tr>\n",
       "      <th>MATERIAL FAILURE OF PIPE OR WELD</th>\n",
       "      <td>5.763919e+06</td>\n",
       "    </tr>\n",
       "    <tr>\n",
       "      <th>NATURAL FORCE DAMAGE</th>\n",
       "      <td>2.607557e+06</td>\n",
       "    </tr>\n",
       "    <tr>\n",
       "      <th>OTHER INCIDENT CAUSE</th>\n",
       "      <td>1.580400e+06</td>\n",
       "    </tr>\n",
       "    <tr>\n",
       "      <th>OTHER OUTSIDE FORCE DAMAGE</th>\n",
       "      <td>1.215923e+06</td>\n",
       "    </tr>\n",
       "  </tbody>\n",
       "</table>\n",
       "</div>"
      ],
      "text/plain": [
       "                                  total_cost_current\n",
       "cause                                               \n",
       "CORROSION FAILURE                       1.220531e+06\n",
       "EQUIPMENT FAILURE                       4.891568e+05\n",
       "EXCAVATION DAMAGE                       1.063643e+06\n",
       "INCORRECT OPERATION                     5.659143e+06\n",
       "MATERIAL FAILURE OF PIPE OR WELD        5.763919e+06\n",
       "NATURAL FORCE DAMAGE                    2.607557e+06\n",
       "OTHER INCIDENT CAUSE                    1.580400e+06\n",
       "OTHER OUTSIDE FORCE DAMAGE              1.215923e+06"
      ]
     },
     "execution_count": 21,
     "metadata": {},
     "output_type": "execute_result"
    }
   ],
   "source": [
    "df4.groupby(by='cause').total_cost_current.mean()\n",
    "mean_cost = df4.groupby(by='cause').total_cost_current.mean().to_frame()\n",
    "mean_cost"
   ]
  },
  {
   "cell_type": "code",
   "execution_count": 22,
   "id": "658e28e9",
   "metadata": {},
   "outputs": [
    {
     "data": {
      "text/plain": [
       "<AxesSubplot:ylabel='cause'>"
      ]
     },
     "execution_count": 22,
     "metadata": {},
     "output_type": "execute_result"
    },
    {
     "data": {
      "image/png": "[encoded data removed]",
      "text/plain": [
       "<Figure size 432x288 with 1 Axes>"
      ]
     },
     "metadata": {
      "needs_background": "light"
     },
     "output_type": "display_data"
    }
   ],
   "source": [
    "mean_cost['total_cost_current'].plot(kind='barh')"
   ]
  },
  {
   "cell_type": "code",
   "execution_count": 23,
   "id": "6e62f71d",
   "metadata": {},
   "outputs": [
    {
     "data": {
      "text/html": [
       "<div>\n",
       "<style scoped>\n",
       "    .dataframe tbody tr th:only-of-type {\n",
       "        vertical-align: middle;\n",
       "    }\n",
       "\n",
       "    .dataframe tbody tr th {\n",
       "        vertical-align: top;\n",
       "    }\n",
       "\n",
       "    .dataframe thead th {\n",
       "        text-align: right;\n",
       "    }\n",
       "</style>\n",
       "<table border=\"1\" class=\"dataframe\">\n",
       "  <thead>\n",
       "    <tr style=\"text-align: right;\">\n",
       "      <th></th>\n",
       "      <th>total_cost_current</th>\n",
       "    </tr>\n",
       "    <tr>\n",
       "      <th>cause</th>\n",
       "      <th></th>\n",
       "    </tr>\n",
       "  </thead>\n",
       "  <tbody>\n",
       "    <tr>\n",
       "      <th>CORROSION FAILURE</th>\n",
       "      <td>312025.93810</td>\n",
       "    </tr>\n",
       "    <tr>\n",
       "      <th>EQUIPMENT FAILURE</th>\n",
       "      <td>145571.77150</td>\n",
       "    </tr>\n",
       "    <tr>\n",
       "      <th>EXCAVATION DAMAGE</th>\n",
       "      <td>238756.33845</td>\n",
       "    </tr>\n",
       "    <tr>\n",
       "      <th>INCORRECT OPERATION</th>\n",
       "      <td>122079.23560</td>\n",
       "    </tr>\n",
       "    <tr>\n",
       "      <th>MATERIAL FAILURE OF PIPE OR WELD</th>\n",
       "      <td>332218.42230</td>\n",
       "    </tr>\n",
       "    <tr>\n",
       "      <th>NATURAL FORCE DAMAGE</th>\n",
       "      <td>304208.32730</td>\n",
       "    </tr>\n",
       "    <tr>\n",
       "      <th>OTHER INCIDENT CAUSE</th>\n",
       "      <td>284734.09570</td>\n",
       "    </tr>\n",
       "    <tr>\n",
       "      <th>OTHER OUTSIDE FORCE DAMAGE</th>\n",
       "      <td>233220.60065</td>\n",
       "    </tr>\n",
       "  </tbody>\n",
       "</table>\n",
       "</div>"
      ],
      "text/plain": [
       "                                  total_cost_current\n",
       "cause                                               \n",
       "CORROSION FAILURE                       312025.93810\n",
       "EQUIPMENT FAILURE                       145571.77150\n",
       "EXCAVATION DAMAGE                       238756.33845\n",
       "INCORRECT OPERATION                     122079.23560\n",
       "MATERIAL FAILURE OF PIPE OR WELD        332218.42230\n",
       "NATURAL FORCE DAMAGE                    304208.32730\n",
       "OTHER INCIDENT CAUSE                    284734.09570\n",
       "OTHER OUTSIDE FORCE DAMAGE              233220.60065"
      ]
     },
     "execution_count": 23,
     "metadata": {},
     "output_type": "execute_result"
    }
   ],
   "source": [
    "med_cost = df4.groupby(by='cause').total_cost_current.median().to_frame()\n",
    "med_cost"
   ]
  },
  {
   "cell_type": "code",
   "execution_count": 24,
   "id": "b5ab9e47",
   "metadata": {},
   "outputs": [
    {
     "data": {
      "text/plain": [
       "<AxesSubplot:ylabel='cause'>"
      ]
     },
     "execution_count": 24,
     "metadata": {},
     "output_type": "execute_result"
    },
    {
     "data": {
      "image/png": "[encoded data removed]",
      "text/plain": [
       "<Figure size 432x288 with 1 Axes>"
      ]
     },
     "metadata": {
      "needs_background": "light"
     },
     "output_type": "display_data"
    }
   ],
   "source": [
    "med_cost['total_cost_current'].plot(kind='barh')"
   ]
  },
  {
   "cell_type": "code",
   "execution_count": 25,
   "id": "fd0d230a",
   "metadata": {},
   "outputs": [
    {
     "data": {
      "text/plain": [
       "count    8.070000e+02\n",
       "mean     4.891568e+05\n",
       "std      2.229337e+06\n",
       "min      0.000000e+00\n",
       "25%      4.377090e+04\n",
       "50%      1.455718e+05\n",
       "75%      3.332623e+05\n",
       "max      4.263877e+07\n",
       "Name: total_cost_current, dtype: float64"
      ]
     },
     "execution_count": 25,
     "metadata": {},
     "output_type": "execute_result"
    }
   ],
   "source": [
    "df4[df4['cause'] == 'EQUIPMENT FAILURE'].total_cost_current.describe()"
   ]
  },
  {
   "cell_type": "code",
   "execution_count": 26,
   "id": "85019339",
   "metadata": {},
   "outputs": [
    {
     "data": {
      "text/plain": [
       "count    7.300000e+02\n",
       "mean     1.220531e+06\n",
       "std      6.880339e+06\n",
       "min      0.000000e+00\n",
       "25%      1.660594e+05\n",
       "50%      3.120259e+05\n",
       "75%      6.839286e+05\n",
       "max      1.593241e+08\n",
       "Name: total_cost_current, dtype: float64"
      ]
     },
     "execution_count": 26,
     "metadata": {},
     "output_type": "execute_result"
    }
   ],
   "source": [
    "df4[df4['cause'] == 'CORROSION FAILURE'].total_cost_current.describe()"
   ]
  },
  {
   "cell_type": "code",
   "execution_count": 27,
   "id": "65abf983",
   "metadata": {},
   "outputs": [
    {
     "data": {
      "text/plain": [
       "EQUIPMENT FAILURE                   807\n",
       "CORROSION FAILURE                   730\n",
       "EXCAVATION DAMAGE                   506\n",
       "MATERIAL FAILURE OF PIPE OR WELD    417\n",
       "INCORRECT OPERATION                 359\n",
       "OTHER OUTSIDE FORCE DAMAGE          326\n",
       "NATURAL FORCE DAMAGE                232\n",
       "OTHER INCIDENT CAUSE                160\n",
       "Name: cause, dtype: int64"
      ]
     },
     "execution_count": 27,
     "metadata": {},
     "output_type": "execute_result"
    }
   ],
   "source": [
    "# Double checking every single row has a cause, and they do!\n",
    "df4.cause.value_counts()"
   ]
  },
  {
   "cell_type": "code",
   "execution_count": 28,
   "id": "564afd60",
   "metadata": {},
   "outputs": [
    {
     "data": {
      "text/plain": [
       "count    4.170000e+02\n",
       "mean     5.763919e+06\n",
       "std      6.039462e+07\n",
       "min      0.000000e+00\n",
       "25%      1.708046e+05\n",
       "50%      3.322184e+05\n",
       "75%      7.552175e+05\n",
       "max      1.023097e+09\n",
       "Name: total_cost_current, dtype: float64"
      ]
     },
     "execution_count": 28,
     "metadata": {},
     "output_type": "execute_result"
    }
   ],
   "source": [
    "df4[df4['cause'] == 'MATERIAL FAILURE OF PIPE OR WELD'].total_cost_current.describe()"
   ]
  },
  {
   "cell_type": "code",
   "execution_count": 29,
   "id": "7f75ffd7",
   "metadata": {},
   "outputs": [
    {
     "data": {
      "text/plain": [
       "535     1.684597e+09\n",
       "1783    1.023097e+09\n",
       "832     6.794712e+08\n",
       "1903    1.611086e+08\n",
       "2498    1.593241e+08\n",
       "            ...     \n",
       "795     0.000000e+00\n",
       "200     0.000000e+00\n",
       "2209    0.000000e+00\n",
       "1702    0.000000e+00\n",
       "2340    0.000000e+00\n",
       "Name: total_cost_current, Length: 3537, dtype: float64"
      ]
     },
     "execution_count": 29,
     "metadata": {},
     "output_type": "execute_result"
    }
   ],
   "source": [
    "#most expensive incident of all of the dataset \n",
    "df4['total_cost_current'].sort_values(ascending=False)\n",
    "# Five most expensive incidents and their index number: \n",
    "    # 535     1.684597e+09\n",
    "    # 1783    1.023097e+09\n",
    "    # 832     6.794712e+08\n",
    "    # 1903    1.611086e+08\n",
    "    # 2498    1.593241e+08"
   ]
  },
  {
   "cell_type": "code",
   "execution_count": 30,
   "id": "155b3ff7",
   "metadata": {},
   "outputs": [
    {
     "data": {
      "text/plain": [
       "CONSTRUCTION-, INSTALLATION-, OR FABRICATION-RELATED                                  119\n",
       "ORIGINAL MANUFACTURING-RELATED (NOT GIRTH WELD OR OTHER WELDS FORMED IN THE FIELD)    100\n",
       "DESIGN-, CONSTRUCTION-, INSTALLATION-, OR FABRICATION-RELATED                          79\n",
       "ENVIRONMENTAL CRACKING-RELATED                                                         52\n",
       "MECHANICAL JOINT FAILURE                                                               20\n",
       "BODY OF PIPE                                                                           17\n",
       "FUSION JOINT                                                                           16\n",
       "OTHER PIPE, WELD, OR JOINT FAILURE                                                     11\n",
       "BUTT WELD                                                                               3\n",
       "Name: cause_details, dtype: int64"
      ]
     },
     "execution_count": 30,
     "metadata": {},
     "output_type": "execute_result"
    }
   ],
   "source": [
    "df4[df4['cause'] == 'MATERIAL FAILURE OF PIPE OR WELD'].cause_details.value_counts()"
   ]
  },
  {
   "cell_type": "code",
   "execution_count": 31,
   "id": "47cead42",
   "metadata": {},
   "outputs": [
    {
     "data": {
      "text/plain": [
       "HEAVY RAINS/FLOODS                               57\n",
       "TEMPERATURE                                      54\n",
       "LIGHTNING                                        44\n",
       "EARTH MOVEMENT, NOT DUE TO HEAVY RAINS/FLOODS    38\n",
       "OTHER NATURAL FORCE DAMAGE                       30\n",
       "HIGH WINDS                                        8\n",
       "SNOW/ICE IMPACT OR ACCUMULATION                   1\n",
       "Name: cause_details, dtype: int64"
      ]
     },
     "execution_count": 31,
     "metadata": {},
     "output_type": "execute_result"
    }
   ],
   "source": [
    "df4[df4['cause'] == 'NATURAL FORCE DAMAGE'].cause_details.value_counts()"
   ]
  },
  {
   "cell_type": "code",
   "execution_count": 32,
   "id": "6e365b57",
   "metadata": {},
   "outputs": [],
   "source": [
    "env = df4[df4['cause'] == 'NATURAL FORCE DAMAGE']"
   ]
  },
  {
   "cell_type": "code",
   "execution_count": 33,
   "id": "4eb70add",
   "metadata": {},
   "outputs": [
    {
     "data": {
      "text/html": [
       "<div>\n",
       "<style scoped>\n",
       "    .dataframe tbody tr th:only-of-type {\n",
       "        vertical-align: middle;\n",
       "    }\n",
       "\n",
       "    .dataframe tbody tr th {\n",
       "        vertical-align: top;\n",
       "    }\n",
       "\n",
       "    .dataframe thead th {\n",
       "        text-align: right;\n",
       "    }\n",
       "</style>\n",
       "<table border=\"1\" class=\"dataframe\">\n",
       "  <thead>\n",
       "    <tr style=\"text-align: right;\">\n",
       "      <th></th>\n",
       "      <th>total_cost_current</th>\n",
       "    </tr>\n",
       "    <tr>\n",
       "      <th>cause_details</th>\n",
       "      <th></th>\n",
       "    </tr>\n",
       "  </thead>\n",
       "  <tbody>\n",
       "    <tr>\n",
       "      <th>EARTH MOVEMENT, NOT DUE TO HEAVY RAINS/FLOODS</th>\n",
       "      <td>7.374482e+05</td>\n",
       "    </tr>\n",
       "    <tr>\n",
       "      <th>HEAVY RAINS/FLOODS</th>\n",
       "      <td>1.141484e+06</td>\n",
       "    </tr>\n",
       "    <tr>\n",
       "      <th>HIGH WINDS</th>\n",
       "      <td>1.725798e+05</td>\n",
       "    </tr>\n",
       "    <tr>\n",
       "      <th>LIGHTNING</th>\n",
       "      <td>1.567736e+05</td>\n",
       "    </tr>\n",
       "    <tr>\n",
       "      <th>OTHER NATURAL FORCE DAMAGE</th>\n",
       "      <td>3.487548e+05</td>\n",
       "    </tr>\n",
       "    <tr>\n",
       "      <th>SNOW/ICE IMPACT OR ACCUMULATION</th>\n",
       "      <td>5.124214e+05</td>\n",
       "    </tr>\n",
       "    <tr>\n",
       "      <th>TEMPERATURE</th>\n",
       "      <td>2.054556e+05</td>\n",
       "    </tr>\n",
       "  </tbody>\n",
       "</table>\n",
       "</div>"
      ],
      "text/plain": [
       "                                               total_cost_current\n",
       "cause_details                                                    \n",
       "EARTH MOVEMENT, NOT DUE TO HEAVY RAINS/FLOODS        7.374482e+05\n",
       "HEAVY RAINS/FLOODS                                   1.141484e+06\n",
       "HIGH WINDS                                           1.725798e+05\n",
       "LIGHTNING                                            1.567736e+05\n",
       "OTHER NATURAL FORCE DAMAGE                           3.487548e+05\n",
       "SNOW/ICE IMPACT OR ACCUMULATION                      5.124214e+05\n",
       "TEMPERATURE                                          2.054556e+05"
      ]
     },
     "execution_count": 33,
     "metadata": {},
     "output_type": "execute_result"
    }
   ],
   "source": [
    "med_cost2 = env.groupby(by='cause_details').total_cost_current.median().to_frame()\n",
    "med_cost2"
   ]
  },
  {
   "cell_type": "code",
   "execution_count": 34,
   "id": "d129cc81",
   "metadata": {},
   "outputs": [
    {
     "data": {
      "text/plain": [
       "<AxesSubplot:ylabel='cause_details'>"
      ]
     },
     "execution_count": 34,
     "metadata": {},
     "output_type": "execute_result"
    },
    {
     "data": {
      "image/png": "[encoded data removed]",
      "text/plain": [
       "<Figure size 432x288 with 1 Axes>"
      ]
     },
     "metadata": {
      "needs_background": "light"
     },
     "output_type": "display_data"
    }
   ],
   "source": [
    "med_cost2['total_cost_current'].plot(kind='barh')"
   ]
  },
  {
   "cell_type": "code",
   "execution_count": 35,
   "id": "b63cd96f",
   "metadata": {},
   "outputs": [
    {
     "data": {
      "text/html": [
       "<div>\n",
       "<style scoped>\n",
       "    .dataframe tbody tr th:only-of-type {\n",
       "        vertical-align: middle;\n",
       "    }\n",
       "\n",
       "    .dataframe tbody tr th {\n",
       "        vertical-align: top;\n",
       "    }\n",
       "\n",
       "    .dataframe thead th {\n",
       "        text-align: right;\n",
       "    }\n",
       "</style>\n",
       "<table border=\"1\" class=\"dataframe\">\n",
       "  <thead>\n",
       "    <tr style=\"text-align: right;\">\n",
       "      <th></th>\n",
       "      <th>total_cost_current</th>\n",
       "    </tr>\n",
       "    <tr>\n",
       "      <th>cause_details</th>\n",
       "      <th></th>\n",
       "    </tr>\n",
       "  </thead>\n",
       "  <tbody>\n",
       "    <tr>\n",
       "      <th>BODY OF PIPE</th>\n",
       "      <td>3.451391e+05</td>\n",
       "    </tr>\n",
       "    <tr>\n",
       "      <th>BUTT WELD</th>\n",
       "      <td>5.283555e+05</td>\n",
       "    </tr>\n",
       "    <tr>\n",
       "      <th>COMPRESSOR OR COMPRESSOR-RELATED EQUIPMENT</th>\n",
       "      <td>2.193639e+05</td>\n",
       "    </tr>\n",
       "    <tr>\n",
       "      <th>CONSTRUCTION-, INSTALLATION-, OR FABRICATION-RELATED</th>\n",
       "      <td>2.728493e+05</td>\n",
       "    </tr>\n",
       "    <tr>\n",
       "      <th>DAMAGE BY BOATS, BARGES, DRILLING RIGS, OR OTHER MARITIME EQUIPMENT OR VESSELS SET ADRIFT OR WHICH HAVE OTHERWISE LOST THEIR MOORING</th>\n",
       "      <td>5.232231e+05</td>\n",
       "    </tr>\n",
       "    <tr>\n",
       "      <th>DAMAGE BY CAR, TRUCK, OR OTHER MOTORIZED VEHICLE/EQUIPMENT NOT ENGAGED IN EXCAVATION</th>\n",
       "      <td>1.515764e+05</td>\n",
       "    </tr>\n",
       "    <tr>\n",
       "      <th>DAMAGE BY OPERATOR OR OPERATOR'S CONTRACTOR NOT RELATED TO EXCAVATION AND NOT DUE TO MOTORIZED VEHICLE/EQUIPMENT DAMAGE</th>\n",
       "      <td>1.872913e+05</td>\n",
       "    </tr>\n",
       "    <tr>\n",
       "      <th>DEFECTIVE OR LOOSE TUBING OR FITTING</th>\n",
       "      <td>8.756600e+04</td>\n",
       "    </tr>\n",
       "    <tr>\n",
       "      <th>DESIGN-, CONSTRUCTION-, INSTALLATION-, OR FABRICATION-RELATED</th>\n",
       "      <td>2.802316e+05</td>\n",
       "    </tr>\n",
       "    <tr>\n",
       "      <th>EARTH MOVEMENT, NOT DUE TO HEAVY RAINS/FLOODS</th>\n",
       "      <td>7.374482e+05</td>\n",
       "    </tr>\n",
       "    <tr>\n",
       "      <th>ELECTRICAL ARCING FROM OTHER EQUIPMENT OR FACILITY</th>\n",
       "      <td>3.481090e+05</td>\n",
       "    </tr>\n",
       "    <tr>\n",
       "      <th>ENVIRONMENTAL CRACKING-RELATED</th>\n",
       "      <td>9.341249e+05</td>\n",
       "    </tr>\n",
       "    <tr>\n",
       "      <th>EQUIPMENT NOT INSTALLED PROPERLY</th>\n",
       "      <td>1.722915e+05</td>\n",
       "    </tr>\n",
       "    <tr>\n",
       "      <th>EXCAVATION DAMAGE BY OPERATOR (FIRST PARTY)</th>\n",
       "      <td>1.518710e+05</td>\n",
       "    </tr>\n",
       "    <tr>\n",
       "      <th>EXCAVATION DAMAGE BY OPERATOR'S CONTRACTOR (SECOND PARTY)</th>\n",
       "      <td>2.045372e+05</td>\n",
       "    </tr>\n",
       "    <tr>\n",
       "      <th>EXCAVATION DAMAGE BY THIRD PARTY</th>\n",
       "      <td>2.461179e+05</td>\n",
       "    </tr>\n",
       "    <tr>\n",
       "      <th>EXTERNAL CORROSION</th>\n",
       "      <td>3.272486e+05</td>\n",
       "    </tr>\n",
       "    <tr>\n",
       "      <th>FAILURE OF EQUIPMENT BODY (EXCEPT COMPRESSOR), VESSEL PLATE, OR OTHER MATERIAL</th>\n",
       "      <td>4.501920e+05</td>\n",
       "    </tr>\n",
       "    <tr>\n",
       "      <th>FAILURE OF EQUIPMENT BODY (EXCEPT PUMP), TANK PLATE, OR OTHER MATERIAL</th>\n",
       "      <td>2.169939e+05</td>\n",
       "    </tr>\n",
       "    <tr>\n",
       "      <th>FUSION JOINT</th>\n",
       "      <td>2.221491e+05</td>\n",
       "    </tr>\n",
       "    <tr>\n",
       "      <th>HEAVY RAINS/FLOODS</th>\n",
       "      <td>1.141484e+06</td>\n",
       "    </tr>\n",
       "    <tr>\n",
       "      <th>HIGH WINDS</th>\n",
       "      <td>1.725798e+05</td>\n",
       "    </tr>\n",
       "    <tr>\n",
       "      <th>INTENTIONAL DAMAGE</th>\n",
       "      <td>2.666042e+05</td>\n",
       "    </tr>\n",
       "    <tr>\n",
       "      <th>INTERNAL CORROSION</th>\n",
       "      <td>3.043026e+05</td>\n",
       "    </tr>\n",
       "    <tr>\n",
       "      <th>LIGHTNING</th>\n",
       "      <td>1.567736e+05</td>\n",
       "    </tr>\n",
       "    <tr>\n",
       "      <th>MALFUNCTION OF CONTROL/RELIEF EQUIPMENT</th>\n",
       "      <td>9.343326e+04</td>\n",
       "    </tr>\n",
       "    <tr>\n",
       "      <th>MECHANICAL JOINT FAILURE</th>\n",
       "      <td>2.782319e+05</td>\n",
       "    </tr>\n",
       "    <tr>\n",
       "      <th>MISCELLANEOUS</th>\n",
       "      <td>1.761316e+05</td>\n",
       "    </tr>\n",
       "    <tr>\n",
       "      <th>NEARBY INDUSTRIAL, MAN-MADE, OR OTHER FIRE/EXPLOSION AS PRIMARY CAUSE OF INCIDENT</th>\n",
       "      <td>8.619231e+05</td>\n",
       "    </tr>\n",
       "    <tr>\n",
       "      <th>NON-THREADED CONNECTION FAILURE</th>\n",
       "      <td>1.662156e+05</td>\n",
       "    </tr>\n",
       "    <tr>\n",
       "      <th>ORIGINAL MANUFACTURING-RELATED (NOT GIRTH WELD OR OTHER WELDS FORMED IN THE FIELD)</th>\n",
       "      <td>4.521230e+05</td>\n",
       "    </tr>\n",
       "    <tr>\n",
       "      <th>OTHER EQUIPMENT FAILURE</th>\n",
       "      <td>1.825607e+05</td>\n",
       "    </tr>\n",
       "    <tr>\n",
       "      <th>OTHER INCORRECT OPERATION</th>\n",
       "      <td>5.692947e+04</td>\n",
       "    </tr>\n",
       "    <tr>\n",
       "      <th>OTHER NATURAL FORCE DAMAGE</th>\n",
       "      <td>3.487548e+05</td>\n",
       "    </tr>\n",
       "    <tr>\n",
       "      <th>OTHER OUTSIDE FORCE DAMAGE</th>\n",
       "      <td>2.867340e+05</td>\n",
       "    </tr>\n",
       "    <tr>\n",
       "      <th>OTHER PIPE, WELD, OR JOINT FAILURE</th>\n",
       "      <td>1.601667e+05</td>\n",
       "    </tr>\n",
       "    <tr>\n",
       "      <th>PIPELINE OR EQUIPMENT OVERPRESSURED</th>\n",
       "      <td>1.904116e+05</td>\n",
       "    </tr>\n",
       "    <tr>\n",
       "      <th>PREVIOUS DAMAGE DUE TO EXCAVATION ACTIVITY</th>\n",
       "      <td>2.274380e+05</td>\n",
       "    </tr>\n",
       "    <tr>\n",
       "      <th>PREVIOUS MECHANICAL DAMAGE NOT RELATED TO EXCAVATION</th>\n",
       "      <td>6.411269e+05</td>\n",
       "    </tr>\n",
       "    <tr>\n",
       "      <th>PUMP OR PUMP-RELATED EQUIPMENT</th>\n",
       "      <td>7.675071e+04</td>\n",
       "    </tr>\n",
       "    <tr>\n",
       "      <th>ROUTINE OR NORMAL FISHING OR OTHER MARITIME ACTIVITY NOT ENGAGED IN EXCAVATION</th>\n",
       "      <td>7.855983e+05</td>\n",
       "    </tr>\n",
       "    <tr>\n",
       "      <th>SNOW/ICE IMPACT OR ACCUMULATION</th>\n",
       "      <td>5.124214e+05</td>\n",
       "    </tr>\n",
       "    <tr>\n",
       "      <th>TANK, VESSEL, OR SUMP/SEPARATOR ALLOWED OR CAUSED TO OVERFILL OR OVERFLOW</th>\n",
       "      <td>1.220792e+05</td>\n",
       "    </tr>\n",
       "    <tr>\n",
       "      <th>TEMPERATURE</th>\n",
       "      <td>2.054556e+05</td>\n",
       "    </tr>\n",
       "    <tr>\n",
       "      <th>THREADED CONNECTION FAILURE</th>\n",
       "      <td>4.254265e+05</td>\n",
       "    </tr>\n",
       "    <tr>\n",
       "      <th>THREADED CONNECTION/COUPLING FAILURE</th>\n",
       "      <td>1.489809e+05</td>\n",
       "    </tr>\n",
       "    <tr>\n",
       "      <th>UNKNOWN</th>\n",
       "      <td>3.624995e+05</td>\n",
       "    </tr>\n",
       "    <tr>\n",
       "      <th>VALVE</th>\n",
       "      <td>3.373974e+05</td>\n",
       "    </tr>\n",
       "    <tr>\n",
       "      <th>VALVE LEFT OR PLACED IN WRONG POSITION, BUT NOT RESULTING IN A TANK, VESSEL, OR SUMP/SEPARATOR OVERFLOW OR FACILITY OVERPRESSURE</th>\n",
       "      <td>1.150039e+05</td>\n",
       "    </tr>\n",
       "    <tr>\n",
       "      <th>VALVE LEFT OR PLACED IN WRONG POSITION, BUT NOT RESULTING IN AN OVERPRESSURE</th>\n",
       "      <td>1.058130e+05</td>\n",
       "    </tr>\n",
       "    <tr>\n",
       "      <th>WRONG EQUIPMENT SPECIFIED OR INSTALLED</th>\n",
       "      <td>8.345632e+04</td>\n",
       "    </tr>\n",
       "  </tbody>\n",
       "</table>\n",
       "</div>"
      ],
      "text/plain": [
       "                                                    total_cost_current\n",
       "cause_details                                                         \n",
       "BODY OF PIPE                                              3.451391e+05\n",
       "BUTT WELD                                                 5.283555e+05\n",
       "COMPRESSOR OR COMPRESSOR-RELATED EQUIPMENT                2.193639e+05\n",
       "CONSTRUCTION-, INSTALLATION-, OR FABRICATION-RE...        2.728493e+05\n",
       "DAMAGE BY BOATS, BARGES, DRILLING RIGS, OR OTHE...        5.232231e+05\n",
       "DAMAGE BY CAR, TRUCK, OR OTHER MOTORIZED VEHICL...        1.515764e+05\n",
       "DAMAGE BY OPERATOR OR OPERATOR'S CONTRACTOR NOT...        1.872913e+05\n",
       "DEFECTIVE OR LOOSE TUBING OR FITTING                      8.756600e+04\n",
       "DESIGN-, CONSTRUCTION-, INSTALLATION-, OR FABRI...        2.802316e+05\n",
       "EARTH MOVEMENT, NOT DUE TO HEAVY RAINS/FLOODS             7.374482e+05\n",
       "ELECTRICAL ARCING FROM OTHER EQUIPMENT OR FACILITY        3.481090e+05\n",
       "ENVIRONMENTAL CRACKING-RELATED                            9.341249e+05\n",
       "EQUIPMENT NOT INSTALLED PROPERLY                          1.722915e+05\n",
       "EXCAVATION DAMAGE BY OPERATOR (FIRST PARTY)               1.518710e+05\n",
       "EXCAVATION DAMAGE BY OPERATOR'S CONTRACTOR (SEC...        2.045372e+05\n",
       "EXCAVATION DAMAGE BY THIRD PARTY                          2.461179e+05\n",
       "EXTERNAL CORROSION                                        3.272486e+05\n",
       "FAILURE OF EQUIPMENT BODY (EXCEPT COMPRESSOR), ...        4.501920e+05\n",
       "FAILURE OF EQUIPMENT BODY (EXCEPT PUMP), TANK P...        2.169939e+05\n",
       "FUSION JOINT                                              2.221491e+05\n",
       "HEAVY RAINS/FLOODS                                        1.141484e+06\n",
       "HIGH WINDS                                                1.725798e+05\n",
       "INTENTIONAL DAMAGE                                        2.666042e+05\n",
       "INTERNAL CORROSION                                        3.043026e+05\n",
       "LIGHTNING                                                 1.567736e+05\n",
       "MALFUNCTION OF CONTROL/RELIEF EQUIPMENT                   9.343326e+04\n",
       "MECHANICAL JOINT FAILURE                                  2.782319e+05\n",
       "MISCELLANEOUS                                             1.761316e+05\n",
       "NEARBY INDUSTRIAL, MAN-MADE, OR OTHER FIRE/EXPL...        8.619231e+05\n",
       "NON-THREADED CONNECTION FAILURE                           1.662156e+05\n",
       "ORIGINAL MANUFACTURING-RELATED (NOT GIRTH WELD ...        4.521230e+05\n",
       "OTHER EQUIPMENT FAILURE                                   1.825607e+05\n",
       "OTHER INCORRECT OPERATION                                 5.692947e+04\n",
       "OTHER NATURAL FORCE DAMAGE                                3.487548e+05\n",
       "OTHER OUTSIDE FORCE DAMAGE                                2.867340e+05\n",
       "OTHER PIPE, WELD, OR JOINT FAILURE                        1.601667e+05\n",
       "PIPELINE OR EQUIPMENT OVERPRESSURED                       1.904116e+05\n",
       "PREVIOUS DAMAGE DUE TO EXCAVATION ACTIVITY                2.274380e+05\n",
       "PREVIOUS MECHANICAL DAMAGE NOT RELATED TO EXCAV...        6.411269e+05\n",
       "PUMP OR PUMP-RELATED EQUIPMENT                            7.675071e+04\n",
       "ROUTINE OR NORMAL FISHING OR OTHER MARITIME ACT...        7.855983e+05\n",
       "SNOW/ICE IMPACT OR ACCUMULATION                           5.124214e+05\n",
       "TANK, VESSEL, OR SUMP/SEPARATOR ALLOWED OR CAUS...        1.220792e+05\n",
       "TEMPERATURE                                               2.054556e+05\n",
       "THREADED CONNECTION FAILURE                               4.254265e+05\n",
       "THREADED CONNECTION/COUPLING FAILURE                      1.489809e+05\n",
       "UNKNOWN                                                   3.624995e+05\n",
       "VALVE                                                     3.373974e+05\n",
       "VALVE LEFT OR PLACED IN WRONG POSITION, BUT NOT...        1.150039e+05\n",
       "VALVE LEFT OR PLACED IN WRONG POSITION, BUT NOT...        1.058130e+05\n",
       "WRONG EQUIPMENT SPECIFIED OR INSTALLED                    8.345632e+04"
      ]
     },
     "execution_count": 35,
     "metadata": {},
     "output_type": "execute_result"
    }
   ],
   "source": [
    "med_cost3 = df4.groupby(by='cause_details').total_cost_current.median().to_frame()\n",
    "med_cost3"
   ]
  },
  {
   "cell_type": "code",
   "execution_count": 36,
   "id": "689526d8",
   "metadata": {},
   "outputs": [
    {
     "data": {
      "text/html": [
       "<div>\n",
       "<style scoped>\n",
       "    .dataframe tbody tr th:only-of-type {\n",
       "        vertical-align: middle;\n",
       "    }\n",
       "\n",
       "    .dataframe tbody tr th {\n",
       "        vertical-align: top;\n",
       "    }\n",
       "\n",
       "    .dataframe thead th {\n",
       "        text-align: right;\n",
       "    }\n",
       "</style>\n",
       "<table border=\"1\" class=\"dataframe\">\n",
       "  <thead>\n",
       "    <tr style=\"text-align: right;\">\n",
       "      <th></th>\n",
       "      <th>total_cost_current</th>\n",
       "    </tr>\n",
       "    <tr>\n",
       "      <th>cause_details</th>\n",
       "      <th></th>\n",
       "    </tr>\n",
       "  </thead>\n",
       "  <tbody>\n",
       "    <tr>\n",
       "      <th>OTHER INCORRECT OPERATION</th>\n",
       "      <td>5.692947e+04</td>\n",
       "    </tr>\n",
       "    <tr>\n",
       "      <th>PUMP OR PUMP-RELATED EQUIPMENT</th>\n",
       "      <td>7.675071e+04</td>\n",
       "    </tr>\n",
       "    <tr>\n",
       "      <th>WRONG EQUIPMENT SPECIFIED OR INSTALLED</th>\n",
       "      <td>8.345632e+04</td>\n",
       "    </tr>\n",
       "    <tr>\n",
       "      <th>DEFECTIVE OR LOOSE TUBING OR FITTING</th>\n",
       "      <td>8.756600e+04</td>\n",
       "    </tr>\n",
       "    <tr>\n",
       "      <th>MALFUNCTION OF CONTROL/RELIEF EQUIPMENT</th>\n",
       "      <td>9.343326e+04</td>\n",
       "    </tr>\n",
       "    <tr>\n",
       "      <th>VALVE LEFT OR PLACED IN WRONG POSITION, BUT NOT RESULTING IN AN OVERPRESSURE</th>\n",
       "      <td>1.058130e+05</td>\n",
       "    </tr>\n",
       "    <tr>\n",
       "      <th>VALVE LEFT OR PLACED IN WRONG POSITION, BUT NOT RESULTING IN A TANK, VESSEL, OR SUMP/SEPARATOR OVERFLOW OR FACILITY OVERPRESSURE</th>\n",
       "      <td>1.150039e+05</td>\n",
       "    </tr>\n",
       "    <tr>\n",
       "      <th>TANK, VESSEL, OR SUMP/SEPARATOR ALLOWED OR CAUSED TO OVERFILL OR OVERFLOW</th>\n",
       "      <td>1.220792e+05</td>\n",
       "    </tr>\n",
       "    <tr>\n",
       "      <th>THREADED CONNECTION/COUPLING FAILURE</th>\n",
       "      <td>1.489809e+05</td>\n",
       "    </tr>\n",
       "    <tr>\n",
       "      <th>DAMAGE BY CAR, TRUCK, OR OTHER MOTORIZED VEHICLE/EQUIPMENT NOT ENGAGED IN EXCAVATION</th>\n",
       "      <td>1.515764e+05</td>\n",
       "    </tr>\n",
       "    <tr>\n",
       "      <th>EXCAVATION DAMAGE BY OPERATOR (FIRST PARTY)</th>\n",
       "      <td>1.518710e+05</td>\n",
       "    </tr>\n",
       "    <tr>\n",
       "      <th>LIGHTNING</th>\n",
       "      <td>1.567736e+05</td>\n",
       "    </tr>\n",
       "    <tr>\n",
       "      <th>OTHER PIPE, WELD, OR JOINT FAILURE</th>\n",
       "      <td>1.601667e+05</td>\n",
       "    </tr>\n",
       "    <tr>\n",
       "      <th>NON-THREADED CONNECTION FAILURE</th>\n",
       "      <td>1.662156e+05</td>\n",
       "    </tr>\n",
       "    <tr>\n",
       "      <th>EQUIPMENT NOT INSTALLED PROPERLY</th>\n",
       "      <td>1.722915e+05</td>\n",
       "    </tr>\n",
       "    <tr>\n",
       "      <th>HIGH WINDS</th>\n",
       "      <td>1.725798e+05</td>\n",
       "    </tr>\n",
       "    <tr>\n",
       "      <th>MISCELLANEOUS</th>\n",
       "      <td>1.761316e+05</td>\n",
       "    </tr>\n",
       "    <tr>\n",
       "      <th>OTHER EQUIPMENT FAILURE</th>\n",
       "      <td>1.825607e+05</td>\n",
       "    </tr>\n",
       "    <tr>\n",
       "      <th>DAMAGE BY OPERATOR OR OPERATOR'S CONTRACTOR NOT RELATED TO EXCAVATION AND NOT DUE TO MOTORIZED VEHICLE/EQUIPMENT DAMAGE</th>\n",
       "      <td>1.872913e+05</td>\n",
       "    </tr>\n",
       "    <tr>\n",
       "      <th>PIPELINE OR EQUIPMENT OVERPRESSURED</th>\n",
       "      <td>1.904116e+05</td>\n",
       "    </tr>\n",
       "    <tr>\n",
       "      <th>EXCAVATION DAMAGE BY OPERATOR'S CONTRACTOR (SECOND PARTY)</th>\n",
       "      <td>2.045372e+05</td>\n",
       "    </tr>\n",
       "    <tr>\n",
       "      <th>TEMPERATURE</th>\n",
       "      <td>2.054556e+05</td>\n",
       "    </tr>\n",
       "    <tr>\n",
       "      <th>FAILURE OF EQUIPMENT BODY (EXCEPT PUMP), TANK PLATE, OR OTHER MATERIAL</th>\n",
       "      <td>2.169939e+05</td>\n",
       "    </tr>\n",
       "    <tr>\n",
       "      <th>COMPRESSOR OR COMPRESSOR-RELATED EQUIPMENT</th>\n",
       "      <td>2.193639e+05</td>\n",
       "    </tr>\n",
       "    <tr>\n",
       "      <th>FUSION JOINT</th>\n",
       "      <td>2.221491e+05</td>\n",
       "    </tr>\n",
       "    <tr>\n",
       "      <th>PREVIOUS DAMAGE DUE TO EXCAVATION ACTIVITY</th>\n",
       "      <td>2.274380e+05</td>\n",
       "    </tr>\n",
       "    <tr>\n",
       "      <th>EXCAVATION DAMAGE BY THIRD PARTY</th>\n",
       "      <td>2.461179e+05</td>\n",
       "    </tr>\n",
       "    <tr>\n",
       "      <th>INTENTIONAL DAMAGE</th>\n",
       "      <td>2.666042e+05</td>\n",
       "    </tr>\n",
       "    <tr>\n",
       "      <th>CONSTRUCTION-, INSTALLATION-, OR FABRICATION-RELATED</th>\n",
       "      <td>2.728493e+05</td>\n",
       "    </tr>\n",
       "    <tr>\n",
       "      <th>MECHANICAL JOINT FAILURE</th>\n",
       "      <td>2.782319e+05</td>\n",
       "    </tr>\n",
       "    <tr>\n",
       "      <th>DESIGN-, CONSTRUCTION-, INSTALLATION-, OR FABRICATION-RELATED</th>\n",
       "      <td>2.802316e+05</td>\n",
       "    </tr>\n",
       "    <tr>\n",
       "      <th>OTHER OUTSIDE FORCE DAMAGE</th>\n",
       "      <td>2.867340e+05</td>\n",
       "    </tr>\n",
       "    <tr>\n",
       "      <th>INTERNAL CORROSION</th>\n",
       "      <td>3.043026e+05</td>\n",
       "    </tr>\n",
       "    <tr>\n",
       "      <th>EXTERNAL CORROSION</th>\n",
       "      <td>3.272486e+05</td>\n",
       "    </tr>\n",
       "    <tr>\n",
       "      <th>VALVE</th>\n",
       "      <td>3.373974e+05</td>\n",
       "    </tr>\n",
       "    <tr>\n",
       "      <th>BODY OF PIPE</th>\n",
       "      <td>3.451391e+05</td>\n",
       "    </tr>\n",
       "    <tr>\n",
       "      <th>ELECTRICAL ARCING FROM OTHER EQUIPMENT OR FACILITY</th>\n",
       "      <td>3.481090e+05</td>\n",
       "    </tr>\n",
       "    <tr>\n",
       "      <th>OTHER NATURAL FORCE DAMAGE</th>\n",
       "      <td>3.487548e+05</td>\n",
       "    </tr>\n",
       "    <tr>\n",
       "      <th>UNKNOWN</th>\n",
       "      <td>3.624995e+05</td>\n",
       "    </tr>\n",
       "    <tr>\n",
       "      <th>THREADED CONNECTION FAILURE</th>\n",
       "      <td>4.254265e+05</td>\n",
       "    </tr>\n",
       "    <tr>\n",
       "      <th>FAILURE OF EQUIPMENT BODY (EXCEPT COMPRESSOR), VESSEL PLATE, OR OTHER MATERIAL</th>\n",
       "      <td>4.501920e+05</td>\n",
       "    </tr>\n",
       "    <tr>\n",
       "      <th>ORIGINAL MANUFACTURING-RELATED (NOT GIRTH WELD OR OTHER WELDS FORMED IN THE FIELD)</th>\n",
       "      <td>4.521230e+05</td>\n",
       "    </tr>\n",
       "    <tr>\n",
       "      <th>SNOW/ICE IMPACT OR ACCUMULATION</th>\n",
       "      <td>5.124214e+05</td>\n",
       "    </tr>\n",
       "    <tr>\n",
       "      <th>DAMAGE BY BOATS, BARGES, DRILLING RIGS, OR OTHER MARITIME EQUIPMENT OR VESSELS SET ADRIFT OR WHICH HAVE OTHERWISE LOST THEIR MOORING</th>\n",
       "      <td>5.232231e+05</td>\n",
       "    </tr>\n",
       "    <tr>\n",
       "      <th>BUTT WELD</th>\n",
       "      <td>5.283555e+05</td>\n",
       "    </tr>\n",
       "    <tr>\n",
       "      <th>PREVIOUS MECHANICAL DAMAGE NOT RELATED TO EXCAVATION</th>\n",
       "      <td>6.411269e+05</td>\n",
       "    </tr>\n",
       "    <tr>\n",
       "      <th>EARTH MOVEMENT, NOT DUE TO HEAVY RAINS/FLOODS</th>\n",
       "      <td>7.374482e+05</td>\n",
       "    </tr>\n",
       "    <tr>\n",
       "      <th>ROUTINE OR NORMAL FISHING OR OTHER MARITIME ACTIVITY NOT ENGAGED IN EXCAVATION</th>\n",
       "      <td>7.855983e+05</td>\n",
       "    </tr>\n",
       "    <tr>\n",
       "      <th>NEARBY INDUSTRIAL, MAN-MADE, OR OTHER FIRE/EXPLOSION AS PRIMARY CAUSE OF INCIDENT</th>\n",
       "      <td>8.619231e+05</td>\n",
       "    </tr>\n",
       "    <tr>\n",
       "      <th>ENVIRONMENTAL CRACKING-RELATED</th>\n",
       "      <td>9.341249e+05</td>\n",
       "    </tr>\n",
       "    <tr>\n",
       "      <th>HEAVY RAINS/FLOODS</th>\n",
       "      <td>1.141484e+06</td>\n",
       "    </tr>\n",
       "  </tbody>\n",
       "</table>\n",
       "</div>"
      ],
      "text/plain": [
       "                                                    total_cost_current\n",
       "cause_details                                                         \n",
       "OTHER INCORRECT OPERATION                                 5.692947e+04\n",
       "PUMP OR PUMP-RELATED EQUIPMENT                            7.675071e+04\n",
       "WRONG EQUIPMENT SPECIFIED OR INSTALLED                    8.345632e+04\n",
       "DEFECTIVE OR LOOSE TUBING OR FITTING                      8.756600e+04\n",
       "MALFUNCTION OF CONTROL/RELIEF EQUIPMENT                   9.343326e+04\n",
       "VALVE LEFT OR PLACED IN WRONG POSITION, BUT NOT...        1.058130e+05\n",
       "VALVE LEFT OR PLACED IN WRONG POSITION, BUT NOT...        1.150039e+05\n",
       "TANK, VESSEL, OR SUMP/SEPARATOR ALLOWED OR CAUS...        1.220792e+05\n",
       "THREADED CONNECTION/COUPLING FAILURE                      1.489809e+05\n",
       "DAMAGE BY CAR, TRUCK, OR OTHER MOTORIZED VEHICL...        1.515764e+05\n",
       "EXCAVATION DAMAGE BY OPERATOR (FIRST PARTY)               1.518710e+05\n",
       "LIGHTNING                                                 1.567736e+05\n",
       "OTHER PIPE, WELD, OR JOINT FAILURE                        1.601667e+05\n",
       "NON-THREADED CONNECTION FAILURE                           1.662156e+05\n",
       "EQUIPMENT NOT INSTALLED PROPERLY                          1.722915e+05\n",
       "HIGH WINDS                                                1.725798e+05\n",
       "MISCELLANEOUS                                             1.761316e+05\n",
       "OTHER EQUIPMENT FAILURE                                   1.825607e+05\n",
       "DAMAGE BY OPERATOR OR OPERATOR'S CONTRACTOR NOT...        1.872913e+05\n",
       "PIPELINE OR EQUIPMENT OVERPRESSURED                       1.904116e+05\n",
       "EXCAVATION DAMAGE BY OPERATOR'S CONTRACTOR (SEC...        2.045372e+05\n",
       "TEMPERATURE                                               2.054556e+05\n",
       "FAILURE OF EQUIPMENT BODY (EXCEPT PUMP), TANK P...        2.169939e+05\n",
       "COMPRESSOR OR COMPRESSOR-RELATED EQUIPMENT                2.193639e+05\n",
       "FUSION JOINT                                              2.221491e+05\n",
       "PREVIOUS DAMAGE DUE TO EXCAVATION ACTIVITY                2.274380e+05\n",
       "EXCAVATION DAMAGE BY THIRD PARTY                          2.461179e+05\n",
       "INTENTIONAL DAMAGE                                        2.666042e+05\n",
       "CONSTRUCTION-, INSTALLATION-, OR FABRICATION-RE...        2.728493e+05\n",
       "MECHANICAL JOINT FAILURE                                  2.782319e+05\n",
       "DESIGN-, CONSTRUCTION-, INSTALLATION-, OR FABRI...        2.802316e+05\n",
       "OTHER OUTSIDE FORCE DAMAGE                                2.867340e+05\n",
       "INTERNAL CORROSION                                        3.043026e+05\n",
       "EXTERNAL CORROSION                                        3.272486e+05\n",
       "VALVE                                                     3.373974e+05\n",
       "BODY OF PIPE                                              3.451391e+05\n",
       "ELECTRICAL ARCING FROM OTHER EQUIPMENT OR FACILITY        3.481090e+05\n",
       "OTHER NATURAL FORCE DAMAGE                                3.487548e+05\n",
       "UNKNOWN                                                   3.624995e+05\n",
       "THREADED CONNECTION FAILURE                               4.254265e+05\n",
       "FAILURE OF EQUIPMENT BODY (EXCEPT COMPRESSOR), ...        4.501920e+05\n",
       "ORIGINAL MANUFACTURING-RELATED (NOT GIRTH WELD ...        4.521230e+05\n",
       "SNOW/ICE IMPACT OR ACCUMULATION                           5.124214e+05\n",
       "DAMAGE BY BOATS, BARGES, DRILLING RIGS, OR OTHE...        5.232231e+05\n",
       "BUTT WELD                                                 5.283555e+05\n",
       "PREVIOUS MECHANICAL DAMAGE NOT RELATED TO EXCAV...        6.411269e+05\n",
       "EARTH MOVEMENT, NOT DUE TO HEAVY RAINS/FLOODS             7.374482e+05\n",
       "ROUTINE OR NORMAL FISHING OR OTHER MARITIME ACT...        7.855983e+05\n",
       "NEARBY INDUSTRIAL, MAN-MADE, OR OTHER FIRE/EXPL...        8.619231e+05\n",
       "ENVIRONMENTAL CRACKING-RELATED                            9.341249e+05\n",
       "HEAVY RAINS/FLOODS                                        1.141484e+06"
      ]
     },
     "execution_count": 36,
     "metadata": {},
     "output_type": "execute_result"
    }
   ],
   "source": [
    "med_cost3.sort_values('total_cost_current')"
   ]
  },
  {
   "cell_type": "code",
   "execution_count": 37,
   "id": "cb2676ea",
   "metadata": {},
   "outputs": [
    {
     "data": {
      "text/plain": [
       "934124.8621"
      ]
     },
     "execution_count": 37,
     "metadata": {},
     "output_type": "execute_result"
    }
   ],
   "source": [
    "df4[df4.cause_details == 'ENVIRONMENTAL CRACKING-RELATED'].total_cost_current.median()"
   ]
  },
  {
   "cell_type": "code",
   "execution_count": 122,
   "id": "6be49eb8",
   "metadata": {},
   "outputs": [
    {
     "data": {
      "text/plain": [
       "MATERIAL FAILURE OF PIPE OR WELD    52\n",
       "Name: cause, dtype: int64"
      ]
     },
     "execution_count": 122,
     "metadata": {},
     "output_type": "execute_result"
    }
   ],
   "source": [
    "df4[df4.cause_details == 'ENVIRONMENTAL CRACKING-RELATED'].cause.value_counts()"
   ]
  },
  {
   "cell_type": "code",
   "execution_count": 123,
   "id": "747e7b40",
   "metadata": {},
   "outputs": [
    {
     "data": {
      "text/plain": [
       "Index(['datafile_as_of', 'ff', 'significant', 'serious', 'report_number',\n",
       "       'supplemental_number', 'report_received_date', 'report_type',\n",
       "       'operator_id', 'name',\n",
       "       ...\n",
       "       'root_cause_type_other', 'failure_type', 'pwf_addl_misalignment_ind',\n",
       "       'failure_details', 'ief_addl_misalignment_ind',\n",
       "       'additional_thermal_ind', 'spill_type_category',\n",
       "       'eqf_pump_equipment_ind', 'io_tank_vessel_ind', 'prepared_date'],\n",
       "      dtype='object', length=826)"
      ]
     },
     "execution_count": 123,
     "metadata": {},
     "output_type": "execute_result"
    }
   ],
   "source": [
    "df4.columns"
   ]
  },
  {
   "cell_type": "markdown",
   "id": "e4e3a794",
   "metadata": {},
   "source": [
    "# Looking at Age of Pipeline"
   ]
  },
  {
   "cell_type": "code",
   "execution_count": 43,
   "id": "152e8d54",
   "metadata": {},
   "outputs": [
    {
     "data": {
      "text/plain": [
       "<AxesSubplot:title={'center':'Number of pipelines installed each year'}>"
      ]
     },
     "execution_count": 43,
     "metadata": {},
     "output_type": "execute_result"
    },
    {
     "data": {
      "image/png": "[encoded data removed]",
      "text/plain": [
       "<Figure size 432x288 with 1 Axes>"
      ]
     },
     "metadata": {
      "needs_background": "light"
     },
     "output_type": "display_data"
    }
   ],
   "source": [
    "df4.installation_year.value_counts().sort_index().plot(title='Number of pipelines installed each year')"
   ]
  },
  {
   "cell_type": "markdown",
   "id": "614d6a11",
   "metadata": {},
   "source": [
    "# Looking at 'material invovled' in incident\n",
    "* Carbon Steel is far and above the most common 'material invovled' for significant pipeline incidents (nearly 70%) "
   ]
  },
  {
   "cell_type": "code",
   "execution_count": 46,
   "id": "e01f279c",
   "metadata": {},
   "outputs": [
    {
     "data": {
      "text/plain": [
       "CARBON STEEL                                   2437\n",
       "STEEL                                           387\n",
       "MATERIAL OTHER THAN CARBON STEEL                266\n",
       "PLASTIC                                         250\n",
       "OTHER                                            79\n",
       "MATERIAL OTHER THAN CARBON STEEL OR PLASTIC      44\n",
       "CAST/WROUGHT IRON                                40\n",
       "UNKNOWN                                          18\n",
       "COPPER                                            6\n",
       "DUCTILE IRON                                      1\n",
       "Name: material_involved, dtype: int64"
      ]
     },
     "execution_count": 46,
     "metadata": {},
     "output_type": "execute_result"
    }
   ],
   "source": [
    "df4.material_involved.value_counts()"
   ]
  },
  {
   "cell_type": "code",
   "execution_count": 47,
   "id": "19f8be35",
   "metadata": {},
   "outputs": [
    {
     "data": {
      "text/plain": [
       "CARBON STEEL                                   0.690760\n",
       "STEEL                                          0.109694\n",
       "MATERIAL OTHER THAN CARBON STEEL               0.075397\n",
       "PLASTIC                                        0.070862\n",
       "OTHER                                          0.022392\n",
       "MATERIAL OTHER THAN CARBON STEEL OR PLASTIC    0.012472\n",
       "CAST/WROUGHT IRON                              0.011338\n",
       "UNKNOWN                                        0.005102\n",
       "COPPER                                         0.001701\n",
       "DUCTILE IRON                                   0.000283\n",
       "Name: material_involved, dtype: float64"
      ]
     },
     "execution_count": 47,
     "metadata": {},
     "output_type": "execute_result"
    }
   ],
   "source": [
    "df4.material_involved.value_counts(normalize=True)"
   ]
  },
  {
   "cell_type": "markdown",
   "id": "2ac2f242",
   "metadata": {},
   "source": [
    "## Regression Attempts"
   ]
  },
  {
   "cell_type": "code",
   "execution_count": null,
   "id": "459e1b04",
   "metadata": {},
   "outputs": [],
   "source": [
    "import statsmodels.formula.api as smf"
   ]
  },
  {
   "cell_type": "code",
   "execution_count": null,
   "id": "54852968",
   "metadata": {},
   "outputs": [],
   "source": [
    "model = smf.ols(\"Sales ~ TV + Radio\", data=advertising)\n",
    "results = model.fit()\n",
    "results.summary()"
   ]
  }
 ],
 "metadata": {
  "kernelspec": {
   "display_name": "Python 3 (ipykernel)",
   "language": "python",
   "name": "python3"
  },
  "language_info": {
   "codemirror_mode": {
    "name": "ipython",
    "version": 3
   },
   "file_extension": ".py",
   "mimetype": "text/x-python",
   "name": "python",
   "nbconvert_exporter": "python",
   "pygments_lexer": "ipython3",
   "version": "3.10.0"
  }
 },
 "nbformat": 4,
 "nbformat_minor": 5
}
