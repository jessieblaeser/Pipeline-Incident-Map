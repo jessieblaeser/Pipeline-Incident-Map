{
 "cells": [
  {
   "cell_type": "markdown",
   "id": "f18615f4",
   "metadata": {},
   "source": [
    "# Clean dataset"
   ]
  },
  {
   "cell_type": "code",
   "execution_count": 1,
   "id": "f1e06460",
   "metadata": {},
   "outputs": [
    {
     "name": "stderr",
     "output_type": "stream",
     "text": [
      "/Users/ilenapeng/.pyenv/versions/3.9.7/lib/python3.9/site-packages/pandas/compat/__init__.py:124: UserWarning: Could not import the lzma module. Your installed Python is incomplete. Attempting to use lzma compression will result in a RuntimeError.\n",
      "  warnings.warn(msg)\n"
     ]
    }
   ],
   "source": [
    "import pandas as pd\n",
    "import numpy as np"
   ]
  },
  {
   "cell_type": "code",
   "execution_count": 2,
   "id": "b25dc5f7",
   "metadata": {},
   "outputs": [
    {
     "name": "stderr",
     "output_type": "stream",
     "text": [
      "/Users/ilenapeng/.pyenv/versions/3.9.7/lib/python3.9/site-packages/IPython/core/interactiveshell.py:3444: DtypeWarning: Columns (1,15,16,18,19,20,21,22,25,26,27,28,29,30,31,32,33,36,56,57,58,63,64,65,72,73,75,76,77,78,84,85,87,89,92,93,94,95,101,102,103,104,105,106,108,109,116,120,148,149,151,152,154,171,172,173,193,194,197,198,205,209,210,214,217,218,219,221,222,223,225,228,230,231,233,234,238,239,240,250,251,252,256,257,261,262,263,265,266,268,269,276,277,278,279,280,281,286,287,290,293,294,295,296,297,300,301,303,304,305,306,307,310,311,313,314,315,316,317,318,319,320,321,322,324,325,326,327,329,330,331,332,333,334,335,336,337,340,341,342,343,344,345,347,348,351,354,355,356,357,359,360,361,362,363,365,366,367,368,369,371,372,373,374,375,376,377,378,379,380,384,386,387,388,389,391,393,394,395,399,400,401,402,407,411,421,422,423,427,428,429,430,432,433,434,435,436,439,440,441,442,443,446,447,449,451,452,454,455,456,457,460,462,463,464,465,466,472,473,474,480,482,483,484,485,486,487,488,489,490,491,492,493,494,495,496,497,498,499,500,501,502,503,504,505,506,507,508,509,510,511,512,513,514,515,516,517,518,519,520,521,522,524,525,526,529,530,532,533,535,536,537,538,539,540,541,542,543,545,546,547,548,549,550,552,556,557,558,559,561,562,563,564,565,566,567,568,569,570,571,572,573,574,575,576,577,578,579,580,581,582,583,584,585,586,587,588,589,590,591,592,593,594,595,596,597,598,599,600,601,602,603,604,605,606,607,608,609,610,611,612,613,614,615,616,617,618,619,620,621,622,623,624,625,626,627,628,629,630,631,632,633,634,635,636,637,638,639,640,641,642,644,646,647,649,652,653,655,658,659,662,663,666,667,669,678,679,681,683,684,686,688,690,695,697,699,700,701,704,711,713,714,716,717,718,724,726,727,728,729,730,731,732,736,737,738,739,740,741,742,749,751,752,753,754,755,756,758,759,760,761,762,768,770,772,773,774,775,776,777,778,779,780,781,782,783,784,785,786,787,789,790,791,792,793,794,795,796,797,798,799,800,804,805,806,807,808,809,810,811,814,815,817,818,819,820,821,822,825) have mixed types.Specify dtype option on import or set low_memory=False.\n",
      "  exec(code_obj, self.user_global_ns, self.user_ns)\n"
     ]
    }
   ],
   "source": [
    "df = pd.read_csv('../data/processed/pipeline_incidents_2010_present_all.csv')"
   ]
  },
  {
   "cell_type": "markdown",
   "id": "5741da06",
   "metadata": {},
   "source": [
    "## Keep only relevant columns"
   ]
  },
  {
   "cell_type": "code",
   "execution_count": 3,
   "id": "95c8ef0d",
   "metadata": {},
   "outputs": [],
   "source": [
    "columns_keep = [\n",
    "    'datafile_as_of',\n",
    "    'ff',\n",
    "    'significant',\n",
    "    'serious',\n",
    "    'report_number',\n",
    "    'supplemental_number',\n",
    "    'report_received_date',\n",
    "    'report_type',\n",
    "    'operator_id',\n",
    "    'name',\n",
    "    'operator_street_address',\n",
    "    'operator_city_name',\n",
    "    'operator_state_abbreviation',\n",
    "    'operator_postal_code',\n",
    "    'local_datetime',\n",
    "    'time_zone',\n",
    "    'daylight_savings_ind',\n",
    "    'iyear',\n",
    "    'location_street_address',\n",
    "    'location_city_name',\n",
    "    'location_county_name',\n",
    "    'location_state_abbreviation',\n",
    "    'location_postal_code',\n",
    "    'location_latitude',\n",
    "    'location_longitude',\n",
    "    'total_cost',\n",
    "    'total_cost_current',\n",
    "    'injury_ind',\n",
    "    'injure',\n",
    "    'num_pub_evacuated',\n",
    "    'fatal',\n",
    "    'cause',\n",
    "    'cause_details',\n",
    "    'material_involved',\n",
    "    'material_details',\n",
    "    'narrative',\n",
    "    'unintentional_release',\n",
    "    'installation_year'\n",
    "]"
   ]
  },
  {
   "cell_type": "code",
   "execution_count": 4,
   "id": "4ee5e57b",
   "metadata": {},
   "outputs": [
    {
     "data": {
      "text/plain": [
       "Index(['datafile_as_of', 'ff', 'significant', 'serious', 'report_number',\n",
       "       'supplemental_number', 'report_received_date', 'report_type',\n",
       "       'operator_id', 'name', 'operator_street_address', 'operator_city_name',\n",
       "       'operator_state_abbreviation', 'operator_postal_code', 'local_datetime',\n",
       "       'time_zone', 'daylight_savings_ind', 'iyear', 'location_street_address',\n",
       "       'location_city_name', 'location_county_name',\n",
       "       'location_state_abbreviation', 'location_postal_code',\n",
       "       'location_latitude', 'location_longitude', 'total_cost',\n",
       "       'total_cost_current', 'injury_ind', 'injure', 'num_pub_evacuated',\n",
       "       'fatal', 'cause', 'cause_details', 'material_involved',\n",
       "       'material_details', 'narrative', 'unintentional_release',\n",
       "       'installation_year'],\n",
       "      dtype='object')"
      ]
     },
     "execution_count": 4,
     "metadata": {},
     "output_type": "execute_result"
    }
   ],
   "source": [
    "df_final = df[columns_keep]\n",
    "df_final.columns"
   ]
  },
  {
   "cell_type": "markdown",
   "id": "319f3f26",
   "metadata": {},
   "source": [
    "## Create variable with decades"
   ]
  },
  {
   "cell_type": "code",
   "execution_count": 5,
   "id": "b640faf3",
   "metadata": {},
   "outputs": [
    {
     "name": "stderr",
     "output_type": "stream",
     "text": [
      "/var/folders/9x/ttxn_gwj0592mr6h8s5y29980000gn/T/ipykernel_36675/3488030101.py:22: SettingWithCopyWarning: \n",
      "A value is trying to be set on a copy of a slice from a DataFrame.\n",
      "Try using .loc[row_indexer,col_indexer] = value instead\n",
      "\n",
      "See the caveats in the documentation: https://pandas.pydata.org/pandas-docs/stable/user_guide/indexing.html#returning-a-view-versus-a-copy\n",
      "  df_final['decade'] = np.select(conditions, outputs, np.nan)\n"
     ]
    },
    {
     "data": {
      "text/plain": [
       "array(['nan', '1990-1999', '1970-1979', '1980-1989', '1960-1969',\n",
       "       '2000-2009', '1950-1959', '1940-1949', '>2010', '1920-1929',\n",
       "       '1930-1939', '1900-1909', '1910-1919'], dtype=object)"
      ]
     },
     "execution_count": 5,
     "metadata": {},
     "output_type": "execute_result"
    }
   ],
   "source": [
    "# create decades variable\n",
    "conditions = [\n",
    "    (df['installation_year'] >= '1900-01-01') & (df['installation_year'] < '1910-01-01'),\n",
    "    (df['installation_year'] >= '1910-01-01') & (df['installation_year'] < '1920-01-01'),\n",
    "    (df['installation_year'] >= '1920-01-01') & (df['installation_year'] < '1930-01-01'),\n",
    "    (df['installation_year'] >= '1930-01-01') & (df['installation_year'] < '1940-01-01'),\n",
    "    (df['installation_year'] >= '1940-01-01') & (df['installation_year'] < '1950-01-01'),\n",
    "    (df['installation_year'] >= '1950-01-01') & (df['installation_year'] < '1960-01-01'),\n",
    "    (df['installation_year'] >= '1960-01-01') & (df['installation_year'] < '1970-01-01'),\n",
    "    (df['installation_year'] >= '1970-01-01') & (df['installation_year'] < '1980-01-01'),\n",
    "    (df['installation_year'] >= '1980-01-01') & (df['installation_year'] < '1990-01-01'),\n",
    "    (df['installation_year'] >= '1990-01-01') & (df['installation_year'] < '2000-01-01'),\n",
    "    (df['installation_year'] >= '2000-01-01') & (df['installation_year'] < '2010-01-01'),\n",
    "    df['installation_year'] >= '2010-01-01'\n",
    "]\n",
    "\n",
    "outputs = [\n",
    "    '1900-1909', '1910-1919', '1920-1929', '1930-1939', '1940-1949', '1950-1959', '1960-1969', '1970-1979',\n",
    "    '1980-1989', '1990-1999', '2000-2009', '>2010'\n",
    "]\n",
    "\n",
    "df_final['decade'] = np.select(conditions, outputs, np.nan)\n",
    "df_final.decade.unique()"
   ]
  },
  {
   "cell_type": "code",
   "execution_count": 6,
   "id": "84f74753",
   "metadata": {},
   "outputs": [],
   "source": [
    "df_final.to_csv('../data/processed/pipeline_incidents_2010_present_all_CLEAN.csv', index=False)"
   ]
  }
 ],
 "metadata": {
  "kernelspec": {
   "display_name": "Python 3 (ipykernel)",
   "language": "python",
   "name": "python3"
  },
  "language_info": {
   "codemirror_mode": {
    "name": "ipython",
    "version": 3
   },
   "file_extension": ".py",
   "mimetype": "text/x-python",
   "name": "python",
   "nbconvert_exporter": "python",
   "pygments_lexer": "ipython3",
   "version": "3.9.7"
  }
 },
 "nbformat": 4,
 "nbformat_minor": 5
}
