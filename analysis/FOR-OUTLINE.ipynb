{
 "cells": [
  {
   "cell_type": "markdown",
   "id": "e61aab42",
   "metadata": {},
   "source": [
    "# Analysis included in our outline"
   ]
  },
  {
   "cell_type": "code",
   "execution_count": 1,
   "id": "5573212d",
   "metadata": {},
   "outputs": [
    {
     "name": "stderr",
     "output_type": "stream",
     "text": [
      "/Users/ilenapeng/.pyenv/versions/3.9.7/lib/python3.9/site-packages/pandas/compat/__init__.py:124: UserWarning: Could not import the lzma module. Your installed Python is incomplete. Attempting to use lzma compression will result in a RuntimeError.\n",
      "  warnings.warn(msg)\n"
     ]
    }
   ],
   "source": [
    "import pandas as pd\n",
    "import numpy as np\n",
    "pd.set_option('display.max_columns', None)\n",
    "pd.set_option('display.max_rows', None)"
   ]
  },
  {
   "cell_type": "code",
   "execution_count": 2,
   "id": "092a9b81",
   "metadata": {},
   "outputs": [
    {
     "data": {
      "text/html": [
       "<div>\n",
       "<style scoped>\n",
       "    .dataframe tbody tr th:only-of-type {\n",
       "        vertical-align: middle;\n",
       "    }\n",
       "\n",
       "    .dataframe tbody tr th {\n",
       "        vertical-align: top;\n",
       "    }\n",
       "\n",
       "    .dataframe thead th {\n",
       "        text-align: right;\n",
       "    }\n",
       "</style>\n",
       "<table border=\"1\" class=\"dataframe\">\n",
       "  <thead>\n",
       "    <tr style=\"text-align: right;\">\n",
       "      <th></th>\n",
       "      <th>datafile_as_of</th>\n",
       "      <th>ff</th>\n",
       "      <th>significant</th>\n",
       "      <th>serious</th>\n",
       "      <th>report_number</th>\n",
       "      <th>supplemental_number</th>\n",
       "      <th>report_received_date</th>\n",
       "      <th>report_type</th>\n",
       "      <th>operator_id</th>\n",
       "      <th>name</th>\n",
       "      <th>operator_street_address</th>\n",
       "      <th>operator_city_name</th>\n",
       "      <th>operator_state_abbreviation</th>\n",
       "      <th>operator_postal_code</th>\n",
       "      <th>local_datetime</th>\n",
       "      <th>time_zone</th>\n",
       "      <th>daylight_savings_ind</th>\n",
       "      <th>iyear</th>\n",
       "      <th>location_street_address</th>\n",
       "      <th>location_city_name</th>\n",
       "      <th>location_county_name</th>\n",
       "      <th>location_state_abbreviation</th>\n",
       "      <th>location_postal_code</th>\n",
       "      <th>location_latitude</th>\n",
       "      <th>location_longitude</th>\n",
       "      <th>total_cost</th>\n",
       "      <th>total_cost_current</th>\n",
       "      <th>injury_ind</th>\n",
       "      <th>injure</th>\n",
       "      <th>num_pub_evacuated</th>\n",
       "      <th>fatal</th>\n",
       "      <th>cause</th>\n",
       "      <th>cause_details</th>\n",
       "      <th>material_involved</th>\n",
       "      <th>material_details</th>\n",
       "      <th>narrative</th>\n",
       "      <th>unintentional_release</th>\n",
       "      <th>installation_year</th>\n",
       "      <th>decade</th>\n",
       "      <th>year_dt</th>\n",
       "      <th>pipeline_age</th>\n",
       "    </tr>\n",
       "  </thead>\n",
       "  <tbody>\n",
       "    <tr>\n",
       "      <th>0</th>\n",
       "      <td>2/28/22</td>\n",
       "      <td>NO</td>\n",
       "      <td>YES</td>\n",
       "      <td>NO</td>\n",
       "      <td>20100001</td>\n",
       "      <td>15047</td>\n",
       "      <td>3/11/10</td>\n",
       "      <td>SUPPLEMENTAL FINAL</td>\n",
       "      <td>15007</td>\n",
       "      <td>PACIFIC GAS &amp; ELECTRIC CO</td>\n",
       "      <td>PG&amp;E - GAS OPERATIONS, REGULATORY COMPLIANCE 6...</td>\n",
       "      <td>SAN RAMON</td>\n",
       "      <td>CA</td>\n",
       "      <td>94583</td>\n",
       "      <td>2/13/10 23:35</td>\n",
       "      <td>NaN</td>\n",
       "      <td>NaN</td>\n",
       "      <td>2010.0</td>\n",
       "      <td>1617 EAST 9TH STREET</td>\n",
       "      <td>STOCKTON</td>\n",
       "      <td>SAN JOAQUIN</td>\n",
       "      <td>CA</td>\n",
       "      <td>95201</td>\n",
       "      <td>37.93188</td>\n",
       "      <td>-121.26133</td>\n",
       "      <td>102500</td>\n",
       "      <td>124764.082311</td>\n",
       "      <td>NO</td>\n",
       "      <td>0</td>\n",
       "      <td>0.0</td>\n",
       "      <td>0</td>\n",
       "      <td>OTHER OUTSIDE FORCE DAMAGE</td>\n",
       "      <td>OTHER OUTSIDE FORCE DAMAGE</td>\n",
       "      <td>OTHER</td>\n",
       "      <td>ALUMINUN</td>\n",
       "      <td>A FIRE AT AN UNOCCUPIED HOME OCCURRED AT APPRO...</td>\n",
       "      <td>10.0</td>\n",
       "      <td>NaN</td>\n",
       "      <td>NaN</td>\n",
       "      <td>NaN</td>\n",
       "      <td>NaN</td>\n",
       "    </tr>\n",
       "    <tr>\n",
       "      <th>1</th>\n",
       "      <td>2/28/22</td>\n",
       "      <td>NO</td>\n",
       "      <td>NO</td>\n",
       "      <td>NO</td>\n",
       "      <td>20100002</td>\n",
       "      <td>15553</td>\n",
       "      <td>3/12/10</td>\n",
       "      <td>SUPPLEMENTAL FINAL</td>\n",
       "      <td>13730</td>\n",
       "      <td>NORTHERN INDIANA PUBLIC SERVICE CO</td>\n",
       "      <td>801 E 86TH AVENUE</td>\n",
       "      <td>MERRILLVILLE</td>\n",
       "      <td>IN</td>\n",
       "      <td>46410</td>\n",
       "      <td>2/16/10 10:38</td>\n",
       "      <td>NaN</td>\n",
       "      <td>NaN</td>\n",
       "      <td>2010.0</td>\n",
       "      <td>3835 SANDPIPER COVE RUN</td>\n",
       "      <td>SOUTH BEND</td>\n",
       "      <td>ST. JOSEPH</td>\n",
       "      <td>IN</td>\n",
       "      <td>46628</td>\n",
       "      <td>41.72931</td>\n",
       "      <td>-86.27531</td>\n",
       "      <td>57500</td>\n",
       "      <td>68334.121206</td>\n",
       "      <td>NO</td>\n",
       "      <td>0</td>\n",
       "      <td>20.0</td>\n",
       "      <td>0</td>\n",
       "      <td>EXCAVATION DAMAGE</td>\n",
       "      <td>EXCAVATION DAMAGE BY THIRD PARTY</td>\n",
       "      <td>PLASTIC</td>\n",
       "      <td>NaN</td>\n",
       "      <td>CONTRACTOR BORING ELECTRIC LINE PARALLEL TO 3\"...</td>\n",
       "      <td>310.0</td>\n",
       "      <td>1990-01-01</td>\n",
       "      <td>1990-1999</td>\n",
       "      <td>1990.0</td>\n",
       "      <td>20.0</td>\n",
       "    </tr>\n",
       "  </tbody>\n",
       "</table>\n",
       "</div>"
      ],
      "text/plain": [
       "  datafile_as_of  ff significant serious  report_number  supplemental_number  \\\n",
       "0        2/28/22  NO         YES      NO       20100001                15047   \n",
       "1        2/28/22  NO          NO      NO       20100002                15553   \n",
       "\n",
       "  report_received_date         report_type  operator_id  \\\n",
       "0              3/11/10  SUPPLEMENTAL FINAL        15007   \n",
       "1              3/12/10  SUPPLEMENTAL FINAL        13730   \n",
       "\n",
       "                                 name  \\\n",
       "0           PACIFIC GAS & ELECTRIC CO   \n",
       "1  NORTHERN INDIANA PUBLIC SERVICE CO   \n",
       "\n",
       "                             operator_street_address operator_city_name  \\\n",
       "0  PG&E - GAS OPERATIONS, REGULATORY COMPLIANCE 6...          SAN RAMON   \n",
       "1                                 801 E 86TH AVENUE        MERRILLVILLE   \n",
       "\n",
       "  operator_state_abbreviation operator_postal_code local_datetime time_zone  \\\n",
       "0                          CA                94583  2/13/10 23:35       NaN   \n",
       "1                          IN                46410  2/16/10 10:38       NaN   \n",
       "\n",
       "  daylight_savings_ind   iyear  location_street_address location_city_name  \\\n",
       "0                  NaN  2010.0     1617 EAST 9TH STREET           STOCKTON   \n",
       "1                  NaN  2010.0  3835 SANDPIPER COVE RUN         SOUTH BEND   \n",
       "\n",
       "  location_county_name location_state_abbreviation location_postal_code  \\\n",
       "0          SAN JOAQUIN                          CA                95201   \n",
       "1           ST. JOSEPH                          IN                46628   \n",
       "\n",
       "   location_latitude  location_longitude  total_cost  total_cost_current  \\\n",
       "0           37.93188          -121.26133      102500       124764.082311   \n",
       "1           41.72931           -86.27531       57500        68334.121206   \n",
       "\n",
       "  injury_ind  injure  num_pub_evacuated  fatal                       cause  \\\n",
       "0         NO       0                0.0      0  OTHER OUTSIDE FORCE DAMAGE   \n",
       "1         NO       0               20.0      0           EXCAVATION DAMAGE   \n",
       "\n",
       "                      cause_details material_involved material_details  \\\n",
       "0        OTHER OUTSIDE FORCE DAMAGE             OTHER         ALUMINUN   \n",
       "1  EXCAVATION DAMAGE BY THIRD PARTY           PLASTIC              NaN   \n",
       "\n",
       "                                           narrative  unintentional_release  \\\n",
       "0  A FIRE AT AN UNOCCUPIED HOME OCCURRED AT APPRO...                   10.0   \n",
       "1  CONTRACTOR BORING ELECTRIC LINE PARALLEL TO 3\"...                  310.0   \n",
       "\n",
       "  installation_year     decade  year_dt  pipeline_age  \n",
       "0               NaN        NaN      NaN           NaN  \n",
       "1        1990-01-01  1990-1999   1990.0          20.0  "
      ]
     },
     "execution_count": 2,
     "metadata": {},
     "output_type": "execute_result"
    }
   ],
   "source": [
    "df = pd.read_csv('../data/processed/pipeline_incidents_2010_present_all_CLEAN.csv')\n",
    "df.head(2)"
   ]
  },
  {
   "cell_type": "markdown",
   "id": "f6ae13de",
   "metadata": {},
   "source": [
    "## Incidents by decade"
   ]
  },
  {
   "cell_type": "code",
   "execution_count": 3,
   "id": "c8eeff92",
   "metadata": {},
   "outputs": [],
   "source": [
    "df['installation_year'] = pd.to_datetime(df['installation_year'], format='%Y-%m-%d')"
   ]
  },
  {
   "cell_type": "code",
   "execution_count": 4,
   "id": "6941670a",
   "metadata": {},
   "outputs": [
    {
     "data": {
      "text/plain": [
       "array(['nan', '1990-1999', '1970-1979', '1980-1989', '1960-1969',\n",
       "       '2000-2009', '1950-1959', '1940-1949', '>2010', '1920-1929',\n",
       "       '1930-1939', '1900-1909', '1910-1919'], dtype=object)"
      ]
     },
     "execution_count": 4,
     "metadata": {},
     "output_type": "execute_result"
    }
   ],
   "source": [
    "# split into decades\n",
    "conditions = [\n",
    "    (df['installation_year'] >= '1900-01-01') & (df['installation_year'] < '1910-01-01'),\n",
    "    (df['installation_year'] >= '1910-01-01') & (df['installation_year'] < '1920-01-01'),\n",
    "    (df['installation_year'] >= '1920-01-01') & (df['installation_year'] < '1930-01-01'),\n",
    "    (df['installation_year'] >= '1930-01-01') & (df['installation_year'] < '1940-01-01'),\n",
    "    (df['installation_year'] >= '1940-01-01') & (df['installation_year'] < '1950-01-01'),\n",
    "    (df['installation_year'] >= '1950-01-01') & (df['installation_year'] < '1960-01-01'),\n",
    "    (df['installation_year'] >= '1960-01-01') & (df['installation_year'] < '1970-01-01'),\n",
    "    (df['installation_year'] >= '1970-01-01') & (df['installation_year'] < '1980-01-01'),\n",
    "    (df['installation_year'] >= '1980-01-01') & (df['installation_year'] < '1990-01-01'),\n",
    "    (df['installation_year'] >= '1990-01-01') & (df['installation_year'] < '2000-01-01'),\n",
    "    (df['installation_year'] >= '2000-01-01') & (df['installation_year'] < '2010-01-01'),\n",
    "    df['installation_year'] >= '2010-01-01'\n",
    "]\n",
    "\n",
    "outputs = [\n",
    "    '1900-1909', '1910-1919', '1920-1929', '1930-1939', '1940-1949', '1950-1959', '1960-1969', '1970-1979',\n",
    "    '1980-1989', '1990-1999', '2000-2009', '>2010'\n",
    "]\n",
    "\n",
    "df['decade'] = np.select(conditions, outputs, np.nan)\n",
    "df.decade.unique()"
   ]
  },
  {
   "cell_type": "code",
   "execution_count": 5,
   "id": "63e678ac",
   "metadata": {},
   "outputs": [
    {
     "data": {
      "text/plain": [
       "0.20469395919455927"
      ]
     },
     "execution_count": 5,
     "metadata": {},
     "output_type": "execute_result"
    }
   ],
   "source": [
    "# accidents with post 2010 installation year for how many accidents with ANY installation year that occurred post 2010\n",
    "len(df[df.decade == '>2010'])/ len(df[df.iyear >= 2010])\n",
    "\n",
    "# 20.5% of all accidents that occurred post 2010 had installation years after 2010"
   ]
  },
  {
   "cell_type": "markdown",
   "id": "da7bd7f6",
   "metadata": {},
   "source": [
    "## Overview of incidents"
   ]
  },
  {
   "cell_type": "code",
   "execution_count": 6,
   "id": "d6e29e04",
   "metadata": {},
   "outputs": [
    {
     "data": {
      "text/plain": [
       "7994914265.472826"
      ]
     },
     "execution_count": 6,
     "metadata": {},
     "output_type": "execute_result"
    }
   ],
   "source": [
    "# Total cost adjusted for inflation\n",
    "df['total_cost_current'].sum()"
   ]
  },
  {
   "cell_type": "code",
   "execution_count": 7,
   "id": "89f59acb",
   "metadata": {},
   "outputs": [
    {
     "data": {
      "text/plain": [
       "716"
      ]
     },
     "execution_count": 7,
     "metadata": {},
     "output_type": "execute_result"
    }
   ],
   "source": [
    "# Total injuries \n",
    "df.injure.sum()"
   ]
  },
  {
   "cell_type": "code",
   "execution_count": 8,
   "id": "7ee6793c",
   "metadata": {},
   "outputs": [
    {
     "data": {
      "text/plain": [
       "156"
      ]
     },
     "execution_count": 8,
     "metadata": {},
     "output_type": "execute_result"
    }
   ],
   "source": [
    "# Total deaths\n",
    "df.fatal.sum()"
   ]
  },
  {
   "cell_type": "code",
   "execution_count": 9,
   "id": "1514ea85",
   "metadata": {},
   "outputs": [
    {
     "data": {
      "text/plain": [
       "(7499, 41)"
      ]
     },
     "execution_count": 9,
     "metadata": {},
     "output_type": "execute_result"
    }
   ],
   "source": [
    "# Total incidents\n",
    "df.shape"
   ]
  },
  {
   "cell_type": "markdown",
   "id": "24928ead",
   "metadata": {},
   "source": [
    "## Plot of incidents by pipeline age at time of incident"
   ]
  },
  {
   "cell_type": "code",
   "execution_count": 10,
   "id": "f08b4321",
   "metadata": {},
   "outputs": [
    {
     "data": {
      "text/plain": [
       "<AxesSubplot:>"
      ]
     },
     "execution_count": 10,
     "metadata": {},
     "output_type": "execute_result"
    },
    {
     "data": {
      "image/png": "[encoded data removed]",
      "text/plain": [
       "<Figure size 432x288 with 1 Axes>"
      ]
     },
     "metadata": {
      "needs_background": "light"
     },
     "output_type": "display_data"
    }
   ],
   "source": [
    "df.pipeline_age.hist()"
   ]
  }
 ],
 "metadata": {
  "kernelspec": {
   "display_name": "Python 3 (ipykernel)",
   "language": "python",
   "name": "python3"
  },
  "language_info": {
   "codemirror_mode": {
    "name": "ipython",
    "version": 3
   },
   "file_extension": ".py",
   "mimetype": "text/x-python",
   "name": "python",
   "nbconvert_exporter": "python",
   "pygments_lexer": "ipython3",
   "version": "3.9.7"
  }
 },
 "nbformat": 4,
 "nbformat_minor": 5
}
