{
 "cells": [
  {
   "cell_type": "markdown",
   "id": "494dd8fd",
   "metadata": {},
   "source": [
    "# Looking at basic summary stats for pipeline incidnets since 2010\n",
    "\n",
    "* 'Signficiant' and 'non-significant' events\n",
    "* Events include the following: \n",
    "    * Gas distribution\n",
    "    * Gas Transmission and Gathering\n",
    "    * Hazardous liquid\n",
    "    \n",
    "    **NOTE:** Liquified Natural Gas incidents are not included in this analysis (32 total LNG incidents since 2011)\n",
    "    \n",
    "[Data source](https://www.phmsa.dot.gov/data-and-statistics/pipeline/source-data)\n",
    "Data downloaded on: "
   ]
  },
  {
   "cell_type": "code",
   "execution_count": 1,
   "id": "5137fcf1",
   "metadata": {},
   "outputs": [
    {
     "name": "stderr",
     "output_type": "stream",
     "text": [
      "/Users/jessieblaeser/.pyenv/versions/3.10.0/lib/python3.10/site-packages/pandas/compat/__init__.py:124: UserWarning: Could not import the lzma module. Your installed Python is incomplete. Attempting to use lzma compression will result in a RuntimeError.\n",
      "  warnings.warn(msg)\n",
      "/Users/jessieblaeser/.pyenv/versions/3.10.0/lib/python3.10/site-packages/IPython/core/interactiveshell.py:3444: DtypeWarning: Columns (1,15,16,18,19,20,21,22,25,26,27,28,29,30,31,32,33,36,56,57,58,63,64,65,72,73,75,76,77,78,84,85,87,89,92,93,94,95,101,102,103,104,105,106,108,109,116,120,148,149,151,152,154,171,172,173,193,194,197,198,205,209,210,214,217,218,219,221,222,223,225,228,230,231,233,234,238,239,240,250,251,252,256,257,261,262,263,265,266,268,269,276,277,278,279,280,281,286,287,290,293,294,295,296,297,300,301,303,304,305,306,307,310,311,313,314,315,316,317,318,319,320,321,322,324,325,326,327,329,330,331,332,333,334,335,336,337,340,341,342,343,344,345,347,348,351,354,355,356,357,359,360,361,362,363,365,366,367,368,369,371,372,373,374,375,376,377,378,379,380,384,386,387,388,389,391,393,394,395,399,400,401,402,407,411,421,422,423,427,428,429,430,432,433,434,435,436,439,440,441,442,443,446,447,449,451,452,454,455,456,457,460,462,463,464,465,466,472,473,474,480,482,483,484,485,486,487,488,489,490,491,492,493,494,495,496,497,498,499,500,501,502,503,504,505,506,507,508,509,510,511,512,513,514,515,516,517,518,519,520,521,522,524,525,526,529,530,532,533,535,536,537,538,539,540,541,542,543,545,546,547,548,549,550,552,556,557,558,559,561,562,563,564,565,566,567,568,569,570,571,572,573,574,575,576,577,578,579,580,581,582,583,584,585,586,587,588,589,590,591,592,593,594,595,596,597,598,599,600,601,602,603,604,605,606,607,608,609,610,611,612,613,614,615,616,617,618,619,620,621,622,623,624,625,626,627,628,629,630,631,632,633,634,635,636,637,638,639,640,641,642,644,646,647,649,652,653,655,658,659,662,663,666,667,669,678,679,681,683,684,686,688,690,695,697,699,700,701,704,711,713,714,716,717,718,724,726,727,728,729,730,731,732,736,737,738,739,740,741,742,749,751,752,753,754,755,756,758,759,760,761,762,768,770,772,773,774,775,776,777,778,779,780,781,782,783,784,785,786,787,789,790,791,792,793,794,795,796,797,798,799,800,804,805,806,807,808,809,810,811,814,815,817,818,819,820,821,822,825) have mixed types.Specify dtype option on import or set low_memory=False.\n",
      "  exec(code_obj, self.user_global_ns, self.user_ns)\n"
     ]
    }
   ],
   "source": [
    "import pandas as pd\n",
    "import numpy as np\n",
    "import os\n",
    "\n",
    "df = pd.read_csv('../data/processed/pipeline_incidents_2010_present_all.csv')\n"
   ]
  },
  {
   "cell_type": "code",
   "execution_count": 2,
   "id": "68f648a1",
   "metadata": {},
   "outputs": [
    {
     "data": {
      "text/plain": [
       "7994914265.472826"
      ]
     },
     "execution_count": 2,
     "metadata": {},
     "output_type": "execute_result"
    }
   ],
   "source": [
    "# Total cost adjusted for inflation\n",
    "df['total_cost_current'].sum()"
   ]
  },
  {
   "cell_type": "code",
   "execution_count": 3,
   "id": "be79abfb",
   "metadata": {},
   "outputs": [
    {
     "data": {
      "text/plain": [
       "716"
      ]
     },
     "execution_count": 3,
     "metadata": {},
     "output_type": "execute_result"
    }
   ],
   "source": [
    "# Total injuries \n",
    "df.injure.sum()"
   ]
  },
  {
   "cell_type": "code",
   "execution_count": 4,
   "id": "ab87f05a",
   "metadata": {},
   "outputs": [
    {
     "data": {
      "text/plain": [
       "156"
      ]
     },
     "execution_count": 4,
     "metadata": {},
     "output_type": "execute_result"
    }
   ],
   "source": [
    "# Total deaths\n",
    "df.fatal.sum()"
   ]
  },
  {
   "cell_type": "code",
   "execution_count": 5,
   "id": "b4bb23d8",
   "metadata": {},
   "outputs": [
    {
     "data": {
      "text/plain": [
       "(7499, 826)"
      ]
     },
     "execution_count": 5,
     "metadata": {},
     "output_type": "execute_result"
    }
   ],
   "source": [
    "# Total incidents\n",
    "df.shape"
   ]
  },
  {
   "cell_type": "markdown",
   "id": "a2dca68e",
   "metadata": {},
   "source": [
    "# Conclusions: \n",
    "* There have been 7,499 pipeline incidents from 2010 to date of data download\n",
    "* Total cost of pipeline incidents since 2010 adjusted for inflation = ~ \n",
    "$7,994,914,265\n",
    "* Pipeline incidents since 2010 have injured 716 people\n",
    "* Pipeline incidents since 2010 have killed 156 people\n"
   ]
  },
  {
   "cell_type": "code",
   "execution_count": null,
   "id": "0013f261",
   "metadata": {},
   "outputs": [],
   "source": []
  }
 ],
 "metadata": {
  "kernelspec": {
   "display_name": "Python 3 (ipykernel)",
   "language": "python",
   "name": "python3"
  },
  "language_info": {
   "codemirror_mode": {
    "name": "ipython",
    "version": 3
   },
   "file_extension": ".py",
   "mimetype": "text/x-python",
   "name": "python",
   "nbconvert_exporter": "python",
   "pygments_lexer": "ipython3",
   "version": "3.10.0"
  }
 },
 "nbformat": 4,
 "nbformat_minor": 5
}
