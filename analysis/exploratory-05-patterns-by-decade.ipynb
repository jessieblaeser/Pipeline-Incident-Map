{
 "cells": [
  {
   "cell_type": "markdown",
   "id": "cbfeb0a2",
   "metadata": {},
   "source": [
    "# Patterns by decade"
   ]
  },
  {
   "cell_type": "code",
   "execution_count": 1,
   "id": "63c9de7b",
   "metadata": {},
   "outputs": [
    {
     "name": "stderr",
     "output_type": "stream",
     "text": [
      "/Users/ilenapeng/.pyenv/versions/3.9.7/lib/python3.9/site-packages/pandas/compat/__init__.py:124: UserWarning: Could not import the lzma module. Your installed Python is incomplete. Attempting to use lzma compression will result in a RuntimeError.\n",
      "  warnings.warn(msg)\n"
     ]
    }
   ],
   "source": [
    "import pandas as pd\n",
    "import numpy as np\n",
    "pd.set_option('display.max_columns', None)\n",
    "pd.set_option('display.max_rows', None)"
   ]
  },
  {
   "cell_type": "code",
   "execution_count": 19,
   "id": "d0f0cb74",
   "metadata": {},
   "outputs": [
    {
     "data": {
      "text/html": [
       "<div>\n",
       "<style scoped>\n",
       "    .dataframe tbody tr th:only-of-type {\n",
       "        vertical-align: middle;\n",
       "    }\n",
       "\n",
       "    .dataframe tbody tr th {\n",
       "        vertical-align: top;\n",
       "    }\n",
       "\n",
       "    .dataframe thead th {\n",
       "        text-align: right;\n",
       "    }\n",
       "</style>\n",
       "<table border=\"1\" class=\"dataframe\">\n",
       "  <thead>\n",
       "    <tr style=\"text-align: right;\">\n",
       "      <th></th>\n",
       "      <th>datafile_as_of</th>\n",
       "      <th>ff</th>\n",
       "      <th>significant</th>\n",
       "      <th>serious</th>\n",
       "      <th>report_number</th>\n",
       "      <th>supplemental_number</th>\n",
       "      <th>report_received_date</th>\n",
       "      <th>report_type</th>\n",
       "      <th>operator_id</th>\n",
       "      <th>name</th>\n",
       "      <th>operator_street_address</th>\n",
       "      <th>operator_city_name</th>\n",
       "      <th>operator_state_abbreviation</th>\n",
       "      <th>operator_postal_code</th>\n",
       "      <th>local_datetime</th>\n",
       "      <th>time_zone</th>\n",
       "      <th>daylight_savings_ind</th>\n",
       "      <th>iyear</th>\n",
       "      <th>location_street_address</th>\n",
       "      <th>location_city_name</th>\n",
       "      <th>location_county_name</th>\n",
       "      <th>location_state_abbreviation</th>\n",
       "      <th>location_postal_code</th>\n",
       "      <th>location_latitude</th>\n",
       "      <th>location_longitude</th>\n",
       "      <th>total_cost</th>\n",
       "      <th>total_cost_current</th>\n",
       "      <th>injury_ind</th>\n",
       "      <th>injure</th>\n",
       "      <th>num_pub_evacuated</th>\n",
       "      <th>fatal</th>\n",
       "      <th>cause</th>\n",
       "      <th>cause_details</th>\n",
       "      <th>material_involved</th>\n",
       "      <th>material_details</th>\n",
       "      <th>narrative</th>\n",
       "      <th>unintentional_release</th>\n",
       "      <th>installation_year</th>\n",
       "      <th>decade</th>\n",
       "    </tr>\n",
       "  </thead>\n",
       "  <tbody>\n",
       "    <tr>\n",
       "      <th>0</th>\n",
       "      <td>2/28/22</td>\n",
       "      <td>NO</td>\n",
       "      <td>YES</td>\n",
       "      <td>NO</td>\n",
       "      <td>20100001</td>\n",
       "      <td>15047</td>\n",
       "      <td>3/11/10</td>\n",
       "      <td>SUPPLEMENTAL FINAL</td>\n",
       "      <td>15007</td>\n",
       "      <td>PACIFIC GAS &amp; ELECTRIC CO</td>\n",
       "      <td>PG&amp;E - GAS OPERATIONS, REGULATORY COMPLIANCE 6...</td>\n",
       "      <td>SAN RAMON</td>\n",
       "      <td>CA</td>\n",
       "      <td>94583</td>\n",
       "      <td>2/13/10 23:35</td>\n",
       "      <td>NaN</td>\n",
       "      <td>NaN</td>\n",
       "      <td>2010</td>\n",
       "      <td>1617 EAST 9TH STREET</td>\n",
       "      <td>STOCKTON</td>\n",
       "      <td>SAN JOAQUIN</td>\n",
       "      <td>CA</td>\n",
       "      <td>95201</td>\n",
       "      <td>37.93188</td>\n",
       "      <td>-121.26133</td>\n",
       "      <td>102500</td>\n",
       "      <td>124764.082311</td>\n",
       "      <td>NO</td>\n",
       "      <td>0</td>\n",
       "      <td>0.0</td>\n",
       "      <td>0</td>\n",
       "      <td>OTHER OUTSIDE FORCE DAMAGE</td>\n",
       "      <td>OTHER OUTSIDE FORCE DAMAGE</td>\n",
       "      <td>OTHER</td>\n",
       "      <td>ALUMINUN</td>\n",
       "      <td>A FIRE AT AN UNOCCUPIED HOME OCCURRED AT APPRO...</td>\n",
       "      <td>10.0</td>\n",
       "      <td>NaN</td>\n",
       "      <td>NaN</td>\n",
       "    </tr>\n",
       "    <tr>\n",
       "      <th>1</th>\n",
       "      <td>2/28/22</td>\n",
       "      <td>NO</td>\n",
       "      <td>NO</td>\n",
       "      <td>NO</td>\n",
       "      <td>20100002</td>\n",
       "      <td>15553</td>\n",
       "      <td>3/12/10</td>\n",
       "      <td>SUPPLEMENTAL FINAL</td>\n",
       "      <td>13730</td>\n",
       "      <td>NORTHERN INDIANA PUBLIC SERVICE CO</td>\n",
       "      <td>801 E 86TH AVENUE</td>\n",
       "      <td>MERRILLVILLE</td>\n",
       "      <td>IN</td>\n",
       "      <td>46410</td>\n",
       "      <td>2/16/10 10:38</td>\n",
       "      <td>NaN</td>\n",
       "      <td>NaN</td>\n",
       "      <td>2010</td>\n",
       "      <td>3835 SANDPIPER COVE RUN</td>\n",
       "      <td>SOUTH BEND</td>\n",
       "      <td>ST. JOSEPH</td>\n",
       "      <td>IN</td>\n",
       "      <td>46628</td>\n",
       "      <td>41.72931</td>\n",
       "      <td>-86.27531</td>\n",
       "      <td>57500</td>\n",
       "      <td>68334.121206</td>\n",
       "      <td>NO</td>\n",
       "      <td>0</td>\n",
       "      <td>20.0</td>\n",
       "      <td>0</td>\n",
       "      <td>EXCAVATION DAMAGE</td>\n",
       "      <td>EXCAVATION DAMAGE BY THIRD PARTY</td>\n",
       "      <td>PLASTIC</td>\n",
       "      <td>NaN</td>\n",
       "      <td>CONTRACTOR BORING ELECTRIC LINE PARALLEL TO 3\"...</td>\n",
       "      <td>310.0</td>\n",
       "      <td>1990-01-01</td>\n",
       "      <td>1990-1999</td>\n",
       "    </tr>\n",
       "  </tbody>\n",
       "</table>\n",
       "</div>"
      ],
      "text/plain": [
       "  datafile_as_of  ff significant serious  report_number  supplemental_number  \\\n",
       "0        2/28/22  NO         YES      NO       20100001                15047   \n",
       "1        2/28/22  NO          NO      NO       20100002                15553   \n",
       "\n",
       "  report_received_date         report_type  operator_id  \\\n",
       "0              3/11/10  SUPPLEMENTAL FINAL        15007   \n",
       "1              3/12/10  SUPPLEMENTAL FINAL        13730   \n",
       "\n",
       "                                 name  \\\n",
       "0           PACIFIC GAS & ELECTRIC CO   \n",
       "1  NORTHERN INDIANA PUBLIC SERVICE CO   \n",
       "\n",
       "                             operator_street_address operator_city_name  \\\n",
       "0  PG&E - GAS OPERATIONS, REGULATORY COMPLIANCE 6...          SAN RAMON   \n",
       "1                                 801 E 86TH AVENUE        MERRILLVILLE   \n",
       "\n",
       "  operator_state_abbreviation operator_postal_code local_datetime time_zone  \\\n",
       "0                          CA                94583  2/13/10 23:35       NaN   \n",
       "1                          IN                46410  2/16/10 10:38       NaN   \n",
       "\n",
       "  daylight_savings_ind  iyear  location_street_address location_city_name  \\\n",
       "0                  NaN   2010     1617 EAST 9TH STREET           STOCKTON   \n",
       "1                  NaN   2010  3835 SANDPIPER COVE RUN         SOUTH BEND   \n",
       "\n",
       "  location_county_name location_state_abbreviation location_postal_code  \\\n",
       "0          SAN JOAQUIN                          CA                95201   \n",
       "1           ST. JOSEPH                          IN                46628   \n",
       "\n",
       "   location_latitude  location_longitude  total_cost  total_cost_current  \\\n",
       "0           37.93188          -121.26133      102500       124764.082311   \n",
       "1           41.72931           -86.27531       57500        68334.121206   \n",
       "\n",
       "  injury_ind  injure  num_pub_evacuated  fatal                       cause  \\\n",
       "0         NO       0                0.0      0  OTHER OUTSIDE FORCE DAMAGE   \n",
       "1         NO       0               20.0      0           EXCAVATION DAMAGE   \n",
       "\n",
       "                      cause_details material_involved material_details  \\\n",
       "0        OTHER OUTSIDE FORCE DAMAGE             OTHER         ALUMINUN   \n",
       "1  EXCAVATION DAMAGE BY THIRD PARTY           PLASTIC              NaN   \n",
       "\n",
       "                                           narrative  unintentional_release  \\\n",
       "0  A FIRE AT AN UNOCCUPIED HOME OCCURRED AT APPRO...                   10.0   \n",
       "1  CONTRACTOR BORING ELECTRIC LINE PARALLEL TO 3\"...                  310.0   \n",
       "\n",
       "  installation_year     decade  \n",
       "0               NaN        NaN  \n",
       "1        1990-01-01  1990-1999  "
      ]
     },
     "execution_count": 19,
     "metadata": {},
     "output_type": "execute_result"
    }
   ],
   "source": [
    "df = pd.read_csv('../data/processed/pipeline_incidents_2010_present_all_CLEAN.csv')\n",
    "df.head(2)"
   ]
  },
  {
   "cell_type": "code",
   "execution_count": 3,
   "id": "6761ed5f",
   "metadata": {},
   "outputs": [],
   "source": [
    "df['installation_year'] = pd.to_datetime(df['installation_year'], format='%Y-%m-%d')"
   ]
  },
  {
   "cell_type": "code",
   "execution_count": 4,
   "id": "495fac9b",
   "metadata": {},
   "outputs": [
    {
     "data": {
      "text/plain": [
       "array(['nan', '1990-1999', '1970-1979', '1980-1989', '1960-1969',\n",
       "       '2000-2009', '1950-1959', '1940-1949', '>2010', '1920-1929',\n",
       "       '1930-1939', '1900-1909', '1910-1919'], dtype=object)"
      ]
     },
     "execution_count": 4,
     "metadata": {},
     "output_type": "execute_result"
    }
   ],
   "source": [
    "# split into decades\n",
    "conditions = [\n",
    "    (df['installation_year'] >= '1900-01-01') & (df['installation_year'] < '1910-01-01'),\n",
    "    (df['installation_year'] >= '1910-01-01') & (df['installation_year'] < '1920-01-01'),\n",
    "    (df['installation_year'] >= '1920-01-01') & (df['installation_year'] < '1930-01-01'),\n",
    "    (df['installation_year'] >= '1930-01-01') & (df['installation_year'] < '1940-01-01'),\n",
    "    (df['installation_year'] >= '1940-01-01') & (df['installation_year'] < '1950-01-01'),\n",
    "    (df['installation_year'] >= '1950-01-01') & (df['installation_year'] < '1960-01-01'),\n",
    "    (df['installation_year'] >= '1960-01-01') & (df['installation_year'] < '1970-01-01'),\n",
    "    (df['installation_year'] >= '1970-01-01') & (df['installation_year'] < '1980-01-01'),\n",
    "    (df['installation_year'] >= '1980-01-01') & (df['installation_year'] < '1990-01-01'),\n",
    "    (df['installation_year'] >= '1990-01-01') & (df['installation_year'] < '2000-01-01'),\n",
    "    (df['installation_year'] >= '2000-01-01') & (df['installation_year'] < '2010-01-01'),\n",
    "    df['installation_year'] >= '2010-01-01'\n",
    "]\n",
    "\n",
    "outputs = [\n",
    "    '1900-1909', '1910-1919', '1920-1929', '1930-1939', '1940-1949', '1950-1959', '1960-1969', '1970-1979',\n",
    "    '1980-1989', '1990-1999', '2000-2009', '>2010'\n",
    "]\n",
    "\n",
    "df['decade'] = np.select(conditions, outputs, np.nan)\n",
    "df.decade.unique()"
   ]
  },
  {
   "cell_type": "markdown",
   "id": "46d9bf5a",
   "metadata": {},
   "source": [
    "## Pipeline accidents occuring after 2010, for pipelines built at any time"
   ]
  },
  {
   "cell_type": "code",
   "execution_count": 5,
   "id": "e471feb2",
   "metadata": {},
   "outputs": [
    {
     "data": {
      "text/plain": [
       "decade\n",
       "1900-1909     0\n",
       "1910-1919     1\n",
       "1920-1929     9\n",
       "1930-1939     0\n",
       "1940-1949     7\n",
       "1950-1959    20\n",
       "1960-1969    21\n",
       "1970-1979    11\n",
       "1980-1989    17\n",
       "1990-1999    11\n",
       "2000-2009    13\n",
       ">2010        19\n",
       "nan          27\n",
       "Name: fatal, dtype: int64"
      ]
     },
     "execution_count": 5,
     "metadata": {},
     "output_type": "execute_result"
    }
   ],
   "source": [
    "# total number of fatalities per decade of installation\n",
    "df.groupby('decade').fatal.sum()"
   ]
  },
  {
   "cell_type": "code",
   "execution_count": 6,
   "id": "ae46affd",
   "metadata": {},
   "outputs": [
    {
     "data": {
      "text/plain": [
       "decade\n",
       "1900-1909      1\n",
       "1910-1919      1\n",
       "1920-1929     12\n",
       "1930-1939     10\n",
       "1940-1949     23\n",
       "1950-1959    102\n",
       "1960-1969     88\n",
       "1970-1979     56\n",
       "1980-1989     62\n",
       "1990-1999     56\n",
       "2000-2009     55\n",
       ">2010        106\n",
       "nan          144\n",
       "Name: injure, dtype: int64"
      ]
     },
     "execution_count": 6,
     "metadata": {},
     "output_type": "execute_result"
    }
   ],
   "source": [
    "# total number of injuries per decade of installation\n",
    "df.groupby('decade').injure.sum()"
   ]
  },
  {
   "cell_type": "code",
   "execution_count": 7,
   "id": "57e40aa9",
   "metadata": {},
   "outputs": [
    {
     "data": {
      "text/plain": [
       "iyear\n",
       "2010    22\n",
       "2011    13\n",
       "2012    12\n",
       "2013     9\n",
       "2014    19\n",
       "2015    11\n",
       "2016    16\n",
       "2017     7\n",
       "2018     7\n",
       "2019    11\n",
       "2020    15\n",
       "2021    13\n",
       "2022     1\n",
       "Name: fatal, dtype: int64"
      ]
     },
     "execution_count": 7,
     "metadata": {},
     "output_type": "execute_result"
    }
   ],
   "source": [
    "# per year of incident\n",
    "df.groupby('iyear').fatal.sum()"
   ]
  },
  {
   "cell_type": "code",
   "execution_count": 17,
   "id": "78f40703",
   "metadata": {},
   "outputs": [
    {
     "data": {
      "text/plain": [
       "location_county_name\n",
       "NEW YORK             8\n",
       "MONTGOMERY COUNTY    7\n",
       "GENESEE              5\n",
       "LEHIGH               5\n",
       "LOS ANGELES          4\n",
       "WAYNE                4\n",
       "PHILADELPHIA         3\n",
       "DOUGLAS              3\n",
       "DALLAS               3\n",
       "TRAVIS               2\n",
       "Name: fatal, dtype: int64"
      ]
     },
     "execution_count": 17,
     "metadata": {},
     "output_type": "execute_result"
    }
   ],
   "source": [
    "df.groupby('location_county_name').fatal.sum().sort_values(ascending=False).head(10)"
   ]
  },
  {
   "cell_type": "code",
   "execution_count": 18,
   "id": "fad70e88",
   "metadata": {},
   "outputs": [
    {
     "data": {
      "text/plain": [
       "location_county_name\n",
       "NEW YORK             52\n",
       "MONTGOMERY COUNTY    33\n",
       "ESSEX                30\n",
       "HAMPDEN              17\n",
       "COOK                 15\n",
       "MERCER               11\n",
       "WAYNE                10\n",
       "HARRIS                9\n",
       "MADISON               9\n",
       "ROCKLAND              8\n",
       "Name: injure, dtype: int64"
      ]
     },
     "execution_count": 18,
     "metadata": {},
     "output_type": "execute_result"
    }
   ],
   "source": [
    "df.groupby('location_county_name').injure.sum().sort_values(ascending=False).head(10)"
   ]
  },
  {
   "cell_type": "code",
   "execution_count": 13,
   "id": "418b87fc",
   "metadata": {},
   "outputs": [
    {
     "data": {
      "text/plain": [
       "iyear\n",
       "2010    108\n",
       "2011     55\n",
       "2012     57\n",
       "2013     44\n",
       "2014     94\n",
       "2015     48\n",
       "2016     87\n",
       "2017     32\n",
       "2018     78\n",
       "2019     36\n",
       "2020     43\n",
       "2021     32\n",
       "2022      2\n",
       "Name: injure, dtype: int64"
      ]
     },
     "execution_count": 13,
     "metadata": {},
     "output_type": "execute_result"
    }
   ],
   "source": [
    "# per year of incident\n",
    "df.groupby('iyear').injure.sum()"
   ]
  },
  {
   "cell_type": "code",
   "execution_count": 9,
   "id": "e9232522",
   "metadata": {},
   "outputs": [
    {
     "data": {
      "text/plain": [
       "decade\n",
       "1900-1909       6306582\n",
       "1910-1919       2269162\n",
       "1920-1929      20347696\n",
       "1930-1939      43592639\n",
       "1940-1949     219590037\n",
       "1950-1959    1105906750\n",
       "1960-1969    3354332951\n",
       "1970-1979     600178891\n",
       "1980-1989     218618557\n",
       "1990-1999     551108794\n",
       "2000-2009     407268158\n",
       ">2010         367858122\n",
       "nan           278520891\n",
       "Name: total_cost, dtype: int64"
      ]
     },
     "execution_count": 9,
     "metadata": {},
     "output_type": "execute_result"
    }
   ],
   "source": [
    "# total cost per decade\n",
    "df.groupby('decade').total_cost.sum()"
   ]
  },
  {
   "cell_type": "code",
   "execution_count": 10,
   "id": "7f4ade75",
   "metadata": {},
   "outputs": [
    {
     "data": {
      "text/plain": [
       "decade     cause                           \n",
       "1900-1909  EXCAVATION DAMAGE                   0.250000\n",
       "           MATERIAL FAILURE OF PIPE OR WELD    0.166667\n",
       "           NATURAL FORCE DAMAGE                0.166667\n",
       "           OTHER OUTSIDE FORCE DAMAGE          0.166667\n",
       "           CORROSION FAILURE                   0.083333\n",
       "           INCORRECT OPERATION                 0.083333\n",
       "           OTHER INCIDENT CAUSE                0.083333\n",
       "1910-1919  OTHER OUTSIDE FORCE DAMAGE          0.666667\n",
       "           CORROSION FAILURE                   0.333333\n",
       "1920-1929  CORROSION FAILURE                   0.421875\n",
       "           MATERIAL FAILURE OF PIPE OR WELD    0.171875\n",
       "           EXCAVATION DAMAGE                   0.109375\n",
       "           NATURAL FORCE DAMAGE                0.093750\n",
       "           EQUIPMENT FAILURE                   0.078125\n",
       "           OTHER INCIDENT CAUSE                0.046875\n",
       "           OTHER OUTSIDE FORCE DAMAGE          0.046875\n",
       "           INCORRECT OPERATION                 0.031250\n",
       "1930-1939  CORROSION FAILURE                   0.368932\n",
       "           EXCAVATION DAMAGE                   0.223301\n",
       "           EQUIPMENT FAILURE                   0.106796\n",
       "           MATERIAL FAILURE OF PIPE OR WELD    0.097087\n",
       "           NATURAL FORCE DAMAGE                0.077670\n",
       "           OTHER OUTSIDE FORCE DAMAGE          0.067961\n",
       "           OTHER INCIDENT CAUSE                0.038835\n",
       "           INCORRECT OPERATION                 0.019417\n",
       "1940-1949  CORROSION FAILURE                   0.278884\n",
       "           EXCAVATION DAMAGE                   0.203187\n",
       "           MATERIAL FAILURE OF PIPE OR WELD    0.195219\n",
       "           EQUIPMENT FAILURE                   0.107570\n",
       "           INCORRECT OPERATION                 0.067729\n",
       "           OTHER OUTSIDE FORCE DAMAGE          0.067729\n",
       "           NATURAL FORCE DAMAGE                0.055777\n",
       "           OTHER INCIDENT CAUSE                0.023904\n",
       "1950-1959  CORROSION FAILURE                   0.270998\n",
       "           EXCAVATION DAMAGE                   0.177496\n",
       "           MATERIAL FAILURE OF PIPE OR WELD    0.158479\n",
       "           EQUIPMENT FAILURE                   0.148970\n",
       "           OTHER OUTSIDE FORCE DAMAGE          0.088748\n",
       "           INCORRECT OPERATION                 0.071315\n",
       "           NATURAL FORCE DAMAGE                0.057052\n",
       "           OTHER INCIDENT CAUSE                0.026941\n",
       "1960-1969  CORROSION FAILURE                   0.224736\n",
       "           EXCAVATION DAMAGE                   0.200603\n",
       "           MATERIAL FAILURE OF PIPE OR WELD    0.173454\n",
       "           EQUIPMENT FAILURE                   0.149321\n",
       "           OTHER OUTSIDE FORCE DAMAGE          0.081448\n",
       "           NATURAL FORCE DAMAGE                0.070890\n",
       "           INCORRECT OPERATION                 0.066365\n",
       "           OTHER INCIDENT CAUSE                0.033183\n",
       "1970-1979  CORROSION FAILURE                   0.285714\n",
       "           EQUIPMENT FAILURE                   0.215038\n",
       "           MATERIAL FAILURE OF PIPE OR WELD    0.117293\n",
       "           EXCAVATION DAMAGE                   0.115789\n",
       "           OTHER OUTSIDE FORCE DAMAGE          0.097744\n",
       "           INCORRECT OPERATION                 0.067669\n",
       "           NATURAL FORCE DAMAGE                0.058647\n",
       "           OTHER INCIDENT CAUSE                0.042105\n",
       "1980-1989  EQUIPMENT FAILURE                   0.282353\n",
       "           CORROSION FAILURE                   0.176471\n",
       "           EXCAVATION DAMAGE                   0.148235\n",
       "           OTHER OUTSIDE FORCE DAMAGE          0.120000\n",
       "           MATERIAL FAILURE OF PIPE OR WELD    0.108235\n",
       "           INCORRECT OPERATION                 0.084706\n",
       "           NATURAL FORCE DAMAGE                0.051765\n",
       "           OTHER INCIDENT CAUSE                0.028235\n",
       "1990-1999  EQUIPMENT FAILURE                   0.314402\n",
       "           CORROSION FAILURE                   0.164300\n",
       "           OTHER OUTSIDE FORCE DAMAGE          0.146045\n",
       "           EXCAVATION DAMAGE                   0.135903\n",
       "           INCORRECT OPERATION                 0.079108\n",
       "           NATURAL FORCE DAMAGE                0.070994\n",
       "           MATERIAL FAILURE OF PIPE OR WELD    0.052738\n",
       "           OTHER INCIDENT CAUSE                0.036511\n",
       "2000-2009  EQUIPMENT FAILURE                   0.445652\n",
       "           OTHER OUTSIDE FORCE DAMAGE          0.119565\n",
       "           EXCAVATION DAMAGE                   0.114907\n",
       "           INCORRECT OPERATION                 0.100932\n",
       "           CORROSION FAILURE                   0.077640\n",
       "           NATURAL FORCE DAMAGE                0.063665\n",
       "           MATERIAL FAILURE OF PIPE OR WELD    0.041925\n",
       "           OTHER INCIDENT CAUSE                0.035714\n",
       ">2010      EQUIPMENT FAILURE                   0.543974\n",
       "           INCORRECT OPERATION                 0.193485\n",
       "           CORROSION FAILURE                   0.076873\n",
       "           NATURAL FORCE DAMAGE                0.052769\n",
       "           EXCAVATION DAMAGE                   0.048860\n",
       "           OTHER OUTSIDE FORCE DAMAGE          0.034528\n",
       "           MATERIAL FAILURE OF PIPE OR WELD    0.029316\n",
       "           OTHER INCIDENT CAUSE                0.020195\n",
       "nan        EQUIPMENT FAILURE                   0.461194\n",
       "           CORROSION FAILURE                   0.156219\n",
       "           INCORRECT OPERATION                 0.141294\n",
       "           OTHER OUTSIDE FORCE DAMAGE          0.069154\n",
       "           OTHER INCIDENT CAUSE                0.051741\n",
       "           NATURAL FORCE DAMAGE                0.047264\n",
       "           EXCAVATION DAMAGE                   0.044279\n",
       "           MATERIAL FAILURE OF PIPE OR WELD    0.028856\n",
       "Name: cause, dtype: float64"
      ]
     },
     "execution_count": 10,
     "metadata": {},
     "output_type": "execute_result"
    }
   ],
   "source": [
    "# causes for each decade\n",
    "df.groupby('decade').cause.value_counts(normalize=True)"
   ]
  },
  {
   "cell_type": "code",
   "execution_count": 11,
   "id": "743635a0",
   "metadata": {},
   "outputs": [
    {
     "data": {
      "text/plain": [
       "decade     material_involved                          \n",
       "1900-1909  CAST/WROUGHT IRON                               10\n",
       "           CARBON STEEL                                     2\n",
       "1910-1919  CAST/WROUGHT IRON                                2\n",
       "           CARBON STEEL                                     1\n",
       "1920-1929  CARBON STEEL                                    45\n",
       "           CAST/WROUGHT IRON                               10\n",
       "           STEEL                                            7\n",
       "           MATERIAL OTHER THAN CARBON STEEL                 2\n",
       "1930-1939  CARBON STEEL                                    74\n",
       "           STEEL                                           21\n",
       "           CAST/WROUGHT IRON                                6\n",
       "           MATERIAL OTHER THAN CARBON STEEL                 1\n",
       "           MATERIAL OTHER THAN CARBON STEEL OR PLASTIC      1\n",
       "1940-1949  CARBON STEEL                                   206\n",
       "           STEEL                                           34\n",
       "           MATERIAL OTHER THAN CARBON STEEL                 6\n",
       "           CAST/WROUGHT IRON                                2\n",
       "           DUCTILE IRON                                     1\n",
       "           MATERIAL OTHER THAN CARBON STEEL OR PLASTIC      1\n",
       "           OTHER                                            1\n",
       "1950-1959  CARBON STEEL                                   521\n",
       "           STEEL                                           77\n",
       "           MATERIAL OTHER THAN CARBON STEEL                14\n",
       "           CAST/WROUGHT IRON                                9\n",
       "           MATERIAL OTHER THAN CARBON STEEL OR PLASTIC      4\n",
       "           OTHER                                            4\n",
       "           COPPER                                           2\n",
       "1960-1969  CARBON STEEL                                   492\n",
       "           STEEL                                          116\n",
       "           MATERIAL OTHER THAN CARBON STEEL                24\n",
       "           OTHER                                           11\n",
       "           PLASTIC                                         10\n",
       "           MATERIAL OTHER THAN CARBON STEEL OR PLASTIC      4\n",
       "           COPPER                                           3\n",
       "           CAST/WROUGHT IRON                                1\n",
       "           DUCTILE IRON                                     1\n",
       "           UNKNOWN                                          1\n",
       "1970-1979  CARBON STEEL                                   499\n",
       "           STEEL                                           68\n",
       "           PLASTIC                                         50\n",
       "           MATERIAL OTHER THAN CARBON STEEL                25\n",
       "           OTHER                                           14\n",
       "           COPPER                                           6\n",
       "           UNKNOWN                                          2\n",
       "           MATERIAL OTHER THAN CARBON STEEL OR PLASTIC      1\n",
       "1980-1989  CARBON STEEL                                   255\n",
       "           PLASTIC                                         77\n",
       "           STEEL                                           47\n",
       "           MATERIAL OTHER THAN CARBON STEEL                27\n",
       "           OTHER                                           12\n",
       "           MATERIAL OTHER THAN CARBON STEEL OR PLASTIC      5\n",
       "           CAST/WROUGHT IRON                                2\n",
       "1990-1999  CARBON STEEL                                   276\n",
       "           PLASTIC                                         93\n",
       "           MATERIAL OTHER THAN CARBON STEEL                47\n",
       "           STEEL                                           39\n",
       "           OTHER                                           22\n",
       "           MATERIAL OTHER THAN CARBON STEEL OR PLASTIC     13\n",
       "           UNKNOWN                                          3\n",
       "2000-2009  CARBON STEEL                                   371\n",
       "           MATERIAL OTHER THAN CARBON STEEL               109\n",
       "           PLASTIC                                         70\n",
       "           STEEL                                           43\n",
       "           OTHER                                           30\n",
       "           MATERIAL OTHER THAN CARBON STEEL OR PLASTIC     17\n",
       "           CAST/WROUGHT IRON                                3\n",
       "           DUCTILE IRON                                     1\n",
       ">2010      CARBON STEEL                                   973\n",
       "           MATERIAL OTHER THAN CARBON STEEL               387\n",
       "           PLASTIC                                         84\n",
       "           STEEL                                           40\n",
       "           OTHER                                           25\n",
       "           MATERIAL OTHER THAN CARBON STEEL OR PLASTIC     23\n",
       "           UNKNOWN                                          2\n",
       "           CAST/WROUGHT IRON                                1\n",
       "nan        CARBON STEEL                                   827\n",
       "           MATERIAL OTHER THAN CARBON STEEL               175\n",
       "           STEEL                                          127\n",
       "           OTHER                                           55\n",
       "           PLASTIC                                         28\n",
       "           UNKNOWN                                         26\n",
       "           MATERIAL OTHER THAN CARBON STEEL OR PLASTIC     23\n",
       "           CAST/WROUGHT IRON                                8\n",
       "           COPPER                                           1\n",
       "           DUCTILE IRON                                     1\n",
       "Name: material_involved, dtype: int64"
      ]
     },
     "execution_count": 11,
     "metadata": {},
     "output_type": "execute_result"
    }
   ],
   "source": [
    "# materials per decade\n",
    "df.groupby('decade').material_involved.value_counts()"
   ]
  },
  {
   "cell_type": "code",
   "execution_count": 12,
   "id": "a1b45af2",
   "metadata": {},
   "outputs": [
    {
     "data": {
      "text/plain": [
       "decade     material_details                  \n",
       "1920-1929  ACETYLENE WELD                         1\n",
       "           PRODUCT IGNITION FROM SOIL             1\n",
       "1930-1939  COMPOSITE GASKET                       1\n",
       "           RUBBER COMPOUND GASKET                 1\n",
       "1940-1949  BRASS VALVE                            1\n",
       "           CONCRETE SUMP.                         1\n",
       "           FITTING                                1\n",
       "           STEEL                                  1\n",
       "           STEEL API 5L                           1\n",
       "1950-1959  PUMP SEAL                              2\n",
       "           BOLT-TYPE MECHANICAL COUPLING          1\n",
       "           BRASS                                  1\n",
       "           BRASS SEAL ON MIXER                    1\n",
       "           BUNA O-RING                            1\n",
       "1960-1969  STAINLESS STEEL                        5\n",
       "           O-RING                                 2\n",
       "           ABOVE GRADE METER SET PIPING           1\n",
       "           BUNA RUBBER O-RING                     1\n",
       "           CAST ALUMINUM                          1\n",
       "1970-1979  STAINLESS STEEL                        2\n",
       "           STEM SEAL                              2\n",
       "           1/2\" FLEXIBLE GAS LINE                 1\n",
       "           ALUMINUM                               1\n",
       "           ALUMINUM METER                         1\n",
       "1980-1989  STAINLESS STEEL                        6\n",
       "           COPPER                                 2\n",
       "           PACKING MATERIAL                       2\n",
       "           RUBBER                                 2\n",
       "           ALUMINUM CASED METER AND REGULATOR     1\n",
       "1990-1999  STAINLESS STEEL                       14\n",
       "           GASKET                                 4\n",
       "           ALUMINUM                               3\n",
       "           ALUMINUM METER                         3\n",
       "           STAINLESS STEEL TUBING                 2\n",
       "2000-2009  STAINLESS STEEL                       20\n",
       "           ALUMINUM                               6\n",
       "           GASKET                                 5\n",
       "           PUMP SEAL                              5\n",
       "           STAINLESS STEEL TUBING                 5\n",
       ">2010      STAINLESS STEEL                       91\n",
       "           PUMP SEAL                             15\n",
       "           GASKET                                13\n",
       "           STAINLESS STEEL TUBING                13\n",
       "           O-RING                                11\n",
       "nan        STAINLESS STEEL                       35\n",
       "           PUMP SEAL                              9\n",
       "           SEAL                                   8\n",
       "           ALUMINUM                               7\n",
       "           GASKET MATERIAL                        7\n",
       "Name: material_details, dtype: int64"
      ]
     },
     "execution_count": 12,
     "metadata": {},
     "output_type": "execute_result"
    }
   ],
   "source": [
    "df.groupby('decade').material_details.value_counts().groupby('decade', level=0).head(5)"
   ]
  },
  {
   "cell_type": "code",
   "execution_count": 21,
   "id": "3ef2b8a3",
   "metadata": {},
   "outputs": [
    {
     "data": {
      "text/plain": [
       "0.20469395919455927"
      ]
     },
     "execution_count": 21,
     "metadata": {},
     "output_type": "execute_result"
    }
   ],
   "source": [
    "# accidents with post 2010 installation year for how many accidents with ANY installation year that occurred post 2010\n",
    "len(df[df.decade == '>2010'])/ len(df[df.iyear >= 2010])\n",
    "\n",
    "# 20.5% of all accidents that occurred post 2010 had installation years after 2010"
   ]
  }
 ],
 "metadata": {
  "kernelspec": {
   "display_name": "Python 3 (ipykernel)",
   "language": "python",
   "name": "python3"
  },
  "language_info": {
   "codemirror_mode": {
    "name": "ipython",
    "version": 3
   },
   "file_extension": ".py",
   "mimetype": "text/x-python",
   "name": "python",
   "nbconvert_exporter": "python",
   "pygments_lexer": "ipython3",
   "version": "3.9.7"
  }
 },
 "nbformat": 4,
 "nbformat_minor": 5
}
