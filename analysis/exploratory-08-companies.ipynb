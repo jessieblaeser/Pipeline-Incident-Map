{
 "cells": [
  {
   "cell_type": "markdown",
   "id": "4454497b",
   "metadata": {},
   "source": [
    "# Incidents by company"
   ]
  },
  {
   "cell_type": "code",
   "execution_count": 1,
   "id": "9de3c188",
   "metadata": {},
   "outputs": [
    {
     "name": "stderr",
     "output_type": "stream",
     "text": [
      "/Users/ilenapeng/.pyenv/versions/3.9.7/lib/python3.9/site-packages/pandas/compat/__init__.py:124: UserWarning: Could not import the lzma module. Your installed Python is incomplete. Attempting to use lzma compression will result in a RuntimeError.\n",
      "  warnings.warn(msg)\n"
     ]
    }
   ],
   "source": [
    "import pandas as pd\n",
    "pd.set_option('display.max_columns', None)\n",
    "pd.set_option('display.max_rows', None)\n",
    "\n",
    "pd.set_option('display.max_columns', None)\n",
    "pd.set_option('display.max_rows', None)\n",
    "pd.set_option('display.width', None)\n",
    "pd.set_option('display.max_colwidth', None)\n",
    "pd.set_option('max_seq_item', None)"
   ]
  },
  {
   "cell_type": "code",
   "execution_count": 2,
   "id": "16cbe983",
   "metadata": {},
   "outputs": [
    {
     "data": {
      "text/plain": [
       "Index(['datafile_as_of', 'ff', 'significant', 'serious', 'report_number',\n",
       "       'supplemental_number', 'report_received_date', 'report_type',\n",
       "       'operator_id', 'name', 'operator_street_address', 'operator_city_name',\n",
       "       'operator_state_abbreviation', 'operator_postal_code', 'local_datetime',\n",
       "       'time_zone', 'daylight_savings_ind', 'iyear', 'location_street_address',\n",
       "       'location_city_name', 'location_county_name',\n",
       "       'location_state_abbreviation', 'location_postal_code',\n",
       "       'location_latitude', 'location_longitude', 'total_cost',\n",
       "       'total_cost_current', 'injury_ind', 'injure', 'num_pub_evacuated',\n",
       "       'fatal', 'cause', 'cause_details', 'material_involved',\n",
       "       'material_details', 'narrative', 'unintentional_release',\n",
       "       'installation_year', 'decade'],\n",
       "      dtype='object')"
      ]
     },
     "execution_count": 2,
     "metadata": {},
     "output_type": "execute_result"
    }
   ],
   "source": [
    "df = pd.read_csv('../data/processed/pipeline_incidents_2010_present_all_CLEAN.csv')\n",
    "df.columns"
   ]
  },
  {
   "cell_type": "code",
   "execution_count": 3,
   "id": "9dea1b22",
   "metadata": {},
   "outputs": [
    {
     "data": {
      "text/plain": [
       "ENTERPRISE CRUDE PIPELINE LLC          333\n",
       "ENTERPRISE PRODUCTS OPERATING LLC      309\n",
       "SUNOCO PIPELINE L.P.                   250\n",
       "PLAINS PIPELINE, L.P.                  245\n",
       "MAGELLAN PIPELINE COMPANY, LP          218\n",
       "COLONIAL PIPELINE CO                   200\n",
       "BUCKEYE PARTNERS, LP                   172\n",
       "KINDER MORGAN LIQUID TERMINALS, LLC    150\n",
       "PHILLIPS 66 PIPELINE LLC               148\n",
       "PACIFIC GAS & ELECTRIC CO              138\n",
       "Name: name, dtype: int64"
      ]
     },
     "execution_count": 3,
     "metadata": {},
     "output_type": "execute_result"
    }
   ],
   "source": [
    "df.name.value_counts().head(10)"
   ]
  },
  {
   "cell_type": "code",
   "execution_count": 4,
   "id": "ccaf9f12",
   "metadata": {},
   "outputs": [
    {
     "data": {
      "text/plain": [
       "2010    17\n",
       "2011     7\n",
       "2012    11\n",
       "2013    12\n",
       "2014    22\n",
       "2015    16\n",
       "2016    14\n",
       "2017    19\n",
       "2018     8\n",
       "2019     4\n",
       "2020     2\n",
       "2021     6\n",
       "Name: iyear, dtype: int64"
      ]
     },
     "execution_count": 4,
     "metadata": {},
     "output_type": "execute_result"
    }
   ],
   "source": [
    "df[df.name == 'PACIFIC GAS & ELECTRIC CO'].iyear.value_counts().sort_index()"
   ]
  },
  {
   "cell_type": "code",
   "execution_count": 5,
   "id": "d611788d",
   "metadata": {},
   "outputs": [
    {
     "data": {
      "text/plain": [
       "2010     2\n",
       "2011     4\n",
       "2012     7\n",
       "2013     7\n",
       "2014     7\n",
       "2015     5\n",
       "2016     7\n",
       "2017    12\n",
       "2018     8\n",
       "2019     4\n",
       "2020     9\n",
       "2021     5\n",
       "Name: iyear, dtype: int64"
      ]
     },
     "execution_count": 5,
     "metadata": {},
     "output_type": "execute_result"
    }
   ],
   "source": [
    "df[df.name == 'SOUTHERN CALIFORNIA GAS CO'].iyear.value_counts().sort_index()"
   ]
  },
  {
   "cell_type": "code",
   "execution_count": 6,
   "id": "0af09b0a",
   "metadata": {},
   "outputs": [
    {
     "data": {
      "text/plain": [
       "2010     6\n",
       "2011     1\n",
       "2012     2\n",
       "2013     4\n",
       "2014     9\n",
       "2015    13\n",
       "2016     8\n",
       "2017     8\n",
       "2018     9\n",
       "2019    10\n",
       "2020     9\n",
       "2021     4\n",
       "2022     2\n",
       "Name: iyear, dtype: int64"
      ]
     },
     "execution_count": 6,
     "metadata": {},
     "output_type": "execute_result"
    }
   ],
   "source": [
    "df[df.name == 'CONSUMERS ENERGY CO'].iyear.value_counts().sort_index()"
   ]
  },
  {
   "cell_type": "code",
   "execution_count": null,
   "id": "2cd41585",
   "metadata": {},
   "outputs": [],
   "source": []
  }
 ],
 "metadata": {
  "kernelspec": {
   "display_name": "Python 3 (ipykernel)",
   "language": "python",
   "name": "python3"
  },
  "language_info": {
   "codemirror_mode": {
    "name": "ipython",
    "version": 3
   },
   "file_extension": ".py",
   "mimetype": "text/x-python",
   "name": "python",
   "nbconvert_exporter": "python",
   "pygments_lexer": "ipython3",
   "version": "3.9.7"
  }
 },
 "nbformat": 4,
 "nbformat_minor": 5
}
