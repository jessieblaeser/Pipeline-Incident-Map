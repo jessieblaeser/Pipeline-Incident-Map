{
 "cells": [
  {
   "cell_type": "markdown",
   "id": "9ddc22e4",
   "metadata": {},
   "source": [
    "# Looking at where incidents are occurring: find census tracts for our lat/lngs\n",
    "Are pipelines breaking that were installed after 2010 breaking in areas with higher population density than pre-2010?"
   ]
  },
  {
   "cell_type": "code",
   "execution_count": 1,
   "id": "1eb82821",
   "metadata": {},
   "outputs": [
    {
     "name": "stderr",
     "output_type": "stream",
     "text": [
      "/Users/ilenapeng/.pyenv/versions/3.9.7/lib/python3.9/site-packages/pandas/compat/__init__.py:124: UserWarning: Could not import the lzma module. Your installed Python is incomplete. Attempting to use lzma compression will result in a RuntimeError.\n",
      "  warnings.warn(msg)\n"
     ]
    }
   ],
   "source": [
    "import pandas as pd\n",
    "import numpy as np\n",
    "import requests\n",
    "pd.set_option('display.max_columns', None)\n",
    "pd.set_option('display.max_rows', None)"
   ]
  },
  {
   "cell_type": "code",
   "execution_count": 2,
   "id": "0076af48",
   "metadata": {},
   "outputs": [
    {
     "data": {
      "text/plain": [
       "Index(['datafile_as_of', 'ff', 'significant', 'serious', 'report_number',\n",
       "       'supplemental_number', 'report_received_date', 'report_type',\n",
       "       'operator_id', 'name', 'operator_street_address', 'operator_city_name',\n",
       "       'operator_state_abbreviation', 'operator_postal_code', 'local_datetime',\n",
       "       'time_zone', 'daylight_savings_ind', 'iyear', 'location_street_address',\n",
       "       'location_city_name', 'location_county_name',\n",
       "       'location_state_abbreviation', 'location_postal_code',\n",
       "       'location_latitude', 'location_longitude', 'total_cost',\n",
       "       'total_cost_current', 'injury_ind', 'injure', 'num_pub_evacuated',\n",
       "       'fatal', 'cause', 'cause_details', 'material_involved',\n",
       "       'material_details', 'narrative', 'unintentional_release',\n",
       "       'installation_year'],\n",
       "      dtype='object')"
      ]
     },
     "execution_count": 2,
     "metadata": {},
     "output_type": "execute_result"
    }
   ],
   "source": [
    "df_raw = pd.read_csv('../data/processed/pipeline_incidents_2010_present_all_CLEAN.csv')\n",
    "df_raw.columns"
   ]
  },
  {
   "cell_type": "code",
   "execution_count": 3,
   "id": "6064e052",
   "metadata": {},
   "outputs": [
    {
     "data": {
      "text/plain": [
       "7499"
      ]
     },
     "execution_count": 3,
     "metadata": {},
     "output_type": "execute_result"
    }
   ],
   "source": [
    "len(df_raw)"
   ]
  },
  {
   "cell_type": "code",
   "execution_count": 4,
   "id": "e6618c5e",
   "metadata": {},
   "outputs": [
    {
     "data": {
      "text/html": [
       "<div>\n",
       "<style scoped>\n",
       "    .dataframe tbody tr th:only-of-type {\n",
       "        vertical-align: middle;\n",
       "    }\n",
       "\n",
       "    .dataframe tbody tr th {\n",
       "        vertical-align: top;\n",
       "    }\n",
       "\n",
       "    .dataframe thead th {\n",
       "        text-align: right;\n",
       "    }\n",
       "</style>\n",
       "<table border=\"1\" class=\"dataframe\">\n",
       "  <thead>\n",
       "    <tr style=\"text-align: right;\">\n",
       "      <th></th>\n",
       "      <th>datafile_as_of</th>\n",
       "      <th>ff</th>\n",
       "      <th>significant</th>\n",
       "      <th>serious</th>\n",
       "      <th>report_number</th>\n",
       "      <th>supplemental_number</th>\n",
       "      <th>report_received_date</th>\n",
       "      <th>report_type</th>\n",
       "      <th>operator_id</th>\n",
       "      <th>name</th>\n",
       "      <th>operator_street_address</th>\n",
       "      <th>operator_city_name</th>\n",
       "      <th>operator_state_abbreviation</th>\n",
       "      <th>operator_postal_code</th>\n",
       "      <th>local_datetime</th>\n",
       "      <th>time_zone</th>\n",
       "      <th>daylight_savings_ind</th>\n",
       "      <th>iyear</th>\n",
       "      <th>location_street_address</th>\n",
       "      <th>location_city_name</th>\n",
       "      <th>location_county_name</th>\n",
       "      <th>location_state_abbreviation</th>\n",
       "      <th>location_postal_code</th>\n",
       "      <th>location_latitude</th>\n",
       "      <th>location_longitude</th>\n",
       "      <th>total_cost</th>\n",
       "      <th>total_cost_current</th>\n",
       "      <th>injury_ind</th>\n",
       "      <th>injure</th>\n",
       "      <th>num_pub_evacuated</th>\n",
       "      <th>fatal</th>\n",
       "      <th>cause</th>\n",
       "      <th>cause_details</th>\n",
       "      <th>material_involved</th>\n",
       "      <th>material_details</th>\n",
       "      <th>narrative</th>\n",
       "      <th>unintentional_release</th>\n",
       "      <th>installation_year</th>\n",
       "    </tr>\n",
       "  </thead>\n",
       "  <tbody>\n",
       "    <tr>\n",
       "      <th>0</th>\n",
       "      <td>2/28/22</td>\n",
       "      <td>NO</td>\n",
       "      <td>YES</td>\n",
       "      <td>NO</td>\n",
       "      <td>20100001</td>\n",
       "      <td>15047</td>\n",
       "      <td>3/11/10</td>\n",
       "      <td>SUPPLEMENTAL FINAL</td>\n",
       "      <td>15007</td>\n",
       "      <td>PACIFIC GAS &amp; ELECTRIC CO</td>\n",
       "      <td>PG&amp;E - GAS OPERATIONS, REGULATORY COMPLIANCE 6...</td>\n",
       "      <td>SAN RAMON</td>\n",
       "      <td>CA</td>\n",
       "      <td>94583</td>\n",
       "      <td>2/13/10 23:35</td>\n",
       "      <td>NaN</td>\n",
       "      <td>NaN</td>\n",
       "      <td>2010</td>\n",
       "      <td>1617+EAST+9TH+STREET</td>\n",
       "      <td>STOCKTON</td>\n",
       "      <td>SAN+JOAQUIN</td>\n",
       "      <td>CA</td>\n",
       "      <td>95201</td>\n",
       "      <td>37.93188</td>\n",
       "      <td>-121.26133</td>\n",
       "      <td>102500</td>\n",
       "      <td>124764.082311</td>\n",
       "      <td>NO</td>\n",
       "      <td>0</td>\n",
       "      <td>0.0</td>\n",
       "      <td>0</td>\n",
       "      <td>OTHER OUTSIDE FORCE DAMAGE</td>\n",
       "      <td>OTHER OUTSIDE FORCE DAMAGE</td>\n",
       "      <td>OTHER</td>\n",
       "      <td>ALUMINUN</td>\n",
       "      <td>A FIRE AT AN UNOCCUPIED HOME OCCURRED AT APPRO...</td>\n",
       "      <td>10.0</td>\n",
       "      <td>NaN</td>\n",
       "    </tr>\n",
       "  </tbody>\n",
       "</table>\n",
       "</div>"
      ],
      "text/plain": [
       "  datafile_as_of  ff significant serious  report_number  supplemental_number  \\\n",
       "0        2/28/22  NO         YES      NO       20100001                15047   \n",
       "\n",
       "  report_received_date         report_type  operator_id  \\\n",
       "0              3/11/10  SUPPLEMENTAL FINAL        15007   \n",
       "\n",
       "                        name  \\\n",
       "0  PACIFIC GAS & ELECTRIC CO   \n",
       "\n",
       "                             operator_street_address operator_city_name  \\\n",
       "0  PG&E - GAS OPERATIONS, REGULATORY COMPLIANCE 6...          SAN RAMON   \n",
       "\n",
       "  operator_state_abbreviation operator_postal_code local_datetime time_zone  \\\n",
       "0                          CA                94583  2/13/10 23:35       NaN   \n",
       "\n",
       "  daylight_savings_ind  iyear location_street_address location_city_name  \\\n",
       "0                  NaN   2010    1617+EAST+9TH+STREET           STOCKTON   \n",
       "\n",
       "  location_county_name location_state_abbreviation location_postal_code  \\\n",
       "0          SAN+JOAQUIN                          CA                95201   \n",
       "\n",
       "   location_latitude  location_longitude  total_cost  total_cost_current  \\\n",
       "0           37.93188          -121.26133      102500       124764.082311   \n",
       "\n",
       "  injury_ind  injure  num_pub_evacuated  fatal                       cause  \\\n",
       "0         NO       0                0.0      0  OTHER OUTSIDE FORCE DAMAGE   \n",
       "\n",
       "                cause_details material_involved material_details  \\\n",
       "0  OTHER OUTSIDE FORCE DAMAGE             OTHER         ALUMINUN   \n",
       "\n",
       "                                           narrative  unintentional_release  \\\n",
       "0  A FIRE AT AN UNOCCUPIED HOME OCCURRED AT APPRO...                   10.0   \n",
       "\n",
       "  installation_year  \n",
       "0               NaN  "
      ]
     },
     "execution_count": 4,
     "metadata": {},
     "output_type": "execute_result"
    }
   ],
   "source": [
    "# replace spaces with plus signs in the columns with address\n",
    "df_raw['location_street_address'] = df_raw.location_street_address.str.replace(' ', '+')\n",
    "df_raw['location_city_name'] = df_raw.location_city_name.str.replace(' ', '+')\n",
    "df_raw['location_county_name'] = df_raw.location_county_name.str.replace(' ', '+')\n",
    "df_raw.head(1)"
   ]
  },
  {
   "cell_type": "code",
   "execution_count": 5,
   "id": "bed774ec",
   "metadata": {},
   "outputs": [
    {
     "data": {
      "text/plain": [
       "6192"
      ]
     },
     "execution_count": 5,
     "metadata": {},
     "output_type": "execute_result"
    }
   ],
   "source": [
    "# count NAs\n",
    "df_raw.location_street_address.isna().sum()"
   ]
  },
  {
   "cell_type": "code",
   "execution_count": 6,
   "id": "f8d306e6",
   "metadata": {},
   "outputs": [],
   "source": [
    "# remove NAs and create a new dataframe\n",
    "df = df_raw.dropna(subset=['location_street_address', 'location_city_name', 'location_county_name'])"
   ]
  },
  {
   "cell_type": "code",
   "execution_count": 7,
   "id": "d9445f28",
   "metadata": {},
   "outputs": [
    {
     "data": {
      "text/plain": [
       "1265"
      ]
     },
     "execution_count": 7,
     "metadata": {},
     "output_type": "execute_result"
    }
   ],
   "source": [
    "len(df)"
   ]
  },
  {
   "cell_type": "code",
   "execution_count": 8,
   "id": "3bb6e375",
   "metadata": {},
   "outputs": [],
   "source": [
    "# TESTING OUTPUT USING SAMPLE FROM: https://geocoding.geo.census.gov/geocoder/Geocoding_Services_API.pdf\n",
    "\n",
    "# url = 'https://geocoding.geo.census.gov/geocoder/geographies/address?street=4600+Silver+Hill+Rd&city=Washington&state=DC&benchmark=Public_AR_Census2020&vintage=Census2020_Census2020&layers=10&format=json'\n",
    "\n",
    "# response = requests.get(url)\n",
    "# data = response.json()\n",
    "\n",
    "# data"
   ]
  },
  {
   "cell_type": "code",
   "execution_count": 9,
   "id": "be2dccd8",
   "metadata": {},
   "outputs": [
    {
     "name": "stdout",
     "output_type": "stream",
     "text": [
      "1265\n",
      "https://geocoding.geo.census.gov/geocoder/geographies/address?street=1617+EAST+9TH+STREET&city=STOCKTON&state=CA&benchmark=Public_AR_Census2020&vintage=Census2020_Census2020&layers=10&format=json\n"
     ]
    }
   ],
   "source": [
    "# create API links for each row\n",
    "urls_list = []\n",
    "for row in df.iterrows():\n",
    "    link = 'https://geocoding.geo.census.gov/geocoder/geographies/address?street=' + df['location_street_address'] + '&city=' + df['location_city_name'] + '&state=' + df['location_state_abbreviation'] + '&benchmark=Public_AR_Census2020&vintage=Census2020_Census2020&layers=10&format=json'\n",
    "    urls_list.append(link)\n",
    "\n",
    "print(len(urls_list))\n",
    "print(urls_list[0][0])"
   ]
  },
  {
   "cell_type": "code",
   "execution_count": 10,
   "id": "aeb10aec",
   "metadata": {},
   "outputs": [
    {
     "data": {
      "text/plain": [
       "397"
      ]
     },
     "execution_count": 10,
     "metadata": {},
     "output_type": "execute_result"
    }
   ],
   "source": [
    "# request data using the api\n",
    "data_requests = []\n",
    "for url in urls_list[0][:400]:\n",
    "    try:\n",
    "        response = requests.get(url)\n",
    "        data_entry = response.json()\n",
    "        data_requests.append(data_entry)\n",
    "    except:\n",
    "        continue\n",
    "\n",
    "len(data_requests)"
   ]
  },
  {
   "cell_type": "code",
   "execution_count": 11,
   "id": "f382d035",
   "metadata": {},
   "outputs": [
    {
     "data": {
      "text/plain": [
       "796"
      ]
     },
     "execution_count": 11,
     "metadata": {},
     "output_type": "execute_result"
    }
   ],
   "source": [
    "# next 400\n",
    "for url in urls_list[0][401:800]:\n",
    "    try:\n",
    "        response = requests.get(url)\n",
    "        data_entry = response.json()\n",
    "        data_requests.append(data_entry)\n",
    "    except:\n",
    "        continue\n",
    "\n",
    "len(data_requests)"
   ]
  },
  {
   "cell_type": "code",
   "execution_count": 12,
   "id": "2f4ec7e2",
   "metadata": {},
   "outputs": [
    {
     "data": {
      "text/plain": [
       "1256"
      ]
     },
     "execution_count": 12,
     "metadata": {},
     "output_type": "execute_result"
    }
   ],
   "source": [
    "# and the last section\n",
    "for url in urls_list[0][801:1265]:\n",
    "    try:\n",
    "        response = requests.get(url)\n",
    "        data_entry = response.json()\n",
    "        data_requests.append(data_entry)\n",
    "    except:\n",
    "        continue\n",
    "\n",
    "len(data_requests)"
   ]
  },
  {
   "cell_type": "code",
   "execution_count": 13,
   "id": "448f9db0",
   "metadata": {},
   "outputs": [
    {
     "data": {
      "text/plain": [
       "{'result': {'input': {'benchmark': {'id': '2020',\n",
       "    'benchmarkName': 'Public_AR_Census2020',\n",
       "    'benchmarkDescription': 'Public Address Ranges - Census 2020 Benchmark',\n",
       "    'isDefault': False},\n",
       "   'vintage': {'id': '2020',\n",
       "    'vintageName': 'Census2020_Census2020',\n",
       "    'vintageDescription': 'Census 2020 Vintage - Census 2020 Benchmark',\n",
       "    'isDefault': True},\n",
       "   'address': {'street': '1617 EAST 9TH STREET',\n",
       "    'city': 'STOCKTON',\n",
       "    'state': 'CA'}},\n",
       "  'addressMatches': [{'matchedAddress': '1617 E 9TH ST, STOCKTON, CA, 95206',\n",
       "    'coordinates': {'x': -121.261536, 'y': 37.931587},\n",
       "    'tigerLine': {'tigerLineId': '133852977', 'side': 'L'},\n",
       "    'addressComponents': {'fromAddress': '1601',\n",
       "     'toAddress': '1699',\n",
       "     'preQualifier': '',\n",
       "     'preDirection': 'E',\n",
       "     'preType': '',\n",
       "     'streetName': '9TH',\n",
       "     'suffixType': 'ST',\n",
       "     'suffixDirection': '',\n",
       "     'suffixQualifier': '',\n",
       "     'city': 'STOCKTON',\n",
       "     'state': 'CA',\n",
       "     'zip': '95206'},\n",
       "    'geographies': {'Census Blocks': [{'SUFFIX': '',\n",
       "       'POP100': '',\n",
       "       'GEOID': '060770022012010',\n",
       "       'CENTLAT': '+37.9320907',\n",
       "       'BLOCK': '2010',\n",
       "       'AREAWATER': 0,\n",
       "       'STATE': '06',\n",
       "       'BASENAME': '2010',\n",
       "       'OID': 210701000896080,\n",
       "       'LSADC': 'BK',\n",
       "       'FUNCSTAT': 'S',\n",
       "       'INTPTLAT': '+37.9320907',\n",
       "       'NAME': 'Block 2010',\n",
       "       'OBJECTID': 2741603,\n",
       "       'TRACT': '002201',\n",
       "       'CENTLON': '-121.2609651',\n",
       "       'BLKGRP': '2',\n",
       "       'AREALAND': 18633,\n",
       "       'HU100': '',\n",
       "       'INTPTLON': '-121.2609651',\n",
       "       'MTFCC': 'G5040',\n",
       "       'LWBLKTYP': 'L',\n",
       "       'UR': '',\n",
       "       'COUNTY': '077'}]}}]}}"
      ]
     },
     "execution_count": 13,
     "metadata": {},
     "output_type": "execute_result"
    }
   ],
   "source": [
    "# what one entry looks like\n",
    "data_requests[0]"
   ]
  },
  {
   "cell_type": "code",
   "execution_count": 14,
   "id": "0ec5a748",
   "metadata": {},
   "outputs": [
    {
     "data": {
      "text/plain": [
       "1256"
      ]
     },
     "execution_count": 14,
     "metadata": {},
     "output_type": "execute_result"
    }
   ],
   "source": [
    "# extract the sections we need into a list of dictionaries to be later converted to a dataframe\n",
    "data = []\n",
    "for entry in data_requests:\n",
    "    each_row = {}\n",
    "    each_row['street'] = entry['result']['input']['address']['street']\n",
    "    each_row['city'] = entry['result']['input']['address']['city']\n",
    "    each_row['state'] = entry['result']['input']['address']['state']\n",
    "    \n",
    "    for section in entry['result']['addressMatches']:\n",
    "        for subsection in section['geographies']['Census Blocks']:\n",
    "            each_row['geoid'] = subsection['GEOID'] # unique identifier, accounts for county and state\n",
    "            each_row['state_code'] = subsection['STATE']\n",
    "            each_row['county_code'] = subsection['COUNTY']\n",
    "            each_row['tract'] = subsection['TRACT']\n",
    "    \n",
    "    data.append(each_row)\n",
    "    \n",
    "len(data)"
   ]
  },
  {
   "cell_type": "code",
   "execution_count": 15,
   "id": "088a0db9",
   "metadata": {},
   "outputs": [
    {
     "data": {
      "text/plain": [
       "1256"
      ]
     },
     "execution_count": 15,
     "metadata": {},
     "output_type": "execute_result"
    }
   ],
   "source": [
    "# convert to dataframe\n",
    "df_final = pd.DataFrame(data)\n",
    "len(df_final)"
   ]
  },
  {
   "cell_type": "code",
   "execution_count": 16,
   "id": "62ce46cb",
   "metadata": {},
   "outputs": [
    {
     "data": {
      "text/html": [
       "<div>\n",
       "<style scoped>\n",
       "    .dataframe tbody tr th:only-of-type {\n",
       "        vertical-align: middle;\n",
       "    }\n",
       "\n",
       "    .dataframe tbody tr th {\n",
       "        vertical-align: top;\n",
       "    }\n",
       "\n",
       "    .dataframe thead th {\n",
       "        text-align: right;\n",
       "    }\n",
       "</style>\n",
       "<table border=\"1\" class=\"dataframe\">\n",
       "  <thead>\n",
       "    <tr style=\"text-align: right;\">\n",
       "      <th></th>\n",
       "      <th>street</th>\n",
       "      <th>city</th>\n",
       "      <th>state</th>\n",
       "      <th>geoid</th>\n",
       "      <th>state_code</th>\n",
       "      <th>county_code</th>\n",
       "      <th>tract</th>\n",
       "    </tr>\n",
       "  </thead>\n",
       "  <tbody>\n",
       "    <tr>\n",
       "      <th>0</th>\n",
       "      <td>1617 EAST 9TH STREET</td>\n",
       "      <td>STOCKTON</td>\n",
       "      <td>CA</td>\n",
       "      <td>060770022012010</td>\n",
       "      <td>06</td>\n",
       "      <td>077</td>\n",
       "      <td>002201</td>\n",
       "    </tr>\n",
       "    <tr>\n",
       "      <th>1</th>\n",
       "      <td>3835 SANDPIPER COVE RUN</td>\n",
       "      <td>SOUTH BEND</td>\n",
       "      <td>IN</td>\n",
       "      <td>NaN</td>\n",
       "      <td>NaN</td>\n",
       "      <td>NaN</td>\n",
       "      <td>NaN</td>\n",
       "    </tr>\n",
       "    <tr>\n",
       "      <th>2</th>\n",
       "      <td>8725 COUNTRY CLUB DRIVE</td>\n",
       "      <td>PINETOP</td>\n",
       "      <td>AZ</td>\n",
       "      <td>040179649021018</td>\n",
       "      <td>04</td>\n",
       "      <td>017</td>\n",
       "      <td>964902</td>\n",
       "    </tr>\n",
       "    <tr>\n",
       "      <th>3</th>\n",
       "      <td>359 HAWTHORNE CIRCLE</td>\n",
       "      <td>MOUNT PROSPECT</td>\n",
       "      <td>IL</td>\n",
       "      <td>170318051114001</td>\n",
       "      <td>17</td>\n",
       "      <td>031</td>\n",
       "      <td>805111</td>\n",
       "    </tr>\n",
       "    <tr>\n",
       "      <th>4</th>\n",
       "      <td>303 COUNTY RD. 6100</td>\n",
       "      <td>KIRTLAND</td>\n",
       "      <td>NM</td>\n",
       "      <td>350450005071005</td>\n",
       "      <td>35</td>\n",
       "      <td>045</td>\n",
       "      <td>000507</td>\n",
       "    </tr>\n",
       "  </tbody>\n",
       "</table>\n",
       "</div>"
      ],
      "text/plain": [
       "                    street            city state            geoid state_code  \\\n",
       "0     1617 EAST 9TH STREET        STOCKTON    CA  060770022012010         06   \n",
       "1  3835 SANDPIPER COVE RUN      SOUTH BEND    IN              NaN        NaN   \n",
       "2  8725 COUNTRY CLUB DRIVE         PINETOP    AZ  040179649021018         04   \n",
       "3     359 HAWTHORNE CIRCLE  MOUNT PROSPECT    IL  170318051114001         17   \n",
       "4      303 COUNTY RD. 6100        KIRTLAND    NM  350450005071005         35   \n",
       "\n",
       "  county_code   tract  \n",
       "0         077  002201  \n",
       "1         NaN     NaN  \n",
       "2         017  964902  \n",
       "3         031  805111  \n",
       "4         045  000507  "
      ]
     },
     "execution_count": 16,
     "metadata": {},
     "output_type": "execute_result"
    }
   ],
   "source": [
    "df_final.head()"
   ]
  },
  {
   "cell_type": "code",
   "execution_count": 17,
   "id": "19d70428",
   "metadata": {},
   "outputs": [],
   "source": [
    "df_final.to_csv('../data/processed/geolocate-census-tracts.csv', index=False)"
   ]
  }
 ],
 "metadata": {
  "kernelspec": {
   "display_name": "Python 3 (ipykernel)",
   "language": "python",
   "name": "python3"
  },
  "language_info": {
   "codemirror_mode": {
    "name": "ipython",
    "version": 3
   },
   "file_extension": ".py",
   "mimetype": "text/x-python",
   "name": "python",
   "nbconvert_exporter": "python",
   "pygments_lexer": "ipython3",
   "version": "3.9.7"
  }
 },
 "nbformat": 4,
 "nbformat_minor": 5
}
