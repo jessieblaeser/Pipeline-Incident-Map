{
 "cells": [
  {
   "cell_type": "markdown",
   "id": "feba3600",
   "metadata": {},
   "source": [
    "# Looking at where incidents are occurring: County-level analysis\n",
    "Are pipelines breaking that were installed after 2010 breaking in areas with higher population density than pre-2010?"
   ]
  },
  {
   "cell_type": "code",
   "execution_count": 1,
   "id": "4735a9a2",
   "metadata": {},
   "outputs": [
    {
     "name": "stderr",
     "output_type": "stream",
     "text": [
      "/Users/ilenapeng/.pyenv/versions/3.9.7/lib/python3.9/site-packages/pandas/compat/__init__.py:124: UserWarning: Could not import the lzma module. Your installed Python is incomplete. Attempting to use lzma compression will result in a RuntimeError.\n",
      "  warnings.warn(msg)\n"
     ]
    }
   ],
   "source": [
    "import pandas as pd\n",
    "pd.set_option('display.max_columns', None)\n",
    "pd.set_option('display.max_rows', None)\n",
    "\n",
    "pd.set_option('display.max_columns', None)\n",
    "pd.set_option('display.max_rows', None)\n",
    "pd.set_option('display.width', None)\n",
    "pd.set_option('display.max_colwidth', None)\n",
    "pd.set_option('max_seq_item', None)"
   ]
  },
  {
   "cell_type": "markdown",
   "id": "75e2d8ee",
   "metadata": {},
   "source": [
    "## Load data"
   ]
  },
  {
   "cell_type": "code",
   "execution_count": 2,
   "id": "8a3bf0ac",
   "metadata": {},
   "outputs": [
    {
     "data": {
      "text/plain": [
       "Index(['datafile_as_of', 'ff', 'significant', 'serious', 'report_number',\n",
       "       'supplemental_number', 'report_received_date', 'report_type',\n",
       "       'operator_id', 'name', 'operator_street_address', 'operator_city_name',\n",
       "       'operator_state_abbreviation', 'operator_postal_code', 'local_datetime',\n",
       "       'time_zone', 'daylight_savings_ind', 'iyear', 'location_street_address',\n",
       "       'location_city_name', 'location_county_name',\n",
       "       'location_state_abbreviation', 'location_postal_code',\n",
       "       'location_latitude', 'location_longitude', 'total_cost',\n",
       "       'total_cost_current', 'injury_ind', 'injure', 'num_pub_evacuated',\n",
       "       'fatal', 'cause', 'cause_details', 'material_involved',\n",
       "       'material_details', 'narrative', 'unintentional_release',\n",
       "       'installation_year', 'decade'],\n",
       "      dtype='object')"
      ]
     },
     "execution_count": 2,
     "metadata": {},
     "output_type": "execute_result"
    }
   ],
   "source": [
    "df_raw = pd.read_csv('../data/processed/pipeline_incidents_2010_present_all_CLEAN.csv')\n",
    "df_raw.columns"
   ]
  },
  {
   "cell_type": "code",
   "execution_count": 3,
   "id": "6d491f3c",
   "metadata": {},
   "outputs": [
    {
     "data": {
      "text/html": [
       "<div>\n",
       "<style scoped>\n",
       "    .dataframe tbody tr th:only-of-type {\n",
       "        vertical-align: middle;\n",
       "    }\n",
       "\n",
       "    .dataframe tbody tr th {\n",
       "        vertical-align: top;\n",
       "    }\n",
       "\n",
       "    .dataframe thead th {\n",
       "        text-align: right;\n",
       "    }\n",
       "</style>\n",
       "<table border=\"1\" class=\"dataframe\">\n",
       "  <thead>\n",
       "    <tr style=\"text-align: right;\">\n",
       "      <th></th>\n",
       "      <th>datafile_as_of</th>\n",
       "      <th>ff</th>\n",
       "      <th>significant</th>\n",
       "      <th>serious</th>\n",
       "      <th>report_number</th>\n",
       "      <th>supplemental_number</th>\n",
       "      <th>report_received_date</th>\n",
       "      <th>report_type</th>\n",
       "      <th>operator_id</th>\n",
       "      <th>name</th>\n",
       "      <th>operator_street_address</th>\n",
       "      <th>operator_city_name</th>\n",
       "      <th>operator_state_abbreviation</th>\n",
       "      <th>operator_postal_code</th>\n",
       "      <th>local_datetime</th>\n",
       "      <th>time_zone</th>\n",
       "      <th>daylight_savings_ind</th>\n",
       "      <th>iyear</th>\n",
       "      <th>location_street_address</th>\n",
       "      <th>location_city_name</th>\n",
       "      <th>location_county_name</th>\n",
       "      <th>location_state_abbreviation</th>\n",
       "      <th>location_postal_code</th>\n",
       "      <th>location_latitude</th>\n",
       "      <th>location_longitude</th>\n",
       "      <th>total_cost</th>\n",
       "      <th>total_cost_current</th>\n",
       "      <th>injury_ind</th>\n",
       "      <th>injure</th>\n",
       "      <th>num_pub_evacuated</th>\n",
       "      <th>fatal</th>\n",
       "      <th>cause</th>\n",
       "      <th>cause_details</th>\n",
       "      <th>material_involved</th>\n",
       "      <th>material_details</th>\n",
       "      <th>narrative</th>\n",
       "      <th>unintentional_release</th>\n",
       "      <th>installation_year</th>\n",
       "      <th>decade</th>\n",
       "    </tr>\n",
       "  </thead>\n",
       "  <tbody>\n",
       "    <tr>\n",
       "      <th>0</th>\n",
       "      <td>2/28/22</td>\n",
       "      <td>NO</td>\n",
       "      <td>YES</td>\n",
       "      <td>NO</td>\n",
       "      <td>20100001</td>\n",
       "      <td>15047</td>\n",
       "      <td>3/11/10</td>\n",
       "      <td>SUPPLEMENTAL FINAL</td>\n",
       "      <td>15007</td>\n",
       "      <td>PACIFIC GAS &amp; ELECTRIC CO</td>\n",
       "      <td>PG&amp;E - GAS OPERATIONS, REGULATORY COMPLIANCE 6111 BOLLINGER CANYON RD.,</td>\n",
       "      <td>SAN RAMON</td>\n",
       "      <td>CA</td>\n",
       "      <td>94583</td>\n",
       "      <td>2/13/10 23:35</td>\n",
       "      <td>NaN</td>\n",
       "      <td>NaN</td>\n",
       "      <td>2010</td>\n",
       "      <td>1617 EAST 9TH STREET</td>\n",
       "      <td>STOCKTON</td>\n",
       "      <td>SAN JOAQUIN</td>\n",
       "      <td>CA</td>\n",
       "      <td>95201</td>\n",
       "      <td>37.93188</td>\n",
       "      <td>-121.26133</td>\n",
       "      <td>102500</td>\n",
       "      <td>124764.082311</td>\n",
       "      <td>NO</td>\n",
       "      <td>0</td>\n",
       "      <td>0.0</td>\n",
       "      <td>0</td>\n",
       "      <td>OTHER OUTSIDE FORCE DAMAGE</td>\n",
       "      <td>OTHER OUTSIDE FORCE DAMAGE</td>\n",
       "      <td>OTHER</td>\n",
       "      <td>ALUMINUN</td>\n",
       "      <td>A FIRE AT AN UNOCCUPIED HOME OCCURRED AT APPROXIMATELY 2335 HOURS ON 2/13/10.   THE FIRE DEPARTMENT CALLED AT PG&amp;E AT APPROXIMATELY 0005 HOURS. THE PG&amp;E GAS SERVICE REPRESENTATIVE (GSR) ARRIVED AT 0020 HOURS.  THE FIRE DEPARTMENT AND GSR WERE UNABLE TO SHUT OFF THE SERVICE VALVE AT THE METER DUE TO DAMAGE TO THE VALVE BY THE FIRE.  A GAS CREW WAS CALLED AND THEY CUT OFF THE GAS SERVICE AT THE MAIN AT APPROXIMATELY 02:30.  ACCORDING TO THE FIRE DEPARTMENT THE THE FIRE APPEARS TO HAVE STARTED IN ONE OF THE CLOSETS IN THE HOME.  THE HOUSE FIRE DAMAGED THE GAS METER WHICH RELEASED NATURAL GAS RESULTING IN A SECONDARY IGNITION.  THE FIRE DAMAGE TO THE HOME RESULTED IN PROPERTY DAMAGES EXCEEDING $50,000.  THERE WERE NO INJURIES AND NO FATALITIES.  NO MAJOR MEDIA WAS PRESENT.</td>\n",
       "      <td>10.0</td>\n",
       "      <td>NaN</td>\n",
       "      <td>NaN</td>\n",
       "    </tr>\n",
       "    <tr>\n",
       "      <th>1</th>\n",
       "      <td>2/28/22</td>\n",
       "      <td>NO</td>\n",
       "      <td>NO</td>\n",
       "      <td>NO</td>\n",
       "      <td>20100002</td>\n",
       "      <td>15553</td>\n",
       "      <td>3/12/10</td>\n",
       "      <td>SUPPLEMENTAL FINAL</td>\n",
       "      <td>13730</td>\n",
       "      <td>NORTHERN INDIANA PUBLIC SERVICE CO</td>\n",
       "      <td>801 E 86TH AVENUE</td>\n",
       "      <td>MERRILLVILLE</td>\n",
       "      <td>IN</td>\n",
       "      <td>46410</td>\n",
       "      <td>2/16/10 10:38</td>\n",
       "      <td>NaN</td>\n",
       "      <td>NaN</td>\n",
       "      <td>2010</td>\n",
       "      <td>3835 SANDPIPER COVE RUN</td>\n",
       "      <td>SOUTH BEND</td>\n",
       "      <td>ST. JOSEPH</td>\n",
       "      <td>IN</td>\n",
       "      <td>46628</td>\n",
       "      <td>41.72931</td>\n",
       "      <td>-86.27531</td>\n",
       "      <td>57500</td>\n",
       "      <td>68334.121206</td>\n",
       "      <td>NO</td>\n",
       "      <td>0</td>\n",
       "      <td>20.0</td>\n",
       "      <td>0</td>\n",
       "      <td>EXCAVATION DAMAGE</td>\n",
       "      <td>EXCAVATION DAMAGE BY THIRD PARTY</td>\n",
       "      <td>PLASTIC</td>\n",
       "      <td>NaN</td>\n",
       "      <td>CONTRACTOR BORING ELECTRIC LINE PARALLEL TO 3\" DISTRIBUTION LINE AT 45 PSI.  HIT LINE, WHILE TAKING PRECAUTIONS TO SHUT DOWN SYSTEM, GAS MIGRATED TO NEARBY HOUSE AND EXPLODED.    THERE WAS A REQUEST BY PHMSA THROUGH THE INDIANA PUBLIC SERVICE COMMISSION TO PROVIDE ADDTIONAL INFORMATION, AND/OR UPDATE SOME DATA FIELDS.  ALL WERE COMPLETED AS REQUESTED EXCEPT PART G REQUESTING TO COMPLETE THE SECTION FOR PREVIOUS DAMAGE DUE TO EXCAVATION.  THERE WAS NO PREVIOUS DAMAGE DUE TO EXCAVATION RELATED TO THIS INCIDENT.  THE INFORMATION FOR THE ITEMS REQUESTED IS:  1.  DATE OF MOST RECENT LEAK SURVEY CONDUCTED - ANSWER IS 3-11-2010.  2.  HAS ONE OR MORE PRESSURE TEST BEEN COMPLETED SINCE ORIGINAL CONSTRUCTION AT THE POINT OF INCIDENT - ANSWER IS NONE.    WITH ALL OF THE REQUESTED INFORMATION UPDATED THIS INCIDENT WILL BE CLOSED.</td>\n",
       "      <td>310.0</td>\n",
       "      <td>1990-01-01</td>\n",
       "      <td>1990-1999</td>\n",
       "    </tr>\n",
       "  </tbody>\n",
       "</table>\n",
       "</div>"
      ],
      "text/plain": [
       "  datafile_as_of  ff significant serious  report_number  supplemental_number  \\\n",
       "0        2/28/22  NO         YES      NO       20100001                15047   \n",
       "1        2/28/22  NO          NO      NO       20100002                15553   \n",
       "\n",
       "  report_received_date         report_type  operator_id  \\\n",
       "0              3/11/10  SUPPLEMENTAL FINAL        15007   \n",
       "1              3/12/10  SUPPLEMENTAL FINAL        13730   \n",
       "\n",
       "                                 name  \\\n",
       "0           PACIFIC GAS & ELECTRIC CO   \n",
       "1  NORTHERN INDIANA PUBLIC SERVICE CO   \n",
       "\n",
       "                                                    operator_street_address  \\\n",
       "0  PG&E - GAS OPERATIONS, REGULATORY COMPLIANCE 6111 BOLLINGER CANYON RD.,    \n",
       "1                                                        801 E 86TH AVENUE    \n",
       "\n",
       "  operator_city_name operator_state_abbreviation operator_postal_code  \\\n",
       "0          SAN RAMON                          CA                94583   \n",
       "1       MERRILLVILLE                          IN                46410   \n",
       "\n",
       "  local_datetime time_zone daylight_savings_ind  iyear  \\\n",
       "0  2/13/10 23:35       NaN                  NaN   2010   \n",
       "1  2/16/10 10:38       NaN                  NaN   2010   \n",
       "\n",
       "   location_street_address location_city_name location_county_name  \\\n",
       "0     1617 EAST 9TH STREET           STOCKTON          SAN JOAQUIN   \n",
       "1  3835 SANDPIPER COVE RUN         SOUTH BEND           ST. JOSEPH   \n",
       "\n",
       "  location_state_abbreviation location_postal_code  location_latitude  \\\n",
       "0                          CA                95201           37.93188   \n",
       "1                          IN                46628           41.72931   \n",
       "\n",
       "   location_longitude  total_cost  total_cost_current injury_ind  injure  \\\n",
       "0          -121.26133      102500       124764.082311         NO       0   \n",
       "1           -86.27531       57500        68334.121206         NO       0   \n",
       "\n",
       "   num_pub_evacuated  fatal                       cause  \\\n",
       "0                0.0      0  OTHER OUTSIDE FORCE DAMAGE   \n",
       "1               20.0      0           EXCAVATION DAMAGE   \n",
       "\n",
       "                      cause_details material_involved material_details  \\\n",
       "0        OTHER OUTSIDE FORCE DAMAGE             OTHER         ALUMINUN   \n",
       "1  EXCAVATION DAMAGE BY THIRD PARTY           PLASTIC              NaN   \n",
       "\n",
       "                                                                                                                                                                                                                                                                                                                                                                                                                                                                                                                                                                                                                                                                                                                                                                                                                                                       narrative  \\\n",
       "0                                                    A FIRE AT AN UNOCCUPIED HOME OCCURRED AT APPROXIMATELY 2335 HOURS ON 2/13/10.   THE FIRE DEPARTMENT CALLED AT PG&E AT APPROXIMATELY 0005 HOURS. THE PG&E GAS SERVICE REPRESENTATIVE (GSR) ARRIVED AT 0020 HOURS.  THE FIRE DEPARTMENT AND GSR WERE UNABLE TO SHUT OFF THE SERVICE VALVE AT THE METER DUE TO DAMAGE TO THE VALVE BY THE FIRE.  A GAS CREW WAS CALLED AND THEY CUT OFF THE GAS SERVICE AT THE MAIN AT APPROXIMATELY 02:30.  ACCORDING TO THE FIRE DEPARTMENT THE THE FIRE APPEARS TO HAVE STARTED IN ONE OF THE CLOSETS IN THE HOME.  THE HOUSE FIRE DAMAGED THE GAS METER WHICH RELEASED NATURAL GAS RESULTING IN A SECONDARY IGNITION.  THE FIRE DAMAGE TO THE HOME RESULTED IN PROPERTY DAMAGES EXCEEDING $50,000.  THERE WERE NO INJURIES AND NO FATALITIES.  NO MAJOR MEDIA WAS PRESENT.   \n",
       "1  CONTRACTOR BORING ELECTRIC LINE PARALLEL TO 3\" DISTRIBUTION LINE AT 45 PSI.  HIT LINE, WHILE TAKING PRECAUTIONS TO SHUT DOWN SYSTEM, GAS MIGRATED TO NEARBY HOUSE AND EXPLODED.    THERE WAS A REQUEST BY PHMSA THROUGH THE INDIANA PUBLIC SERVICE COMMISSION TO PROVIDE ADDTIONAL INFORMATION, AND/OR UPDATE SOME DATA FIELDS.  ALL WERE COMPLETED AS REQUESTED EXCEPT PART G REQUESTING TO COMPLETE THE SECTION FOR PREVIOUS DAMAGE DUE TO EXCAVATION.  THERE WAS NO PREVIOUS DAMAGE DUE TO EXCAVATION RELATED TO THIS INCIDENT.  THE INFORMATION FOR THE ITEMS REQUESTED IS:  1.  DATE OF MOST RECENT LEAK SURVEY CONDUCTED - ANSWER IS 3-11-2010.  2.  HAS ONE OR MORE PRESSURE TEST BEEN COMPLETED SINCE ORIGINAL CONSTRUCTION AT THE POINT OF INCIDENT - ANSWER IS NONE.    WITH ALL OF THE REQUESTED INFORMATION UPDATED THIS INCIDENT WILL BE CLOSED.   \n",
       "\n",
       "   unintentional_release installation_year     decade  \n",
       "0                   10.0               NaN        NaN  \n",
       "1                  310.0        1990-01-01  1990-1999  "
      ]
     },
     "execution_count": 3,
     "metadata": {},
     "output_type": "execute_result"
    }
   ],
   "source": [
    "df_raw.head(2)"
   ]
  },
  {
   "cell_type": "markdown",
   "id": "48a1cfbc",
   "metadata": {},
   "source": [
    "### Clean county names for merging with Census population data"
   ]
  },
  {
   "cell_type": "code",
   "execution_count": 4,
   "id": "a2b3804d",
   "metadata": {},
   "outputs": [],
   "source": [
    "# convert county name to title case\n",
    "df_raw['location_county_name'] = df_raw.location_county_name.str.title()"
   ]
  },
  {
   "cell_type": "code",
   "execution_count": 5,
   "id": "724abc3f",
   "metadata": {},
   "outputs": [
    {
     "data": {
      "text/html": [
       "<div>\n",
       "<style scoped>\n",
       "    .dataframe tbody tr th:only-of-type {\n",
       "        vertical-align: middle;\n",
       "    }\n",
       "\n",
       "    .dataframe tbody tr th {\n",
       "        vertical-align: top;\n",
       "    }\n",
       "\n",
       "    .dataframe thead th {\n",
       "        text-align: right;\n",
       "    }\n",
       "</style>\n",
       "<table border=\"1\" class=\"dataframe\">\n",
       "  <thead>\n",
       "    <tr style=\"text-align: right;\">\n",
       "      <th></th>\n",
       "      <th>datafile_as_of</th>\n",
       "      <th>ff</th>\n",
       "      <th>significant</th>\n",
       "      <th>serious</th>\n",
       "      <th>report_number</th>\n",
       "      <th>supplemental_number</th>\n",
       "      <th>report_received_date</th>\n",
       "      <th>report_type</th>\n",
       "      <th>operator_id</th>\n",
       "      <th>name</th>\n",
       "      <th>operator_street_address</th>\n",
       "      <th>operator_city_name</th>\n",
       "      <th>operator_state_abbreviation</th>\n",
       "      <th>operator_postal_code</th>\n",
       "      <th>local_datetime</th>\n",
       "      <th>time_zone</th>\n",
       "      <th>daylight_savings_ind</th>\n",
       "      <th>iyear</th>\n",
       "      <th>location_street_address</th>\n",
       "      <th>location_city_name</th>\n",
       "      <th>location_county_name</th>\n",
       "      <th>location_state_abbreviation</th>\n",
       "      <th>location_postal_code</th>\n",
       "      <th>location_latitude</th>\n",
       "      <th>location_longitude</th>\n",
       "      <th>total_cost</th>\n",
       "      <th>total_cost_current</th>\n",
       "      <th>injury_ind</th>\n",
       "      <th>injure</th>\n",
       "      <th>num_pub_evacuated</th>\n",
       "      <th>fatal</th>\n",
       "      <th>cause</th>\n",
       "      <th>cause_details</th>\n",
       "      <th>material_involved</th>\n",
       "      <th>material_details</th>\n",
       "      <th>narrative</th>\n",
       "      <th>unintentional_release</th>\n",
       "      <th>installation_year</th>\n",
       "      <th>decade</th>\n",
       "      <th>State</th>\n",
       "      <th>Abbreviation</th>\n",
       "    </tr>\n",
       "  </thead>\n",
       "  <tbody>\n",
       "    <tr>\n",
       "      <th>0</th>\n",
       "      <td>2/28/22</td>\n",
       "      <td>NO</td>\n",
       "      <td>YES</td>\n",
       "      <td>NO</td>\n",
       "      <td>20100001</td>\n",
       "      <td>15047</td>\n",
       "      <td>3/11/10</td>\n",
       "      <td>SUPPLEMENTAL FINAL</td>\n",
       "      <td>15007</td>\n",
       "      <td>PACIFIC GAS &amp; ELECTRIC CO</td>\n",
       "      <td>PG&amp;E - GAS OPERATIONS, REGULATORY COMPLIANCE 6111 BOLLINGER CANYON RD.,</td>\n",
       "      <td>SAN RAMON</td>\n",
       "      <td>CA</td>\n",
       "      <td>94583</td>\n",
       "      <td>2/13/10 23:35</td>\n",
       "      <td>NaN</td>\n",
       "      <td>NaN</td>\n",
       "      <td>2010</td>\n",
       "      <td>1617 EAST 9TH STREET</td>\n",
       "      <td>STOCKTON</td>\n",
       "      <td>San Joaquin</td>\n",
       "      <td>CA</td>\n",
       "      <td>95201</td>\n",
       "      <td>37.93188</td>\n",
       "      <td>-121.26133</td>\n",
       "      <td>102500</td>\n",
       "      <td>124764.082311</td>\n",
       "      <td>NO</td>\n",
       "      <td>0</td>\n",
       "      <td>0.0</td>\n",
       "      <td>0</td>\n",
       "      <td>OTHER OUTSIDE FORCE DAMAGE</td>\n",
       "      <td>OTHER OUTSIDE FORCE DAMAGE</td>\n",
       "      <td>OTHER</td>\n",
       "      <td>ALUMINUN</td>\n",
       "      <td>A FIRE AT AN UNOCCUPIED HOME OCCURRED AT APPROXIMATELY 2335 HOURS ON 2/13/10.   THE FIRE DEPARTMENT CALLED AT PG&amp;E AT APPROXIMATELY 0005 HOURS. THE PG&amp;E GAS SERVICE REPRESENTATIVE (GSR) ARRIVED AT 0020 HOURS.  THE FIRE DEPARTMENT AND GSR WERE UNABLE TO SHUT OFF THE SERVICE VALVE AT THE METER DUE TO DAMAGE TO THE VALVE BY THE FIRE.  A GAS CREW WAS CALLED AND THEY CUT OFF THE GAS SERVICE AT THE MAIN AT APPROXIMATELY 02:30.  ACCORDING TO THE FIRE DEPARTMENT THE THE FIRE APPEARS TO HAVE STARTED IN ONE OF THE CLOSETS IN THE HOME.  THE HOUSE FIRE DAMAGED THE GAS METER WHICH RELEASED NATURAL GAS RESULTING IN A SECONDARY IGNITION.  THE FIRE DAMAGE TO THE HOME RESULTED IN PROPERTY DAMAGES EXCEEDING $50,000.  THERE WERE NO INJURIES AND NO FATALITIES.  NO MAJOR MEDIA WAS PRESENT.</td>\n",
       "      <td>10.0</td>\n",
       "      <td>NaN</td>\n",
       "      <td>NaN</td>\n",
       "      <td>California</td>\n",
       "      <td>CA</td>\n",
       "    </tr>\n",
       "    <tr>\n",
       "      <th>1</th>\n",
       "      <td>2/28/22</td>\n",
       "      <td>NO</td>\n",
       "      <td>NO</td>\n",
       "      <td>NO</td>\n",
       "      <td>20100022</td>\n",
       "      <td>15025</td>\n",
       "      <td>5/10/10</td>\n",
       "      <td>ORIGINAL FINAL</td>\n",
       "      <td>15007</td>\n",
       "      <td>PACIFIC GAS &amp; ELECTRIC CO</td>\n",
       "      <td>PG&amp;E - GAS OPERATIONS, REGULATORY COMPLIANCE 6111 BOLLINGER CANYON RD.,</td>\n",
       "      <td>SAN RAMON</td>\n",
       "      <td>CA</td>\n",
       "      <td>94583</td>\n",
       "      <td>1/9/10 16:27</td>\n",
       "      <td>NaN</td>\n",
       "      <td>NaN</td>\n",
       "      <td>2010</td>\n",
       "      <td>HEMLOCK ST &amp; O ST</td>\n",
       "      <td>EUREKA</td>\n",
       "      <td>Humboldt</td>\n",
       "      <td>CA</td>\n",
       "      <td>95501</td>\n",
       "      <td>40.77320</td>\n",
       "      <td>-124.15280</td>\n",
       "      <td>2500</td>\n",
       "      <td>3043.026398</td>\n",
       "      <td>NO</td>\n",
       "      <td>0</td>\n",
       "      <td>16.0</td>\n",
       "      <td>0</td>\n",
       "      <td>NATURAL FORCE DAMAGE</td>\n",
       "      <td>EARTH MOVEMENT, NOT DUE TO HEAVY RAINS/FLOODS</td>\n",
       "      <td>STEEL</td>\n",
       "      <td>NaN</td>\n",
       "      <td>ON 1/19/10 AT APPROXIMATELY 1627 HOURS A 6.5 MAGNITUDE EARTHQUAKE STRUCK THE EUREKA AREA. AT APPROXIMATLEY 1945 HOURS PG&amp;E WAS NOTIFIED OF A GAS LEAK ON A 0.75-INCH STEEL SERVICE IN THE INTERSECTION OG HEMLOCK AND 0 STREETS. THE LEAK APPEARS TO HAVE BEEN CAUSED BY THE EARTHQUAKE. THE EUREKA POLICE AND FIRE DEPARTMENTS WERE ON SCENE AND BLOCKED OFF THE AREA. THE FIRE DEPARTMENT EVACUATED 16 HOMES AS A PRECAUTION. PG&amp;E CREWS WERE ON SCENE AT 2030 HOURS. PROPERTY DAMAGES WERE LESS THAN $50,000. THERE WERE NO FATALITIES OR INJURIES AS A RESULT OF THIS INCIDENT. THIS INCIDENT BECAME REPORTABLE WHEN DOT OFFICE OF PIPELINE SAFETY BECAME AWARE OF THIS INCIDENT DUE TO NEWS COVERAGE.</td>\n",
       "      <td>102.0</td>\n",
       "      <td>NaN</td>\n",
       "      <td>NaN</td>\n",
       "      <td>California</td>\n",
       "      <td>CA</td>\n",
       "    </tr>\n",
       "  </tbody>\n",
       "</table>\n",
       "</div>"
      ],
      "text/plain": [
       "  datafile_as_of  ff significant serious  report_number  supplemental_number  \\\n",
       "0        2/28/22  NO         YES      NO       20100001                15047   \n",
       "1        2/28/22  NO          NO      NO       20100022                15025   \n",
       "\n",
       "  report_received_date         report_type  operator_id  \\\n",
       "0              3/11/10  SUPPLEMENTAL FINAL        15007   \n",
       "1              5/10/10      ORIGINAL FINAL        15007   \n",
       "\n",
       "                        name  \\\n",
       "0  PACIFIC GAS & ELECTRIC CO   \n",
       "1  PACIFIC GAS & ELECTRIC CO   \n",
       "\n",
       "                                                    operator_street_address  \\\n",
       "0  PG&E - GAS OPERATIONS, REGULATORY COMPLIANCE 6111 BOLLINGER CANYON RD.,    \n",
       "1  PG&E - GAS OPERATIONS, REGULATORY COMPLIANCE 6111 BOLLINGER CANYON RD.,    \n",
       "\n",
       "  operator_city_name operator_state_abbreviation operator_postal_code  \\\n",
       "0          SAN RAMON                          CA                94583   \n",
       "1          SAN RAMON                          CA                94583   \n",
       "\n",
       "  local_datetime time_zone daylight_savings_ind  iyear  \\\n",
       "0  2/13/10 23:35       NaN                  NaN   2010   \n",
       "1   1/9/10 16:27       NaN                  NaN   2010   \n",
       "\n",
       "  location_street_address location_city_name location_county_name  \\\n",
       "0    1617 EAST 9TH STREET           STOCKTON          San Joaquin   \n",
       "1       HEMLOCK ST & O ST             EUREKA             Humboldt   \n",
       "\n",
       "  location_state_abbreviation location_postal_code  location_latitude  \\\n",
       "0                          CA                95201           37.93188   \n",
       "1                          CA                95501           40.77320   \n",
       "\n",
       "   location_longitude  total_cost  total_cost_current injury_ind  injure  \\\n",
       "0          -121.26133      102500       124764.082311         NO       0   \n",
       "1          -124.15280        2500         3043.026398         NO       0   \n",
       "\n",
       "   num_pub_evacuated  fatal                       cause  \\\n",
       "0                0.0      0  OTHER OUTSIDE FORCE DAMAGE   \n",
       "1               16.0      0        NATURAL FORCE DAMAGE   \n",
       "\n",
       "                                   cause_details material_involved  \\\n",
       "0                     OTHER OUTSIDE FORCE DAMAGE             OTHER   \n",
       "1  EARTH MOVEMENT, NOT DUE TO HEAVY RAINS/FLOODS             STEEL   \n",
       "\n",
       "  material_details  \\\n",
       "0         ALUMINUN   \n",
       "1              NaN   \n",
       "\n",
       "                                                                                                                                                                                                                                                                                                                                                                                                                                                                                                                                                                                                                                                                                                                                                                                                     narrative  \\\n",
       "0  A FIRE AT AN UNOCCUPIED HOME OCCURRED AT APPROXIMATELY 2335 HOURS ON 2/13/10.   THE FIRE DEPARTMENT CALLED AT PG&E AT APPROXIMATELY 0005 HOURS. THE PG&E GAS SERVICE REPRESENTATIVE (GSR) ARRIVED AT 0020 HOURS.  THE FIRE DEPARTMENT AND GSR WERE UNABLE TO SHUT OFF THE SERVICE VALVE AT THE METER DUE TO DAMAGE TO THE VALVE BY THE FIRE.  A GAS CREW WAS CALLED AND THEY CUT OFF THE GAS SERVICE AT THE MAIN AT APPROXIMATELY 02:30.  ACCORDING TO THE FIRE DEPARTMENT THE THE FIRE APPEARS TO HAVE STARTED IN ONE OF THE CLOSETS IN THE HOME.  THE HOUSE FIRE DAMAGED THE GAS METER WHICH RELEASED NATURAL GAS RESULTING IN A SECONDARY IGNITION.  THE FIRE DAMAGE TO THE HOME RESULTED IN PROPERTY DAMAGES EXCEEDING $50,000.  THERE WERE NO INJURIES AND NO FATALITIES.  NO MAJOR MEDIA WAS PRESENT.   \n",
       "1                                                                                                   ON 1/19/10 AT APPROXIMATELY 1627 HOURS A 6.5 MAGNITUDE EARTHQUAKE STRUCK THE EUREKA AREA. AT APPROXIMATLEY 1945 HOURS PG&E WAS NOTIFIED OF A GAS LEAK ON A 0.75-INCH STEEL SERVICE IN THE INTERSECTION OG HEMLOCK AND 0 STREETS. THE LEAK APPEARS TO HAVE BEEN CAUSED BY THE EARTHQUAKE. THE EUREKA POLICE AND FIRE DEPARTMENTS WERE ON SCENE AND BLOCKED OFF THE AREA. THE FIRE DEPARTMENT EVACUATED 16 HOMES AS A PRECAUTION. PG&E CREWS WERE ON SCENE AT 2030 HOURS. PROPERTY DAMAGES WERE LESS THAN $50,000. THERE WERE NO FATALITIES OR INJURIES AS A RESULT OF THIS INCIDENT. THIS INCIDENT BECAME REPORTABLE WHEN DOT OFFICE OF PIPELINE SAFETY BECAME AWARE OF THIS INCIDENT DUE TO NEWS COVERAGE.   \n",
       "\n",
       "   unintentional_release installation_year decade       State Abbreviation  \n",
       "0                   10.0               NaN    NaN  California           CA  \n",
       "1                  102.0               NaN    NaN  California           CA  "
      ]
     },
     "execution_count": 5,
     "metadata": {},
     "output_type": "execute_result"
    }
   ],
   "source": [
    "# get full state names instead of abbreviations\n",
    "\n",
    "# load in CSV with state abbreviations and full names\n",
    "df_state_abbvs = pd.read_csv('https://raw.githubusercontent.com/jasonong/List-of-US-States/master/states.csv')\n",
    "df_state_abbvs.head()\n",
    "\n",
    "# merge dataframes to get a 'State' column with the state name\n",
    "df_raw = df_raw.merge(df_state_abbvs, left_on='location_state_abbreviation', right_on='Abbreviation')\n",
    "df_raw.head(2)"
   ]
  },
  {
   "cell_type": "code",
   "execution_count": 6,
   "id": "51e1fef7",
   "metadata": {},
   "outputs": [
    {
     "data": {
      "text/plain": [
       "0    San Joaquin County, California\n",
       "1       Humboldt County, California\n",
       "2     Sacramento County, California\n",
       "3    San Joaquin County, California\n",
       "4     Stanislaus County, California\n",
       "Name: county_full_name, dtype: object"
      ]
     },
     "execution_count": 6,
     "metadata": {},
     "output_type": "execute_result"
    }
   ],
   "source": [
    "# creating new column with full state name instead of state abbreviation\n",
    "df_raw['county_full_name'] = df_raw['location_county_name'] + \" County, \" + df_raw['State']\n",
    "df_raw.county_full_name.head()"
   ]
  },
  {
   "cell_type": "markdown",
   "id": "58637759",
   "metadata": {},
   "source": [
    "## Load Census population data"
   ]
  },
  {
   "cell_type": "code",
   "execution_count": 7,
   "id": "4c19eae3",
   "metadata": {},
   "outputs": [
    {
     "data": {
      "text/html": [
       "<div>\n",
       "<style scoped>\n",
       "    .dataframe tbody tr th:only-of-type {\n",
       "        vertical-align: middle;\n",
       "    }\n",
       "\n",
       "    .dataframe tbody tr th {\n",
       "        vertical-align: top;\n",
       "    }\n",
       "\n",
       "    .dataframe thead th {\n",
       "        text-align: right;\n",
       "    }\n",
       "</style>\n",
       "<table border=\"1\" class=\"dataframe\">\n",
       "  <thead>\n",
       "    <tr style=\"text-align: right;\">\n",
       "      <th></th>\n",
       "      <th>GEO_ID</th>\n",
       "      <th>NAME</th>\n",
       "      <th>P1_001N</th>\n",
       "    </tr>\n",
       "  </thead>\n",
       "  <tbody>\n",
       "    <tr>\n",
       "      <th>1</th>\n",
       "      <td>0500000US01001</td>\n",
       "      <td>Autauga County, Alabama</td>\n",
       "      <td>58805</td>\n",
       "    </tr>\n",
       "    <tr>\n",
       "      <th>2</th>\n",
       "      <td>0500000US01003</td>\n",
       "      <td>Baldwin County, Alabama</td>\n",
       "      <td>231767</td>\n",
       "    </tr>\n",
       "    <tr>\n",
       "      <th>3</th>\n",
       "      <td>0500000US01005</td>\n",
       "      <td>Barbour County, Alabama</td>\n",
       "      <td>25223</td>\n",
       "    </tr>\n",
       "    <tr>\n",
       "      <th>4</th>\n",
       "      <td>0500000US01007</td>\n",
       "      <td>Bibb County, Alabama</td>\n",
       "      <td>22293</td>\n",
       "    </tr>\n",
       "    <tr>\n",
       "      <th>5</th>\n",
       "      <td>0500000US01009</td>\n",
       "      <td>Blount County, Alabama</td>\n",
       "      <td>59134</td>\n",
       "    </tr>\n",
       "  </tbody>\n",
       "</table>\n",
       "</div>"
      ],
      "text/plain": [
       "           GEO_ID                     NAME  P1_001N\n",
       "1  0500000US01001  Autauga County, Alabama    58805\n",
       "2  0500000US01003  Baldwin County, Alabama   231767\n",
       "3  0500000US01005  Barbour County, Alabama    25223\n",
       "4  0500000US01007     Bibb County, Alabama    22293\n",
       "5  0500000US01009   Blount County, Alabama    59134"
      ]
     },
     "execution_count": 7,
     "metadata": {},
     "output_type": "execute_result"
    }
   ],
   "source": [
    "# census population data downloaded from Decennial Census 2020 P1 Race table\n",
    "df_population = pd.read_csv('../data/source/DECENNIALPL2020.P1_2022-04-27T211220_COUNTIES/DECENNIALPL2020.P1_data_with_overlays_2022-04-26T230600.csv')\n",
    "\n",
    "# drop first row\n",
    "df_population = df_population.iloc[1:]\n",
    "\n",
    "# keep only GEO_ID, NAME (area), P1_001N (total)\n",
    "df_population = df_population[['GEO_ID', 'NAME', 'P1_001N']]\n",
    "\n",
    "# convert P1_001N to numeric\n",
    "df_population.P1_001N = df_population.P1_001N.astype(int)\n",
    "\n",
    "df_population.head()"
   ]
  },
  {
   "cell_type": "code",
   "execution_count": 8,
   "id": "ecc17968",
   "metadata": {},
   "outputs": [
    {
     "data": {
      "text/html": [
       "<div>\n",
       "<style scoped>\n",
       "    .dataframe tbody tr th:only-of-type {\n",
       "        vertical-align: middle;\n",
       "    }\n",
       "\n",
       "    .dataframe tbody tr th {\n",
       "        vertical-align: top;\n",
       "    }\n",
       "\n",
       "    .dataframe thead th {\n",
       "        text-align: right;\n",
       "    }\n",
       "</style>\n",
       "<table border=\"1\" class=\"dataframe\">\n",
       "  <thead>\n",
       "    <tr style=\"text-align: right;\">\n",
       "      <th></th>\n",
       "      <th>GEO_ID</th>\n",
       "      <th>NAME</th>\n",
       "      <th>P1_001N</th>\n",
       "    </tr>\n",
       "  </thead>\n",
       "  <tbody>\n",
       "    <tr>\n",
       "      <th>206</th>\n",
       "      <td>0500000US06037</td>\n",
       "      <td>Los Angeles County, California</td>\n",
       "      <td>10014009</td>\n",
       "    </tr>\n",
       "  </tbody>\n",
       "</table>\n",
       "</div>"
      ],
      "text/plain": [
       "             GEO_ID                            NAME   P1_001N\n",
       "206  0500000US06037  Los Angeles County, California  10014009"
      ]
     },
     "execution_count": 8,
     "metadata": {},
     "output_type": "execute_result"
    }
   ],
   "source": [
    "df_population[df_population.NAME == 'Los Angeles County, California']"
   ]
  },
  {
   "cell_type": "markdown",
   "id": "cf290d57",
   "metadata": {},
   "source": [
    "## Merge dataframes"
   ]
  },
  {
   "cell_type": "code",
   "execution_count": 9,
   "id": "1dd2d4ec",
   "metadata": {},
   "outputs": [
    {
     "data": {
      "text/html": [
       "<div>\n",
       "<style scoped>\n",
       "    .dataframe tbody tr th:only-of-type {\n",
       "        vertical-align: middle;\n",
       "    }\n",
       "\n",
       "    .dataframe tbody tr th {\n",
       "        vertical-align: top;\n",
       "    }\n",
       "\n",
       "    .dataframe thead th {\n",
       "        text-align: right;\n",
       "    }\n",
       "</style>\n",
       "<table border=\"1\" class=\"dataframe\">\n",
       "  <thead>\n",
       "    <tr style=\"text-align: right;\">\n",
       "      <th></th>\n",
       "      <th>datafile_as_of</th>\n",
       "      <th>ff</th>\n",
       "      <th>significant</th>\n",
       "      <th>serious</th>\n",
       "      <th>report_number</th>\n",
       "      <th>supplemental_number</th>\n",
       "      <th>report_received_date</th>\n",
       "      <th>report_type</th>\n",
       "      <th>operator_id</th>\n",
       "      <th>name</th>\n",
       "      <th>operator_street_address</th>\n",
       "      <th>operator_city_name</th>\n",
       "      <th>operator_state_abbreviation</th>\n",
       "      <th>operator_postal_code</th>\n",
       "      <th>local_datetime</th>\n",
       "      <th>time_zone</th>\n",
       "      <th>daylight_savings_ind</th>\n",
       "      <th>iyear</th>\n",
       "      <th>location_street_address</th>\n",
       "      <th>location_city_name</th>\n",
       "      <th>location_county_name</th>\n",
       "      <th>location_state_abbreviation</th>\n",
       "      <th>location_postal_code</th>\n",
       "      <th>location_latitude</th>\n",
       "      <th>location_longitude</th>\n",
       "      <th>total_cost</th>\n",
       "      <th>total_cost_current</th>\n",
       "      <th>injury_ind</th>\n",
       "      <th>injure</th>\n",
       "      <th>num_pub_evacuated</th>\n",
       "      <th>fatal</th>\n",
       "      <th>cause</th>\n",
       "      <th>cause_details</th>\n",
       "      <th>material_involved</th>\n",
       "      <th>material_details</th>\n",
       "      <th>narrative</th>\n",
       "      <th>unintentional_release</th>\n",
       "      <th>installation_year</th>\n",
       "      <th>decade</th>\n",
       "      <th>State</th>\n",
       "      <th>Abbreviation</th>\n",
       "      <th>county_full_name</th>\n",
       "      <th>GEO_ID</th>\n",
       "      <th>NAME</th>\n",
       "      <th>P1_001N</th>\n",
       "    </tr>\n",
       "  </thead>\n",
       "  <tbody>\n",
       "    <tr>\n",
       "      <th>0</th>\n",
       "      <td>2/28/22</td>\n",
       "      <td>NO</td>\n",
       "      <td>YES</td>\n",
       "      <td>NO</td>\n",
       "      <td>20100001</td>\n",
       "      <td>15047</td>\n",
       "      <td>3/11/10</td>\n",
       "      <td>SUPPLEMENTAL FINAL</td>\n",
       "      <td>15007</td>\n",
       "      <td>PACIFIC GAS &amp; ELECTRIC CO</td>\n",
       "      <td>PG&amp;E - GAS OPERATIONS, REGULATORY COMPLIANCE 6111 BOLLINGER CANYON RD.,</td>\n",
       "      <td>SAN RAMON</td>\n",
       "      <td>CA</td>\n",
       "      <td>94583</td>\n",
       "      <td>2/13/10 23:35</td>\n",
       "      <td>NaN</td>\n",
       "      <td>NaN</td>\n",
       "      <td>2010</td>\n",
       "      <td>1617 EAST 9TH STREET</td>\n",
       "      <td>STOCKTON</td>\n",
       "      <td>San Joaquin</td>\n",
       "      <td>CA</td>\n",
       "      <td>95201</td>\n",
       "      <td>37.93188</td>\n",
       "      <td>-121.26133</td>\n",
       "      <td>102500</td>\n",
       "      <td>124764.082311</td>\n",
       "      <td>NO</td>\n",
       "      <td>0</td>\n",
       "      <td>0.0</td>\n",
       "      <td>0</td>\n",
       "      <td>OTHER OUTSIDE FORCE DAMAGE</td>\n",
       "      <td>OTHER OUTSIDE FORCE DAMAGE</td>\n",
       "      <td>OTHER</td>\n",
       "      <td>ALUMINUN</td>\n",
       "      <td>A FIRE AT AN UNOCCUPIED HOME OCCURRED AT APPROXIMATELY 2335 HOURS ON 2/13/10.   THE FIRE DEPARTMENT CALLED AT PG&amp;E AT APPROXIMATELY 0005 HOURS. THE PG&amp;E GAS SERVICE REPRESENTATIVE (GSR) ARRIVED AT 0020 HOURS.  THE FIRE DEPARTMENT AND GSR WERE UNABLE TO SHUT OFF THE SERVICE VALVE AT THE METER DUE TO DAMAGE TO THE VALVE BY THE FIRE.  A GAS CREW WAS CALLED AND THEY CUT OFF THE GAS SERVICE AT THE MAIN AT APPROXIMATELY 02:30.  ACCORDING TO THE FIRE DEPARTMENT THE THE FIRE APPEARS TO HAVE STARTED IN ONE OF THE CLOSETS IN THE HOME.  THE HOUSE FIRE DAMAGED THE GAS METER WHICH RELEASED NATURAL GAS RESULTING IN A SECONDARY IGNITION.  THE FIRE DAMAGE TO THE HOME RESULTED IN PROPERTY DAMAGES EXCEEDING $50,000.  THERE WERE NO INJURIES AND NO FATALITIES.  NO MAJOR MEDIA WAS PRESENT.</td>\n",
       "      <td>10.0</td>\n",
       "      <td>NaN</td>\n",
       "      <td>NaN</td>\n",
       "      <td>California</td>\n",
       "      <td>CA</td>\n",
       "      <td>San Joaquin County, California</td>\n",
       "      <td>0500000US06077</td>\n",
       "      <td>San Joaquin County, California</td>\n",
       "      <td>779233.0</td>\n",
       "    </tr>\n",
       "    <tr>\n",
       "      <th>1</th>\n",
       "      <td>2/28/22</td>\n",
       "      <td>NO</td>\n",
       "      <td>NO</td>\n",
       "      <td>NO</td>\n",
       "      <td>20100022</td>\n",
       "      <td>15025</td>\n",
       "      <td>5/10/10</td>\n",
       "      <td>ORIGINAL FINAL</td>\n",
       "      <td>15007</td>\n",
       "      <td>PACIFIC GAS &amp; ELECTRIC CO</td>\n",
       "      <td>PG&amp;E - GAS OPERATIONS, REGULATORY COMPLIANCE 6111 BOLLINGER CANYON RD.,</td>\n",
       "      <td>SAN RAMON</td>\n",
       "      <td>CA</td>\n",
       "      <td>94583</td>\n",
       "      <td>1/9/10 16:27</td>\n",
       "      <td>NaN</td>\n",
       "      <td>NaN</td>\n",
       "      <td>2010</td>\n",
       "      <td>HEMLOCK ST &amp; O ST</td>\n",
       "      <td>EUREKA</td>\n",
       "      <td>Humboldt</td>\n",
       "      <td>CA</td>\n",
       "      <td>95501</td>\n",
       "      <td>40.77320</td>\n",
       "      <td>-124.15280</td>\n",
       "      <td>2500</td>\n",
       "      <td>3043.026398</td>\n",
       "      <td>NO</td>\n",
       "      <td>0</td>\n",
       "      <td>16.0</td>\n",
       "      <td>0</td>\n",
       "      <td>NATURAL FORCE DAMAGE</td>\n",
       "      <td>EARTH MOVEMENT, NOT DUE TO HEAVY RAINS/FLOODS</td>\n",
       "      <td>STEEL</td>\n",
       "      <td>NaN</td>\n",
       "      <td>ON 1/19/10 AT APPROXIMATELY 1627 HOURS A 6.5 MAGNITUDE EARTHQUAKE STRUCK THE EUREKA AREA. AT APPROXIMATLEY 1945 HOURS PG&amp;E WAS NOTIFIED OF A GAS LEAK ON A 0.75-INCH STEEL SERVICE IN THE INTERSECTION OG HEMLOCK AND 0 STREETS. THE LEAK APPEARS TO HAVE BEEN CAUSED BY THE EARTHQUAKE. THE EUREKA POLICE AND FIRE DEPARTMENTS WERE ON SCENE AND BLOCKED OFF THE AREA. THE FIRE DEPARTMENT EVACUATED 16 HOMES AS A PRECAUTION. PG&amp;E CREWS WERE ON SCENE AT 2030 HOURS. PROPERTY DAMAGES WERE LESS THAN $50,000. THERE WERE NO FATALITIES OR INJURIES AS A RESULT OF THIS INCIDENT. THIS INCIDENT BECAME REPORTABLE WHEN DOT OFFICE OF PIPELINE SAFETY BECAME AWARE OF THIS INCIDENT DUE TO NEWS COVERAGE.</td>\n",
       "      <td>102.0</td>\n",
       "      <td>NaN</td>\n",
       "      <td>NaN</td>\n",
       "      <td>California</td>\n",
       "      <td>CA</td>\n",
       "      <td>Humboldt County, California</td>\n",
       "      <td>0500000US06023</td>\n",
       "      <td>Humboldt County, California</td>\n",
       "      <td>136463.0</td>\n",
       "    </tr>\n",
       "  </tbody>\n",
       "</table>\n",
       "</div>"
      ],
      "text/plain": [
       "  datafile_as_of  ff significant serious  report_number  supplemental_number  \\\n",
       "0        2/28/22  NO         YES      NO       20100001                15047   \n",
       "1        2/28/22  NO          NO      NO       20100022                15025   \n",
       "\n",
       "  report_received_date         report_type  operator_id  \\\n",
       "0              3/11/10  SUPPLEMENTAL FINAL        15007   \n",
       "1              5/10/10      ORIGINAL FINAL        15007   \n",
       "\n",
       "                        name  \\\n",
       "0  PACIFIC GAS & ELECTRIC CO   \n",
       "1  PACIFIC GAS & ELECTRIC CO   \n",
       "\n",
       "                                                    operator_street_address  \\\n",
       "0  PG&E - GAS OPERATIONS, REGULATORY COMPLIANCE 6111 BOLLINGER CANYON RD.,    \n",
       "1  PG&E - GAS OPERATIONS, REGULATORY COMPLIANCE 6111 BOLLINGER CANYON RD.,    \n",
       "\n",
       "  operator_city_name operator_state_abbreviation operator_postal_code  \\\n",
       "0          SAN RAMON                          CA                94583   \n",
       "1          SAN RAMON                          CA                94583   \n",
       "\n",
       "  local_datetime time_zone daylight_savings_ind  iyear  \\\n",
       "0  2/13/10 23:35       NaN                  NaN   2010   \n",
       "1   1/9/10 16:27       NaN                  NaN   2010   \n",
       "\n",
       "  location_street_address location_city_name location_county_name  \\\n",
       "0    1617 EAST 9TH STREET           STOCKTON          San Joaquin   \n",
       "1       HEMLOCK ST & O ST             EUREKA             Humboldt   \n",
       "\n",
       "  location_state_abbreviation location_postal_code  location_latitude  \\\n",
       "0                          CA                95201           37.93188   \n",
       "1                          CA                95501           40.77320   \n",
       "\n",
       "   location_longitude  total_cost  total_cost_current injury_ind  injure  \\\n",
       "0          -121.26133      102500       124764.082311         NO       0   \n",
       "1          -124.15280        2500         3043.026398         NO       0   \n",
       "\n",
       "   num_pub_evacuated  fatal                       cause  \\\n",
       "0                0.0      0  OTHER OUTSIDE FORCE DAMAGE   \n",
       "1               16.0      0        NATURAL FORCE DAMAGE   \n",
       "\n",
       "                                   cause_details material_involved  \\\n",
       "0                     OTHER OUTSIDE FORCE DAMAGE             OTHER   \n",
       "1  EARTH MOVEMENT, NOT DUE TO HEAVY RAINS/FLOODS             STEEL   \n",
       "\n",
       "  material_details  \\\n",
       "0         ALUMINUN   \n",
       "1              NaN   \n",
       "\n",
       "                                                                                                                                                                                                                                                                                                                                                                                                                                                                                                                                                                                                                                                                                                                                                                                                     narrative  \\\n",
       "0  A FIRE AT AN UNOCCUPIED HOME OCCURRED AT APPROXIMATELY 2335 HOURS ON 2/13/10.   THE FIRE DEPARTMENT CALLED AT PG&E AT APPROXIMATELY 0005 HOURS. THE PG&E GAS SERVICE REPRESENTATIVE (GSR) ARRIVED AT 0020 HOURS.  THE FIRE DEPARTMENT AND GSR WERE UNABLE TO SHUT OFF THE SERVICE VALVE AT THE METER DUE TO DAMAGE TO THE VALVE BY THE FIRE.  A GAS CREW WAS CALLED AND THEY CUT OFF THE GAS SERVICE AT THE MAIN AT APPROXIMATELY 02:30.  ACCORDING TO THE FIRE DEPARTMENT THE THE FIRE APPEARS TO HAVE STARTED IN ONE OF THE CLOSETS IN THE HOME.  THE HOUSE FIRE DAMAGED THE GAS METER WHICH RELEASED NATURAL GAS RESULTING IN A SECONDARY IGNITION.  THE FIRE DAMAGE TO THE HOME RESULTED IN PROPERTY DAMAGES EXCEEDING $50,000.  THERE WERE NO INJURIES AND NO FATALITIES.  NO MAJOR MEDIA WAS PRESENT.   \n",
       "1                                                                                                   ON 1/19/10 AT APPROXIMATELY 1627 HOURS A 6.5 MAGNITUDE EARTHQUAKE STRUCK THE EUREKA AREA. AT APPROXIMATLEY 1945 HOURS PG&E WAS NOTIFIED OF A GAS LEAK ON A 0.75-INCH STEEL SERVICE IN THE INTERSECTION OG HEMLOCK AND 0 STREETS. THE LEAK APPEARS TO HAVE BEEN CAUSED BY THE EARTHQUAKE. THE EUREKA POLICE AND FIRE DEPARTMENTS WERE ON SCENE AND BLOCKED OFF THE AREA. THE FIRE DEPARTMENT EVACUATED 16 HOMES AS A PRECAUTION. PG&E CREWS WERE ON SCENE AT 2030 HOURS. PROPERTY DAMAGES WERE LESS THAN $50,000. THERE WERE NO FATALITIES OR INJURIES AS A RESULT OF THIS INCIDENT. THIS INCIDENT BECAME REPORTABLE WHEN DOT OFFICE OF PIPELINE SAFETY BECAME AWARE OF THIS INCIDENT DUE TO NEWS COVERAGE.   \n",
       "\n",
       "   unintentional_release installation_year decade       State Abbreviation  \\\n",
       "0                   10.0               NaN    NaN  California           CA   \n",
       "1                  102.0               NaN    NaN  California           CA   \n",
       "\n",
       "                 county_full_name          GEO_ID  \\\n",
       "0  San Joaquin County, California  0500000US06077   \n",
       "1     Humboldt County, California  0500000US06023   \n",
       "\n",
       "                             NAME   P1_001N  \n",
       "0  San Joaquin County, California  779233.0  \n",
       "1     Humboldt County, California  136463.0  "
      ]
     },
     "execution_count": 9,
     "metadata": {},
     "output_type": "execute_result"
    }
   ],
   "source": [
    "df_merge = df_raw.merge(df_population, left_on='county_full_name', right_on='NAME', how ='left')\n",
    "df_merge.head(2)"
   ]
  },
  {
   "cell_type": "markdown",
   "id": "dea5b4a4",
   "metadata": {},
   "source": [
    "## Analyze by county"
   ]
  },
  {
   "cell_type": "code",
   "execution_count": 10,
   "id": "6f14dffb",
   "metadata": {},
   "outputs": [
    {
     "data": {
      "text/plain": [
       "decade\n",
       "1900-1909    1.651421e+06\n",
       "1910-1919    1.793561e+06\n",
       "1920-1929    1.946104e+06\n",
       "1930-1939    1.922754e+06\n",
       "1940-1949    2.053062e+06\n",
       "1950-1959    1.296916e+06\n",
       "1960-1969    1.183644e+06\n",
       "1970-1979    1.282280e+06\n",
       "1980-1989    1.333264e+06\n",
       "1990-1999    9.466829e+05\n",
       "2000-2009    1.105683e+06\n",
       ">2010        1.067947e+06\n",
       "Name: P1_001N, dtype: float64"
      ]
     },
     "execution_count": 10,
     "metadata": {},
     "output_type": "execute_result"
    }
   ],
   "source": [
    "df_merge.groupby('decade').P1_001N.mean()"
   ]
  },
  {
   "cell_type": "code",
   "execution_count": 11,
   "id": "f62d3c35",
   "metadata": {},
   "outputs": [
    {
     "data": {
      "text/plain": [
       "<AxesSubplot:xlabel='decade'>"
      ]
     },
     "execution_count": 11,
     "metadata": {},
     "output_type": "execute_result"
    },
    {
     "data": {
      "image/png": "[encoded data removed]",
      "text/plain": [
       "<Figure size 432x288 with 1 Axes>"
      ]
     },
     "metadata": {
      "needs_background": "light"
     },
     "output_type": "display_data"
    }
   ],
   "source": [
    "df_merge.groupby('decade').P1_001N.mean().plot()"
   ]
  },
  {
   "cell_type": "code",
   "execution_count": 12,
   "id": "9dd16e94",
   "metadata": {},
   "outputs": [
    {
     "data": {
      "text/plain": [
       "decade\n",
       "1900-1909    1694251.0\n",
       "1910-1919    1793561.0\n",
       "1920-1929    1304127.0\n",
       "1930-1939     919489.5\n",
       "1940-1949    1004457.0\n",
       "1950-1959     674721.0\n",
       "1960-1969     431279.0\n",
       "1970-1979     632043.5\n",
       "1980-1989     584526.0\n",
       "1990-1999     423635.0\n",
       "2000-2009     495747.0\n",
       ">2010         486492.0\n",
       "Name: P1_001N, dtype: float64"
      ]
     },
     "execution_count": 12,
     "metadata": {},
     "output_type": "execute_result"
    }
   ],
   "source": [
    "df_merge.groupby('decade').P1_001N.median()"
   ]
  },
  {
   "cell_type": "code",
   "execution_count": 13,
   "id": "da90ad35",
   "metadata": {},
   "outputs": [
    {
     "data": {
      "text/plain": [
       "<AxesSubplot:xlabel='decade'>"
      ]
     },
     "execution_count": 13,
     "metadata": {},
     "output_type": "execute_result"
    },
    {
     "data": {
      "image/png": "[encoded data removed]",
      "text/plain": [
       "<Figure size 432x288 with 1 Axes>"
      ]
     },
     "metadata": {
      "needs_background": "light"
     },
     "output_type": "display_data"
    }
   ],
   "source": [
    "df_merge.groupby('decade').P1_001N.median().plot()"
   ]
  },
  {
   "cell_type": "code",
   "execution_count": 14,
   "id": "c23b2957",
   "metadata": {},
   "outputs": [
    {
     "data": {
      "text/plain": [
       "<AxesSubplot:xlabel='decade'>"
      ]
     },
     "execution_count": 14,
     "metadata": {},
     "output_type": "execute_result"
    },
    {
     "data": {
      "image/png": "[encoded data removed]",
      "text/plain": [
       "<Figure size 432x288 with 1 Axes>"
      ]
     },
     "metadata": {
      "needs_background": "light"
     },
     "output_type": "display_data"
    }
   ],
   "source": [
    "df_merge.groupby('decade').P1_001N.sum().plot()"
   ]
  },
  {
   "cell_type": "code",
   "execution_count": 15,
   "id": "207e9b23",
   "metadata": {},
   "outputs": [
    {
     "data": {
      "text/plain": [
       "Cook County, Illinois             4\n",
       "Los Angeles County, California    4\n",
       "Oakland County, Michigan          4\n",
       "King County, Washington           3\n",
       "Richmond County, Georgia          3\n",
       "Lucas County, Ohio                2\n",
       "Hennepin County, Minnesota        2\n",
       "Cuyahoga County, Ohio             2\n",
       "Oklahoma County, Oklahoma         2\n",
       "Clark County County, Nevada       2\n",
       "Name: county_full_name, dtype: int64"
      ]
     },
     "execution_count": 15,
     "metadata": {},
     "output_type": "execute_result"
    }
   ],
   "source": [
    "df_merge[df_merge.decade == '1960-1969'].county_full_name.value_counts().head(10)"
   ]
  },
  {
   "cell_type": "code",
   "execution_count": 16,
   "id": "75760be8",
   "metadata": {},
   "outputs": [
    {
     "data": {
      "text/plain": [
       "Los Angeles County, California    29\n",
       "Dallas County, Texas              18\n",
       "Westchester County, New York      17\n",
       "Cook County, Illinois             15\n",
       "Harris County, Texas              14\n",
       "Oakland County, Michigan          14\n",
       "New York County, New York         13\n",
       "Clark County County, Nevada       13\n",
       "Kings County, New York            13\n",
       "Riverside County, California      12\n",
       "Name: county_full_name, dtype: int64"
      ]
     },
     "execution_count": 16,
     "metadata": {},
     "output_type": "execute_result"
    }
   ],
   "source": [
    "df_merge.county_full_name.value_counts().head(10)"
   ]
  },
  {
   "cell_type": "markdown",
   "id": "a79c04b2",
   "metadata": {},
   "source": [
    "## text analyis"
   ]
  },
  {
   "cell_type": "code",
   "execution_count": 17,
   "id": "f9c4c1ef",
   "metadata": {},
   "outputs": [],
   "source": [
    "# df_merge[df_merge.decade == '>2010'].narrative"
   ]
  },
  {
   "cell_type": "code",
   "execution_count": 18,
   "id": "c2e2c7fb",
   "metadata": {},
   "outputs": [
    {
     "data": {
      "text/plain": [
       "2010    13\n",
       "2011     2\n",
       "2012     7\n",
       "2013     8\n",
       "2014    13\n",
       "2015     8\n",
       "2016     8\n",
       "2017    11\n",
       "2018     7\n",
       "2019     2\n",
       "2021     3\n",
       "Name: iyear, dtype: int64"
      ]
     },
     "execution_count": 18,
     "metadata": {},
     "output_type": "execute_result"
    }
   ],
   "source": [
    "df_merge[df_merge.name == 'PACIFIC GAS & ELECTRIC CO'].iyear.value_counts().sort_index()"
   ]
  },
  {
   "cell_type": "code",
   "execution_count": 19,
   "id": "1e5fc9f0",
   "metadata": {},
   "outputs": [
    {
     "data": {
      "text/plain": [
       "2010     1\n",
       "2011     3\n",
       "2012     7\n",
       "2013     5\n",
       "2014     4\n",
       "2015     5\n",
       "2016     7\n",
       "2017    10\n",
       "2018     7\n",
       "2019     4\n",
       "2020     8\n",
       "2021     5\n",
       "Name: iyear, dtype: int64"
      ]
     },
     "execution_count": 19,
     "metadata": {},
     "output_type": "execute_result"
    }
   ],
   "source": [
    "df_merge[df_merge.name == 'SOUTHERN CALIFORNIA GAS CO'].iyear.value_counts().sort_index()"
   ]
  },
  {
   "cell_type": "code",
   "execution_count": 20,
   "id": "ed708160",
   "metadata": {},
   "outputs": [
    {
     "data": {
      "text/plain": [
       "2010    5\n",
       "2011    1\n",
       "2013    3\n",
       "2014    6\n",
       "2015    8\n",
       "2016    2\n",
       "2017    5\n",
       "2018    7\n",
       "2019    7\n",
       "2020    4\n",
       "2021    4\n",
       "2022    1\n",
       "Name: iyear, dtype: int64"
      ]
     },
     "execution_count": 20,
     "metadata": {},
     "output_type": "execute_result"
    }
   ],
   "source": [
    "df_merge[df_merge.name == 'CONSUMERS ENERGY CO'].iyear.value_counts().sort_index()"
   ]
  },
  {
   "cell_type": "code",
   "execution_count": 21,
   "id": "fa95c276",
   "metadata": {},
   "outputs": [
    {
     "data": {
      "text/plain": [
       "PACIFIC GAS & ELECTRIC CO             82\n",
       "SOUTHERN CALIFORNIA GAS CO            66\n",
       "CONSUMERS ENERGY CO                   53\n",
       "CONSOLIDATED EDISON CO OF NEW YORK    52\n",
       "ATMOS ENERGY CORPORATION - MID-TEX    45\n",
       "ATLANTA GAS LIGHT CO                  38\n",
       "SOUTHWEST GAS CORP                    31\n",
       "COLUMBIA GAS OF OHIO INC              30\n",
       "WASHINGTON GAS LIGHT CO               28\n",
       "NORTHERN ILLINOIS GAS CO              24\n",
       "Name: name, dtype: int64"
      ]
     },
     "execution_count": 21,
     "metadata": {},
     "output_type": "execute_result"
    }
   ],
   "source": [
    "df_merge.name.value_counts().head(10)"
   ]
  },
  {
   "cell_type": "code",
   "execution_count": null,
   "id": "6bc64f29",
   "metadata": {},
   "outputs": [],
   "source": []
  }
 ],
 "metadata": {
  "kernelspec": {
   "display_name": "Python 3 (ipykernel)",
   "language": "python",
   "name": "python3"
  },
  "language_info": {
   "codemirror_mode": {
    "name": "ipython",
    "version": 3
   },
   "file_extension": ".py",
   "mimetype": "text/x-python",
   "name": "python",
   "nbconvert_exporter": "python",
   "pygments_lexer": "ipython3",
   "version": "3.9.7"
  }
 },
 "nbformat": 4,
 "nbformat_minor": 5
}
