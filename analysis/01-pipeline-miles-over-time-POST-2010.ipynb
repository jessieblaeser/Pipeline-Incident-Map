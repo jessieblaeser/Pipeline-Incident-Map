{
 "cells": [
  {
   "cell_type": "markdown",
   "id": "e2e80c38",
   "metadata": {},
   "source": [
    "## Looking at number of operating pipeline miles over time, 2010+\n",
    "Data from [PHMSA](https://portal.phmsa.dot.gov/analytics/saw.dll?Portalpages&PortalPath=%2Fshared%2FPDM%20Public%20Website%2F_portal%2FPublic%20Reports&Page=Infrastructure)"
   ]
  },
  {
   "cell_type": "code",
   "execution_count": 1,
   "id": "d49b2a76",
   "metadata": {},
   "outputs": [
    {
     "name": "stderr",
     "output_type": "stream",
     "text": [
      "/Users/ilenapeng/.pyenv/versions/3.9.7/lib/python3.9/site-packages/pandas/compat/__init__.py:124: UserWarning: Could not import the lzma module. Your installed Python is incomplete. Attempting to use lzma compression will result in a RuntimeError.\n",
      "  warnings.warn(msg)\n"
     ]
    }
   ],
   "source": [
    "import pandas as pd"
   ]
  },
  {
   "cell_type": "code",
   "execution_count": 2,
   "id": "97e24366",
   "metadata": {},
   "outputs": [],
   "source": [
    "# Load in data\n",
    "df_gas_distribution = pd.read_csv('../data/source/PHMSA_Pipeline_Miles_Post_2010/gas-distribution.csv')\n",
    "df_gas_gathering = pd.read_csv('../data/source/PHMSA_Pipeline_Miles_Post_2010/gas-gathering.csv')\n",
    "df_gas_transmission = pd.read_csv('../data/source/PHMSA_Pipeline_Miles_Post_2010/gas-transmission.csv')\n",
    "df_hazardous_liquid = pd.read_csv('../data/source/PHMSA_Pipeline_Miles_Post_2010/hazardous-liquid.csv')\n",
    "# df_lng = pd.read_csv('../data/source/PHMSA_Pipeline_Miles_Post_2010/lng.csv')"
   ]
  },
  {
   "cell_type": "code",
   "execution_count": 3,
   "id": "cbe7e309",
   "metadata": {},
   "outputs": [],
   "source": [
    "# Add column to ID each dataframe\n",
    "df_gas_distribution['type'] = 'Gas Distribution'\n",
    "df_gas_gathering['type'] = 'Gas Gathering'\n",
    "df_gas_transmission['type'] = 'Gas Transmission'\n",
    "df_hazardous_liquid['type'] = 'Hazardous Liquid'\n",
    "# df_lng['type'] = 'Liquefied Natural Gas'"
   ]
  },
  {
   "cell_type": "code",
   "execution_count": 4,
   "id": "7f08eeee",
   "metadata": {},
   "outputs": [
    {
     "data": {
      "text/plain": [
       "array(['Gas Distribution', 'Gas Gathering', 'Gas Transmission',\n",
       "       'Hazardous Liquid'], dtype=object)"
      ]
     },
     "execution_count": 4,
     "metadata": {},
     "output_type": "execute_result"
    }
   ],
   "source": [
    "# Keep only year, type and total_mi columns, and concat all\n",
    "\n",
    "df_gas_distribution = df_gas_distribution[['year', 'type', 'total_mi']]\n",
    "df_gas_gathering = df_gas_gathering[['year', 'type', 'total_mi']]\n",
    "df_gas_transmission = df_gas_transmission[['year', 'type', 'total_mi']]\n",
    "df_hazardous_liquid = df_hazardous_liquid[['year', 'type', 'total_mi']]\n",
    "\n",
    "df = pd.concat([df_gas_distribution, df_gas_gathering, df_gas_transmission, df_hazardous_liquid])\n",
    "df.type.unique()"
   ]
  },
  {
   "cell_type": "code",
   "execution_count": 5,
   "id": "51c8677e",
   "metadata": {},
   "outputs": [],
   "source": [
    "# convert total_mi to numbers\n",
    "df['total_mi'] = df.total_mi.str.replace(',', '').astype('float')"
   ]
  },
  {
   "cell_type": "code",
   "execution_count": 6,
   "id": "578f3b0b",
   "metadata": {},
   "outputs": [
    {
     "data": {
      "text/html": [
       "<div>\n",
       "<style scoped>\n",
       "    .dataframe tbody tr th:only-of-type {\n",
       "        vertical-align: middle;\n",
       "    }\n",
       "\n",
       "    .dataframe tbody tr th {\n",
       "        vertical-align: top;\n",
       "    }\n",
       "\n",
       "    .dataframe thead th {\n",
       "        text-align: right;\n",
       "    }\n",
       "</style>\n",
       "<table border=\"1\" class=\"dataframe\">\n",
       "  <thead>\n",
       "    <tr style=\"text-align: right;\">\n",
       "      <th>type</th>\n",
       "      <th>year</th>\n",
       "      <th>Gas Distribution</th>\n",
       "      <th>Gas Gathering</th>\n",
       "      <th>Gas Transmission</th>\n",
       "      <th>Hazardous Liquid</th>\n",
       "    </tr>\n",
       "  </thead>\n",
       "  <tbody>\n",
       "    <tr>\n",
       "      <th>0</th>\n",
       "      <td>2010</td>\n",
       "      <td>2102464.4</td>\n",
       "      <td>19650.4</td>\n",
       "      <td>304807.8</td>\n",
       "      <td>181986.3</td>\n",
       "    </tr>\n",
       "    <tr>\n",
       "      <th>1</th>\n",
       "      <td>2011</td>\n",
       "      <td>2121300.3</td>\n",
       "      <td>19277.0</td>\n",
       "      <td>305070.1</td>\n",
       "      <td>183574.6</td>\n",
       "    </tr>\n",
       "    <tr>\n",
       "      <th>2</th>\n",
       "      <td>2012</td>\n",
       "      <td>2138232.1</td>\n",
       "      <td>16532.2</td>\n",
       "      <td>303393.6</td>\n",
       "      <td>186221.4</td>\n",
       "    </tr>\n",
       "    <tr>\n",
       "      <th>3</th>\n",
       "      <td>2013</td>\n",
       "      <td>2149819.2</td>\n",
       "      <td>17377.1</td>\n",
       "      <td>302880.3</td>\n",
       "      <td>192412.1</td>\n",
       "    </tr>\n",
       "    <tr>\n",
       "      <th>4</th>\n",
       "      <td>2014</td>\n",
       "      <td>2169374.6</td>\n",
       "      <td>17530.2</td>\n",
       "      <td>301824.1</td>\n",
       "      <td>199794.5</td>\n",
       "    </tr>\n",
       "    <tr>\n",
       "      <th>5</th>\n",
       "      <td>2015</td>\n",
       "      <td>2190268.5</td>\n",
       "      <td>17782.7</td>\n",
       "      <td>301166.1</td>\n",
       "      <td>208622.1</td>\n",
       "    </tr>\n",
       "    <tr>\n",
       "      <th>6</th>\n",
       "      <td>2016</td>\n",
       "      <td>2211535.5</td>\n",
       "      <td>17864.8</td>\n",
       "      <td>300353.1</td>\n",
       "      <td>212164.3</td>\n",
       "    </tr>\n",
       "    <tr>\n",
       "      <th>7</th>\n",
       "      <td>2017</td>\n",
       "      <td>2226043.7</td>\n",
       "      <td>18097.4</td>\n",
       "      <td>300734.7</td>\n",
       "      <td>216051.9</td>\n",
       "    </tr>\n",
       "    <tr>\n",
       "      <th>8</th>\n",
       "      <td>2018</td>\n",
       "      <td>2238694.3</td>\n",
       "      <td>17916.1</td>\n",
       "      <td>301625.8</td>\n",
       "      <td>219136.9</td>\n",
       "    </tr>\n",
       "    <tr>\n",
       "      <th>9</th>\n",
       "      <td>2019</td>\n",
       "      <td>2262927.5</td>\n",
       "      <td>17762.8</td>\n",
       "      <td>302338.0</td>\n",
       "      <td>225001.1</td>\n",
       "    </tr>\n",
       "    <tr>\n",
       "      <th>10</th>\n",
       "      <td>2020</td>\n",
       "      <td>2284115.1</td>\n",
       "      <td>17528.4</td>\n",
       "      <td>301692.6</td>\n",
       "      <td>229282.5</td>\n",
       "    </tr>\n",
       "    <tr>\n",
       "      <th>11</th>\n",
       "      <td>2021</td>\n",
       "      <td>2299803.0</td>\n",
       "      <td>17076.5</td>\n",
       "      <td>301447.1</td>\n",
       "      <td>NaN</td>\n",
       "    </tr>\n",
       "  </tbody>\n",
       "</table>\n",
       "</div>"
      ],
      "text/plain": [
       "type  year  Gas Distribution  Gas Gathering  Gas Transmission  \\\n",
       "0     2010         2102464.4        19650.4          304807.8   \n",
       "1     2011         2121300.3        19277.0          305070.1   \n",
       "2     2012         2138232.1        16532.2          303393.6   \n",
       "3     2013         2149819.2        17377.1          302880.3   \n",
       "4     2014         2169374.6        17530.2          301824.1   \n",
       "5     2015         2190268.5        17782.7          301166.1   \n",
       "6     2016         2211535.5        17864.8          300353.1   \n",
       "7     2017         2226043.7        18097.4          300734.7   \n",
       "8     2018         2238694.3        17916.1          301625.8   \n",
       "9     2019         2262927.5        17762.8          302338.0   \n",
       "10    2020         2284115.1        17528.4          301692.6   \n",
       "11    2021         2299803.0        17076.5          301447.1   \n",
       "\n",
       "type  Hazardous Liquid  \n",
       "0             181986.3  \n",
       "1             183574.6  \n",
       "2             186221.4  \n",
       "3             192412.1  \n",
       "4             199794.5  \n",
       "5             208622.1  \n",
       "6             212164.3  \n",
       "7             216051.9  \n",
       "8             219136.9  \n",
       "9             225001.1  \n",
       "10            229282.5  \n",
       "11                 NaN  "
      ]
     },
     "execution_count": 6,
     "metadata": {},
     "output_type": "execute_result"
    }
   ],
   "source": [
    "# reshape data\n",
    "df_pivot = df.pivot(index='year', columns='type', values='total_mi').reset_index()\n",
    "df_pivot"
   ]
  },
  {
   "cell_type": "code",
   "execution_count": 7,
   "id": "313f4231",
   "metadata": {},
   "outputs": [
    {
     "data": {
      "text/html": [
       "<div>\n",
       "<style scoped>\n",
       "    .dataframe tbody tr th:only-of-type {\n",
       "        vertical-align: middle;\n",
       "    }\n",
       "\n",
       "    .dataframe tbody tr th {\n",
       "        vertical-align: top;\n",
       "    }\n",
       "\n",
       "    .dataframe thead th {\n",
       "        text-align: right;\n",
       "    }\n",
       "</style>\n",
       "<table border=\"1\" class=\"dataframe\">\n",
       "  <thead>\n",
       "    <tr style=\"text-align: right;\">\n",
       "      <th>type</th>\n",
       "      <th>year</th>\n",
       "      <th>Gas Distribution</th>\n",
       "      <th>Gas Gathering</th>\n",
       "      <th>Gas Transmission</th>\n",
       "      <th>Hazardous Liquid</th>\n",
       "      <th>total</th>\n",
       "    </tr>\n",
       "  </thead>\n",
       "  <tbody>\n",
       "    <tr>\n",
       "      <th>0</th>\n",
       "      <td>2010</td>\n",
       "      <td>2102464.4</td>\n",
       "      <td>19650.4</td>\n",
       "      <td>304807.8</td>\n",
       "      <td>181986.3</td>\n",
       "      <td>2608908.9</td>\n",
       "    </tr>\n",
       "    <tr>\n",
       "      <th>1</th>\n",
       "      <td>2011</td>\n",
       "      <td>2121300.3</td>\n",
       "      <td>19277.0</td>\n",
       "      <td>305070.1</td>\n",
       "      <td>183574.6</td>\n",
       "      <td>2629222.0</td>\n",
       "    </tr>\n",
       "    <tr>\n",
       "      <th>2</th>\n",
       "      <td>2012</td>\n",
       "      <td>2138232.1</td>\n",
       "      <td>16532.2</td>\n",
       "      <td>303393.6</td>\n",
       "      <td>186221.4</td>\n",
       "      <td>2644379.3</td>\n",
       "    </tr>\n",
       "    <tr>\n",
       "      <th>3</th>\n",
       "      <td>2013</td>\n",
       "      <td>2149819.2</td>\n",
       "      <td>17377.1</td>\n",
       "      <td>302880.3</td>\n",
       "      <td>192412.1</td>\n",
       "      <td>2662488.7</td>\n",
       "    </tr>\n",
       "    <tr>\n",
       "      <th>4</th>\n",
       "      <td>2014</td>\n",
       "      <td>2169374.6</td>\n",
       "      <td>17530.2</td>\n",
       "      <td>301824.1</td>\n",
       "      <td>199794.5</td>\n",
       "      <td>2688523.4</td>\n",
       "    </tr>\n",
       "    <tr>\n",
       "      <th>5</th>\n",
       "      <td>2015</td>\n",
       "      <td>2190268.5</td>\n",
       "      <td>17782.7</td>\n",
       "      <td>301166.1</td>\n",
       "      <td>208622.1</td>\n",
       "      <td>2717839.4</td>\n",
       "    </tr>\n",
       "    <tr>\n",
       "      <th>6</th>\n",
       "      <td>2016</td>\n",
       "      <td>2211535.5</td>\n",
       "      <td>17864.8</td>\n",
       "      <td>300353.1</td>\n",
       "      <td>212164.3</td>\n",
       "      <td>2741917.7</td>\n",
       "    </tr>\n",
       "    <tr>\n",
       "      <th>7</th>\n",
       "      <td>2017</td>\n",
       "      <td>2226043.7</td>\n",
       "      <td>18097.4</td>\n",
       "      <td>300734.7</td>\n",
       "      <td>216051.9</td>\n",
       "      <td>2760927.7</td>\n",
       "    </tr>\n",
       "    <tr>\n",
       "      <th>8</th>\n",
       "      <td>2018</td>\n",
       "      <td>2238694.3</td>\n",
       "      <td>17916.1</td>\n",
       "      <td>301625.8</td>\n",
       "      <td>219136.9</td>\n",
       "      <td>2777373.1</td>\n",
       "    </tr>\n",
       "    <tr>\n",
       "      <th>9</th>\n",
       "      <td>2019</td>\n",
       "      <td>2262927.5</td>\n",
       "      <td>17762.8</td>\n",
       "      <td>302338.0</td>\n",
       "      <td>225001.1</td>\n",
       "      <td>2808029.4</td>\n",
       "    </tr>\n",
       "    <tr>\n",
       "      <th>10</th>\n",
       "      <td>2020</td>\n",
       "      <td>2284115.1</td>\n",
       "      <td>17528.4</td>\n",
       "      <td>301692.6</td>\n",
       "      <td>229282.5</td>\n",
       "      <td>2832618.6</td>\n",
       "    </tr>\n",
       "    <tr>\n",
       "      <th>11</th>\n",
       "      <td>2021</td>\n",
       "      <td>2299803.0</td>\n",
       "      <td>17076.5</td>\n",
       "      <td>301447.1</td>\n",
       "      <td>NaN</td>\n",
       "      <td>NaN</td>\n",
       "    </tr>\n",
       "  </tbody>\n",
       "</table>\n",
       "</div>"
      ],
      "text/plain": [
       "type  year  Gas Distribution  Gas Gathering  Gas Transmission  \\\n",
       "0     2010         2102464.4        19650.4          304807.8   \n",
       "1     2011         2121300.3        19277.0          305070.1   \n",
       "2     2012         2138232.1        16532.2          303393.6   \n",
       "3     2013         2149819.2        17377.1          302880.3   \n",
       "4     2014         2169374.6        17530.2          301824.1   \n",
       "5     2015         2190268.5        17782.7          301166.1   \n",
       "6     2016         2211535.5        17864.8          300353.1   \n",
       "7     2017         2226043.7        18097.4          300734.7   \n",
       "8     2018         2238694.3        17916.1          301625.8   \n",
       "9     2019         2262927.5        17762.8          302338.0   \n",
       "10    2020         2284115.1        17528.4          301692.6   \n",
       "11    2021         2299803.0        17076.5          301447.1   \n",
       "\n",
       "type  Hazardous Liquid      total  \n",
       "0             181986.3  2608908.9  \n",
       "1             183574.6  2629222.0  \n",
       "2             186221.4  2644379.3  \n",
       "3             192412.1  2662488.7  \n",
       "4             199794.5  2688523.4  \n",
       "5             208622.1  2717839.4  \n",
       "6             212164.3  2741917.7  \n",
       "7             216051.9  2760927.7  \n",
       "8             219136.9  2777373.1  \n",
       "9             225001.1  2808029.4  \n",
       "10            229282.5  2832618.6  \n",
       "11                 NaN        NaN  "
      ]
     },
     "execution_count": 7,
     "metadata": {},
     "output_type": "execute_result"
    }
   ],
   "source": [
    "# create total\n",
    "df_pivot['total'] = df_pivot['Gas Distribution'] + df_pivot['Gas Gathering'] + df_pivot['Gas Transmission'] + \\\n",
    "                    df_pivot['Hazardous Liquid']\n",
    "\n",
    "df_pivot"
   ]
  },
  {
   "cell_type": "code",
   "execution_count": 17,
   "id": "fe3defe1",
   "metadata": {},
   "outputs": [],
   "source": [
    "df_pivot.to_csv('../data/processed/pipeline-mileage-over-time-POST-2010.csv', index=False)"
   ]
  },
  {
   "cell_type": "code",
   "execution_count": 9,
   "id": "512fb254",
   "metadata": {},
   "outputs": [
    {
     "data": {
      "image/png": "[encoded data removed]",
      "text/plain": [
       "<Figure size 432x288 with 1 Axes>"
      ]
     },
     "metadata": {
      "needs_background": "light"
     },
     "output_type": "display_data"
    }
   ],
   "source": [
    "import matplotlib.pyplot as plt\n",
    "plt.plot(df_pivot.year, df_pivot.total, label = \"total\")\n",
    "\n",
    "plt.show()"
   ]
  },
  {
   "cell_type": "code",
   "execution_count": 10,
   "id": "aaed5bc6",
   "metadata": {},
   "outputs": [
    {
     "data": {
      "image/png": "[encoded data removed]",
      "text/plain": [
       "<Figure size 432x288 with 1 Axes>"
      ]
     },
     "metadata": {
      "needs_background": "light"
     },
     "output_type": "display_data"
    }
   ],
   "source": [
    "plt.plot(df_pivot.year, df_pivot['Gas Distribution'], label = \"Gas Distribution\")\n",
    "plt.plot(df_pivot.year, df_pivot['Gas Gathering'], label = \"Gas Gathering\")\n",
    "plt.plot(df_pivot.year, df_pivot['Gas Transmission'], label = \"Gas Transmission\")\n",
    "plt.plot(df_pivot.year, df_pivot['Hazardous Liquid'], label = \"Hazardous Liquid\")\n",
    "\n",
    "plt.legend()\n",
    "plt.show()"
   ]
  },
  {
   "cell_type": "code",
   "execution_count": 11,
   "id": "58fb779a",
   "metadata": {},
   "outputs": [
    {
     "data": {
      "image/png": "[encoded data removed]",
      "text/plain": [
       "<Figure size 432x288 with 1 Axes>"
      ]
     },
     "metadata": {
      "needs_background": "light"
     },
     "output_type": "display_data"
    }
   ],
   "source": [
    "plt.plot(df_pivot.year, df_pivot['Gas Distribution'], label = \"Gas Distribution\")\n",
    "# plt.plot(df_pivot.year, df_pivot['Gas Gathering'], label = \"Gas Gathering\")\n",
    "# plt.plot(df_pivot.year, df_pivot['Gas Transmission'], label = \"Gas Transmission\")\n",
    "# plt.plot(df_pivot.year, df_pivot['Hazardous Liquid'], label = \"Hazardous Liquid\")\n",
    "\n",
    "plt.legend()\n",
    "plt.show()"
   ]
  },
  {
   "cell_type": "code",
   "execution_count": 12,
   "id": "295ab830",
   "metadata": {},
   "outputs": [
    {
     "data": {
      "image/png": "[encoded data removed]",
      "text/plain": [
       "<Figure size 432x288 with 1 Axes>"
      ]
     },
     "metadata": {
      "needs_background": "light"
     },
     "output_type": "display_data"
    }
   ],
   "source": [
    "plt.plot(df_pivot.year, df_pivot['Gas Gathering'], label = \"Gas Gathering\")\n",
    "\n",
    "plt.legend()\n",
    "plt.show()"
   ]
  },
  {
   "cell_type": "code",
   "execution_count": 15,
   "id": "86b676ba",
   "metadata": {},
   "outputs": [
    {
     "data": {
      "image/png": "[encoded data removed]",
      "text/plain": [
       "<Figure size 432x288 with 1 Axes>"
      ]
     },
     "metadata": {
      "needs_background": "light"
     },
     "output_type": "display_data"
    }
   ],
   "source": [
    "plt.plot(df_pivot.year, df_pivot['Gas Transmission'], label = \"Gas Transmission\")\n",
    "\n",
    "plt.legend()\n",
    "plt.show()"
   ]
  },
  {
   "cell_type": "code",
   "execution_count": 14,
   "id": "d536c039",
   "metadata": {},
   "outputs": [
    {
     "data": {
      "image/png": "[encoded data removed]",
      "text/plain": [
       "<Figure size 432x288 with 1 Axes>"
      ]
     },
     "metadata": {
      "needs_background": "light"
     },
     "output_type": "display_data"
    }
   ],
   "source": [
    "plt.plot(df_pivot.year, df_pivot['Hazardous Liquid'], label = \"Hazardous Liquid\")\n",
    "\n",
    "plt.legend()\n",
    "plt.show()"
   ]
  }
 ],
 "metadata": {
  "kernelspec": {
   "display_name": "Python 3 (ipykernel)",
   "language": "python",
   "name": "python3"
  },
  "language_info": {
   "codemirror_mode": {
    "name": "ipython",
    "version": 3
   },
   "file_extension": ".py",
   "mimetype": "text/x-python",
   "name": "python",
   "nbconvert_exporter": "python",
   "pygments_lexer": "ipython3",
   "version": "3.9.7"
  }
 },
 "nbformat": 4,
 "nbformat_minor": 5
}
