{
 "cells": [
  {
   "cell_type": "markdown",
   "id": "72be5e6c",
   "metadata": {},
   "source": [
    "# Looking at 'MATERIAL FAILURE OF PIPE OR WELD' incident \"cause\" to find the most expensive accidents\n",
    "Data Source"
   ]
  },
  {
   "cell_type": "code",
   "execution_count": 3,
   "id": "2dfe2b10",
   "metadata": {},
   "outputs": [
    {
     "name": "stderr",
     "output_type": "stream",
     "text": [
      "/Users/jessieblaeser/.pyenv/versions/3.10.0/lib/python3.10/site-packages/pandas/compat/__init__.py:124: UserWarning: Could not import the lzma module. Your installed Python is incomplete. Attempting to use lzma compression will result in a RuntimeError.\n",
      "  warnings.warn(msg)\n"
     ]
    }
   ],
   "source": [
    "import pandas as pd\n",
    "import numpy as np\n",
    "import os"
   ]
  },
  {
   "cell_type": "code",
   "execution_count": 4,
   "id": "bf437fe6",
   "metadata": {},
   "outputs": [
    {
     "name": "stderr",
     "output_type": "stream",
     "text": [
      "/Users/jessieblaeser/.pyenv/versions/3.10.0/lib/python3.10/site-packages/IPython/core/interactiveshell.py:3444: DtypeWarning: Columns (1,15,16,18,19,20,21,22,25,26,27,28,30,31,32,33,36,56,57,58,63,64,65,72,73,75,76,77,78,87,89,92,93,94,95,101,102,103,104,105,106,108,109,120,148,149,151,152,154,171,172,173,174,193,194,197,198,205,214,217,218,219,225,233,234,238,239,240,251,252,256,257,265,266,268,269,276,277,278,279,280,281,290,293,294,295,296,297,300,301,303,304,305,306,307,310,311,313,314,315,316,317,318,319,320,321,322,324,325,326,327,329,330,331,332,333,334,335,336,341,342,343,344,345,347,348,351,354,355,357,359,363,366,367,368,369,371,372,373,374,375,376,377,378,379,380,385,386,387,393,400,401,407,421,422,423,427,428,429,430,432,434,435,436,439,440,441,443,446,447,449,451,452,454,455,456,457,460,462,463,464,465,466,472,473,474,480,482,488,489,490,491,492,493,503,510,512,516,517,518,522,526,529,530,532,533,535,537,539,540,543,545,546,547,548,549,550,552,557,558,559,561,562,566,567,568,569,570,576,583,587,591,596,605,611,613,614,615,624,625,626,627,628,630,631,632,635,636,640,646,647,649,652,653,655,658,659,662,663,666,667,669,678,679,681,683,684,686,688,690,697,711,713,714,716,717,724,731,732,736,737,738,739,740,741,742,749,751,752,753,754,755,760,761,762,768,770,772,773,774,775,776,777,778,779,780,781,782,783,784,785,786,787,789,790,791,792,793,794,795,796,797,798,799,800,804,805,806,807,808,809,810,811,814,815,817,818,819,820,821,822,825) have mixed types.Specify dtype option on import or set low_memory=False.\n",
      "  exec(code_obj, self.user_global_ns, self.user_ns)\n"
     ]
    },
    {
     "data": {
      "text/html": [
       "<div>\n",
       "<style scoped>\n",
       "    .dataframe tbody tr th:only-of-type {\n",
       "        vertical-align: middle;\n",
       "    }\n",
       "\n",
       "    .dataframe tbody tr th {\n",
       "        vertical-align: top;\n",
       "    }\n",
       "\n",
       "    .dataframe thead th {\n",
       "        text-align: right;\n",
       "    }\n",
       "</style>\n",
       "<table border=\"1\" class=\"dataframe\">\n",
       "  <thead>\n",
       "    <tr style=\"text-align: right;\">\n",
       "      <th></th>\n",
       "      <th>datafile_as_of</th>\n",
       "      <th>ff</th>\n",
       "      <th>significant</th>\n",
       "      <th>serious</th>\n",
       "      <th>report_number</th>\n",
       "      <th>supplemental_number</th>\n",
       "      <th>report_received_date</th>\n",
       "      <th>report_type</th>\n",
       "      <th>operator_id</th>\n",
       "      <th>name</th>\n",
       "      <th>...</th>\n",
       "      <th>root_cause_type_other</th>\n",
       "      <th>failure_type</th>\n",
       "      <th>pwf_addl_misalignment_ind</th>\n",
       "      <th>failure_details</th>\n",
       "      <th>ief_addl_misalignment_ind</th>\n",
       "      <th>additional_thermal_ind</th>\n",
       "      <th>spill_type_category</th>\n",
       "      <th>eqf_pump_equipment_ind</th>\n",
       "      <th>io_tank_vessel_ind</th>\n",
       "      <th>prepared_date</th>\n",
       "    </tr>\n",
       "  </thead>\n",
       "  <tbody>\n",
       "    <tr>\n",
       "      <th>0</th>\n",
       "      <td>2/28/22</td>\n",
       "      <td>NO</td>\n",
       "      <td>YES</td>\n",
       "      <td>NO</td>\n",
       "      <td>20100001</td>\n",
       "      <td>15047</td>\n",
       "      <td>3/11/10</td>\n",
       "      <td>SUPPLEMENTAL FINAL</td>\n",
       "      <td>15007</td>\n",
       "      <td>PACIFIC GAS &amp; ELECTRIC CO</td>\n",
       "      <td>...</td>\n",
       "      <td>NaN</td>\n",
       "      <td>NaN</td>\n",
       "      <td>NaN</td>\n",
       "      <td>NaN</td>\n",
       "      <td>NaN</td>\n",
       "      <td>NaN</td>\n",
       "      <td>NaN</td>\n",
       "      <td>NaN</td>\n",
       "      <td>NaN</td>\n",
       "      <td>NaN</td>\n",
       "    </tr>\n",
       "    <tr>\n",
       "      <th>1</th>\n",
       "      <td>2/28/22</td>\n",
       "      <td>NO</td>\n",
       "      <td>YES</td>\n",
       "      <td>YES</td>\n",
       "      <td>20100004</td>\n",
       "      <td>15003</td>\n",
       "      <td>3/16/10</td>\n",
       "      <td>ORIGINAL FINAL</td>\n",
       "      <td>13710</td>\n",
       "      <td>NORTHERN ILLINOIS GAS CO</td>\n",
       "      <td>...</td>\n",
       "      <td>NaN</td>\n",
       "      <td>NaN</td>\n",
       "      <td>NaN</td>\n",
       "      <td>NaN</td>\n",
       "      <td>NaN</td>\n",
       "      <td>NaN</td>\n",
       "      <td>NaN</td>\n",
       "      <td>NaN</td>\n",
       "      <td>NaN</td>\n",
       "      <td>NaN</td>\n",
       "    </tr>\n",
       "    <tr>\n",
       "      <th>2</th>\n",
       "      <td>2/28/22</td>\n",
       "      <td>NO</td>\n",
       "      <td>YES</td>\n",
       "      <td>YES</td>\n",
       "      <td>20100005</td>\n",
       "      <td>15639</td>\n",
       "      <td>3/22/10</td>\n",
       "      <td>SUPPLEMENTAL FINAL</td>\n",
       "      <td>6141</td>\n",
       "      <td>NEW MEXICO GAS COMPANY</td>\n",
       "      <td>...</td>\n",
       "      <td>NaN</td>\n",
       "      <td>NaN</td>\n",
       "      <td>NaN</td>\n",
       "      <td>NaN</td>\n",
       "      <td>NaN</td>\n",
       "      <td>NaN</td>\n",
       "      <td>NaN</td>\n",
       "      <td>NaN</td>\n",
       "      <td>NaN</td>\n",
       "      <td>NaN</td>\n",
       "    </tr>\n",
       "    <tr>\n",
       "      <th>3</th>\n",
       "      <td>2/28/22</td>\n",
       "      <td>NO</td>\n",
       "      <td>YES</td>\n",
       "      <td>NO</td>\n",
       "      <td>20100006</td>\n",
       "      <td>15422</td>\n",
       "      <td>3/24/10</td>\n",
       "      <td>SUPPLEMENTAL FINAL</td>\n",
       "      <td>31636</td>\n",
       "      <td>NORTHERN STATES POWER CO OF MINNESOTA</td>\n",
       "      <td>...</td>\n",
       "      <td>NaN</td>\n",
       "      <td>NaN</td>\n",
       "      <td>NaN</td>\n",
       "      <td>NaN</td>\n",
       "      <td>NaN</td>\n",
       "      <td>NaN</td>\n",
       "      <td>NaN</td>\n",
       "      <td>NaN</td>\n",
       "      <td>NaN</td>\n",
       "      <td>NaN</td>\n",
       "    </tr>\n",
       "    <tr>\n",
       "      <th>4</th>\n",
       "      <td>2/28/22</td>\n",
       "      <td>NO</td>\n",
       "      <td>YES</td>\n",
       "      <td>YES</td>\n",
       "      <td>20100007</td>\n",
       "      <td>15007</td>\n",
       "      <td>3/24/10</td>\n",
       "      <td>ORIGINAL FINAL</td>\n",
       "      <td>5300</td>\n",
       "      <td>FLORENCE GAS DEPT, CITY OF</td>\n",
       "      <td>...</td>\n",
       "      <td>NaN</td>\n",
       "      <td>NaN</td>\n",
       "      <td>NaN</td>\n",
       "      <td>NaN</td>\n",
       "      <td>NaN</td>\n",
       "      <td>NaN</td>\n",
       "      <td>NaN</td>\n",
       "      <td>NaN</td>\n",
       "      <td>NaN</td>\n",
       "      <td>NaN</td>\n",
       "    </tr>\n",
       "  </tbody>\n",
       "</table>\n",
       "<p>5 rows × 826 columns</p>\n",
       "</div>"
      ],
      "text/plain": [
       "  datafile_as_of  ff significant serious  report_number  supplemental_number  \\\n",
       "0        2/28/22  NO         YES      NO       20100001                15047   \n",
       "1        2/28/22  NO         YES     YES       20100004                15003   \n",
       "2        2/28/22  NO         YES     YES       20100005                15639   \n",
       "3        2/28/22  NO         YES      NO       20100006                15422   \n",
       "4        2/28/22  NO         YES     YES       20100007                15007   \n",
       "\n",
       "  report_received_date         report_type  operator_id  \\\n",
       "0              3/11/10  SUPPLEMENTAL FINAL        15007   \n",
       "1              3/16/10      ORIGINAL FINAL        13710   \n",
       "2              3/22/10  SUPPLEMENTAL FINAL         6141   \n",
       "3              3/24/10  SUPPLEMENTAL FINAL        31636   \n",
       "4              3/24/10      ORIGINAL FINAL         5300   \n",
       "\n",
       "                                    name  ... root_cause_type_other  \\\n",
       "0              PACIFIC GAS & ELECTRIC CO  ...                   NaN   \n",
       "1               NORTHERN ILLINOIS GAS CO  ...                   NaN   \n",
       "2                 NEW MEXICO GAS COMPANY  ...                   NaN   \n",
       "3  NORTHERN STATES POWER CO OF MINNESOTA  ...                   NaN   \n",
       "4             FLORENCE GAS DEPT, CITY OF  ...                   NaN   \n",
       "\n",
       "  failure_type pwf_addl_misalignment_ind failure_details  \\\n",
       "0          NaN                       NaN             NaN   \n",
       "1          NaN                       NaN             NaN   \n",
       "2          NaN                       NaN             NaN   \n",
       "3          NaN                       NaN             NaN   \n",
       "4          NaN                       NaN             NaN   \n",
       "\n",
       "  ief_addl_misalignment_ind additional_thermal_ind spill_type_category  \\\n",
       "0                       NaN                    NaN                 NaN   \n",
       "1                       NaN                    NaN                 NaN   \n",
       "2                       NaN                    NaN                 NaN   \n",
       "3                       NaN                    NaN                 NaN   \n",
       "4                       NaN                    NaN                 NaN   \n",
       "\n",
       "   eqf_pump_equipment_ind io_tank_vessel_ind prepared_date  \n",
       "0                     NaN                NaN           NaN  \n",
       "1                     NaN                NaN           NaN  \n",
       "2                     NaN                NaN           NaN  \n",
       "3                     NaN                NaN           NaN  \n",
       "4                     NaN                NaN           NaN  \n",
       "\n",
       "[5 rows x 826 columns]"
      ]
     },
     "execution_count": 4,
     "metadata": {},
     "output_type": "execute_result"
    }
   ],
   "source": [
    "df = pd.read_csv('../data/processed/pipeline_incidents_2010_to_present.csv')\n",
    "df.head()"
   ]
  },
  {
   "cell_type": "markdown",
   "id": "e3bf44c0",
   "metadata": {},
   "source": [
    "## Finding some initial conclusions: \n",
    "* Out of 3537 incidents, 417 were caused from \"material failure or pipe weld,\" or roughly 12% of incidents\n",
    "* From these 417, the majority (298) were related to construction, installation, or original manufacturing \n",
    "* 52 were related to \"environmental cracking-related\"\n",
    "* Incidents labeled as \"evnironmental cracking-related\" have almost twice the total clean-up/repair cost (adjusted for inflation) than the next-most expensive subcause ('butt weld') \n"
   ]
  },
  {
   "cell_type": "code",
   "execution_count": 5,
   "id": "22bcaa77",
   "metadata": {},
   "outputs": [
    {
     "data": {
      "text/plain": [
       "(417, 826)"
      ]
     },
     "execution_count": 5,
     "metadata": {},
     "output_type": "execute_result"
    }
   ],
   "source": [
    "# How many incidents are caused by a material failure?\n",
    "df[df['cause'] == 'MATERIAL FAILURE OF PIPE OR WELD'].shape"
   ]
  },
  {
   "cell_type": "code",
   "execution_count": 6,
   "id": "07226c5e",
   "metadata": {},
   "outputs": [
    {
     "data": {
      "text/plain": [
       "(3537, 826)"
      ]
     },
     "execution_count": 6,
     "metadata": {},
     "output_type": "execute_result"
    }
   ],
   "source": [
    "# Number of incidents in the dataset\n",
    "df.shape"
   ]
  },
  {
   "cell_type": "code",
   "execution_count": 7,
   "id": "485e5027",
   "metadata": {},
   "outputs": [
    {
     "data": {
      "text/plain": [
       "CONSTRUCTION-, INSTALLATION-, OR FABRICATION-RELATED                                  119\n",
       "ORIGINAL MANUFACTURING-RELATED (NOT GIRTH WELD OR OTHER WELDS FORMED IN THE FIELD)    100\n",
       "DESIGN-, CONSTRUCTION-, INSTALLATION-, OR FABRICATION-RELATED                          79\n",
       "ENVIRONMENTAL CRACKING-RELATED                                                         52\n",
       "MECHANICAL JOINT FAILURE                                                               20\n",
       "BODY OF PIPE                                                                           17\n",
       "FUSION JOINT                                                                           16\n",
       "OTHER PIPE, WELD, OR JOINT FAILURE                                                     11\n",
       "BUTT WELD                                                                               3\n",
       "Name: cause_details, dtype: int64"
      ]
     },
     "execution_count": 7,
     "metadata": {},
     "output_type": "execute_result"
    }
   ],
   "source": [
    "# What are the subcauses associated with a material failure? (i.e. underlying causes)\n",
    "df2 = df[df['cause'] == 'MATERIAL FAILURE OF PIPE OR WELD']\n",
    "df2.cause_details.value_counts()"
   ]
  },
  {
   "cell_type": "code",
   "execution_count": 8,
   "id": "b721e43d",
   "metadata": {},
   "outputs": [
    {
     "data": {
      "text/plain": [
       "cause_details\n",
       "ENVIRONMENTAL CRACKING-RELATED                                                        934124.86210\n",
       "BUTT WELD                                                                             528355.53410\n",
       "ORIGINAL MANUFACTURING-RELATED (NOT GIRTH WELD OR OTHER WELDS FORMED IN THE FIELD)    452122.95360\n",
       "BODY OF PIPE                                                                          345139.06390\n",
       "DESIGN-, CONSTRUCTION-, INSTALLATION-, OR FABRICATION-RELATED                         280231.59030\n",
       "MECHANICAL JOINT FAILURE                                                              278231.94015\n",
       "CONSTRUCTION-, INSTALLATION-, OR FABRICATION-RELATED                                  272849.25040\n",
       "FUSION JOINT                                                                          222149.09195\n",
       "OTHER PIPE, WELD, OR JOINT FAILURE                                                    160166.74750\n",
       "Name: total_cost_current, dtype: float64"
      ]
     },
     "execution_count": 8,
     "metadata": {},
     "output_type": "execute_result"
    }
   ],
   "source": [
    "# Which of these subcauses are the most expensive? \n",
    "df2.groupby(by='cause_details').total_cost_current.median().sort_values(ascending=False)"
   ]
  },
  {
   "cell_type": "code",
   "execution_count": 9,
   "id": "afaee931",
   "metadata": {},
   "outputs": [
    {
     "data": {
      "text/plain": [
       "<AxesSubplot:title={'center':'Median cost of pipeline incidents causes by material failure'}, ylabel='cause_details'>"
      ]
     },
     "execution_count": 9,
     "metadata": {},
     "output_type": "execute_result"
    },
    {
     "data": {
      "image/png": "[encoded data removed]",
      "text/plain": [
       "<Figure size 432x288 with 1 Axes>"
      ]
     },
     "metadata": {
      "needs_background": "light"
     },
     "output_type": "display_data"
    }
   ],
   "source": [
    "# Let's look at the above with a plot \n",
    "df2.groupby(by='cause_details').total_cost_current.median()\\\n",
    "    .sort_values(ascending=False)\\\n",
    "    .sort_values().plot(kind='barh', title='Median cost of pipeline incidents causes by material failure')"
   ]
  },
  {
   "cell_type": "markdown",
   "id": "0a82aa09",
   "metadata": {},
   "source": [
    "## Now let's look at some specific incidents and see what happened\n",
    "Most expensive incident report numbers: \n",
    "* 19909\t\n",
    "* 17044\n",
    "* 31393\n",
    "* 35187\n",
    "* 31163\n",
    "* 33676\n",
    "* 20932\n",
    "* 19624\n",
    "* 33647\n",
    "* 20201\n"
   ]
  },
  {
   "cell_type": "code",
   "execution_count": 17,
   "id": "96ebc54d",
   "metadata": {},
   "outputs": [
    {
     "data": {
      "text/html": [
       "<div>\n",
       "<style scoped>\n",
       "    .dataframe tbody tr th:only-of-type {\n",
       "        vertical-align: middle;\n",
       "    }\n",
       "\n",
       "    .dataframe tbody tr th {\n",
       "        vertical-align: top;\n",
       "    }\n",
       "\n",
       "    .dataframe thead th {\n",
       "        text-align: right;\n",
       "    }\n",
       "</style>\n",
       "<table border=\"1\" class=\"dataframe\">\n",
       "  <thead>\n",
       "    <tr style=\"text-align: right;\">\n",
       "      <th></th>\n",
       "      <th>datafile_as_of</th>\n",
       "      <th>ff</th>\n",
       "      <th>significant</th>\n",
       "      <th>serious</th>\n",
       "      <th>report_number</th>\n",
       "      <th>supplemental_number</th>\n",
       "      <th>report_received_date</th>\n",
       "      <th>report_type</th>\n",
       "      <th>operator_id</th>\n",
       "      <th>name</th>\n",
       "      <th>...</th>\n",
       "      <th>root_cause_type_other</th>\n",
       "      <th>failure_type</th>\n",
       "      <th>pwf_addl_misalignment_ind</th>\n",
       "      <th>failure_details</th>\n",
       "      <th>ief_addl_misalignment_ind</th>\n",
       "      <th>additional_thermal_ind</th>\n",
       "      <th>spill_type_category</th>\n",
       "      <th>eqf_pump_equipment_ind</th>\n",
       "      <th>io_tank_vessel_ind</th>\n",
       "      <th>prepared_date</th>\n",
       "    </tr>\n",
       "  </thead>\n",
       "  <tbody>\n",
       "    <tr>\n",
       "      <th>1783</th>\n",
       "      <td>2/28/22</td>\n",
       "      <td>NaN</td>\n",
       "      <td>YES</td>\n",
       "      <td>NO</td>\n",
       "      <td>20100181</td>\n",
       "      <td>19909</td>\n",
       "      <td>8/25/10</td>\n",
       "      <td>SUPPLEMENTAL FINAL</td>\n",
       "      <td>11169</td>\n",
       "      <td>ENBRIDGE ENERGY, LIMITED PARTNERSHIP</td>\n",
       "      <td>...</td>\n",
       "      <td>NaN</td>\n",
       "      <td>ENVIRONMENTAL CRACKING-RELATED</td>\n",
       "      <td>NaN</td>\n",
       "      <td>NaN</td>\n",
       "      <td>NaN</td>\n",
       "      <td>NaN</td>\n",
       "      <td>LARGE</td>\n",
       "      <td>NaN</td>\n",
       "      <td>NaN</td>\n",
       "      <td>11/19/14</td>\n",
       "    </tr>\n",
       "    <tr>\n",
       "      <th>832</th>\n",
       "      <td>2/28/22</td>\n",
       "      <td>NaN</td>\n",
       "      <td>YES</td>\n",
       "      <td>YES</td>\n",
       "      <td>20100070</td>\n",
       "      <td>17044</td>\n",
       "      <td>10/13/10</td>\n",
       "      <td>SUPPLEMENTAL FINAL</td>\n",
       "      <td>15007</td>\n",
       "      <td>PACIFIC GAS &amp; ELECTRIC CO</td>\n",
       "      <td>...</td>\n",
       "      <td>NaN</td>\n",
       "      <td>NaN</td>\n",
       "      <td>NaN</td>\n",
       "      <td>NaN</td>\n",
       "      <td>NaN</td>\n",
       "      <td>NaN</td>\n",
       "      <td>NaN</td>\n",
       "      <td>NaN</td>\n",
       "      <td>NaN</td>\n",
       "      <td>NaN</td>\n",
       "    </tr>\n",
       "    <tr>\n",
       "      <th>2159</th>\n",
       "      <td>2/28/22</td>\n",
       "      <td>NaN</td>\n",
       "      <td>YES</td>\n",
       "      <td>NO</td>\n",
       "      <td>20130151</td>\n",
       "      <td>31393</td>\n",
       "      <td>4/26/13</td>\n",
       "      <td>SUPPLEMENTAL FINAL</td>\n",
       "      <td>12628</td>\n",
       "      <td>MOBIL  PIPE  LINE COMPANY</td>\n",
       "      <td>...</td>\n",
       "      <td>NaN</td>\n",
       "      <td>ORIGINAL MANUFACTURING-RELATED (NOT GIRTH WELD...</td>\n",
       "      <td>NaN</td>\n",
       "      <td>NaN</td>\n",
       "      <td>NaN</td>\n",
       "      <td>NaN</td>\n",
       "      <td>LARGE</td>\n",
       "      <td>NaN</td>\n",
       "      <td>NaN</td>\n",
       "      <td>12/21/18</td>\n",
       "    </tr>\n",
       "    <tr>\n",
       "      <th>3344</th>\n",
       "      <td>2/28/22</td>\n",
       "      <td>NaN</td>\n",
       "      <td>YES</td>\n",
       "      <td>NO</td>\n",
       "      <td>20200253</td>\n",
       "      <td>35187</td>\n",
       "      <td>9/13/20</td>\n",
       "      <td>SUPPLEMENTAL</td>\n",
       "      <td>2552</td>\n",
       "      <td>COLONIAL PIPELINE CO</td>\n",
       "      <td>...</td>\n",
       "      <td>NaN</td>\n",
       "      <td>ENVIRONMENTAL CRACKING-RELATED</td>\n",
       "      <td>NaN</td>\n",
       "      <td>NaN</td>\n",
       "      <td>NaN</td>\n",
       "      <td>NaN</td>\n",
       "      <td>LARGE</td>\n",
       "      <td>NaN</td>\n",
       "      <td>NaN</td>\n",
       "      <td>4/17/21</td>\n",
       "    </tr>\n",
       "    <tr>\n",
       "      <th>2940</th>\n",
       "      <td>2/28/22</td>\n",
       "      <td>NaN</td>\n",
       "      <td>YES</td>\n",
       "      <td>NO</td>\n",
       "      <td>20170417</td>\n",
       "      <td>31163</td>\n",
       "      <td>12/16/17</td>\n",
       "      <td>SUPPLEMENTAL FINAL</td>\n",
       "      <td>32334</td>\n",
       "      <td>TC OIL PIPELINE OPERATIONS INC</td>\n",
       "      <td>...</td>\n",
       "      <td>NaN</td>\n",
       "      <td>CONSTRUCTION-, INSTALLATION-, OR FABRICATION-R...</td>\n",
       "      <td>NaN</td>\n",
       "      <td>NaN</td>\n",
       "      <td>NaN</td>\n",
       "      <td>NaN</td>\n",
       "      <td>LARGE</td>\n",
       "      <td>NaN</td>\n",
       "      <td>NaN</td>\n",
       "      <td>11/9/18</td>\n",
       "    </tr>\n",
       "    <tr>\n",
       "      <th>3227</th>\n",
       "      <td>2/28/22</td>\n",
       "      <td>NaN</td>\n",
       "      <td>YES</td>\n",
       "      <td>NO</td>\n",
       "      <td>20190359</td>\n",
       "      <td>33676</td>\n",
       "      <td>11/26/19</td>\n",
       "      <td>SUPPLEMENTAL FINAL</td>\n",
       "      <td>32334</td>\n",
       "      <td>TC OIL PIPELINE OPERATIONS INC</td>\n",
       "      <td>...</td>\n",
       "      <td>NaN</td>\n",
       "      <td>ORIGINAL MANUFACTURING-RELATED (NOT GIRTH WELD...</td>\n",
       "      <td>YES</td>\n",
       "      <td>NaN</td>\n",
       "      <td>NaN</td>\n",
       "      <td>NaN</td>\n",
       "      <td>LARGE</td>\n",
       "      <td>NaN</td>\n",
       "      <td>NaN</td>\n",
       "      <td>5/1/20</td>\n",
       "    </tr>\n",
       "    <tr>\n",
       "      <th>2399</th>\n",
       "      <td>2/28/22</td>\n",
       "      <td>NaN</td>\n",
       "      <td>YES</td>\n",
       "      <td>NO</td>\n",
       "      <td>20140393</td>\n",
       "      <td>20932</td>\n",
       "      <td>11/10/14</td>\n",
       "      <td>SUPPLEMENTAL FINAL</td>\n",
       "      <td>31554</td>\n",
       "      <td>CHEVRON PETROCHEMICAL PIPELINE LLC</td>\n",
       "      <td>...</td>\n",
       "      <td>NaN</td>\n",
       "      <td>ORIGINAL MANUFACTURING-RELATED (NOT GIRTH WELD...</td>\n",
       "      <td>NaN</td>\n",
       "      <td>NaN</td>\n",
       "      <td>NaN</td>\n",
       "      <td>NaN</td>\n",
       "      <td>LARGE</td>\n",
       "      <td>NaN</td>\n",
       "      <td>NaN</td>\n",
       "      <td>11/24/15</td>\n",
       "    </tr>\n",
       "    <tr>\n",
       "      <th>2048</th>\n",
       "      <td>2/28/22</td>\n",
       "      <td>NaN</td>\n",
       "      <td>YES</td>\n",
       "      <td>NO</td>\n",
       "      <td>20120238</td>\n",
       "      <td>19624</td>\n",
       "      <td>8/16/12</td>\n",
       "      <td>SUPPLEMENTAL FINAL</td>\n",
       "      <td>22430</td>\n",
       "      <td>WEST SHORE PIPELINE CO</td>\n",
       "      <td>...</td>\n",
       "      <td>NaN</td>\n",
       "      <td>ORIGINAL MANUFACTURING-RELATED (NOT GIRTH WELD...</td>\n",
       "      <td>YES</td>\n",
       "      <td>NaN</td>\n",
       "      <td>NaN</td>\n",
       "      <td>NaN</td>\n",
       "      <td>LARGE</td>\n",
       "      <td>NaN</td>\n",
       "      <td>NaN</td>\n",
       "      <td>8/1/14</td>\n",
       "    </tr>\n",
       "    <tr>\n",
       "      <th>2562</th>\n",
       "      <td>2/28/22</td>\n",
       "      <td>NaN</td>\n",
       "      <td>YES</td>\n",
       "      <td>NO</td>\n",
       "      <td>20150367</td>\n",
       "      <td>33647</td>\n",
       "      <td>10/20/15</td>\n",
       "      <td>SUPPLEMENTAL FINAL</td>\n",
       "      <td>2552</td>\n",
       "      <td>COLONIAL PIPELINE CO</td>\n",
       "      <td>...</td>\n",
       "      <td>NaN</td>\n",
       "      <td>CONSTRUCTION-, INSTALLATION-, OR FABRICATION-R...</td>\n",
       "      <td>NaN</td>\n",
       "      <td>NaN</td>\n",
       "      <td>NaN</td>\n",
       "      <td>NaN</td>\n",
       "      <td>LARGE</td>\n",
       "      <td>NaN</td>\n",
       "      <td>NaN</td>\n",
       "      <td>4/24/20</td>\n",
       "    </tr>\n",
       "    <tr>\n",
       "      <th>2400</th>\n",
       "      <td>2/28/22</td>\n",
       "      <td>NaN</td>\n",
       "      <td>YES</td>\n",
       "      <td>NO</td>\n",
       "      <td>20140394</td>\n",
       "      <td>20201</td>\n",
       "      <td>11/11/14</td>\n",
       "      <td>SUPPLEMENTAL FINAL</td>\n",
       "      <td>12470</td>\n",
       "      <td>MID - VALLEY PIPELINE CO</td>\n",
       "      <td>...</td>\n",
       "      <td>NaN</td>\n",
       "      <td>ENVIRONMENTAL CRACKING-RELATED</td>\n",
       "      <td>NaN</td>\n",
       "      <td>NaN</td>\n",
       "      <td>NaN</td>\n",
       "      <td>NaN</td>\n",
       "      <td>LARGE</td>\n",
       "      <td>NaN</td>\n",
       "      <td>NaN</td>\n",
       "      <td>3/3/15</td>\n",
       "    </tr>\n",
       "  </tbody>\n",
       "</table>\n",
       "<p>10 rows × 826 columns</p>\n",
       "</div>"
      ],
      "text/plain": [
       "     datafile_as_of   ff significant serious  report_number  \\\n",
       "1783        2/28/22  NaN         YES      NO       20100181   \n",
       "832         2/28/22  NaN         YES     YES       20100070   \n",
       "2159        2/28/22  NaN         YES      NO       20130151   \n",
       "3344        2/28/22  NaN         YES      NO       20200253   \n",
       "2940        2/28/22  NaN         YES      NO       20170417   \n",
       "3227        2/28/22  NaN         YES      NO       20190359   \n",
       "2399        2/28/22  NaN         YES      NO       20140393   \n",
       "2048        2/28/22  NaN         YES      NO       20120238   \n",
       "2562        2/28/22  NaN         YES      NO       20150367   \n",
       "2400        2/28/22  NaN         YES      NO       20140394   \n",
       "\n",
       "      supplemental_number report_received_date         report_type  \\\n",
       "1783                19909              8/25/10  SUPPLEMENTAL FINAL   \n",
       "832                 17044             10/13/10  SUPPLEMENTAL FINAL   \n",
       "2159                31393              4/26/13  SUPPLEMENTAL FINAL   \n",
       "3344                35187              9/13/20        SUPPLEMENTAL   \n",
       "2940                31163             12/16/17  SUPPLEMENTAL FINAL   \n",
       "3227                33676             11/26/19  SUPPLEMENTAL FINAL   \n",
       "2399                20932             11/10/14  SUPPLEMENTAL FINAL   \n",
       "2048                19624              8/16/12  SUPPLEMENTAL FINAL   \n",
       "2562                33647             10/20/15  SUPPLEMENTAL FINAL   \n",
       "2400                20201             11/11/14  SUPPLEMENTAL FINAL   \n",
       "\n",
       "      operator_id                                  name  ...  \\\n",
       "1783        11169  ENBRIDGE ENERGY, LIMITED PARTNERSHIP  ...   \n",
       "832         15007             PACIFIC GAS & ELECTRIC CO  ...   \n",
       "2159        12628             MOBIL  PIPE  LINE COMPANY  ...   \n",
       "3344         2552                  COLONIAL PIPELINE CO  ...   \n",
       "2940        32334        TC OIL PIPELINE OPERATIONS INC  ...   \n",
       "3227        32334        TC OIL PIPELINE OPERATIONS INC  ...   \n",
       "2399        31554    CHEVRON PETROCHEMICAL PIPELINE LLC  ...   \n",
       "2048        22430                WEST SHORE PIPELINE CO  ...   \n",
       "2562         2552                  COLONIAL PIPELINE CO  ...   \n",
       "2400        12470              MID - VALLEY PIPELINE CO  ...   \n",
       "\n",
       "     root_cause_type_other                                       failure_type  \\\n",
       "1783                   NaN                     ENVIRONMENTAL CRACKING-RELATED   \n",
       "832                    NaN                                                NaN   \n",
       "2159                   NaN  ORIGINAL MANUFACTURING-RELATED (NOT GIRTH WELD...   \n",
       "3344                   NaN                     ENVIRONMENTAL CRACKING-RELATED   \n",
       "2940                   NaN  CONSTRUCTION-, INSTALLATION-, OR FABRICATION-R...   \n",
       "3227                   NaN  ORIGINAL MANUFACTURING-RELATED (NOT GIRTH WELD...   \n",
       "2399                   NaN  ORIGINAL MANUFACTURING-RELATED (NOT GIRTH WELD...   \n",
       "2048                   NaN  ORIGINAL MANUFACTURING-RELATED (NOT GIRTH WELD...   \n",
       "2562                   NaN  CONSTRUCTION-, INSTALLATION-, OR FABRICATION-R...   \n",
       "2400                   NaN                     ENVIRONMENTAL CRACKING-RELATED   \n",
       "\n",
       "     pwf_addl_misalignment_ind failure_details ief_addl_misalignment_ind  \\\n",
       "1783                       NaN             NaN                       NaN   \n",
       "832                        NaN             NaN                       NaN   \n",
       "2159                       NaN             NaN                       NaN   \n",
       "3344                       NaN             NaN                       NaN   \n",
       "2940                       NaN             NaN                       NaN   \n",
       "3227                       YES             NaN                       NaN   \n",
       "2399                       NaN             NaN                       NaN   \n",
       "2048                       YES             NaN                       NaN   \n",
       "2562                       NaN             NaN                       NaN   \n",
       "2400                       NaN             NaN                       NaN   \n",
       "\n",
       "     additional_thermal_ind spill_type_category  eqf_pump_equipment_ind  \\\n",
       "1783                    NaN               LARGE                     NaN   \n",
       "832                     NaN                 NaN                     NaN   \n",
       "2159                    NaN               LARGE                     NaN   \n",
       "3344                    NaN               LARGE                     NaN   \n",
       "2940                    NaN               LARGE                     NaN   \n",
       "3227                    NaN               LARGE                     NaN   \n",
       "2399                    NaN               LARGE                     NaN   \n",
       "2048                    NaN               LARGE                     NaN   \n",
       "2562                    NaN               LARGE                     NaN   \n",
       "2400                    NaN               LARGE                     NaN   \n",
       "\n",
       "     io_tank_vessel_ind prepared_date  \n",
       "1783                NaN      11/19/14  \n",
       "832                 NaN           NaN  \n",
       "2159                NaN      12/21/18  \n",
       "3344                NaN       4/17/21  \n",
       "2940                NaN       11/9/18  \n",
       "3227                NaN        5/1/20  \n",
       "2399                NaN      11/24/15  \n",
       "2048                NaN        8/1/14  \n",
       "2562                NaN       4/24/20  \n",
       "2400                NaN        3/3/15  \n",
       "\n",
       "[10 rows x 826 columns]"
      ]
     },
     "execution_count": 17,
     "metadata": {},
     "output_type": "execute_result"
    }
   ],
   "source": [
    "# Sorting our dataframe of material failure incidents by highest total cost (adjusted for inflation)\n",
    "df2.sort_values('total_cost_current', ascending=False).head(10)"
   ]
  },
  {
   "cell_type": "code",
   "execution_count": 18,
   "id": "d9b324b8",
   "metadata": {},
   "outputs": [
    {
     "data": {
      "text/plain": [
       "1783    1.023097e+09\n",
       "832     6.794712e+08\n",
       "2159    1.049986e+08\n",
       "3344    6.553451e+07\n",
       "2940    4.861148e+07\n",
       "            ...     \n",
       "3180    1.040697e+04\n",
       "2662    9.388155e+03\n",
       "518     5.848181e+03\n",
       "3273    1.529914e+03\n",
       "35      0.000000e+00\n",
       "Name: total_cost_current, Length: 417, dtype: float64"
      ]
     },
     "execution_count": 18,
     "metadata": {},
     "output_type": "execute_result"
    }
   ],
   "source": [
    "# Double checking the above\n",
    "df2.total_cost_current.sort_values(ascending=False)"
   ]
  },
  {
   "cell_type": "code",
   "execution_count": 2,
   "id": "98cf6601",
   "metadata": {},
   "outputs": [
    {
     "ename": "NameError",
     "evalue": "name 'df2' is not defined",
     "output_type": "error",
     "traceback": [
      "\u001b[0;31m---------------------------------------------------------------------------\u001b[0m",
      "\u001b[0;31mNameError\u001b[0m                                 Traceback (most recent call last)",
      "\u001b[0;32m/var/folders/qx/nkh2pq6x3_193757ddxvrcf40000gp/T/ipykernel_42241/3302148419.py\u001b[0m in \u001b[0;36m<module>\u001b[0;34m\u001b[0m\n\u001b[1;32m      1\u001b[0m \u001b[0;31m# Making the top 10 its own dataframe\u001b[0m\u001b[0;34m\u001b[0m\u001b[0;34m\u001b[0m\u001b[0m\n\u001b[1;32m      2\u001b[0m \u001b[0;34m\u001b[0m\u001b[0m\n\u001b[0;32m----> 3\u001b[0;31m \u001b[0mtop\u001b[0m \u001b[0;34m=\u001b[0m \u001b[0mdf2\u001b[0m\u001b[0;34m.\u001b[0m\u001b[0msort_values\u001b[0m\u001b[0;34m(\u001b[0m\u001b[0;34m'total_cost_current'\u001b[0m\u001b[0;34m,\u001b[0m \u001b[0mascending\u001b[0m\u001b[0;34m=\u001b[0m\u001b[0;32mFalse\u001b[0m\u001b[0;34m)\u001b[0m\u001b[0;34m.\u001b[0m\u001b[0mhead\u001b[0m\u001b[0;34m(\u001b[0m\u001b[0;36m10\u001b[0m\u001b[0;34m)\u001b[0m\u001b[0;34m\u001b[0m\u001b[0;34m\u001b[0m\u001b[0m\n\u001b[0m\u001b[1;32m      4\u001b[0m \u001b[0;31m#top.to_csv('top_material_failure_incidents_2010_to_present.csv', index=False)\u001b[0m\u001b[0;34m\u001b[0m\u001b[0;34m\u001b[0m\u001b[0m\n",
      "\u001b[0;31mNameError\u001b[0m: name 'df2' is not defined"
     ]
    }
   ],
   "source": [
    "# Making the top 10 its own dataframe \n",
    "\n",
    "top = df2.sort_values('total_cost_current', ascending=False).head(10)\n",
    "#top.to_csv('top_material_failure_incidents_2010_to_present.csv', index=False)"
   ]
  },
  {
   "cell_type": "markdown",
   "id": "bb53f809",
   "metadata": {},
   "source": [
    "## Looking Material Failure incidents over time\n"
   ]
  },
  {
   "cell_type": "code",
   "execution_count": null,
   "id": "45e6ee1c",
   "metadata": {},
   "outputs": [],
   "source": [
    "#df[[\"col1\", \"col2\", \"col3\"]] = df[[\"col1\", \"col2\", \"col3\"]].apply(pd.to_datetime)\n",
    "\n",
    "df2['installation_year']"
   ]
  },
  {
   "cell_type": "code",
   "execution_count": 22,
   "id": "a9d1b7c2",
   "metadata": {},
   "outputs": [
    {
     "data": {
      "text/plain": [
       "7        1/12/10 20:53\n",
       "22       1/21/10 17:37\n",
       "28        9/6/10 23:38\n",
       "35        3/3/10 13:28\n",
       "47         1/1/11 4:55\n",
       "             ...      \n",
       "3504    10/14/21 11:40\n",
       "3505     10/17/21 9:00\n",
       "3517     12/4/21 11:18\n",
       "3524    12/21/21 18:48\n",
       "3526     12/8/21 10:22\n",
       "Name: incident_identified_datetime, Length: 417, dtype: object"
      ]
     },
     "execution_count": 22,
     "metadata": {},
     "output_type": "execute_result"
    }
   ],
   "source": [
    "df2.incident_identified_datetime"
   ]
  },
  {
   "cell_type": "code",
   "execution_count": 23,
   "id": "e602f492",
   "metadata": {},
   "outputs": [
    {
     "name": "stderr",
     "output_type": "stream",
     "text": [
      "/Users/jessieblaeser/.pyenv/versions/3.10.0/lib/python3.10/site-packages/pandas/core/frame.py:3641: SettingWithCopyWarning: \n",
      "A value is trying to be set on a copy of a slice from a DataFrame.\n",
      "Try using .loc[row_indexer,col_indexer] = value instead\n",
      "\n",
      "See the caveats in the documentation: https://pandas.pydata.org/pandas-docs/stable/user_guide/indexing.html#returning-a-view-versus-a-copy\n",
      "  self[k1] = value[k2]\n"
     ]
    }
   ],
   "source": [
    "df2[['incident_identified_datetime', 'installation_year']] = df2[['incident_identified_datetime', 'installation_year']].apply(pd.to_datetime, errors='coerce')\n",
    "\n"
   ]
  },
  {
   "cell_type": "code",
   "execution_count": 34,
   "id": "e55ac9f9",
   "metadata": {},
   "outputs": [
    {
     "data": {
      "text/plain": [
       "<AxesSubplot:xlabel='incident_identified_datetime'>"
      ]
     },
     "execution_count": 34,
     "metadata": {},
     "output_type": "execute_result"
    },
    {
     "data": {
      "image/png": "[encoded data removed]",
      "text/plain": [
       "<Figure size 432x288 with 1 Axes>"
      ]
     },
     "metadata": {
      "needs_background": "light"
     },
     "output_type": "display_data"
    }
   ],
   "source": [
    "# Number of incidents by year\n",
    "df2.resample('Y', on='incident_identified_datetime').size().plot()\n"
   ]
  },
  {
   "cell_type": "code",
   "execution_count": 35,
   "id": "2c4d036c",
   "metadata": {},
   "outputs": [
    {
     "data": {
      "text/plain": [
       "<AxesSubplot:>"
      ]
     },
     "execution_count": 35,
     "metadata": {},
     "output_type": "execute_result"
    },
    {
     "data": {
      "image/png": "[encoded data removed]",
      "text/plain": [
       "<Figure size 432x288 with 1 Axes>"
      ]
     },
     "metadata": {
      "needs_background": "light"
     },
     "output_type": "display_data"
    }
   ],
   "source": [
    "# Number of incidents by year\n",
    "df2.incident_identified_datetime.dt.year.value_counts().sort_index().plot()"
   ]
  },
  {
   "cell_type": "code",
   "execution_count": 36,
   "id": "e5f84cfe",
   "metadata": {},
   "outputs": [
    {
     "data": {
      "text/plain": [
       "<AxesSubplot:>"
      ]
     },
     "execution_count": 36,
     "metadata": {},
     "output_type": "execute_result"
    },
    {
     "data": {
      "image/png": "[encoded data removed]",
      "text/plain": [
       "<Figure size 432x288 with 1 Axes>"
      ]
     },
     "metadata": {
      "needs_background": "light"
     },
     "output_type": "display_data"
    }
   ],
   "source": [
    "# Number of incidents by month \n",
    "df2.incident_identified_datetime.dt.month.value_counts().sort_index().plot()\n"
   ]
  },
  {
   "cell_type": "code",
   "execution_count": 43,
   "id": "d61bb172",
   "metadata": {},
   "outputs": [
    {
     "data": {
      "text/plain": [
       "<AxesSubplot:title={'center':'Pipeline installation year for pipielines with a material failure incident from 2010 to present'}>"
      ]
     },
     "execution_count": 43,
     "metadata": {},
     "output_type": "execute_result"
    },
    {
     "data": {
      "image/png": "[encoded data removed]",
      "text/plain": [
       "<Figure size 432x288 with 1 Axes>"
      ]
     },
     "metadata": {
      "needs_background": "light"
     },
     "output_type": "display_data"
    }
   ],
   "source": [
    "# Most Material Failure incidents occur in pipelines build between 1940 and 1980, \n",
    "    # but there also seems ot be a spike in the 2000s as well \n",
    "df2.installation_year.dt.year.value_counts().sort_index().plot(title='Pipeline installation year for pipielines with a material failure incident from 2010 to present')"
   ]
  }
 ],
 "metadata": {
  "kernelspec": {
   "display_name": "Python 3 (ipykernel)",
   "language": "python",
   "name": "python3"
  },
  "language_info": {
   "codemirror_mode": {
    "name": "ipython",
    "version": 3
   },
   "file_extension": ".py",
   "mimetype": "text/x-python",
   "name": "python",
   "nbconvert_exporter": "python",
   "pygments_lexer": "ipython3",
   "version": "3.10.0"
  }
 },
 "nbformat": 4,
 "nbformat_minor": 5
}
