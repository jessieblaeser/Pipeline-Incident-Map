{
 "cells": [
  {
   "cell_type": "markdown",
   "id": "0eb13a1d",
   "metadata": {},
   "source": [
    "# Looking into Pipeline incidents from 2010-Present\n",
    "* 'Signficiant' and 'non-significant' events\n",
    "* Events include the following: \n",
    "    * Gas distribution\n",
    "    * Gas Transmission and Gathering\n",
    "    * Hazardous liquid\n",
    "    \n",
    "    **NOTE:** Liquified Natural Gas incidents are not included in this analysis (32 total LNG incidents since 2011)\n",
    "    \n",
    "[Data source](https://www.phmsa.dot.gov/data-and-statistics/pipeline/source-data)\n",
    "Data downloaded on: "
   ]
  },
  {
   "cell_type": "code",
   "execution_count": 1,
   "id": "254bab24",
   "metadata": {},
   "outputs": [
    {
     "name": "stderr",
     "output_type": "stream",
     "text": [
      "/Users/jessieblaeser/.pyenv/versions/3.10.0/lib/python3.10/site-packages/pandas/compat/__init__.py:124: UserWarning: Could not import the lzma module. Your installed Python is incomplete. Attempting to use lzma compression will result in a RuntimeError.\n",
      "  warnings.warn(msg)\n",
      "/Users/jessieblaeser/.pyenv/versions/3.10.0/lib/python3.10/site-packages/IPython/core/interactiveshell.py:3444: DtypeWarning: Columns (1,15,16,18,19,20,21,22,25,26,27,28,29,30,31,32,33,36,56,57,58,63,64,65,72,73,75,76,77,78,84,85,87,89,92,93,94,95,101,102,103,104,105,106,108,109,116,120,148,149,151,152,154,171,172,173,193,194,197,198,205,209,210,214,217,218,219,221,222,223,225,228,230,231,233,234,238,239,240,250,251,252,256,257,261,262,263,265,266,268,269,276,277,278,279,280,281,286,287,290,293,294,295,296,297,300,301,303,304,305,306,307,310,311,313,314,315,316,317,318,319,320,321,322,324,325,326,327,329,330,331,332,333,334,335,336,337,340,341,342,343,344,345,347,348,351,354,355,356,357,359,360,361,362,363,365,366,367,368,369,371,372,373,374,375,376,377,378,379,380,384,386,387,388,389,391,393,394,395,399,400,401,402,407,411,421,422,423,427,428,429,430,432,433,434,435,436,439,440,441,442,443,446,447,449,451,452,454,455,456,457,460,462,463,464,465,466,472,473,474,480,482,483,484,485,486,487,488,489,490,491,492,493,494,495,496,497,498,499,500,501,502,503,504,505,506,507,508,509,510,511,512,513,514,515,516,517,518,519,520,521,522,524,525,526,529,530,532,533,535,536,537,538,539,540,541,542,543,545,546,547,548,549,550,552,556,557,558,559,561,562,563,564,565,566,567,568,569,570,571,572,573,574,575,576,577,578,579,580,581,582,583,584,585,586,587,588,589,590,591,592,593,594,595,596,597,598,599,600,601,602,603,604,605,606,607,608,609,610,611,612,613,614,615,616,617,618,619,620,621,622,623,624,625,626,627,628,629,630,631,632,633,634,635,636,637,638,639,640,641,642,644,646,647,649,652,653,655,658,659,662,663,666,667,669,678,679,681,683,684,686,688,690,695,697,699,700,701,704,711,713,714,716,717,718,724,726,727,728,729,730,731,732,736,737,738,739,740,741,742,749,751,752,753,754,755,756,758,759,760,761,762,768,770,772,773,774,775,776,777,778,779,780,781,782,783,784,785,786,787,789,790,791,792,793,794,795,796,797,798,799,800,804,805,806,807,808,809,810,811,814,815,817,818,819,820,821,822,825) have mixed types.Specify dtype option on import or set low_memory=False.\n",
      "  exec(code_obj, self.user_global_ns, self.user_ns)\n"
     ]
    },
    {
     "data": {
      "text/html": [
       "<div>\n",
       "<style scoped>\n",
       "    .dataframe tbody tr th:only-of-type {\n",
       "        vertical-align: middle;\n",
       "    }\n",
       "\n",
       "    .dataframe tbody tr th {\n",
       "        vertical-align: top;\n",
       "    }\n",
       "\n",
       "    .dataframe thead th {\n",
       "        text-align: right;\n",
       "    }\n",
       "</style>\n",
       "<table border=\"1\" class=\"dataframe\">\n",
       "  <thead>\n",
       "    <tr style=\"text-align: right;\">\n",
       "      <th></th>\n",
       "      <th>datafile_as_of</th>\n",
       "      <th>ff</th>\n",
       "      <th>significant</th>\n",
       "      <th>serious</th>\n",
       "      <th>report_number</th>\n",
       "      <th>supplemental_number</th>\n",
       "      <th>report_received_date</th>\n",
       "      <th>report_type</th>\n",
       "      <th>operator_id</th>\n",
       "      <th>name</th>\n",
       "      <th>...</th>\n",
       "      <th>root_cause_type_other</th>\n",
       "      <th>failure_type</th>\n",
       "      <th>pwf_addl_misalignment_ind</th>\n",
       "      <th>failure_details</th>\n",
       "      <th>ief_addl_misalignment_ind</th>\n",
       "      <th>additional_thermal_ind</th>\n",
       "      <th>spill_type_category</th>\n",
       "      <th>eqf_pump_equipment_ind</th>\n",
       "      <th>io_tank_vessel_ind</th>\n",
       "      <th>prepared_date</th>\n",
       "    </tr>\n",
       "  </thead>\n",
       "  <tbody>\n",
       "    <tr>\n",
       "      <th>0</th>\n",
       "      <td>2/28/22</td>\n",
       "      <td>NO</td>\n",
       "      <td>YES</td>\n",
       "      <td>NO</td>\n",
       "      <td>20100001</td>\n",
       "      <td>15047</td>\n",
       "      <td>3/11/10</td>\n",
       "      <td>SUPPLEMENTAL FINAL</td>\n",
       "      <td>15007</td>\n",
       "      <td>PACIFIC GAS &amp; ELECTRIC CO</td>\n",
       "      <td>...</td>\n",
       "      <td>NaN</td>\n",
       "      <td>NaN</td>\n",
       "      <td>NaN</td>\n",
       "      <td>NaN</td>\n",
       "      <td>NaN</td>\n",
       "      <td>NaN</td>\n",
       "      <td>NaN</td>\n",
       "      <td>NaN</td>\n",
       "      <td>NaN</td>\n",
       "      <td>NaN</td>\n",
       "    </tr>\n",
       "    <tr>\n",
       "      <th>1</th>\n",
       "      <td>2/28/22</td>\n",
       "      <td>NO</td>\n",
       "      <td>NO</td>\n",
       "      <td>NO</td>\n",
       "      <td>20100002</td>\n",
       "      <td>15553</td>\n",
       "      <td>3/12/10</td>\n",
       "      <td>SUPPLEMENTAL FINAL</td>\n",
       "      <td>13730</td>\n",
       "      <td>NORTHERN INDIANA PUBLIC SERVICE CO</td>\n",
       "      <td>...</td>\n",
       "      <td>NaN</td>\n",
       "      <td>NaN</td>\n",
       "      <td>NaN</td>\n",
       "      <td>NaN</td>\n",
       "      <td>NaN</td>\n",
       "      <td>NaN</td>\n",
       "      <td>NaN</td>\n",
       "      <td>NaN</td>\n",
       "      <td>NaN</td>\n",
       "      <td>NaN</td>\n",
       "    </tr>\n",
       "    <tr>\n",
       "      <th>2</th>\n",
       "      <td>2/28/22</td>\n",
       "      <td>NO</td>\n",
       "      <td>NO</td>\n",
       "      <td>NO</td>\n",
       "      <td>20100003</td>\n",
       "      <td>15023</td>\n",
       "      <td>3/15/10</td>\n",
       "      <td>SUPPLEMENTAL FINAL</td>\n",
       "      <td>31840</td>\n",
       "      <td>UNISOURCE ENERGY SERVICES</td>\n",
       "      <td>...</td>\n",
       "      <td>NaN</td>\n",
       "      <td>NaN</td>\n",
       "      <td>NaN</td>\n",
       "      <td>NaN</td>\n",
       "      <td>NaN</td>\n",
       "      <td>NaN</td>\n",
       "      <td>NaN</td>\n",
       "      <td>NaN</td>\n",
       "      <td>NaN</td>\n",
       "      <td>NaN</td>\n",
       "    </tr>\n",
       "    <tr>\n",
       "      <th>3</th>\n",
       "      <td>2/28/22</td>\n",
       "      <td>NO</td>\n",
       "      <td>YES</td>\n",
       "      <td>YES</td>\n",
       "      <td>20100004</td>\n",
       "      <td>15003</td>\n",
       "      <td>3/16/10</td>\n",
       "      <td>ORIGINAL FINAL</td>\n",
       "      <td>13710</td>\n",
       "      <td>NORTHERN ILLINOIS GAS CO</td>\n",
       "      <td>...</td>\n",
       "      <td>NaN</td>\n",
       "      <td>NaN</td>\n",
       "      <td>NaN</td>\n",
       "      <td>NaN</td>\n",
       "      <td>NaN</td>\n",
       "      <td>NaN</td>\n",
       "      <td>NaN</td>\n",
       "      <td>NaN</td>\n",
       "      <td>NaN</td>\n",
       "      <td>NaN</td>\n",
       "    </tr>\n",
       "    <tr>\n",
       "      <th>4</th>\n",
       "      <td>2/28/22</td>\n",
       "      <td>NO</td>\n",
       "      <td>YES</td>\n",
       "      <td>YES</td>\n",
       "      <td>20100005</td>\n",
       "      <td>15639</td>\n",
       "      <td>3/22/10</td>\n",
       "      <td>SUPPLEMENTAL FINAL</td>\n",
       "      <td>6141</td>\n",
       "      <td>NEW MEXICO GAS COMPANY</td>\n",
       "      <td>...</td>\n",
       "      <td>NaN</td>\n",
       "      <td>NaN</td>\n",
       "      <td>NaN</td>\n",
       "      <td>NaN</td>\n",
       "      <td>NaN</td>\n",
       "      <td>NaN</td>\n",
       "      <td>NaN</td>\n",
       "      <td>NaN</td>\n",
       "      <td>NaN</td>\n",
       "      <td>NaN</td>\n",
       "    </tr>\n",
       "  </tbody>\n",
       "</table>\n",
       "<p>5 rows × 826 columns</p>\n",
       "</div>"
      ],
      "text/plain": [
       "  datafile_as_of  ff significant serious  report_number  supplemental_number  \\\n",
       "0        2/28/22  NO         YES      NO       20100001                15047   \n",
       "1        2/28/22  NO          NO      NO       20100002                15553   \n",
       "2        2/28/22  NO          NO      NO       20100003                15023   \n",
       "3        2/28/22  NO         YES     YES       20100004                15003   \n",
       "4        2/28/22  NO         YES     YES       20100005                15639   \n",
       "\n",
       "  report_received_date         report_type  operator_id  \\\n",
       "0              3/11/10  SUPPLEMENTAL FINAL        15007   \n",
       "1              3/12/10  SUPPLEMENTAL FINAL        13730   \n",
       "2              3/15/10  SUPPLEMENTAL FINAL        31840   \n",
       "3              3/16/10      ORIGINAL FINAL        13710   \n",
       "4              3/22/10  SUPPLEMENTAL FINAL         6141   \n",
       "\n",
       "                                 name  ... root_cause_type_other failure_type  \\\n",
       "0           PACIFIC GAS & ELECTRIC CO  ...                   NaN          NaN   \n",
       "1  NORTHERN INDIANA PUBLIC SERVICE CO  ...                   NaN          NaN   \n",
       "2           UNISOURCE ENERGY SERVICES  ...                   NaN          NaN   \n",
       "3            NORTHERN ILLINOIS GAS CO  ...                   NaN          NaN   \n",
       "4              NEW MEXICO GAS COMPANY  ...                   NaN          NaN   \n",
       "\n",
       "  pwf_addl_misalignment_ind failure_details ief_addl_misalignment_ind  \\\n",
       "0                       NaN             NaN                       NaN   \n",
       "1                       NaN             NaN                       NaN   \n",
       "2                       NaN             NaN                       NaN   \n",
       "3                       NaN             NaN                       NaN   \n",
       "4                       NaN             NaN                       NaN   \n",
       "\n",
       "  additional_thermal_ind spill_type_category  eqf_pump_equipment_ind  \\\n",
       "0                    NaN                 NaN                     NaN   \n",
       "1                    NaN                 NaN                     NaN   \n",
       "2                    NaN                 NaN                     NaN   \n",
       "3                    NaN                 NaN                     NaN   \n",
       "4                    NaN                 NaN                     NaN   \n",
       "\n",
       "  io_tank_vessel_ind prepared_date  \n",
       "0                NaN           NaN  \n",
       "1                NaN           NaN  \n",
       "2                NaN           NaN  \n",
       "3                NaN           NaN  \n",
       "4                NaN           NaN  \n",
       "\n",
       "[5 rows x 826 columns]"
      ]
     },
     "execution_count": 1,
     "metadata": {},
     "output_type": "execute_result"
    }
   ],
   "source": [
    "import pandas as pd\n",
    "import numpy as np\n",
    "import os\n",
    "\n",
    "df = pd.read_csv('../data/processed/pipeline_incidents_2010_present_all.csv')\n",
    "df.head()"
   ]
  },
  {
   "cell_type": "code",
   "execution_count": 2,
   "id": "02bf68dd",
   "metadata": {},
   "outputs": [],
   "source": [
    "#Converting to datetimes\n",
    "\n",
    "df[['incident_identified_datetime', 'installation_year']] = df[['incident_identified_datetime', 'installation_year']].apply(pd.to_datetime, errors='coerce')"
   ]
  },
  {
   "cell_type": "markdown",
   "id": "f9abf9ce",
   "metadata": {},
   "source": [
    "### 1. Count of incidents between 2010 and 2021\n",
    "\n",
    "Conclusions: \n",
    "* We can see that there's been an increase in incidents from 2012 to 2014 (although need to quantify percent change) \n",
    "* There were more incidents in 2021 than 2010, but not by much\n",
    "* Since 2015, incidents have largely trended down"
   ]
  },
  {
   "cell_type": "code",
   "execution_count": 3,
   "id": "5a040e63",
   "metadata": {},
   "outputs": [
    {
     "data": {
      "text/plain": [
       "<AxesSubplot:title={'center':'Number of Pipeline Incidents 2010-2021'}>"
      ]
     },
     "execution_count": 3,
     "metadata": {},
     "output_type": "execute_result"
    },
    {
     "data": {
      "image/png": "[encoded data removed]",
      "text/plain": [
       "<Figure size 432x288 with 1 Axes>"
      ]
     },
     "metadata": {
      "needs_background": "light"
     },
     "output_type": "display_data"
    }
   ],
   "source": [
    "# Looking at number of incidents per year \n",
    "\n",
    "df.incident_identified_datetime.dt.year.value_counts().sort_index()\\\n",
    "    .plot(xlim=[2010,2021], title='Number of Pipeline Incidents 2010-2021')"
   ]
  },
  {
   "cell_type": "markdown",
   "id": "2a89c22c",
   "metadata": {},
   "source": [
    "### 2. Looking at the installation years for pipelines that had accidents from 2010 to present\n",
    "\n",
    "Conclusions: \n",
    "* There are two 'general' spikes: \n",
    "    * from 1950 to 1970 \n",
    "    * from 2000 to 2020 (ish)\n",
    "* I am interested in seeing if the pipelines that were recently installed have led to a greater number of incidents. From this, it seems like there has been. Need to report this out to find out if this is accurate, and why this might be. \n",
    "* Pipelines installed in 2015 have resulted in 200 incidents --> this is the most for any installation year for incidents occuring between 2010 and present "
   ]
  },
  {
   "cell_type": "code",
   "execution_count": 4,
   "id": "89362852",
   "metadata": {},
   "outputs": [
    {
     "data": {
      "text/plain": [
       "<AxesSubplot:title={'center':'Installation years for pipeline incidents occuring 2010-Present'}>"
      ]
     },
     "execution_count": 4,
     "metadata": {},
     "output_type": "execute_result"
    },
    {
     "data": {
      "image/png": "[encoded data removed]",
      "text/plain": [
       "<Figure size 432x288 with 1 Axes>"
      ]
     },
     "metadata": {
      "needs_background": "light"
     },
     "output_type": "display_data"
    }
   ],
   "source": [
    "# Installation years with the most incidents occuring between 2010 and present \n",
    "df.installation_year.dt.year.value_counts().sort_index()\\\n",
    ".plot(title='Installation years for pipeline incidents occuring 2010-Present')\n",
    "\n",
    "#OMG\n"
   ]
  },
  {
   "cell_type": "code",
   "execution_count": 5,
   "id": "c263a7a5",
   "metadata": {},
   "outputs": [
    {
     "data": {
      "text/plain": [
       "<AxesSubplot:title={'center':'Installation years for pipeline incidents occuring 2010-Present'}>"
      ]
     },
     "execution_count": 5,
     "metadata": {},
     "output_type": "execute_result"
    },
    {
     "data": {
      "image/png": "[encoded data removed]",
      "text/plain": [
       "<Figure size 432x288 with 1 Axes>"
      ]
     },
     "metadata": {
      "needs_background": "light"
     },
     "output_type": "display_data"
    }
   ],
   "source": [
    "# Looking closer at the spike between 2000 and 2021\n",
    "\n",
    "df.installation_year.dt.year.value_counts().sort_index()\\\n",
    ".plot(xlim=[2000,2021],title='Installation years for pipeline incidents occuring 2010-Present')"
   ]
  },
  {
   "cell_type": "markdown",
   "id": "782a9932",
   "metadata": {},
   "source": [
    "### 3. Looking at the relationship between the cause of the incident and the installation year \n",
    "\n",
    "**Steps:**\n",
    "* Count incidents per cause\n",
    "* Isolate top 2 causes and look at most common sub causes within each  \n",
    "\n",
    "**Conclusions:**\n",
    "* The most common cause was equipment failure (36% of incidents)\n",
    "    * Top 3 sub causes: \n",
    "        1. MALFUNCTION OF CONTROL/RELIEF EQUIPMENT                                           621 (23%)\n",
    "        2. NON-THREADED CONNECTION FAILURE                                                   609 (22.5%)\n",
    "        3. PUMP OR PUMP-RELATED EQUIPMENT                                                    475 (17.5%)\n",
    "* Second most common was corrosion failure (17.1% of incidents) \n",
    "    * There are only 2 sub causes for corrosion failure. They are: \n",
    "        1. INTERNAL CORROSION    789 (68.4%)\n",
    "        2. EXTERNAL CORROSION    496 (38.6%) "
   ]
  },
  {
   "cell_type": "code",
   "execution_count": 6,
   "id": "008e45a6",
   "metadata": {},
   "outputs": [
    {
     "data": {
      "text/plain": [
       "EQUIPMENT FAILURE                   2703\n",
       "CORROSION FAILURE                   1285\n",
       "INCORRECT OPERATION                  877\n",
       "EXCAVATION DAMAGE                    774\n",
       "OTHER OUTSIDE FORCE DAMAGE           598\n",
       "MATERIAL FAILURE OF PIPE OR WELD     567\n",
       "NATURAL FORCE DAMAGE                 426\n",
       "OTHER INCIDENT CAUSE                 269\n",
       "Name: cause, dtype: int64"
      ]
     },
     "execution_count": 6,
     "metadata": {},
     "output_type": "execute_result"
    }
   ],
   "source": [
    "# Counting incidents by cause\n",
    "df['cause'].value_counts()"
   ]
  },
  {
   "cell_type": "code",
   "execution_count": 7,
   "id": "9b0d8f1b",
   "metadata": {},
   "outputs": [
    {
     "data": {
      "text/plain": [
       "EQUIPMENT FAILURE                   0.360448\n",
       "CORROSION FAILURE                   0.171356\n",
       "INCORRECT OPERATION                 0.116949\n",
       "EXCAVATION DAMAGE                   0.103214\n",
       "OTHER OUTSIDE FORCE DAMAGE          0.079744\n",
       "MATERIAL FAILURE OF PIPE OR WELD    0.075610\n",
       "NATURAL FORCE DAMAGE                0.056808\n",
       "OTHER INCIDENT CAUSE                0.035871\n",
       "Name: cause, dtype: float64"
      ]
     },
     "execution_count": 7,
     "metadata": {},
     "output_type": "execute_result"
    }
   ],
   "source": [
    "# Same as above but in percentages\n",
    "df['cause'].value_counts(normalize=True)"
   ]
  },
  {
   "cell_type": "code",
   "execution_count": 8,
   "id": "997c5309",
   "metadata": {},
   "outputs": [
    {
     "data": {
      "text/plain": [
       "MALFUNCTION OF CONTROL/RELIEF EQUIPMENT                                           621\n",
       "NON-THREADED CONNECTION FAILURE                                                   609\n",
       "PUMP OR PUMP-RELATED EQUIPMENT                                                    475\n",
       "OTHER EQUIPMENT FAILURE                                                           376\n",
       "THREADED CONNECTION/COUPLING FAILURE                                              340\n",
       "DEFECTIVE OR LOOSE TUBING OR FITTING                                              125\n",
       "FAILURE OF EQUIPMENT BODY (EXCEPT PUMP), TANK PLATE, OR OTHER MATERIAL            101\n",
       "COMPRESSOR OR COMPRESSOR-RELATED EQUIPMENT                                         31\n",
       "FAILURE OF EQUIPMENT BODY (EXCEPT COMPRESSOR), VESSEL PLATE, OR OTHER MATERIAL     12\n",
       "VALVE                                                                               8\n",
       "THREADED CONNECTION FAILURE                                                         5\n",
       "Name: cause_details, dtype: int64"
      ]
     },
     "execution_count": 8,
     "metadata": {},
     "output_type": "execute_result"
    }
   ],
   "source": [
    "# Looking at 'EQUIPMENT FAILURE' sub causes\n",
    "\n",
    "df[df['cause'] == 'EQUIPMENT FAILURE'].cause_details.value_counts()"
   ]
  },
  {
   "cell_type": "code",
   "execution_count": 9,
   "id": "367eaa36",
   "metadata": {},
   "outputs": [
    {
     "data": {
      "text/plain": [
       "MALFUNCTION OF CONTROL/RELIEF EQUIPMENT                                           0.229745\n",
       "NON-THREADED CONNECTION FAILURE                                                   0.225305\n",
       "PUMP OR PUMP-RELATED EQUIPMENT                                                    0.175731\n",
       "OTHER EQUIPMENT FAILURE                                                           0.139105\n",
       "THREADED CONNECTION/COUPLING FAILURE                                              0.125786\n",
       "DEFECTIVE OR LOOSE TUBING OR FITTING                                              0.046245\n",
       "FAILURE OF EQUIPMENT BODY (EXCEPT PUMP), TANK PLATE, OR OTHER MATERIAL            0.037366\n",
       "COMPRESSOR OR COMPRESSOR-RELATED EQUIPMENT                                        0.011469\n",
       "FAILURE OF EQUIPMENT BODY (EXCEPT COMPRESSOR), VESSEL PLATE, OR OTHER MATERIAL    0.004440\n",
       "VALVE                                                                             0.002960\n",
       "THREADED CONNECTION FAILURE                                                       0.001850\n",
       "Name: cause_details, dtype: float64"
      ]
     },
     "execution_count": 9,
     "metadata": {},
     "output_type": "execute_result"
    }
   ],
   "source": [
    "# Same as above but in percent\n",
    "\n",
    "df[df['cause'] == 'EQUIPMENT FAILURE'].cause_details.value_counts(normalize=True)"
   ]
  },
  {
   "cell_type": "code",
   "execution_count": 10,
   "id": "fb38f078",
   "metadata": {},
   "outputs": [
    {
     "data": {
      "text/plain": [
       "INTERNAL CORROSION    789\n",
       "EXTERNAL CORROSION    496\n",
       "Name: cause_details, dtype: int64"
      ]
     },
     "execution_count": 10,
     "metadata": {},
     "output_type": "execute_result"
    }
   ],
   "source": [
    "# Looking at 'CORROSION FAILURE' sub causes\n",
    "\n",
    "df[df['cause'] == 'CORROSION FAILURE'].cause_details.value_counts()"
   ]
  },
  {
   "cell_type": "code",
   "execution_count": 11,
   "id": "e58c4192",
   "metadata": {},
   "outputs": [
    {
     "data": {
      "text/plain": [
       "INTERNAL CORROSION    0.614008\n",
       "EXTERNAL CORROSION    0.385992\n",
       "Name: cause_details, dtype: float64"
      ]
     },
     "execution_count": 11,
     "metadata": {},
     "output_type": "execute_result"
    }
   ],
   "source": [
    "# Same as above but in percent\n",
    "\n",
    "df[df['cause'] == 'CORROSION FAILURE'].cause_details.value_counts(normalize=True)"
   ]
  },
  {
   "cell_type": "markdown",
   "id": "74e016b3",
   "metadata": {},
   "source": [
    "### 4. Looking at 'equipment' and 'corrosion' failures by year \n",
    "\n",
    "**Steps:**\n",
    "* Isolate top 1 cause and look at years of instalation for these incident types\n",
    "    * Has this cause led to more incidents in a certain year?\n",
    "* Repeat for top 2 cause\n",
    "\n",
    "**Conclusions:**\n",
    "* There is a huge spike in equipment failure pipelines INSTALLED (not occuring. remember: all incidents in this dataset occured in 2010 or later, so by nature this is a universe of \"recent\" pipeline incidents) \n",
    "* This trend doesn't necessarily translate to corrosion failure incidents, the second most common cause for pipeline incidents (scroll down to the second chart to compare the two). While more investigation is needed here, it seems telling that one cause is more likely to occur in recently-installed pipelines than another. WHAT exactly it's telling us remains to be seen!)\n",
    "    * For these, most corrosion failure incidents occur in pipelines installed in the 1950s to 1970s (which tracks with what we know about corrosion and what [ProPublica](https://www.google.com/url?q=https://www.propublica.org/article/pipelines-explained-how-safe-are-americas-2.5-million-miles-of-pipelines&sa=D&source=docs&ust=1648787007275931&usg=AOvVaw2My52gl_zkluNPyaRwAgfZ) already investiagted"
   ]
  },
  {
   "cell_type": "code",
   "execution_count": 42,
   "id": "6274dec2",
   "metadata": {},
   "outputs": [
    {
     "data": {
      "text/plain": [
       "<AxesSubplot:title={'center':'Count of incidents caused by equipment failures by year pipeline installation'}>"
      ]
     },
     "execution_count": 42,
     "metadata": {},
     "output_type": "execute_result"
    },
    {
     "data": {
      "image/png": "[encoded data removed]",
      "text/plain": [
       "<Figure size 432x288 with 1 Axes>"
      ]
     },
     "metadata": {
      "needs_background": "light"
     },
     "output_type": "display_data"
    }
   ],
   "source": [
    "# Looking at 'EQUIPMENT FAILURE' incidents from 2010-present by pipeline year of installation \n",
    "\n",
    "df[df['cause'] == 'EQUIPMENT FAILURE'].installation_year\\\n",
    "    .dt.year.value_counts().sort_index()\\\n",
    "    .plot(title='Count of incidents caused by equipment failures by year pipeline installation')"
   ]
  },
  {
   "cell_type": "code",
   "execution_count": 43,
   "id": "c12ba31e",
   "metadata": {},
   "outputs": [
    {
     "data": {
      "text/plain": [
       "<AxesSubplot:title={'center':'Count of incidents caused by corrosion failures by year pipeline installation'}>"
      ]
     },
     "execution_count": 43,
     "metadata": {},
     "output_type": "execute_result"
    },
    {
     "data": {
      "image/png": "[encoded data removed]",
      "text/plain": [
       "<Figure size 432x288 with 1 Axes>"
      ]
     },
     "metadata": {
      "needs_background": "light"
     },
     "output_type": "display_data"
    }
   ],
   "source": [
    "# Looking at 'CORROSION FAILURE' incidents from 2010-present by pipeline year of installation \n",
    "\n",
    "df[df['cause'] == 'CORROSION FAILURE'].installation_year\\\n",
    "    .dt.year.value_counts().sort_index()\\\n",
    "    .plot(title='Count of incidents caused by corrosion failures by year pipeline installation')"
   ]
  },
  {
   "cell_type": "markdown",
   "id": "957c7d9c",
   "metadata": {},
   "source": [
    "### 5. Inspecting recent incidents occurring in pipelines constructed after 2000\n",
    "\n",
    "**Steps:** \n",
    "* Create a subset of the df with only incidents occuring in pipelines constructed after the year 2000\n",
    "* Calculate total cost of these incidents\n",
    "* Use value_counts() to look for common companies\n",
    "* Normalize as a percent\n",
    "* Assess spread of company ownership \n",
    "* Save incidents with installation years after 2000 to csv for further analysis \n",
    "\n",
    "**Conclusions:** \n",
    "* 2231 incidents occured in pipelines installed after 2000\n",
    "* Incidents occurring after 2000 amounted to $809,883,741 in damages, when adjusted for inflation\n",
    "* Enterprise Crue Pipeline is responsible for 114 of these incidents (5.3 percent) \n",
    "* 10 companies account for nearly 30 percent of pipeline incidents occurring in pipelines built in the last 22 years. "
   ]
  },
  {
   "cell_type": "code",
   "execution_count": 15,
   "id": "61b21abc",
   "metadata": {},
   "outputs": [
    {
     "data": {
      "text/plain": [
       "(2131, 826)"
      ]
     },
     "execution_count": 15,
     "metadata": {},
     "output_type": "execute_result"
    }
   ],
   "source": [
    "# Number of incidents\n",
    "df[df['installation_year'].dt.year > 2000].shape"
   ]
  },
  {
   "cell_type": "code",
   "execution_count": 16,
   "id": "05a00dd4",
   "metadata": {},
   "outputs": [
    {
     "data": {
      "text/plain": [
       "809883741.5341468"
      ]
     },
     "execution_count": 16,
     "metadata": {},
     "output_type": "execute_result"
    }
   ],
   "source": [
    "# Total cost\n",
    "df[df['installation_year'].dt.year > 2000]['total_cost_current'].sum()"
   ]
  },
  {
   "cell_type": "code",
   "execution_count": 25,
   "id": "19d3943f",
   "metadata": {},
   "outputs": [
    {
     "data": {
      "text/plain": [
       "ENTERPRISE CRUDE PIPELINE LLC          114\n",
       "ENTERPRISE PRODUCTS OPERATING LLC       98\n",
       "PLAINS PIPELINE, L.P.                   91\n",
       "MAGELLAN PIPELINE COMPANY, LP           64\n",
       "ONEOK NGL PIPELINE, LLC                 57\n",
       "SUNOCO PIPELINE L.P.                    55\n",
       "DCP MIDSTREAM                           44\n",
       "BUCKEYE PARTNERS, LP                    40\n",
       "KINDER MORGAN LIQUID TERMINALS, LLC     37\n",
       "ENERGY TRANSFER COMPANY                 35\n",
       "Name: name, dtype: int64"
      ]
     },
     "execution_count": 25,
     "metadata": {},
     "output_type": "execute_result"
    }
   ],
   "source": [
    "# Top 10 Companies with most incidents\n",
    "df[df['installation_year'].dt.year > 2000].name.value_counts().head(10)"
   ]
  },
  {
   "cell_type": "code",
   "execution_count": 28,
   "id": "47f0a190",
   "metadata": {},
   "outputs": [
    {
     "data": {
      "text/plain": [
       "ENTERPRISE CRUDE PIPELINE LLC          0.053496\n",
       "ENTERPRISE PRODUCTS OPERATING LLC      0.045988\n",
       "PLAINS PIPELINE, L.P.                  0.042703\n",
       "MAGELLAN PIPELINE COMPANY, LP          0.030033\n",
       "ONEOK NGL PIPELINE, LLC                0.026748\n",
       "SUNOCO PIPELINE L.P.                   0.025809\n",
       "DCP MIDSTREAM                          0.020648\n",
       "BUCKEYE PARTNERS, LP                   0.018771\n",
       "KINDER MORGAN LIQUID TERMINALS, LLC    0.017363\n",
       "ENERGY TRANSFER COMPANY                0.016424\n",
       "Name: name, dtype: float64"
      ]
     },
     "execution_count": 28,
     "metadata": {},
     "output_type": "execute_result"
    }
   ],
   "source": [
    "# Top 10 Companies with most incidents --> percentages\n",
    "df[df['installation_year'].dt.year > 2000].name.value_counts(normalize=True).head(10)"
   ]
  },
  {
   "cell_type": "code",
   "execution_count": 29,
   "id": "288f5f33",
   "metadata": {},
   "outputs": [
    {
     "data": {
      "text/plain": [
       "0.2979821679962459"
      ]
     },
     "execution_count": 29,
     "metadata": {},
     "output_type": "execute_result"
    }
   ],
   "source": [
    "# Top 10 Companies with most incidents --> percentages added up \n",
    "df[df['installation_year'].dt.year > 2000].name.value_counts(normalize=True).head(10).to_frame().name.sum()"
   ]
  },
  {
   "cell_type": "code",
   "execution_count": 33,
   "id": "9c440ffc",
   "metadata": {},
   "outputs": [],
   "source": [
    "# Save to csv \n",
    "recent_installations = df[df['installation_year'].dt.year > 2000]\n",
    "#recent_installations.to_csv('recent_installations.csv', index=False)"
   ]
  },
  {
   "cell_type": "code",
   "execution_count": 34,
   "id": "b8a60307",
   "metadata": {},
   "outputs": [],
   "source": []
  },
  {
   "cell_type": "code",
   "execution_count": null,
   "id": "b9974a63",
   "metadata": {},
   "outputs": [],
   "source": []
  }
 ],
 "metadata": {
  "kernelspec": {
   "display_name": "Python 3 (ipykernel)",
   "language": "python",
   "name": "python3"
  },
  "language_info": {
   "codemirror_mode": {
    "name": "ipython",
    "version": 3
   },
   "file_extension": ".py",
   "mimetype": "text/x-python",
   "name": "python",
   "nbconvert_exporter": "python",
   "pygments_lexer": "ipython3",
   "version": "3.10.0"
  }
 },
 "nbformat": 4,
 "nbformat_minor": 5
}
